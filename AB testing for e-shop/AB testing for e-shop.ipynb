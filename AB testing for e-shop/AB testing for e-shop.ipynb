{
 "cells": [
  {
   "cell_type": "markdown",
   "metadata": {
    "toc": true
   },
   "source": [
    "<h1>Содержание<span class=\"tocSkip\"></span></h1>\n",
    "<div class=\"toc\"><ul class=\"toc-item\"><li><span><a href=\"#Приоритизация-гипотез\" data-toc-modified-id=\"Приоритизация-гипотез-1\"><span class=\"toc-item-num\">1&nbsp;&nbsp;</span>Приоритизация гипотез</a></span><ul class=\"toc-item\"><li><span><a href=\"#Изучение-данных-из-файла\" data-toc-modified-id=\"Изучение-данных-из-файла-1.1\"><span class=\"toc-item-num\">1.1&nbsp;&nbsp;</span>Изучение данных из файла</a></span></li><li><span><a href=\"#Фреймворк-ICE-для-приоритизации-гипотез\" data-toc-modified-id=\"Фреймворк-ICE-для-приоритизации-гипотез-1.2\"><span class=\"toc-item-num\">1.2&nbsp;&nbsp;</span>Фреймворк ICE для приоритизации гипотез</a></span></li><li><span><a href=\"#Фреймворк-RICE-для-приоритизации-гипотез\" data-toc-modified-id=\"Фреймворк-RICE-для-приоритизации-гипотез-1.3\"><span class=\"toc-item-num\">1.3&nbsp;&nbsp;</span>Фреймворк RICE для приоритизации гипотез</a></span></li></ul></li><li><span><a href=\"#Анализ-A/B-теста\" data-toc-modified-id=\"Анализ-A/B-теста-2\"><span class=\"toc-item-num\">2&nbsp;&nbsp;</span>Анализ A/B-теста</a></span><ul class=\"toc-item\"><li><span><a href=\"#Изучение--и-предобработка-результатов-A/B-теста\" data-toc-modified-id=\"Изучение--и-предобработка-результатов-A/B-теста-2.1\"><span class=\"toc-item-num\">2.1&nbsp;&nbsp;</span>Изучение  и предобработка результатов A/B-теста</a></span><ul class=\"toc-item\"><li><span><a href=\"#Вывод\" data-toc-modified-id=\"Вывод-2.1.1\"><span class=\"toc-item-num\">2.1.1&nbsp;&nbsp;</span>Вывод</a></span></li></ul></li><li><span><a href=\"#Кумулятивная-выручка-по-группам\" data-toc-modified-id=\"Кумулятивная-выручка-по-группам-2.2\"><span class=\"toc-item-num\">2.2&nbsp;&nbsp;</span>Кумулятивная выручка по группам</a></span></li><li><span><a href=\"#Кумулятивный-средний-чек-по-группам\" data-toc-modified-id=\"Кумулятивный-средний-чек-по-группам-2.3\"><span class=\"toc-item-num\">2.3&nbsp;&nbsp;</span>Кумулятивный средний чек по группам</a></span></li><li><span><a href=\"#Кумулятивная-конверсия-по-группам\" data-toc-modified-id=\"Кумулятивная-конверсия-по-группам-2.4\"><span class=\"toc-item-num\">2.4&nbsp;&nbsp;</span>Кумулятивная конверсия по группам</a></span></li><li><span><a href=\"#Количество-заказов-по-пользователям\" data-toc-modified-id=\"Количество-заказов-по-пользователям-2.5\"><span class=\"toc-item-num\">2.5&nbsp;&nbsp;</span>Количество заказов по пользователям</a></span></li><li><span><a href=\"#Cтоимость-заказов\" data-toc-modified-id=\"Cтоимость-заказов-2.6\"><span class=\"toc-item-num\">2.6&nbsp;&nbsp;</span>Cтоимость заказов</a></span></li><li><span><a href=\"#Статистическая-значимость-различий-в-конверсии-по-&quot;сырым&quot;-данным\" data-toc-modified-id=\"Статистическая-значимость-различий-в-конверсии-по-&quot;сырым&quot;-данным-2.7\"><span class=\"toc-item-num\">2.7&nbsp;&nbsp;</span>Статистическая значимость различий в конверсии по \"сырым\" данным</a></span></li><li><span><a href=\"#Статистическая-значимость-различий-в-среднем-чеке-по-&quot;сырым&quot;-данным\" data-toc-modified-id=\"Статистическая-значимость-различий-в-среднем-чеке-по-&quot;сырым&quot;-данным-2.8\"><span class=\"toc-item-num\">2.8&nbsp;&nbsp;</span>Статистическая значимость различий в среднем чеке по \"сырым\" данным</a></span></li><li><span><a href=\"#Статистическая-значимость-различий-в-конверсии-по-&quot;очищенным&quot;-данным\" data-toc-modified-id=\"Статистическая-значимость-различий-в-конверсии-по-&quot;очищенным&quot;-данным-2.9\"><span class=\"toc-item-num\">2.9&nbsp;&nbsp;</span>Статистическая значимость различий в конверсии по \"очищенным\" данным</a></span></li><li><span><a href=\"#Статистическая-значимость-различий-в-среднем-чеке-по-&quot;очищенным&quot;-данным\" data-toc-modified-id=\"Статистическая-значимость-различий-в-среднем-чеке-по-&quot;очищенным&quot;-данным-2.10\"><span class=\"toc-item-num\">2.10&nbsp;&nbsp;</span>Статистическая значимость различий в среднем чеке по \"очищенным\" данным</a></span></li><li><span><a href=\"#Вывод-по-результатам-теста\" data-toc-modified-id=\"Вывод-по-результатам-теста-2.11\"><span class=\"toc-item-num\">2.11&nbsp;&nbsp;</span>Вывод по результатам теста</a></span></li></ul></li></ul></div>"
   ]
  },
  {
   "cell_type": "markdown",
   "metadata": {},
   "source": [
    "# Принятие решений в бизнесе на основе данных"
   ]
  },
  {
   "cell_type": "markdown",
   "metadata": {},
   "source": [
    "Проведем исследование внутри крупного интернет-магазина. Вместе с отделом маркетинга был подготовлен список гипотез для увеличения выручки.\n",
    "Необходимо приоритизировать гипотезы, запустить A/B-тест и проанализировать результаты.\n",
    "\n",
    "Цель данного проекта: определить  перспективные гипотезы по увеличению выручки, оценить результаты  A/B-теста, определить на основе проделанного анализа стоит остановить тест или продолжить."
   ]
  },
  {
   "cell_type": "markdown",
   "metadata": {},
   "source": [
    "##  Приоритизация гипотез"
   ]
  },
  {
   "cell_type": "markdown",
   "metadata": {},
   "source": [
    "### Изучение данных из файла"
   ]
  },
  {
   "cell_type": "markdown",
   "metadata": {},
   "source": [
    "Импортируем библиотеки, с которыми будем работать."
   ]
  },
  {
   "cell_type": "code",
   "execution_count": 1,
   "metadata": {},
   "outputs": [],
   "source": [
    "import pandas as pd\n",
    "import matplotlib.pyplot as plt\n",
    "import numpy as np\n",
    "import seaborn as sns\n",
    "import scipy.stats as stats"
   ]
  },
  {
   "cell_type": "markdown",
   "metadata": {},
   "source": [
    "Прочитаем файл с гипотезами и сохраним его в переменной *hypothesis*."
   ]
  },
  {
   "cell_type": "code",
   "execution_count": 2,
   "metadata": {},
   "outputs": [
    {
     "data": {
      "text/html": [
       "<div>\n",
       "<style scoped>\n",
       "    .dataframe tbody tr th:only-of-type {\n",
       "        vertical-align: middle;\n",
       "    }\n",
       "\n",
       "    .dataframe tbody tr th {\n",
       "        vertical-align: top;\n",
       "    }\n",
       "\n",
       "    .dataframe thead th {\n",
       "        text-align: right;\n",
       "    }\n",
       "</style>\n",
       "<table border=\"1\" class=\"dataframe\">\n",
       "  <thead>\n",
       "    <tr style=\"text-align: right;\">\n",
       "      <th></th>\n",
       "      <th>Hypothesis</th>\n",
       "      <th>Reach</th>\n",
       "      <th>Impact</th>\n",
       "      <th>Confidence</th>\n",
       "      <th>Efforts</th>\n",
       "    </tr>\n",
       "  </thead>\n",
       "  <tbody>\n",
       "    <tr>\n",
       "      <td>0</td>\n",
       "      <td>Добавить два новых канала привлечения трафика,...</td>\n",
       "      <td>3</td>\n",
       "      <td>10</td>\n",
       "      <td>8</td>\n",
       "      <td>6</td>\n",
       "    </tr>\n",
       "    <tr>\n",
       "      <td>1</td>\n",
       "      <td>Запустить собственную службу доставки, что сок...</td>\n",
       "      <td>2</td>\n",
       "      <td>5</td>\n",
       "      <td>4</td>\n",
       "      <td>10</td>\n",
       "    </tr>\n",
       "    <tr>\n",
       "      <td>2</td>\n",
       "      <td>Добавить блоки рекомендаций товаров на сайт ин...</td>\n",
       "      <td>8</td>\n",
       "      <td>3</td>\n",
       "      <td>7</td>\n",
       "      <td>3</td>\n",
       "    </tr>\n",
       "    <tr>\n",
       "      <td>3</td>\n",
       "      <td>Изменить структура категорий, что увеличит кон...</td>\n",
       "      <td>8</td>\n",
       "      <td>3</td>\n",
       "      <td>3</td>\n",
       "      <td>8</td>\n",
       "    </tr>\n",
       "    <tr>\n",
       "      <td>4</td>\n",
       "      <td>Изменить цвет фона главной страницы, чтобы уве...</td>\n",
       "      <td>3</td>\n",
       "      <td>1</td>\n",
       "      <td>1</td>\n",
       "      <td>1</td>\n",
       "    </tr>\n",
       "    <tr>\n",
       "      <td>5</td>\n",
       "      <td>Добавить страницу отзывов клиентов о магазине,...</td>\n",
       "      <td>3</td>\n",
       "      <td>2</td>\n",
       "      <td>2</td>\n",
       "      <td>3</td>\n",
       "    </tr>\n",
       "    <tr>\n",
       "      <td>6</td>\n",
       "      <td>Показать на главной странице баннеры с актуаль...</td>\n",
       "      <td>5</td>\n",
       "      <td>3</td>\n",
       "      <td>8</td>\n",
       "      <td>3</td>\n",
       "    </tr>\n",
       "    <tr>\n",
       "      <td>7</td>\n",
       "      <td>Добавить форму подписки на все основные страни...</td>\n",
       "      <td>10</td>\n",
       "      <td>7</td>\n",
       "      <td>8</td>\n",
       "      <td>5</td>\n",
       "    </tr>\n",
       "    <tr>\n",
       "      <td>8</td>\n",
       "      <td>Запустить акцию, дающую скидку на товар в день...</td>\n",
       "      <td>1</td>\n",
       "      <td>9</td>\n",
       "      <td>9</td>\n",
       "      <td>5</td>\n",
       "    </tr>\n",
       "  </tbody>\n",
       "</table>\n",
       "</div>"
      ],
      "text/plain": [
       "                                          Hypothesis  Reach  Impact  \\\n",
       "0  Добавить два новых канала привлечения трафика,...      3      10   \n",
       "1  Запустить собственную службу доставки, что сок...      2       5   \n",
       "2  Добавить блоки рекомендаций товаров на сайт ин...      8       3   \n",
       "3  Изменить структура категорий, что увеличит кон...      8       3   \n",
       "4  Изменить цвет фона главной страницы, чтобы уве...      3       1   \n",
       "5  Добавить страницу отзывов клиентов о магазине,...      3       2   \n",
       "6  Показать на главной странице баннеры с актуаль...      5       3   \n",
       "7  Добавить форму подписки на все основные страни...     10       7   \n",
       "8  Запустить акцию, дающую скидку на товар в день...      1       9   \n",
       "\n",
       "   Confidence  Efforts  \n",
       "0           8        6  \n",
       "1           4       10  \n",
       "2           7        3  \n",
       "3           3        8  \n",
       "4           1        1  \n",
       "5           2        3  \n",
       "6           8        3  \n",
       "7           8        5  \n",
       "8           9        5  "
      ]
     },
     "execution_count": 2,
     "metadata": {},
     "output_type": "execute_result"
    }
   ],
   "source": [
    "hypothesis = pd.read_csv('/datasets/hypothesis.csv')\n",
    "hypothesis"
   ]
  },
  {
   "cell_type": "markdown",
   "metadata": {},
   "source": [
    "Так как по умолчанию pandas выводит только 50 символов, описание гипотезы мы видим не полностью. Увеличим количество выводимых символов до 110."
   ]
  },
  {
   "cell_type": "code",
   "execution_count": 3,
   "metadata": {
    "scrolled": false
   },
   "outputs": [
    {
     "data": {
      "text/html": [
       "<div>\n",
       "<style scoped>\n",
       "    .dataframe tbody tr th:only-of-type {\n",
       "        vertical-align: middle;\n",
       "    }\n",
       "\n",
       "    .dataframe tbody tr th {\n",
       "        vertical-align: top;\n",
       "    }\n",
       "\n",
       "    .dataframe thead th {\n",
       "        text-align: right;\n",
       "    }\n",
       "</style>\n",
       "<table border=\"1\" class=\"dataframe\">\n",
       "  <thead>\n",
       "    <tr style=\"text-align: right;\">\n",
       "      <th></th>\n",
       "      <th>Hypothesis</th>\n",
       "      <th>Reach</th>\n",
       "      <th>Impact</th>\n",
       "      <th>Confidence</th>\n",
       "      <th>Efforts</th>\n",
       "    </tr>\n",
       "  </thead>\n",
       "  <tbody>\n",
       "    <tr>\n",
       "      <td>0</td>\n",
       "      <td>Добавить два новых канала привлечения трафика, что позволит привлекать на 30% больше пользователей</td>\n",
       "      <td>3</td>\n",
       "      <td>10</td>\n",
       "      <td>8</td>\n",
       "      <td>6</td>\n",
       "    </tr>\n",
       "    <tr>\n",
       "      <td>1</td>\n",
       "      <td>Запустить собственную службу доставки, что сократит срок доставки заказов</td>\n",
       "      <td>2</td>\n",
       "      <td>5</td>\n",
       "      <td>4</td>\n",
       "      <td>10</td>\n",
       "    </tr>\n",
       "    <tr>\n",
       "      <td>2</td>\n",
       "      <td>Добавить блоки рекомендаций товаров на сайт интернет магазина, чтобы повысить конверсию и средний чек заказа</td>\n",
       "      <td>8</td>\n",
       "      <td>3</td>\n",
       "      <td>7</td>\n",
       "      <td>3</td>\n",
       "    </tr>\n",
       "    <tr>\n",
       "      <td>3</td>\n",
       "      <td>Изменить структура категорий, что увеличит конверсию, т.к. пользователи быстрее найдут нужный товар</td>\n",
       "      <td>8</td>\n",
       "      <td>3</td>\n",
       "      <td>3</td>\n",
       "      <td>8</td>\n",
       "    </tr>\n",
       "    <tr>\n",
       "      <td>4</td>\n",
       "      <td>Изменить цвет фона главной страницы, чтобы увеличить вовлеченность пользователей</td>\n",
       "      <td>3</td>\n",
       "      <td>1</td>\n",
       "      <td>1</td>\n",
       "      <td>1</td>\n",
       "    </tr>\n",
       "    <tr>\n",
       "      <td>5</td>\n",
       "      <td>Добавить страницу отзывов клиентов о магазине, что позволит увеличить количество заказов</td>\n",
       "      <td>3</td>\n",
       "      <td>2</td>\n",
       "      <td>2</td>\n",
       "      <td>3</td>\n",
       "    </tr>\n",
       "    <tr>\n",
       "      <td>6</td>\n",
       "      <td>Показать на главной странице баннеры с актуальными акциями и распродажами, чтобы увеличить конверсию</td>\n",
       "      <td>5</td>\n",
       "      <td>3</td>\n",
       "      <td>8</td>\n",
       "      <td>3</td>\n",
       "    </tr>\n",
       "    <tr>\n",
       "      <td>7</td>\n",
       "      <td>Добавить форму подписки на все основные страницы, чтобы собрать базу клиентов для email-рассылок</td>\n",
       "      <td>10</td>\n",
       "      <td>7</td>\n",
       "      <td>8</td>\n",
       "      <td>5</td>\n",
       "    </tr>\n",
       "    <tr>\n",
       "      <td>8</td>\n",
       "      <td>Запустить акцию, дающую скидку на товар в день рождения</td>\n",
       "      <td>1</td>\n",
       "      <td>9</td>\n",
       "      <td>9</td>\n",
       "      <td>5</td>\n",
       "    </tr>\n",
       "  </tbody>\n",
       "</table>\n",
       "</div>"
      ],
      "text/plain": [
       "                                                                                                     Hypothesis  \\\n",
       "0            Добавить два новых канала привлечения трафика, что позволит привлекать на 30% больше пользователей   \n",
       "1                                     Запустить собственную службу доставки, что сократит срок доставки заказов   \n",
       "2  Добавить блоки рекомендаций товаров на сайт интернет магазина, чтобы повысить конверсию и средний чек заказа   \n",
       "3           Изменить структура категорий, что увеличит конверсию, т.к. пользователи быстрее найдут нужный товар   \n",
       "4                              Изменить цвет фона главной страницы, чтобы увеличить вовлеченность пользователей   \n",
       "5                      Добавить страницу отзывов клиентов о магазине, что позволит увеличить количество заказов   \n",
       "6          Показать на главной странице баннеры с актуальными акциями и распродажами, чтобы увеличить конверсию   \n",
       "7              Добавить форму подписки на все основные страницы, чтобы собрать базу клиентов для email-рассылок   \n",
       "8                                                       Запустить акцию, дающую скидку на товар в день рождения   \n",
       "\n",
       "   Reach  Impact  Confidence  Efforts  \n",
       "0      3      10           8        6  \n",
       "1      2       5           4       10  \n",
       "2      8       3           7        3  \n",
       "3      8       3           3        8  \n",
       "4      3       1           1        1  \n",
       "5      3       2           2        3  \n",
       "6      5       3           8        3  \n",
       "7     10       7           8        5  \n",
       "8      1       9           9        5  "
      ]
     },
     "execution_count": 3,
     "metadata": {},
     "output_type": "execute_result"
    }
   ],
   "source": [
    "pd.options.display.max_colwidth = 110\n",
    "hypothesis"
   ]
  },
  {
   "cell_type": "code",
   "execution_count": 4,
   "metadata": {},
   "outputs": [
    {
     "name": "stdout",
     "output_type": "stream",
     "text": [
      "<class 'pandas.core.frame.DataFrame'>\n",
      "RangeIndex: 9 entries, 0 to 8\n",
      "Data columns (total 5 columns):\n",
      "Hypothesis    9 non-null object\n",
      "Reach         9 non-null int64\n",
      "Impact        9 non-null int64\n",
      "Confidence    9 non-null int64\n",
      "Efforts       9 non-null int64\n",
      "dtypes: int64(4), object(1)\n",
      "memory usage: 488.0+ bytes\n"
     ]
    }
   ],
   "source": [
    "hypothesis.info()"
   ]
  },
  {
   "cell_type": "markdown",
   "metadata": {},
   "source": [
    "В датафрейме содержится информация о 9 гипотезах по увеличению выручки интернет-магазина с указаннами параметрами.\n",
    "\n",
    "\n",
    "Столбцы датафрейма содержат следующую информацию:\n",
    "* Hypothesis — краткое описание гипотезы;\n",
    "* Reach — охват пользователей по 10-балльной шкале;\n",
    "* Impact — влияние на пользователей по 10-балльной шкале;\n",
    "* Confidence — уверенность в гипотезе по 10-балльной шкале;\n",
    "* Efforts — затраты ресурсов на проверку гипотезы по 10-балльной шкале. Чем больше значение Efforts, тем дороже проверка гипотезы.\n",
    "\n",
    "\n",
    "Пропущенных значений, некорректных типов данных, дубликатов у нас нет, так что можем приступать к расчету показателей для приоритизации гипотез."
   ]
  },
  {
   "cell_type": "markdown",
   "metadata": {},
   "source": [
    "### Фреймворк ICE для приоритизации гипотез"
   ]
  },
  {
   "cell_type": "markdown",
   "metadata": {},
   "source": [
    "Посчитаем оценку ICE (от англ. impact, confidence, effort / ease «влияние, уверенность, усилия / простота») для гипотез."
   ]
  },
  {
   "cell_type": "code",
   "execution_count": 5,
   "metadata": {},
   "outputs": [
    {
     "data": {
      "text/html": [
       "<div>\n",
       "<style scoped>\n",
       "    .dataframe tbody tr th:only-of-type {\n",
       "        vertical-align: middle;\n",
       "    }\n",
       "\n",
       "    .dataframe tbody tr th {\n",
       "        vertical-align: top;\n",
       "    }\n",
       "\n",
       "    .dataframe thead th {\n",
       "        text-align: right;\n",
       "    }\n",
       "</style>\n",
       "<table border=\"1\" class=\"dataframe\">\n",
       "  <thead>\n",
       "    <tr style=\"text-align: right;\">\n",
       "      <th></th>\n",
       "      <th>Hypothesis</th>\n",
       "      <th>ICE</th>\n",
       "    </tr>\n",
       "  </thead>\n",
       "  <tbody>\n",
       "    <tr>\n",
       "      <td>8</td>\n",
       "      <td>Запустить акцию, дающую скидку на товар в день рождения</td>\n",
       "      <td>16.200000</td>\n",
       "    </tr>\n",
       "    <tr>\n",
       "      <td>0</td>\n",
       "      <td>Добавить два новых канала привлечения трафика, что позволит привлекать на 30% больше пользователей</td>\n",
       "      <td>13.333333</td>\n",
       "    </tr>\n",
       "    <tr>\n",
       "      <td>7</td>\n",
       "      <td>Добавить форму подписки на все основные страницы, чтобы собрать базу клиентов для email-рассылок</td>\n",
       "      <td>11.200000</td>\n",
       "    </tr>\n",
       "    <tr>\n",
       "      <td>6</td>\n",
       "      <td>Показать на главной странице баннеры с актуальными акциями и распродажами, чтобы увеличить конверсию</td>\n",
       "      <td>8.000000</td>\n",
       "    </tr>\n",
       "    <tr>\n",
       "      <td>2</td>\n",
       "      <td>Добавить блоки рекомендаций товаров на сайт интернет магазина, чтобы повысить конверсию и средний чек заказа</td>\n",
       "      <td>7.000000</td>\n",
       "    </tr>\n",
       "    <tr>\n",
       "      <td>1</td>\n",
       "      <td>Запустить собственную службу доставки, что сократит срок доставки заказов</td>\n",
       "      <td>2.000000</td>\n",
       "    </tr>\n",
       "    <tr>\n",
       "      <td>5</td>\n",
       "      <td>Добавить страницу отзывов клиентов о магазине, что позволит увеличить количество заказов</td>\n",
       "      <td>1.333333</td>\n",
       "    </tr>\n",
       "    <tr>\n",
       "      <td>3</td>\n",
       "      <td>Изменить структура категорий, что увеличит конверсию, т.к. пользователи быстрее найдут нужный товар</td>\n",
       "      <td>1.125000</td>\n",
       "    </tr>\n",
       "    <tr>\n",
       "      <td>4</td>\n",
       "      <td>Изменить цвет фона главной страницы, чтобы увеличить вовлеченность пользователей</td>\n",
       "      <td>1.000000</td>\n",
       "    </tr>\n",
       "  </tbody>\n",
       "</table>\n",
       "</div>"
      ],
      "text/plain": [
       "                                                                                                     Hypothesis  \\\n",
       "8                                                       Запустить акцию, дающую скидку на товар в день рождения   \n",
       "0            Добавить два новых канала привлечения трафика, что позволит привлекать на 30% больше пользователей   \n",
       "7              Добавить форму подписки на все основные страницы, чтобы собрать базу клиентов для email-рассылок   \n",
       "6          Показать на главной странице баннеры с актуальными акциями и распродажами, чтобы увеличить конверсию   \n",
       "2  Добавить блоки рекомендаций товаров на сайт интернет магазина, чтобы повысить конверсию и средний чек заказа   \n",
       "1                                     Запустить собственную службу доставки, что сократит срок доставки заказов   \n",
       "5                      Добавить страницу отзывов клиентов о магазине, что позволит увеличить количество заказов   \n",
       "3           Изменить структура категорий, что увеличит конверсию, т.к. пользователи быстрее найдут нужный товар   \n",
       "4                              Изменить цвет фона главной страницы, чтобы увеличить вовлеченность пользователей   \n",
       "\n",
       "         ICE  \n",
       "8  16.200000  \n",
       "0  13.333333  \n",
       "7  11.200000  \n",
       "6   8.000000  \n",
       "2   7.000000  \n",
       "1   2.000000  \n",
       "5   1.333333  \n",
       "3   1.125000  \n",
       "4   1.000000  "
      ]
     },
     "metadata": {},
     "output_type": "display_data"
    }
   ],
   "source": [
    "hypothesis['ICE'] = hypothesis['Impact'] * hypothesis['Confidence'] /  hypothesis['Efforts']\n",
    "display(hypothesis[['Hypothesis', 'ICE']].sort_values(by='ICE', ascending = False))"
   ]
  },
  {
   "cell_type": "markdown",
   "metadata": {},
   "source": [
    " Наиболее перспективными по методу ICE  можно считать гипотезы:\n",
    " \n",
    " * Запустить акцию, дающую скидку на товар в день рождения\n",
    " * Добавить два новых канала привлечения трафика, что позволит привлекать на 30% больше пользователей\n",
    " * Добавить форму подписки на все основные страницы, чтобы собрать базу клиентов для email-рассылок "
   ]
  },
  {
   "cell_type": "markdown",
   "metadata": {},
   "source": [
    "### Фреймворк RICE для приоритизации гипотез"
   ]
  },
  {
   "cell_type": "markdown",
   "metadata": {},
   "source": [
    "Теперь посчитаем  оценку RICE (R от англ. reach, «охват»)."
   ]
  },
  {
   "cell_type": "code",
   "execution_count": 6,
   "metadata": {},
   "outputs": [
    {
     "data": {
      "text/html": [
       "<div>\n",
       "<style scoped>\n",
       "    .dataframe tbody tr th:only-of-type {\n",
       "        vertical-align: middle;\n",
       "    }\n",
       "\n",
       "    .dataframe tbody tr th {\n",
       "        vertical-align: top;\n",
       "    }\n",
       "\n",
       "    .dataframe thead th {\n",
       "        text-align: right;\n",
       "    }\n",
       "</style>\n",
       "<table border=\"1\" class=\"dataframe\">\n",
       "  <thead>\n",
       "    <tr style=\"text-align: right;\">\n",
       "      <th></th>\n",
       "      <th>Hypothesis</th>\n",
       "      <th>RICE</th>\n",
       "    </tr>\n",
       "  </thead>\n",
       "  <tbody>\n",
       "    <tr>\n",
       "      <td>7</td>\n",
       "      <td>Добавить форму подписки на все основные страницы, чтобы собрать базу клиентов для email-рассылок</td>\n",
       "      <td>112.0</td>\n",
       "    </tr>\n",
       "    <tr>\n",
       "      <td>2</td>\n",
       "      <td>Добавить блоки рекомендаций товаров на сайт интернет магазина, чтобы повысить конверсию и средний чек заказа</td>\n",
       "      <td>56.0</td>\n",
       "    </tr>\n",
       "    <tr>\n",
       "      <td>0</td>\n",
       "      <td>Добавить два новых канала привлечения трафика, что позволит привлекать на 30% больше пользователей</td>\n",
       "      <td>40.0</td>\n",
       "    </tr>\n",
       "    <tr>\n",
       "      <td>6</td>\n",
       "      <td>Показать на главной странице баннеры с актуальными акциями и распродажами, чтобы увеличить конверсию</td>\n",
       "      <td>40.0</td>\n",
       "    </tr>\n",
       "    <tr>\n",
       "      <td>8</td>\n",
       "      <td>Запустить акцию, дающую скидку на товар в день рождения</td>\n",
       "      <td>16.2</td>\n",
       "    </tr>\n",
       "    <tr>\n",
       "      <td>3</td>\n",
       "      <td>Изменить структура категорий, что увеличит конверсию, т.к. пользователи быстрее найдут нужный товар</td>\n",
       "      <td>9.0</td>\n",
       "    </tr>\n",
       "    <tr>\n",
       "      <td>1</td>\n",
       "      <td>Запустить собственную службу доставки, что сократит срок доставки заказов</td>\n",
       "      <td>4.0</td>\n",
       "    </tr>\n",
       "    <tr>\n",
       "      <td>5</td>\n",
       "      <td>Добавить страницу отзывов клиентов о магазине, что позволит увеличить количество заказов</td>\n",
       "      <td>4.0</td>\n",
       "    </tr>\n",
       "    <tr>\n",
       "      <td>4</td>\n",
       "      <td>Изменить цвет фона главной страницы, чтобы увеличить вовлеченность пользователей</td>\n",
       "      <td>3.0</td>\n",
       "    </tr>\n",
       "  </tbody>\n",
       "</table>\n",
       "</div>"
      ],
      "text/plain": [
       "                                                                                                     Hypothesis  \\\n",
       "7              Добавить форму подписки на все основные страницы, чтобы собрать базу клиентов для email-рассылок   \n",
       "2  Добавить блоки рекомендаций товаров на сайт интернет магазина, чтобы повысить конверсию и средний чек заказа   \n",
       "0            Добавить два новых канала привлечения трафика, что позволит привлекать на 30% больше пользователей   \n",
       "6          Показать на главной странице баннеры с актуальными акциями и распродажами, чтобы увеличить конверсию   \n",
       "8                                                       Запустить акцию, дающую скидку на товар в день рождения   \n",
       "3           Изменить структура категорий, что увеличит конверсию, т.к. пользователи быстрее найдут нужный товар   \n",
       "1                                     Запустить собственную службу доставки, что сократит срок доставки заказов   \n",
       "5                      Добавить страницу отзывов клиентов о магазине, что позволит увеличить количество заказов   \n",
       "4                              Изменить цвет фона главной страницы, чтобы увеличить вовлеченность пользователей   \n",
       "\n",
       "    RICE  \n",
       "7  112.0  \n",
       "2   56.0  \n",
       "0   40.0  \n",
       "6   40.0  \n",
       "8   16.2  \n",
       "3    9.0  \n",
       "1    4.0  \n",
       "5    4.0  \n",
       "4    3.0  "
      ]
     },
     "metadata": {},
     "output_type": "display_data"
    }
   ],
   "source": [
    "hypothesis['RICE'] = hypothesis['Reach'] * hypothesis['Impact'] * hypothesis['Confidence'] /  hypothesis['Efforts']\n",
    "display(hypothesis[['Hypothesis', 'RICE']].sort_values(by='RICE', ascending = False))"
   ]
  },
  {
   "cell_type": "markdown",
   "metadata": {},
   "source": [
    "Топ-5 перспективных гипотез практически не поменялся. При этом на первом месте гипотеза  *Добавить форму подписки на все основные страницы, чтобы собрать базу клиентов для email-рассылок*.\n",
    "Это связано с тем, что показатель охвата у нее самый высокий (Reach = 10)."
   ]
  },
  {
   "cell_type": "markdown",
   "metadata": {},
   "source": [
    "## Анализ A/B-теста"
   ]
  },
  {
   "cell_type": "markdown",
   "metadata": {},
   "source": [
    "### Изучение  и предобработка результатов A/B-теста"
   ]
  },
  {
   "cell_type": "markdown",
   "metadata": {},
   "source": [
    "Мы провели A/B-тест и получили результаты, которые описаны в файлах *orders* и *visitors*."
   ]
  },
  {
   "cell_type": "code",
   "execution_count": 7,
   "metadata": {},
   "outputs": [],
   "source": [
    "orders = pd.read_csv('/datasets/orders.csv')\n",
    "visitors = pd.read_csv('/datasets/visitors.csv')"
   ]
  },
  {
   "cell_type": "markdown",
   "metadata": {},
   "source": [
    "Изучим данные в датафрейме **orders**."
   ]
  },
  {
   "cell_type": "code",
   "execution_count": 8,
   "metadata": {},
   "outputs": [
    {
     "data": {
      "text/html": [
       "<div>\n",
       "<style scoped>\n",
       "    .dataframe tbody tr th:only-of-type {\n",
       "        vertical-align: middle;\n",
       "    }\n",
       "\n",
       "    .dataframe tbody tr th {\n",
       "        vertical-align: top;\n",
       "    }\n",
       "\n",
       "    .dataframe thead th {\n",
       "        text-align: right;\n",
       "    }\n",
       "</style>\n",
       "<table border=\"1\" class=\"dataframe\">\n",
       "  <thead>\n",
       "    <tr style=\"text-align: right;\">\n",
       "      <th></th>\n",
       "      <th>transactionId</th>\n",
       "      <th>visitorId</th>\n",
       "      <th>date</th>\n",
       "      <th>revenue</th>\n",
       "      <th>group</th>\n",
       "    </tr>\n",
       "  </thead>\n",
       "  <tbody>\n",
       "    <tr>\n",
       "      <td>0</td>\n",
       "      <td>3667963787</td>\n",
       "      <td>3312258926</td>\n",
       "      <td>2019-08-15</td>\n",
       "      <td>1650</td>\n",
       "      <td>B</td>\n",
       "    </tr>\n",
       "    <tr>\n",
       "      <td>1</td>\n",
       "      <td>2804400009</td>\n",
       "      <td>3642806036</td>\n",
       "      <td>2019-08-15</td>\n",
       "      <td>730</td>\n",
       "      <td>B</td>\n",
       "    </tr>\n",
       "    <tr>\n",
       "      <td>2</td>\n",
       "      <td>2961555356</td>\n",
       "      <td>4069496402</td>\n",
       "      <td>2019-08-15</td>\n",
       "      <td>400</td>\n",
       "      <td>A</td>\n",
       "    </tr>\n",
       "    <tr>\n",
       "      <td>3</td>\n",
       "      <td>3797467345</td>\n",
       "      <td>1196621759</td>\n",
       "      <td>2019-08-15</td>\n",
       "      <td>9759</td>\n",
       "      <td>B</td>\n",
       "    </tr>\n",
       "    <tr>\n",
       "      <td>4</td>\n",
       "      <td>2282983706</td>\n",
       "      <td>2322279887</td>\n",
       "      <td>2019-08-15</td>\n",
       "      <td>2308</td>\n",
       "      <td>B</td>\n",
       "    </tr>\n",
       "    <tr>\n",
       "      <td>5</td>\n",
       "      <td>182168103</td>\n",
       "      <td>935554773</td>\n",
       "      <td>2019-08-15</td>\n",
       "      <td>2210</td>\n",
       "      <td>B</td>\n",
       "    </tr>\n",
       "    <tr>\n",
       "      <td>6</td>\n",
       "      <td>398296753</td>\n",
       "      <td>2900797465</td>\n",
       "      <td>2019-08-15</td>\n",
       "      <td>1860</td>\n",
       "      <td>B</td>\n",
       "    </tr>\n",
       "    <tr>\n",
       "      <td>7</td>\n",
       "      <td>2626614568</td>\n",
       "      <td>78758296</td>\n",
       "      <td>2019-08-15</td>\n",
       "      <td>1044</td>\n",
       "      <td>A</td>\n",
       "    </tr>\n",
       "    <tr>\n",
       "      <td>8</td>\n",
       "      <td>1576988021</td>\n",
       "      <td>295230930</td>\n",
       "      <td>2019-08-15</td>\n",
       "      <td>13710</td>\n",
       "      <td>A</td>\n",
       "    </tr>\n",
       "    <tr>\n",
       "      <td>9</td>\n",
       "      <td>1506739906</td>\n",
       "      <td>1882260405</td>\n",
       "      <td>2019-08-15</td>\n",
       "      <td>1855</td>\n",
       "      <td>B</td>\n",
       "    </tr>\n",
       "  </tbody>\n",
       "</table>\n",
       "</div>"
      ],
      "text/plain": [
       "   transactionId   visitorId        date  revenue group\n",
       "0     3667963787  3312258926  2019-08-15     1650     B\n",
       "1     2804400009  3642806036  2019-08-15      730     B\n",
       "2     2961555356  4069496402  2019-08-15      400     A\n",
       "3     3797467345  1196621759  2019-08-15     9759     B\n",
       "4     2282983706  2322279887  2019-08-15     2308     B\n",
       "5      182168103   935554773  2019-08-15     2210     B\n",
       "6      398296753  2900797465  2019-08-15     1860     B\n",
       "7     2626614568    78758296  2019-08-15     1044     A\n",
       "8     1576988021   295230930  2019-08-15    13710     A\n",
       "9     1506739906  1882260405  2019-08-15     1855     B"
      ]
     },
     "execution_count": 8,
     "metadata": {},
     "output_type": "execute_result"
    }
   ],
   "source": [
    "orders.head(10)"
   ]
  },
  {
   "cell_type": "markdown",
   "metadata": {},
   "source": [
    "В таблице у нас 5 столбцов, которые содержат следующую информацию:\n",
    "\n",
    "* transactionId — идентификатор заказа;\n",
    "* visitorId — идентификатор пользователя, совершившего заказ;\n",
    "* date — дата, когда был совершён заказ;\n",
    "* revenue — выручка заказа;\n",
    "* group — группа A/B-теста, в которую попал заказ"
   ]
  },
  {
   "cell_type": "code",
   "execution_count": 9,
   "metadata": {},
   "outputs": [
    {
     "name": "stdout",
     "output_type": "stream",
     "text": [
      "<class 'pandas.core.frame.DataFrame'>\n",
      "RangeIndex: 1197 entries, 0 to 1196\n",
      "Data columns (total 5 columns):\n",
      "transactionId    1197 non-null int64\n",
      "visitorId        1197 non-null int64\n",
      "date             1197 non-null object\n",
      "revenue          1197 non-null int64\n",
      "group            1197 non-null object\n",
      "dtypes: int64(3), object(2)\n",
      "memory usage: 46.9+ KB\n"
     ]
    }
   ],
   "source": [
    "orders.info()"
   ]
  },
  {
   "cell_type": "markdown",
   "metadata": {},
   "source": [
    "Всего у нас 1197 записей по совершенным заказам. Пропущенных значений  нет, однако данные в столбце *date* в формате object. Приведем данные  к корректному формату, используя метод `pd.to_datetime()`."
   ]
  },
  {
   "cell_type": "code",
   "execution_count": 10,
   "metadata": {},
   "outputs": [],
   "source": [
    "orders['date'] = pd.to_datetime(orders['date'])"
   ]
  },
  {
   "cell_type": "markdown",
   "metadata": {},
   "source": [
    "Теперь посмотрим на описательную статистику столбца с выручкой."
   ]
  },
  {
   "cell_type": "code",
   "execution_count": 11,
   "metadata": {},
   "outputs": [
    {
     "data": {
      "text/plain": [
       "count    1.197000e+03\n",
       "mean     8.348006e+03\n",
       "std      3.919113e+04\n",
       "min      5.000000e+01\n",
       "25%      1.220000e+03\n",
       "50%      2.978000e+03\n",
       "75%      8.290000e+03\n",
       "max      1.294500e+06\n",
       "Name: revenue, dtype: float64"
      ]
     },
     "execution_count": 11,
     "metadata": {},
     "output_type": "execute_result"
    }
   ],
   "source": [
    "orders.describe()['revenue']"
   ]
  },
  {
   "cell_type": "markdown",
   "metadata": {},
   "source": [
    "Среднее и медианное значение выручки по заказу сильно отличается: 8 348 у.е. среднее против медианного значения в 2 978 у.е. Получается есть выбросы, которые завышают среднее значение. Так максимальное значение составляет 1 294 500 у.е. Данная аномалия будет искажать результаты А/B теста. На следующих этапах анализа будет необходимо обратить внимание на такие выбросы."
   ]
  },
  {
   "cell_type": "markdown",
   "metadata": {},
   "source": [
    "Изучим данные в датафрейме **visitors**."
   ]
  },
  {
   "cell_type": "code",
   "execution_count": 12,
   "metadata": {},
   "outputs": [
    {
     "data": {
      "text/html": [
       "<div>\n",
       "<style scoped>\n",
       "    .dataframe tbody tr th:only-of-type {\n",
       "        vertical-align: middle;\n",
       "    }\n",
       "\n",
       "    .dataframe tbody tr th {\n",
       "        vertical-align: top;\n",
       "    }\n",
       "\n",
       "    .dataframe thead th {\n",
       "        text-align: right;\n",
       "    }\n",
       "</style>\n",
       "<table border=\"1\" class=\"dataframe\">\n",
       "  <thead>\n",
       "    <tr style=\"text-align: right;\">\n",
       "      <th></th>\n",
       "      <th>date</th>\n",
       "      <th>group</th>\n",
       "      <th>visitors</th>\n",
       "    </tr>\n",
       "  </thead>\n",
       "  <tbody>\n",
       "    <tr>\n",
       "      <td>0</td>\n",
       "      <td>2019-08-01</td>\n",
       "      <td>A</td>\n",
       "      <td>719</td>\n",
       "    </tr>\n",
       "    <tr>\n",
       "      <td>1</td>\n",
       "      <td>2019-08-02</td>\n",
       "      <td>A</td>\n",
       "      <td>619</td>\n",
       "    </tr>\n",
       "    <tr>\n",
       "      <td>2</td>\n",
       "      <td>2019-08-03</td>\n",
       "      <td>A</td>\n",
       "      <td>507</td>\n",
       "    </tr>\n",
       "    <tr>\n",
       "      <td>3</td>\n",
       "      <td>2019-08-04</td>\n",
       "      <td>A</td>\n",
       "      <td>717</td>\n",
       "    </tr>\n",
       "    <tr>\n",
       "      <td>4</td>\n",
       "      <td>2019-08-05</td>\n",
       "      <td>A</td>\n",
       "      <td>756</td>\n",
       "    </tr>\n",
       "  </tbody>\n",
       "</table>\n",
       "</div>"
      ],
      "text/plain": [
       "         date group  visitors\n",
       "0  2019-08-01     A       719\n",
       "1  2019-08-02     A       619\n",
       "2  2019-08-03     A       507\n",
       "3  2019-08-04     A       717\n",
       "4  2019-08-05     A       756"
      ]
     },
     "execution_count": 12,
     "metadata": {},
     "output_type": "execute_result"
    }
   ],
   "source": [
    "visitors.head()"
   ]
  },
  {
   "cell_type": "markdown",
   "metadata": {},
   "source": [
    "В таблице у нас 3 столбца, которые содержат следующую информацию:\n",
    "\n",
    "* date — дата;\n",
    "* group — группа A/B-теста;\n",
    "* visitors — количество пользователей в указанную дату в указанной группе A/B-теста"
   ]
  },
  {
   "cell_type": "code",
   "execution_count": 13,
   "metadata": {},
   "outputs": [
    {
     "name": "stdout",
     "output_type": "stream",
     "text": [
      "<class 'pandas.core.frame.DataFrame'>\n",
      "RangeIndex: 62 entries, 0 to 61\n",
      "Data columns (total 3 columns):\n",
      "date        62 non-null object\n",
      "group       62 non-null object\n",
      "visitors    62 non-null int64\n",
      "dtypes: int64(1), object(2)\n",
      "memory usage: 1.6+ KB\n"
     ]
    }
   ],
   "source": [
    "visitors.info()"
   ]
  },
  {
   "cell_type": "markdown",
   "metadata": {},
   "source": [
    "Аналогично таблице *orders* пропущенных значений  у нас нет, но данные в столбце *date* необходимо привести к корректному типу данных."
   ]
  },
  {
   "cell_type": "code",
   "execution_count": 14,
   "metadata": {},
   "outputs": [
    {
     "data": {
      "text/plain": [
       "count                      62\n",
       "unique                     31\n",
       "top       2019-08-02 00:00:00\n",
       "freq                        2\n",
       "first     2019-08-01 00:00:00\n",
       "last      2019-08-31 00:00:00\n",
       "Name: date, dtype: object"
      ]
     },
     "execution_count": 14,
     "metadata": {},
     "output_type": "execute_result"
    }
   ],
   "source": [
    "visitors['date'] = pd.to_datetime(visitors['date'])\n",
    "\n",
    "visitors['date'].describe()"
   ]
  },
  {
   "cell_type": "markdown",
   "metadata": {},
   "source": [
    "A/B тест мы проводили с 1 по 30 августа 2019 года.\n",
    "\n",
    "Теперь изучим описательную статистику столбца с количеством пользователей."
   ]
  },
  {
   "cell_type": "code",
   "execution_count": 15,
   "metadata": {},
   "outputs": [
    {
     "data": {
      "text/plain": [
       "count     62.000000\n",
       "mean     607.290323\n",
       "std      114.400560\n",
       "min      361.000000\n",
       "25%      534.000000\n",
       "50%      624.500000\n",
       "75%      710.500000\n",
       "max      770.000000\n",
       "Name: visitors, dtype: float64"
      ]
     },
     "execution_count": 15,
     "metadata": {},
     "output_type": "execute_result"
    }
   ],
   "source": [
    "visitors.describe()['visitors']"
   ]
  },
  {
   "cell_type": "markdown",
   "metadata": {},
   "source": [
    "Среднее значение и медианное очень схожи ( 607 и 624), получается аномальных значений, которые бы искажали средние значения у нас скорее всего нет.\n",
    "\n",
    "Проверим, что в обоих датасетах у нас нет дубликатов строк."
   ]
  },
  {
   "cell_type": "code",
   "execution_count": 16,
   "metadata": {},
   "outputs": [
    {
     "data": {
      "text/plain": [
       "0"
      ]
     },
     "execution_count": 16,
     "metadata": {},
     "output_type": "execute_result"
    }
   ],
   "source": [
    "visitors.duplicated().sum()"
   ]
  },
  {
   "cell_type": "code",
   "execution_count": 17,
   "metadata": {},
   "outputs": [
    {
     "data": {
      "text/plain": [
       "0"
      ]
     },
     "execution_count": 17,
     "metadata": {},
     "output_type": "execute_result"
    }
   ],
   "source": [
    "orders.duplicated().sum()"
   ]
  },
  {
   "cell_type": "markdown",
   "metadata": {},
   "source": [
    "Также проверим, что пользователи  разбиты на группы корректно, "
   ]
  },
  {
   "cell_type": "code",
   "execution_count": 18,
   "metadata": {},
   "outputs": [
    {
     "data": {
      "text/plain": [
       "58"
      ]
     },
     "execution_count": 18,
     "metadata": {},
     "output_type": "execute_result"
    }
   ],
   "source": [
    "orders_check = orders.groupby('visitorId').agg({'group':'nunique'})\n",
    "orders_mixed = orders_check.query('group > 1')\n",
    "len(orders_mixed)"
   ]
  },
  {
   "cell_type": "markdown",
   "metadata": {},
   "source": [
    "Получается, что у нас 58 пользователей попали сразу и в группу A, и в группу B. Посмотрим, какой процент они составляют от общего числа."
   ]
  },
  {
   "cell_type": "code",
   "execution_count": 19,
   "metadata": {},
   "outputs": [
    {
     "data": {
      "text/plain": [
       "0.05625606207565471"
      ]
     },
     "execution_count": 19,
     "metadata": {},
     "output_type": "execute_result"
    }
   ],
   "source": [
    "len(orders_mixed)/len(orders_check)"
   ]
  },
  {
   "cell_type": "code",
   "execution_count": 20,
   "metadata": {},
   "outputs": [
    {
     "data": {
      "text/plain": [
       "1197"
      ]
     },
     "execution_count": 20,
     "metadata": {},
     "output_type": "execute_result"
    }
   ],
   "source": [
    "len(orders)"
   ]
  },
  {
   "cell_type": "markdown",
   "metadata": {},
   "source": [
    "5,6% от общего числа пользователей попали в обе группы. Процент небольшой, поэтому удалять значения по данным пользователям мы не будем."
   ]
  },
  {
   "cell_type": "markdown",
   "metadata": {},
   "source": [
    "#### Вывод"
   ]
  },
  {
   "cell_type": "markdown",
   "metadata": {},
   "source": [
    "Мы изучили два датасета с результами A/B теста. У нас есть таблица с информацией о совершенных заказах и таблица с количеством пользователей в указанную дату за период с 1 по 30 августа 2019 года. Было обнаружено, что данные в столбцах с датами хранятся в формате *object*, их привели к корректному формату. Пропущенных значений и дубликатов строк в датасетах нет,  однако мы обнаружили, что 58 пользователей попали в обе группы. Так как пересечнение не большое, (5.6%) удалять их из выборки не будем.Также при анализе описательной статистики выявили аномально высокое значение выручки по одному заказу. При дальнейшем анализе результатов A/B теста необходимо внимательно изучать количество дорогих заказов и исключить аномальные значения, чтобы не исказить результаты исследования. "
   ]
  },
  {
   "cell_type": "markdown",
   "metadata": {},
   "source": [
    "### Кумулятивная выручка по группам"
   ]
  },
  {
   "cell_type": "markdown",
   "metadata": {},
   "source": [
    "Построим график кумулятивной выручки по группам. Для этого соберем кумулятивные данные"
   ]
  },
  {
   "cell_type": "code",
   "execution_count": 21,
   "metadata": {},
   "outputs": [
    {
     "data": {
      "text/html": [
       "<div>\n",
       "<style scoped>\n",
       "    .dataframe tbody tr th:only-of-type {\n",
       "        vertical-align: middle;\n",
       "    }\n",
       "\n",
       "    .dataframe tbody tr th {\n",
       "        vertical-align: top;\n",
       "    }\n",
       "\n",
       "    .dataframe thead th {\n",
       "        text-align: right;\n",
       "    }\n",
       "</style>\n",
       "<table border=\"1\" class=\"dataframe\">\n",
       "  <thead>\n",
       "    <tr style=\"text-align: right;\">\n",
       "      <th></th>\n",
       "      <th>date</th>\n",
       "      <th>group</th>\n",
       "      <th>orders</th>\n",
       "      <th>buyers</th>\n",
       "      <th>revenue</th>\n",
       "    </tr>\n",
       "  </thead>\n",
       "  <tbody>\n",
       "    <tr>\n",
       "      <td>55</td>\n",
       "      <td>2019-08-01</td>\n",
       "      <td>A</td>\n",
       "      <td>24</td>\n",
       "      <td>20</td>\n",
       "      <td>148579</td>\n",
       "    </tr>\n",
       "    <tr>\n",
       "      <td>66</td>\n",
       "      <td>2019-08-01</td>\n",
       "      <td>B</td>\n",
       "      <td>21</td>\n",
       "      <td>20</td>\n",
       "      <td>101217</td>\n",
       "    </tr>\n",
       "    <tr>\n",
       "      <td>175</td>\n",
       "      <td>2019-08-02</td>\n",
       "      <td>A</td>\n",
       "      <td>44</td>\n",
       "      <td>38</td>\n",
       "      <td>242401</td>\n",
       "    </tr>\n",
       "    <tr>\n",
       "      <td>173</td>\n",
       "      <td>2019-08-02</td>\n",
       "      <td>B</td>\n",
       "      <td>45</td>\n",
       "      <td>43</td>\n",
       "      <td>266748</td>\n",
       "    </tr>\n",
       "    <tr>\n",
       "      <td>291</td>\n",
       "      <td>2019-08-03</td>\n",
       "      <td>A</td>\n",
       "      <td>68</td>\n",
       "      <td>62</td>\n",
       "      <td>354874</td>\n",
       "    </tr>\n",
       "  </tbody>\n",
       "</table>\n",
       "</div>"
      ],
      "text/plain": [
       "          date group  orders  buyers  revenue\n",
       "55  2019-08-01     A      24      20   148579\n",
       "66  2019-08-01     B      21      20   101217\n",
       "175 2019-08-02     A      44      38   242401\n",
       "173 2019-08-02     B      45      43   266748\n",
       "291 2019-08-03     A      68      62   354874"
      ]
     },
     "execution_count": 21,
     "metadata": {},
     "output_type": "execute_result"
    }
   ],
   "source": [
    "# создаем массив уникальных пар значений дат и групп теста\n",
    "datesGroups = orders[['date','group']].drop_duplicates()\n",
    "\n",
    "# cоберем агрегированные кумулятивные по дням данные о заказах \n",
    "# найдем число уникальных ID заказов и пользователей, подсчитаем сумму средних чеков\n",
    "ordersAggregated = datesGroups.apply(\n",
    "    lambda x: orders[\n",
    "        np.logical_and(orders['date'] <= x['date'], orders['group'] == x['group']\n",
    "                      )\n",
    "    ].agg(\n",
    "        {\n",
    "            'date' : 'max',\n",
    "            'group' : 'max',\n",
    "            'transactionId' : pd.Series.nunique,\n",
    "            'visitorId' : pd.Series.nunique,\n",
    "            'revenue' : 'sum'\n",
    "        }\n",
    "    ),\n",
    "    axis=1\n",
    ").sort_values(by=['date','group'])\n",
    "\n",
    "ordersAggregated.columns = ['date', 'group', 'orders', 'buyers', 'revenue']\n",
    "ordersAggregated.head()"
   ]
  },
  {
   "cell_type": "markdown",
   "metadata": {},
   "source": [
    "Построим график кумулятивной выручки по группам A/B-тестирования"
   ]
  },
  {
   "cell_type": "code",
   "execution_count": 22,
   "metadata": {},
   "outputs": [
    {
     "name": "stderr",
     "output_type": "stream",
     "text": [
      "/opt/conda/lib/python3.7/site-packages/pandas/plotting/_matplotlib/converter.py:103: FutureWarning: Using an implicitly registered datetime converter for a matplotlib plotting method. The converter was registered by pandas on import. Future versions of pandas will require you to explicitly register matplotlib converters.\n",
      "\n",
      "To register the converters:\n",
      "\t>>> from pandas.plotting import register_matplotlib_converters\n",
      "\t>>> register_matplotlib_converters()\n",
      "  warnings.warn(msg, FutureWarning)\n"
     ]
    },
    {
     "data": {
      "image/png": "[encoded data removed]",
      "text/plain": [
       "<Figure size 864x360 with 1 Axes>"
      ]
     },
     "metadata": {
      "needs_background": "light"
     },
     "output_type": "display_data"
    }
   ],
   "source": [
    "# датафрейм с кумулятивным количеством заказов и кумулятивной выручкой по дням в группе А\n",
    "cumulativeRevenueA = ordersAggregated[ordersAggregated['group']=='A'][['date','revenue', 'orders']]\n",
    "\n",
    "# датафрейм с кумулятивным количеством заказов и кумулятивной выручкой по дням в группе B\n",
    "cumulativeRevenueB = ordersAggregated[ordersAggregated['group']=='B'][['date','revenue', 'orders']]\n",
    "\n",
    "# Строим график выручки группы А\n",
    "plt.plot(cumulativeRevenueA['date'], cumulativeRevenueA['revenue'], label='A');\n",
    "\n",
    "# Строим график выручки группы B\n",
    "plt.plot(cumulativeRevenueB['date'], cumulativeRevenueB['revenue'], label='B');\n",
    "\n",
    "plt.legend();\n",
    "plt.title('График кумулятивной выручки по группам A/B-тестирования');\n",
    "plt.ylabel('Кумулятивная выручка');\n",
    "plt.xlabel('День');\n",
    "plt.gcf().set_size_inches(12, 5);"
   ]
  },
  {
   "cell_type": "markdown",
   "metadata": {},
   "source": [
    "Выручка почти равномерно увеличивается в течение всего теста, это хороший знак. Однако графики выручки обеих групп в нескольких точках резко растут. Это может означать резкое увеличение числа заказов, или появлении очень дорогих заказов в выборке. Вероятно один из всплесков в выручке связан с аномально высоким заказом в 1 294 500 у.е."
   ]
  },
  {
   "cell_type": "markdown",
   "metadata": {},
   "source": [
    "### Кумулятивный средний чек по группам"
   ]
  },
  {
   "cell_type": "markdown",
   "metadata": {},
   "source": [
    "Теперь построим графики среднего чека по группам — разделим кумулятивную выручку на кумулятивное число заказов:"
   ]
  },
  {
   "cell_type": "code",
   "execution_count": 23,
   "metadata": {},
   "outputs": [
    {
     "data": {
      "image/png": "[encoded data removed]",
      "text/plain": [
       "<Figure size 864x360 with 1 Axes>"
      ]
     },
     "metadata": {
      "needs_background": "light"
     },
     "output_type": "display_data"
    }
   ],
   "source": [
    "plt.plot(cumulativeRevenueA['date'], cumulativeRevenueA['revenue']/cumulativeRevenueA['orders'], label='A')\n",
    "plt.plot(cumulativeRevenueB['date'], cumulativeRevenueB['revenue']/cumulativeRevenueB['orders'], label='B')\n",
    "plt.legend();\n",
    "plt.title('График кумулятивного среднего чека по группам A/B-тестирования');\n",
    "plt.ylabel('Кумулятивный средний чек');\n",
    "plt.xlabel('День');\n",
    "plt.gcf().set_size_inches(12, 5);"
   ]
  },
  {
   "cell_type": "markdown",
   "metadata": {},
   "source": [
    "По среднему чеку видим значительные колебания. Если для группы А средний чек становится сравнительно равномерным к концу теста, то для группы B к концу теста мы видим тренд на снижение среднего чека. Вероятно это связано с тем, что в группе B был аномально высокий средний чек в период от 2019-08-17 до 2019-08-21 и чтобы прийти к реальному среднему чеку необходимо больше данных. Принимать решение по данной метрике еще рано, необходим дополнительный анализ выбросов."
   ]
  },
  {
   "cell_type": "markdown",
   "metadata": {},
   "source": [
    "Построим график относительного изменения кумулятивного среднего чека группы B к группе A. "
   ]
  },
  {
   "cell_type": "code",
   "execution_count": 24,
   "metadata": {},
   "outputs": [
    {
     "data": {
      "image/png": "[encoded data removed]",
      "text/plain": [
       "<Figure size 864x360 with 1 Axes>"
      ]
     },
     "metadata": {
      "needs_background": "light"
     },
     "output_type": "display_data"
    }
   ],
   "source": [
    "# собирем данные в одном датафрейме\n",
    "mergedCumulativeRevenue = cumulativeRevenueA.merge(\n",
    "    cumulativeRevenueB, left_on='date', right_on='date', how='left', suffixes=['A', 'B'])\n",
    "\n",
    "# поcтроим отношение средних чеков\n",
    "plt.plot(mergedCumulativeRevenue['date'], (mergedCumulativeRevenue['revenueB']\n",
    "                                           /mergedCumulativeRevenue['ordersB'])\n",
    "         /(mergedCumulativeRevenue['revenueA']\n",
    "           /mergedCumulativeRevenue['ordersA'])-1)\n",
    "\n",
    "# добавим ось X\n",
    "plt.axhline(y=0, color='black', linestyle='--');\n",
    "plt.title('Относительное изменение кумулятивного среднего чека группы B к группе A');\n",
    "plt.ylabel('Изменение группы B к А');\n",
    "plt.xlabel('День');\n",
    "plt.gcf().set_size_inches(12, 5);"
   ]
  },
  {
   "cell_type": "markdown",
   "metadata": {},
   "source": [
    "В нескольких точках график различия между сегментами резко «скачет». Определенно это связано с наличием аномально высоких заказов."
   ]
  },
  {
   "cell_type": "markdown",
   "metadata": {},
   "source": [
    "### Кумулятивная конверсия по группам"
   ]
  },
  {
   "cell_type": "markdown",
   "metadata": {},
   "source": [
    "Проанализируем кумулятивную конверсию по группам, построим график."
   ]
  },
  {
   "cell_type": "code",
   "execution_count": 25,
   "metadata": {},
   "outputs": [
    {
     "data": {
      "image/png": "[encoded data removed]",
      "text/plain": [
       "<Figure size 864x360 with 1 Axes>"
      ]
     },
     "metadata": {
      "needs_background": "light"
     },
     "output_type": "display_data"
    }
   ],
   "source": [
    "# получаем агрегированные кумулятивные по дням данные о посетителях интернет-магазина \n",
    "visitorsAggregated = datesGroups.apply(\n",
    "    lambda x: visitors[\n",
    "        np.logical_and(\n",
    "            visitors['date'] <= x['date'], visitors['group'] == x['group']\n",
    "        )\n",
    "    ].agg({'date' : 'max', 'group' : 'max', 'visitors' : 'sum'}),\n",
    "    axis=1\n",
    ").sort_values(by=['date','group'])\n",
    "\n",
    "# объединим кумулятивные данные в одной таблице\n",
    "cumulativeData = ordersAggregated.merge(visitorsAggregated, left_on=['date', 'group'], right_on=['date', 'group'])\n",
    "cumulativeData.columns = ['date', 'group', 'orders', 'buyers', 'revenue', 'visitors']\n",
    "\n",
    "# считаем кумулятивную конверсию\n",
    "cumulativeData['conversion'] = cumulativeData['orders']/cumulativeData['visitors']\n",
    "\n",
    "# отделяем данные по группе A\n",
    "cumulativeDataA = cumulativeData[cumulativeData['group']=='A']\n",
    "\n",
    "# отделяем данные по группе B\n",
    "cumulativeDataB = cumulativeData[cumulativeData['group']=='B']\n",
    "\n",
    "# строим графики\n",
    "plt.plot(cumulativeDataA['date'], cumulativeDataA['conversion'], label='A')\n",
    "plt.plot(cumulativeDataB['date'], cumulativeDataB['conversion'], label='B')\n",
    "plt.legend();\n",
    "plt.axis([\"2019-08-01\", '2019-08-31', 0.02, 0.050]);\n",
    "plt.title('Кумулятивная конверсия по группам');\n",
    "plt.ylabel('Конверсия');\n",
    "plt.xlabel('День');\n",
    "plt.gcf().set_size_inches(12, 5);"
   ]
  },
  {
   "cell_type": "markdown",
   "metadata": {},
   "source": [
    "Построим график относительного изменения кумулятивной конверсии группы B к группе A"
   ]
  },
  {
   "cell_type": "code",
   "execution_count": 26,
   "metadata": {},
   "outputs": [
    {
     "data": {
      "image/png": "[encoded data removed]",
      "text/plain": [
       "<Figure size 864x360 with 1 Axes>"
      ]
     },
     "metadata": {
      "needs_background": "light"
     },
     "output_type": "display_data"
    }
   ],
   "source": [
    "# собирем данные в одном датафрейме\n",
    "mergedCumulativeConversions = cumulativeDataA[['date','conversion']].merge(\n",
    "    cumulativeDataB[['date','conversion']], left_on='date', right_on='date', how='left', suffixes=['A', 'B'])\n",
    "\n",
    "# поcтроим отношение конверсии B к конверсии A\n",
    "plt.plot(mergedCumulativeConversions['date'], mergedCumulativeConversions['conversionB']\n",
    "         /mergedCumulativeConversions['conversionA']-1, label=\"Относительный прирост конверсии группы B относительно группы A\")\n",
    "plt.legend(loc=8)\n",
    "\n",
    "plt.axhline(y=0, color='black', linestyle='--')\n",
    "plt.axhline(y=0.1, color='grey', linestyle='--')\n",
    "plt.axis([\"2019-08-01\", '2019-08-31', -0.3, 0.3])\n",
    "plt.title('Относительное изменение кумулятивной конверсии группы B к группе A');\n",
    "plt.ylabel('Прирост конверсии');\n",
    "plt.xlabel('День');\n",
    "line = (mergedCumulativeConversions.query('date > \"2019-08-17\"')['conversionB']/\n",
    "    mergedCumulativeConversions.query('date > \"2019-08-17\"')['conversionA']-1).mean()\n",
    "plt.axhline(y = line, color='orange', linestyle='--');\n",
    "plt.gcf().set_size_inches(12, 5);\n",
    "\n"
   ]
  },
  {
   "cell_type": "markdown",
   "metadata": {},
   "source": [
    "В начале теста группа B немного проигрывала группе A, затем резко вырвалась вперёд. Постепенно ее конверсия снижалась, к концу теста можно сказать, что конверсия зафиксировалась около прироста в 10% относительно группы А. При этом делать выводы по тесту пока нельзя, так как у нас еще не проанализированы аномалии. Если мы их уберем, картина может поменяться."
   ]
  },
  {
   "cell_type": "markdown",
   "metadata": {},
   "source": [
    "### Количество заказов по пользователям"
   ]
  },
  {
   "cell_type": "markdown",
   "metadata": {},
   "source": [
    "Подсчитаем количество заказов по пользователям."
   ]
  },
  {
   "cell_type": "code",
   "execution_count": 27,
   "metadata": {},
   "outputs": [
    {
     "name": "stdout",
     "output_type": "stream",
     "text": [
      "       visitorId  orders\n",
      "1023  4256040402      11\n",
      "591   2458001652      11\n",
      "569   2378935119       9\n",
      "487   2038680547       8\n",
      "44     199603092       5\n",
      "744   3062433592       5\n",
      "55     237748145       5\n",
      "917   3803269165       5\n",
      "299   1230306981       5\n",
      "897   3717692402       5\n"
     ]
    }
   ],
   "source": [
    "ordersByUsers = (\n",
    "    orders.drop(['group', 'revenue', 'date'], axis=1)\n",
    "    .groupby('visitorId', as_index=False)\n",
    "    .agg({'transactionId': pd.Series.nunique})\n",
    ")\n",
    "\n",
    "ordersByUsers.columns = ['visitorId', 'orders']\n",
    "\n",
    "print(ordersByUsers.sort_values(by='orders', ascending=False).head(10)) "
   ]
  },
  {
   "cell_type": "markdown",
   "metadata": {},
   "source": [
    "Есть пользователи, которые совершали 5, 8, 9 и 11 заказов. Значительно больше, чем обычный пользователь.\n",
    "\n",
    "Построим точечную диаграмму числа заказов на одного пользователя:"
   ]
  },
  {
   "cell_type": "code",
   "execution_count": 28,
   "metadata": {},
   "outputs": [
    {
     "data": {
      "image/png": "[encoded data removed]",
      "text/plain": [
       "<Figure size 432x288 with 1 Axes>"
      ]
     },
     "metadata": {
      "needs_background": "light"
     },
     "output_type": "display_data"
    }
   ],
   "source": [
    "x_values = pd.Series(range(0,len(ordersByUsers)))\n",
    "\n",
    "plt.scatter(x_values, ordersByUsers['orders']);\n",
    "plt.title('Количество заказов на одного пользователя');\n",
    "plt.ylabel('Количество заказов');\n",
    "plt.xlabel('Частота');"
   ]
  },
  {
   "cell_type": "markdown",
   "metadata": {},
   "source": [
    "Из графика мы видим,что 5 и более заказов встречаются крайне редко, можно считать их выбросами. При этом 2-4 заказа на пользователя довольно распространенная ситуация. Чтобы точно определить считать ли их аномалиями или нет, необходимо рассчитать их долю.\n",
    "\n",
    "Посчитаем 95-й и 99-й перцентили количества заказов на пользователя."
   ]
  },
  {
   "cell_type": "code",
   "execution_count": 29,
   "metadata": {},
   "outputs": [
    {
     "name": "stdout",
     "output_type": "stream",
     "text": [
      "[2. 4.]\n"
     ]
    }
   ],
   "source": [
    "print(np.percentile(ordersByUsers['orders'], [95, 99]))"
   ]
  },
  {
   "cell_type": "markdown",
   "metadata": {},
   "source": [
    "Не более 5% пользователей оформляли больше чем 2 заказа, и  только  1% пользователей оформляли больше 4-х заказов.\n",
    "Логично будет выбрать 2 заказа на одного пользователя за нижнюю границу числа заказов, и отсеять аномальных пользователей с 3 и более заказами."
   ]
  },
  {
   "cell_type": "markdown",
   "metadata": {},
   "source": [
    "### Cтоимость заказов"
   ]
  },
  {
   "cell_type": "markdown",
   "metadata": {},
   "source": [
    "Изучим распределение стоимости заказов. Для этого построим точечную диаграмму."
   ]
  },
  {
   "cell_type": "code",
   "execution_count": 30,
   "metadata": {},
   "outputs": [
    {
     "data": {
      "image/png": "[encoded data removed]",
      "text/plain": [
       "<Figure size 432x288 with 1 Axes>"
      ]
     },
     "metadata": {
      "needs_background": "light"
     },
     "output_type": "display_data"
    }
   ],
   "source": [
    "x_values = pd.Series(range(0,len(orders['revenue'])))\n",
    "plt.scatter(x_values, orders['revenue']);\n",
    "plt.title('Распределение стоимостей заказа');\n",
    "plt.ylabel('Стоимость заказа');\n",
    "plt.xlabel('Частота');"
   ]
  },
  {
   "cell_type": "markdown",
   "metadata": {},
   "source": [
    "Как мы видили ранее в описательной статистике и графике кумулятивной выручки, есть один заказ стоимостью более 1.2 млн у.е., который значительно дороже остальных. Заказов больше 50000 у.е. совсем не много.\n",
    "\n",
    "Посчитаем 95-й и 99-й перцентили стоимости заказов. "
   ]
  },
  {
   "cell_type": "code",
   "execution_count": 31,
   "metadata": {},
   "outputs": [
    {
     "name": "stdout",
     "output_type": "stream",
     "text": [
      "[28000.  58233.2]\n"
     ]
    }
   ],
   "source": [
    "print(np.percentile(orders['revenue'], [95, 99]))"
   ]
  },
  {
   "cell_type": "markdown",
   "metadata": {},
   "source": [
    "Не более 5% заказов дороже 28000 у.е.и не более 1% дороже 58233 у.е. Границей для аномально дорогих заказов можно считать сумму чека более 40000 у.е."
   ]
  },
  {
   "cell_type": "markdown",
   "metadata": {},
   "source": [
    "### Статистическая значимость различий в конверсии по \"сырым\" данным"
   ]
  },
  {
   "cell_type": "markdown",
   "metadata": {},
   "source": [
    "Подготовим данные и соберём все данные в таблицу *data*."
   ]
  },
  {
   "cell_type": "code",
   "execution_count": 32,
   "metadata": {},
   "outputs": [
    {
     "data": {
      "text/html": [
       "<div>\n",
       "<style scoped>\n",
       "    .dataframe tbody tr th:only-of-type {\n",
       "        vertical-align: middle;\n",
       "    }\n",
       "\n",
       "    .dataframe tbody tr th {\n",
       "        vertical-align: top;\n",
       "    }\n",
       "\n",
       "    .dataframe thead th {\n",
       "        text-align: right;\n",
       "    }\n",
       "</style>\n",
       "<table border=\"1\" class=\"dataframe\">\n",
       "  <thead>\n",
       "    <tr style=\"text-align: right;\">\n",
       "      <th></th>\n",
       "      <th>date</th>\n",
       "      <th>ordersPerDateA</th>\n",
       "      <th>revenuePerDateA</th>\n",
       "      <th>ordersPerDateB</th>\n",
       "      <th>revenuePerDateB</th>\n",
       "      <th>ordersCummulativeA</th>\n",
       "      <th>revenueCummulativeA</th>\n",
       "      <th>ordersCummulativeB</th>\n",
       "      <th>revenueCummulativeB</th>\n",
       "      <th>visitorsPerDateA</th>\n",
       "      <th>visitorsPerDateB</th>\n",
       "      <th>visitorsCummulativeA</th>\n",
       "      <th>visitorsCummulativeB</th>\n",
       "    </tr>\n",
       "  </thead>\n",
       "  <tbody>\n",
       "    <tr>\n",
       "      <td>0</td>\n",
       "      <td>2019-08-01</td>\n",
       "      <td>24</td>\n",
       "      <td>148579</td>\n",
       "      <td>21</td>\n",
       "      <td>101217</td>\n",
       "      <td>24</td>\n",
       "      <td>148579</td>\n",
       "      <td>21</td>\n",
       "      <td>101217</td>\n",
       "      <td>719</td>\n",
       "      <td>713</td>\n",
       "      <td>719</td>\n",
       "      <td>713</td>\n",
       "    </tr>\n",
       "    <tr>\n",
       "      <td>1</td>\n",
       "      <td>2019-08-02</td>\n",
       "      <td>20</td>\n",
       "      <td>93822</td>\n",
       "      <td>24</td>\n",
       "      <td>165531</td>\n",
       "      <td>44</td>\n",
       "      <td>242401</td>\n",
       "      <td>45</td>\n",
       "      <td>266748</td>\n",
       "      <td>619</td>\n",
       "      <td>581</td>\n",
       "      <td>1338</td>\n",
       "      <td>1294</td>\n",
       "    </tr>\n",
       "    <tr>\n",
       "      <td>2</td>\n",
       "      <td>2019-08-03</td>\n",
       "      <td>24</td>\n",
       "      <td>112473</td>\n",
       "      <td>16</td>\n",
       "      <td>114248</td>\n",
       "      <td>68</td>\n",
       "      <td>354874</td>\n",
       "      <td>61</td>\n",
       "      <td>380996</td>\n",
       "      <td>507</td>\n",
       "      <td>509</td>\n",
       "      <td>1845</td>\n",
       "      <td>1803</td>\n",
       "    </tr>\n",
       "    <tr>\n",
       "      <td>3</td>\n",
       "      <td>2019-08-04</td>\n",
       "      <td>16</td>\n",
       "      <td>70825</td>\n",
       "      <td>17</td>\n",
       "      <td>108571</td>\n",
       "      <td>84</td>\n",
       "      <td>425699</td>\n",
       "      <td>78</td>\n",
       "      <td>489567</td>\n",
       "      <td>717</td>\n",
       "      <td>770</td>\n",
       "      <td>2562</td>\n",
       "      <td>2573</td>\n",
       "    </tr>\n",
       "    <tr>\n",
       "      <td>4</td>\n",
       "      <td>2019-08-05</td>\n",
       "      <td>25</td>\n",
       "      <td>124218</td>\n",
       "      <td>23</td>\n",
       "      <td>92428</td>\n",
       "      <td>109</td>\n",
       "      <td>549917</td>\n",
       "      <td>101</td>\n",
       "      <td>581995</td>\n",
       "      <td>756</td>\n",
       "      <td>707</td>\n",
       "      <td>3318</td>\n",
       "      <td>3280</td>\n",
       "    </tr>\n",
       "  </tbody>\n",
       "</table>\n",
       "</div>"
      ],
      "text/plain": [
       "        date  ordersPerDateA  revenuePerDateA  ordersPerDateB  \\\n",
       "0 2019-08-01              24           148579              21   \n",
       "1 2019-08-02              20            93822              24   \n",
       "2 2019-08-03              24           112473              16   \n",
       "3 2019-08-04              16            70825              17   \n",
       "4 2019-08-05              25           124218              23   \n",
       "\n",
       "   revenuePerDateB  ordersCummulativeA  revenueCummulativeA  \\\n",
       "0           101217                  24               148579   \n",
       "1           165531                  44               242401   \n",
       "2           114248                  68               354874   \n",
       "3           108571                  84               425699   \n",
       "4            92428                 109               549917   \n",
       "\n",
       "   ordersCummulativeB  revenueCummulativeB  visitorsPerDateA  \\\n",
       "0                  21               101217               719   \n",
       "1                  45               266748               619   \n",
       "2                  61               380996               507   \n",
       "3                  78               489567               717   \n",
       "4                 101               581995               756   \n",
       "\n",
       "   visitorsPerDateB  visitorsCummulativeA  visitorsCummulativeB  \n",
       "0               713                   719                   713  \n",
       "1               581                  1338                  1294  \n",
       "2               509                  1845                  1803  \n",
       "3               770                  2562                  2573  \n",
       "4               707                  3318                  3280  "
      ]
     },
     "execution_count": 32,
     "metadata": {},
     "output_type": "execute_result"
    }
   ],
   "source": [
    "visitorsADaily = visitors[visitors['group']=='A'][['date', 'visitors']]\n",
    "visitorsADaily.columns = ['date', 'visitorsPerDateA']\n",
    "\n",
    "visitorsACummulative = (visitorsADaily\n",
    "                        .apply(lambda x: visitorsADaily[visitorsADaily['date'] <= x['date']]\n",
    "                               .agg({'date' : 'max', 'visitorsPerDateA' : 'sum'}), axis=1)\n",
    "                       )\n",
    "visitorsACummulative.columns = ['date', 'visitorsCummulativeA']\n",
    "visitorsACummulative\n",
    "\n",
    "visitorsBDaily = visitors[visitors['group']=='B'][['date', 'visitors']]\n",
    "visitorsBDaily.columns = ['date', 'visitorsPerDateB']\n",
    " \n",
    "visitorsBCummulative = (visitorsBDaily\n",
    "                        .apply(lambda x: visitorsBDaily[visitorsBDaily['date'] <= x['date']]\n",
    "                               .agg({'date' : 'max', 'visitorsPerDateB' : 'sum'}), axis=1)\n",
    "                       )\n",
    "visitorsBCummulative.columns = ['date', 'visitorsCummulativeB']\n",
    "\n",
    "ordersADaily = orders[orders['group']=='A'][['date', 'transactionId', 'visitorId', 'revenue']]\\\n",
    "    .groupby('date', as_index=False)\\\n",
    "    .agg({'transactionId' : pd.Series.nunique, 'revenue' : 'sum'})\n",
    "ordersADaily.columns = ['date', 'ordersPerDateA', 'revenuePerDateA']\n",
    " \n",
    "ordersACummulative = ordersADaily.apply(\n",
    "    lambda x: \\\n",
    "        ordersADaily[ordersADaily['date'] <= x['date']]\\\n",
    "            .agg({\n",
    "                'date' : 'max',\n",
    "                'ordersPerDateA' : 'sum',\n",
    "                'revenuePerDateA' : 'sum'}), axis=1).sort_values(by=['date'])\n",
    "ordersACummulative.columns = ['date', 'ordersCummulativeA', 'revenueCummulativeA']\n",
    " \n",
    "ordersBDaily = orders[orders['group']=='B'][['date', 'transactionId', 'visitorId', 'revenue']]\\\n",
    "    .groupby('date', as_index=False)\\\n",
    "    .agg({'transactionId' : pd.Series.nunique, 'revenue' : 'sum'})\n",
    "ordersBDaily.columns = ['date', 'ordersPerDateB', 'revenuePerDateB']\n",
    " \n",
    "ordersBCummulative = ordersBDaily.apply(\n",
    "    lambda x: \\\n",
    "        ordersBDaily[ordersBDaily['date'] <= x['date']]\\\n",
    "            .agg({\n",
    "                'date' : 'max',\n",
    "                'ordersPerDateB' : 'sum',\n",
    "                'revenuePerDateB' : 'sum'}), axis=1).sort_values(by=['date'])\n",
    "ordersBCummulative.columns = ['date', 'ordersCummulativeB', 'revenueCummulativeB']\n",
    " \n",
    "data = ordersADaily.merge(ordersBDaily, left_on='date', right_on='date', how='left')\\\n",
    "    .merge(ordersACummulative, left_on='date', right_on='date', how='left')\\\n",
    "    .merge(ordersBCummulative, left_on='date', right_on='date', how='left')\\\n",
    "    .merge(visitorsADaily, left_on='date', right_on='date', how='left')\\\n",
    "    .merge(visitorsBDaily, left_on='date', right_on='date', how='left')\\\n",
    "    .merge(visitorsACummulative, left_on='date', right_on='date', how='left')\\\n",
    "    .merge(visitorsBCummulative, left_on='date', right_on='date', how='left')\n",
    "\n",
    "data.head()"
   ]
  },
  {
   "cell_type": "code",
   "execution_count": 33,
   "metadata": {},
   "outputs": [],
   "source": [
    "\n",
    "# cоздадим переменные ordersByUsersA и ordersByUsersB \n",
    "ordersByUsersA = (\n",
    "    orders[orders['group'] == 'A']\n",
    "    .groupby('visitorId', as_index=False)\n",
    "    .agg({'transactionId': pd.Series.nunique})\n",
    ")\n",
    "ordersByUsersA.columns = ['visitorId', 'orders']\n",
    "\n",
    "ordersByUsersB = (\n",
    "    orders[orders['group'] == 'B']\n",
    "    .groupby('visitorId', as_index=False)\n",
    "    .agg({'transactionId': pd.Series.nunique})\n",
    ")\n",
    "ordersByUsersB.columns = ['visitorId', 'orders'] \n",
    "\n",
    "# объявим переменные sampleA и sampleB, в которых пользователям с заказами будет соответствовать число заказов пользователя\n",
    "\n",
    "sampleA = pd.concat(\n",
    "    [\n",
    "        ordersByUsersA['orders'],\n",
    "        pd.Series(\n",
    "            0,\n",
    "            index=np.arange(\n",
    "                data['visitorsPerDateA'].sum() - len(ordersByUsersA['orders'])\n",
    "            ),\n",
    "            name='orders',\n",
    "        ),\n",
    "    ],\n",
    "    axis=0,\n",
    ")\n",
    "\n",
    "sampleB = pd.concat(\n",
    "    [\n",
    "        ordersByUsersB['orders'],\n",
    "        pd.Series(\n",
    "            0,\n",
    "            index=np.arange(\n",
    "                data['visitorsPerDateB'].sum() - len(ordersByUsersB['orders'])\n",
    "            ),\n",
    "            name='orders',\n",
    "        ),\n",
    "    ],\n",
    "    axis=0,\n",
    ")"
   ]
  },
  {
   "cell_type": "markdown",
   "metadata": {},
   "source": [
    "Рассчитаем статистическую значимость различий в конверсии. Для этого сформулируем нулевую и альтернативную гипотезы:\n",
    "\n",
    "* H0: конверсия в группах A и B  одинаковая\n",
    "* H1: конверсия в группах A и B  различная\n",
    "\n",
    "Так как в наших данных есть выбросы, воспользуемся непараметрическим методом, критерием Манна-Уитни `mannwhitneyu()`.\n",
    "\n",
    "Нулевую гипотезу проверим на пятипроцентном уровне значимости."
   ]
  },
  {
   "cell_type": "code",
   "execution_count": 34,
   "metadata": {},
   "outputs": [
    {
     "name": "stdout",
     "output_type": "stream",
     "text": [
      "p-значение: 0.008\n",
      "Отвергаем нулевую гипотезу: разница статистически значима\n",
      "Относительное изменение группы B к группе A: 13.8%\n"
     ]
    }
   ],
   "source": [
    "alpha = 0.05\n",
    "\n",
    "results = stats.mannwhitneyu(sampleA, sampleB)[1]\n",
    "\n",
    "print(\"p-значение: {0:.3f}\".format(results))\n",
    "if results < alpha:\n",
    "    print('Отвергаем нулевую гипотезу: разница статистически значима')\n",
    "else:\n",
    "    print(\n",
    "        'Не получилось отвергнуть нулевую гипотезу, вывод о различии сделать нельзя'\n",
    "    ) \n",
    "\n",
    "print(\"Относительное изменение группы B к группе A: {0:.1%}\".format(sampleB.mean() / sampleA.mean() - 1))\n",
    "\n"
   ]
  },
  {
   "cell_type": "markdown",
   "metadata": {},
   "source": [
    "P-value меньше 0.05, следовательно нулевую гипотезу о том, что статистически значимых различий в конверсии между группами нет, отвергаем. Относительный выигрыш группы B cоставляет 13.8%."
   ]
  },
  {
   "cell_type": "markdown",
   "metadata": {},
   "source": [
    "### Статистическая значимость различий в среднем чеке по \"сырым\" данным"
   ]
  },
  {
   "cell_type": "markdown",
   "metadata": {},
   "source": [
    "Рассчитаем статистическую значимость различий в среднем чеке и найдём относительные различия в среднем чеке между группами.\n",
    "\n",
    "Нулевая и альтернативная гипотезы:\n",
    "\n",
    "* H0: Средний чек в группах A и B  одинаковый\n",
    "* H1: Средний чек в группах A и B  различный\n",
    "\n",
    "Нулевую гипотезу проверим на пятипроцентном уровне значимости."
   ]
  },
  {
   "cell_type": "code",
   "execution_count": 35,
   "metadata": {},
   "outputs": [
    {
     "name": "stdout",
     "output_type": "stream",
     "text": [
      "p-значение: 0.365\n",
      "Не получилось отвергнуть нулевую гипотезу, вывод о различии сделать нельзя\n",
      "Относительное изменение группы B к группе A: 25.9%\n"
     ]
    }
   ],
   "source": [
    "alpha = 0.05\n",
    "\n",
    "results = stats.mannwhitneyu(orders[orders['group']=='A']['revenue'], orders[orders['group']=='B']['revenue'])[1]\n",
    "\n",
    "print(\"p-значение: {0:.3f}\".format(results))\n",
    "\n",
    "if results < alpha:\n",
    "    print('Отвергаем нулевую гипотезу: разница статистически значима')\n",
    "else:\n",
    "    print(\n",
    "        'Не получилось отвергнуть нулевую гипотезу, вывод о различии сделать нельзя'\n",
    "    ) \n",
    "\n",
    "print(\"Относительное изменение группы B к группе A: {0:.1%}\".format(\n",
    "    orders[orders['group']=='B']['revenue'].mean()/orders[orders['group']=='A']['revenue'].mean()-1))"
   ]
  },
  {
   "cell_type": "markdown",
   "metadata": {},
   "source": [
    "P-value значительно больше 0.05. Значит, нет причин отвергать нулевую гипотезу. Статистически значимых различий в среднем чеке группы A  и группы B нет. При этом средний чек группы B в среднем на 26% выше."
   ]
  },
  {
   "cell_type": "markdown",
   "metadata": {},
   "source": [
    "### Статистическая значимость различий в конверсии по \"очищенным\" данным"
   ]
  },
  {
   "cell_type": "markdown",
   "metadata": {},
   "source": [
    "Ранее мы находили, что  95-й и 99-й перцентили количества заказов на одного пользователя равны 2 и 4 заказам на пользователя соответственно. \n",
    "\n",
    "А 95-й и 99-й перцентили средних чеков равны 28000 и 58233 у.е.\n",
    "\n",
    "Сделаем срезы пользователей с числом заказов больше 3 и средним чеком больше 40000 у.е."
   ]
  },
  {
   "cell_type": "code",
   "execution_count": 36,
   "metadata": {},
   "outputs": [
    {
     "name": "stdout",
     "output_type": "stream",
     "text": [
      "1099    148427295\n",
      "18      199603092\n",
      "23      237748145\n",
      "684     358944393\n",
      "648     382846391\n",
      "Name: visitorId, dtype: int64\n",
      "(34,)\n"
     ]
    }
   ],
   "source": [
    "revenue_lim = 40000\n",
    "orders_lim =3 \n",
    "\n",
    "usersWithManyOrders = pd.concat(\n",
    "    [\n",
    "        ordersByUsersA[ordersByUsersA['orders'] > orders_lim]['visitorId'],\n",
    "        ordersByUsersB[ordersByUsersB['orders'] > orders_lim]['visitorId'],\n",
    "    ],\n",
    "    axis=0,\n",
    ")\n",
    "usersWithExpensiveOrders = orders[orders['revenue'] > revenue_lim]['visitorId']\n",
    "abnormalUsers = (\n",
    "    pd.concat([usersWithManyOrders, usersWithExpensiveOrders], axis=0)\n",
    "    .drop_duplicates()\n",
    "    .sort_values()\n",
    ")\n",
    "print(abnormalUsers.head(5))\n",
    "print(abnormalUsers.shape) "
   ]
  },
  {
   "cell_type": "markdown",
   "metadata": {},
   "source": [
    "Получается, что у нас 34 аномальных пользователя.\n",
    "\n",
    "Узнаем, как их действия повлияли на результаты теста. Посчитаем статистическую значимость различий в конверсии между группами теста по очищенным данным. Сначала подготовим выборки количества заказов по пользователям по группам теста:\n"
   ]
  },
  {
   "cell_type": "code",
   "execution_count": 37,
   "metadata": {},
   "outputs": [],
   "source": [
    "sampleAFiltered = pd.concat(\n",
    "    [\n",
    "        ordersByUsersA[\n",
    "            np.logical_not(ordersByUsersA['visitorId'].isin(abnormalUsers))\n",
    "        ]['orders'],\n",
    "        pd.Series(\n",
    "            0,\n",
    "            index=np.arange(\n",
    "                data['visitorsPerDateA'].sum() - len(ordersByUsersA['orders'])\n",
    "            ),\n",
    "            name='orders',\n",
    "        ),\n",
    "    ],\n",
    "    axis=0,\n",
    ")\n",
    "\n",
    "sampleBFiltered = pd.concat(\n",
    "    [\n",
    "        ordersByUsersB[\n",
    "            np.logical_not(ordersByUsersB['visitorId'].isin(abnormalUsers))\n",
    "        ]['orders'],\n",
    "        pd.Series(\n",
    "            0,\n",
    "            index=np.arange(\n",
    "                data['visitorsPerDateB'].sum() - len(ordersByUsersB['orders'])\n",
    "            ),\n",
    "            name='orders',\n",
    "        ),\n",
    "    ],\n",
    "    axis=0,\n",
    ")"
   ]
  },
  {
   "cell_type": "markdown",
   "metadata": {},
   "source": [
    "Нулевая и альтернативная гипотезы для \"очищенных\" данных:\n",
    "\n",
    "* H0: Конверсия в группах A и B  одинаковая\n",
    "* H1: Конверсия в группах A и B  различная\n",
    "\n",
    "Нулевую гипотезу проверим на пятипроцентном уровне значимости."
   ]
  },
  {
   "cell_type": "code",
   "execution_count": 38,
   "metadata": {},
   "outputs": [
    {
     "name": "stdout",
     "output_type": "stream",
     "text": [
      "p-значение: 0.005\n",
      "Отвергаем нулевую гипотезу: разница статистически значима\n",
      "Относительное изменение группы B к группе A: 16.4%\n"
     ]
    }
   ],
   "source": [
    "alpha = 0.05\n",
    "\n",
    "results = stats.mannwhitneyu(sampleAFiltered, sampleBFiltered)[1]\n",
    "\n",
    "print(\"p-значение: {0:.3f}\".format(results))\n",
    "\n",
    "if results < alpha:\n",
    "    print('Отвергаем нулевую гипотезу: разница статистически значима')\n",
    "else:\n",
    "    print(\n",
    "        'Не получилось отвергнуть нулевую гипотезу, вывод о различии сделать нельзя'\n",
    "    ) \n",
    "\n",
    "print(\"Относительное изменение группы B к группе A: {0:.1%}\".format(\n",
    "    sampleBFiltered.mean()/sampleAFiltered.mean()-1))"
   ]
  },
  {
   "cell_type": "markdown",
   "metadata": {},
   "source": [
    "Получается, что результаты по конверсии практически не изменились. Статистически значемые различия в конверсии между группами  А и В есть. При этом разница между сегментами выросла с 13,8% до 16,4%."
   ]
  },
  {
   "cell_type": "markdown",
   "metadata": {},
   "source": [
    "### Статистическая значимость различий в среднем чеке по \"очищенным\" данным"
   ]
  },
  {
   "cell_type": "markdown",
   "metadata": {},
   "source": [
    "Проверим после удаления аномальных заказов поменялся ли уровень статистической значимости по среднему чеку.\n",
    "\n",
    "Нулевая и альтернативная гипотезы для \"очищенных\" данных:\n",
    "\n",
    "* H0: Средний чек в группах A и B  одинаковый\n",
    "* H1: Средний чек в группах A и В различный\n",
    "\n",
    "Нулевую гипотезу проверим на пятипроцентном уровне значимости."
   ]
  },
  {
   "cell_type": "code",
   "execution_count": 39,
   "metadata": {},
   "outputs": [
    {
     "name": "stdout",
     "output_type": "stream",
     "text": [
      "p-значение: 0.355\n",
      "Не получилось отвергнуть нулевую гипотезу, вывод о различии сделать нельзя\n",
      "Относительное изменение группы B к группе A: 6.0%\n"
     ]
    }
   ],
   "source": [
    "alpha = 0.05\n",
    "\n",
    "results = stats.mannwhitneyu(orders[np.logical_and(orders['group'] == 'A',\n",
    "                                                   np.logical_not(orders['visitorId'].isin(abnormalUsers)),)]['revenue'],\n",
    "                             orders[np.logical_and(orders['group'] == 'B',\n",
    "                                                   np.logical_not(orders['visitorId'].isin(abnormalUsers)),)]['revenue'],\n",
    "                            )[1]\n",
    "\n",
    "print(\"p-значение: {0:.3f}\".format(results))\n",
    "\n",
    "if results < alpha:\n",
    "    print('Отвергаем нулевую гипотезу: разница статистически значима')\n",
    "else:\n",
    "    print(\n",
    "        'Не получилось отвергнуть нулевую гипотезу, вывод о различии сделать нельзя'\n",
    "    ) \n",
    "\n",
    "print(\"Относительное изменение группы B к группе A: {0:.1%}\".format(\n",
    "        orders[\n",
    "            np.logical_and(\n",
    "                orders['group'] == 'B',\n",
    "                np.logical_not(orders['visitorId'].isin(abnormalUsers)),\n",
    "            )\n",
    "        ]['revenue'].mean()\n",
    "        / orders[\n",
    "            np.logical_and(\n",
    "                orders['group'] == 'A',\n",
    "                np.logical_not(orders['visitorId'].isin(abnormalUsers)),\n",
    "            )\n",
    "        ]['revenue'].mean()\n",
    "        - 1\n",
    "    )\n",
    ") \n",
    "\n"
   ]
  },
  {
   "cell_type": "markdown",
   "metadata": {},
   "source": [
    "P-value практически не поменялся, т.е. статистически значимых различий в среднем чеке группы A  и группы B нет. При этом разница в среднем чеке между группами сократилась с 26% до 6%. Получается, что аномально высокие заказы влияли на среднюю величину, но статистическая значимость считалась корректно даже с ними."
   ]
  },
  {
   "cell_type": "markdown",
   "metadata": {},
   "source": [
    "### Вывод по результатам теста"
   ]
  },
  {
   "cell_type": "markdown",
   "metadata": {},
   "source": [
    "Итак, по результатам теста нам необходимо принять решение: 1) остановить тест, зафиксировать победу одной из групп;\n",
    "2) остановить тест, зафиксировать отсутствие различий между группами; 3) продолжить тест.\n",
    "\n",
    "Мы располагаем следующими фактами:\n",
    "\n",
    "* Есть статистически значимые различия по конверсии между группами как по «сырым», так и по данным после фильтрации аномалий;\n",
    "* Нет статистически значимого различия по среднему чеку между группами ни по «сырым», ни по данным после фильтрации аномалий;\n",
    "* График различия конверсии между группами сообщает, что результаты группы B лучше группы A:\n"
   ]
  },
  {
   "cell_type": "code",
   "execution_count": 40,
   "metadata": {},
   "outputs": [
    {
     "name": "stderr",
     "output_type": "stream",
     "text": [
      "/opt/conda/lib/python3.7/site-packages/ipykernel_launcher.py:5: UserWarning: Boolean Series key will be reindexed to match DataFrame index.\n",
      "  \"\"\"\n"
     ]
    },
    {
     "data": {
      "image/png": "[encoded data removed]",
      "text/plain": [
       "<Figure size 864x360 with 1 Axes>"
      ]
     },
     "metadata": {
      "needs_background": "light"
     },
     "output_type": "display_data"
    }
   ],
   "source": [
    "# cоздадим таблиццу с исключенными аномальными значениями\n",
    "orders_filtered = orders.query('visitorId not in @abnormalUsers')\n",
    "\n",
    "orders_filteredAggregated = (datesGroups\n",
    "                    .apply(lambda x: orders_filtered[np.logical_and(orders['date'] <= x['date'],  orders['group'] == x['group'])]\n",
    "                           .agg({'date' : 'max', 'group' : 'max', 'transactionId' : 'nunique', 'visitorId' : 'nunique', \\\n",
    "                                 'revenue' : 'sum'}), axis=1)\n",
    "                    .sort_values(by=['date','group'])\n",
    "                   )\n",
    "\n",
    "cummulative_filtered_Data = orders_filteredAggregated.merge(visitorsAggregated, left_on=['date', 'group'], right_on=['date', 'group'])\n",
    "cummulative_filtered_Data.columns = ['date', 'group', 'orders', 'buyers', 'revenue', 'visitors']\n",
    "\n",
    "cummulative_filtered_Data['conversion'] = cummulative_filtered_Data['orders']/cummulative_filtered_Data['visitors']\n",
    " \n",
    "cummulative_filtered_DataA = cummulative_filtered_Data[cummulative_filtered_Data['group']=='A']\n",
    "cummulative_filtered_DataB = cummulative_filtered_Data[cummulative_filtered_Data['group']=='B']\n",
    "\n",
    "# собирем данные в одном датафрейме\n",
    "merged_filteredCumulativeConversions = cummulative_filtered_DataA[['date','conversion']].merge(\n",
    "    cummulative_filtered_DataB[['date','conversion']], left_on='date', right_on='date', how='left', suffixes=['A', 'B'])\n",
    "\n",
    "\n",
    "plt.plot(merged_filteredCumulativeConversions['date'], merged_filteredCumulativeConversions['conversionB']/\\\n",
    "         merged_filteredCumulativeConversions['conversionA']-1, label='Относительный прирост конверсии группы B относительно группы A по \"очищенным\" данным')\n",
    "plt.legend(loc=8)\n",
    "\n",
    "plt.axhline(y=0, color='black', linestyle='--')\n",
    "plt.axhline(y=0.1, color='grey', linestyle='--')\n",
    "plt.axis([\"2019-08-01\", '2019-08-31', -0.3, 0.3])\n",
    "plt.title('Относительное изменение кумулятивной конверсии группы B к группе A по \"очищенным\" данным ');\n",
    "plt.ylabel('Прирост конверсии');\n",
    "plt.xlabel('День');\n",
    "plt.gcf().set_size_inches(12, 5);"
   ]
  },
  {
   "cell_type": "markdown",
   "metadata": {},
   "source": [
    "* График различия среднего чека говорит о том, что результаты группы B лучше группы А, но есть тенденция к сокращению различия."
   ]
  },
  {
   "cell_type": "code",
   "execution_count": 41,
   "metadata": {},
   "outputs": [
    {
     "data": {
      "image/png": "[encoded data removed]",
      "text/plain": [
       "<Figure size 864x360 with 1 Axes>"
      ]
     },
     "metadata": {
      "needs_background": "light"
     },
     "output_type": "display_data"
    }
   ],
   "source": [
    "cumulative_filteredRevenueA = cummulative_filtered_Data[cummulative_filtered_Data['group']=='A'][['date','revenue', 'orders']]\n",
    "\n",
    "cumulative_filteredRevenueB = cummulative_filtered_Data[cummulative_filtered_Data['group']=='B'][['date','revenue', 'orders']]\n",
    "\n",
    "merged_filteredCumulativeRevenue = cumulative_filteredRevenueA.merge(\n",
    "    cumulative_filteredRevenueB, left_on='date', right_on='date', how='left', suffixes=['A', 'B'])\n",
    "\n",
    "plt.plot(merged_filteredCumulativeRevenue['date'], (merged_filteredCumulativeRevenue['revenueB']\n",
    "                                           /merged_filteredCumulativeRevenue['ordersB'])\n",
    "         /(merged_filteredCumulativeRevenue['revenueA']\n",
    "           /merged_filteredCumulativeRevenue['ordersA'])-1)\n",
    "\n",
    "plt.axhline(y=0, color='black', linestyle='--');\n",
    "plt.title('Относительное изменение кумулятивного среднего чека группы B к группе A по \"очищенным\" данным');\n",
    "plt.ylabel('Изменение группы B к А по \"очищенным\" данным');\n",
    "plt.xlabel('День');\n",
    "plt.gcf().set_size_inches(12, 5);"
   ]
  },
  {
   "cell_type": "markdown",
   "metadata": {},
   "source": [
    "Исходя из фактов выше тест можем остановить, группа B лучше группы А."
   ]
  }
 ],
 "metadata": {
  "ExecuteTimeLog": [
   {
    "duration": 1455,
    "start_time": "2021-07-24T17:28:57.599Z"
   },
   {
    "duration": 25,
    "start_time": "2021-07-24T17:30:10.041Z"
   },
   {
    "duration": 18,
    "start_time": "2021-07-24T17:31:17.115Z"
   },
   {
    "duration": 16,
    "start_time": "2021-07-24T17:31:47.744Z"
   },
   {
    "duration": 11,
    "start_time": "2021-07-24T17:31:51.903Z"
   },
   {
    "duration": 27,
    "start_time": "2021-07-24T17:33:00.099Z"
   },
   {
    "duration": 19,
    "start_time": "2021-07-24T17:34:07.059Z"
   },
   {
    "duration": 12,
    "start_time": "2021-07-24T17:34:10.630Z"
   },
   {
    "duration": 28,
    "start_time": "2021-07-24T17:34:30.352Z"
   },
   {
    "duration": 10,
    "start_time": "2021-07-24T17:45:26.659Z"
   },
   {
    "duration": 9843,
    "start_time": "2021-07-24T17:48:33.374Z"
   },
   {
    "duration": 12,
    "start_time": "2021-07-24T17:48:56.101Z"
   },
   {
    "duration": 413,
    "start_time": "2021-07-24T17:49:40.840Z"
   },
   {
    "duration": 12,
    "start_time": "2021-07-24T17:49:50.819Z"
   },
   {
    "duration": 29,
    "start_time": "2021-07-24T17:51:29.343Z"
   },
   {
    "duration": 9,
    "start_time": "2021-07-24T17:51:32.244Z"
   },
   {
    "duration": 8,
    "start_time": "2021-07-24T17:51:39.276Z"
   },
   {
    "duration": 16,
    "start_time": "2021-07-24T17:53:38.989Z"
   },
   {
    "duration": 13,
    "start_time": "2021-07-24T17:55:27.622Z"
   },
   {
    "duration": 11,
    "start_time": "2021-07-24T17:55:37.734Z"
   },
   {
    "duration": 12,
    "start_time": "2021-07-24T17:57:43.604Z"
   },
   {
    "duration": 21,
    "start_time": "2021-07-24T18:34:07.970Z"
   },
   {
    "duration": 19,
    "start_time": "2021-07-24T18:34:15.543Z"
   },
   {
    "duration": 28,
    "start_time": "2021-07-24T18:34:29.458Z"
   },
   {
    "duration": 1509,
    "start_time": "2021-07-24T18:34:37.508Z"
   },
   {
    "duration": 36,
    "start_time": "2021-07-24T18:34:39.020Z"
   },
   {
    "duration": 10,
    "start_time": "2021-07-24T18:34:39.059Z"
   },
   {
    "duration": 16,
    "start_time": "2021-07-24T18:34:39.086Z"
   },
   {
    "duration": 14,
    "start_time": "2021-07-24T18:34:39.104Z"
   },
   {
    "duration": 140,
    "start_time": "2021-07-24T18:47:13.322Z"
   },
   {
    "duration": 128,
    "start_time": "2021-07-24T18:47:18.110Z"
   },
   {
    "duration": 55,
    "start_time": "2021-07-24T18:48:26.405Z"
   },
   {
    "duration": 54,
    "start_time": "2021-07-24T18:48:29.676Z"
   },
   {
    "duration": 12,
    "start_time": "2021-07-24T18:49:12.712Z"
   },
   {
    "duration": 13,
    "start_time": "2021-07-24T18:49:29.382Z"
   },
   {
    "duration": 7,
    "start_time": "2021-07-24T18:54:24.138Z"
   },
   {
    "duration": 4,
    "start_time": "2021-07-24T18:54:31.839Z"
   },
   {
    "duration": 32,
    "start_time": "2021-07-24T18:54:34.164Z"
   },
   {
    "duration": 3,
    "start_time": "2021-07-24T18:54:41.417Z"
   },
   {
    "duration": 28,
    "start_time": "2021-07-24T18:54:43.738Z"
   },
   {
    "duration": 13,
    "start_time": "2021-07-24T18:56:23.937Z"
   },
   {
    "duration": 31,
    "start_time": "2021-07-24T18:56:26.781Z"
   },
   {
    "duration": 16,
    "start_time": "2021-07-24T18:56:31.188Z"
   },
   {
    "duration": 29,
    "start_time": "2021-07-24T18:56:33.228Z"
   },
   {
    "duration": 13,
    "start_time": "2021-07-24T18:56:55.561Z"
   },
   {
    "duration": 1563,
    "start_time": "2021-07-24T18:57:06.500Z"
   },
   {
    "duration": 43,
    "start_time": "2021-07-24T18:57:08.066Z"
   },
   {
    "duration": 13,
    "start_time": "2021-07-24T18:57:08.113Z"
   },
   {
    "duration": 13,
    "start_time": "2021-07-24T18:57:08.129Z"
   },
   {
    "duration": 56,
    "start_time": "2021-07-24T18:57:08.144Z"
   },
   {
    "duration": 13,
    "start_time": "2021-07-24T18:57:08.203Z"
   },
   {
    "duration": 62,
    "start_time": "2021-07-24T18:57:08.220Z"
   },
   {
    "duration": 19,
    "start_time": "2021-07-24T18:57:08.285Z"
   },
   {
    "duration": 15,
    "start_time": "2021-07-24T18:57:08.309Z"
   },
   {
    "duration": 249,
    "start_time": "2021-07-24T18:57:57.007Z"
   },
   {
    "duration": 17,
    "start_time": "2021-07-24T18:58:01.579Z"
   },
   {
    "duration": 1508,
    "start_time": "2021-07-25T19:02:21.085Z"
   },
   {
    "duration": 32,
    "start_time": "2021-07-25T19:02:22.597Z"
   },
   {
    "duration": 14,
    "start_time": "2021-07-25T19:02:22.632Z"
   },
   {
    "duration": 10,
    "start_time": "2021-07-25T19:02:22.663Z"
   },
   {
    "duration": 15,
    "start_time": "2021-07-25T19:02:22.677Z"
   },
   {
    "duration": 13,
    "start_time": "2021-07-25T19:02:22.694Z"
   },
   {
    "duration": 67,
    "start_time": "2021-07-25T19:02:22.709Z"
   },
   {
    "duration": 11,
    "start_time": "2021-07-25T19:02:22.780Z"
   },
   {
    "duration": 11,
    "start_time": "2021-07-25T19:02:22.794Z"
   },
   {
    "duration": 10,
    "start_time": "2021-07-25T19:02:22.807Z"
   },
   {
    "duration": 7,
    "start_time": "2021-07-25T19:03:27.087Z"
   },
   {
    "duration": 10,
    "start_time": "2021-07-25T19:03:35.140Z"
   },
   {
    "duration": 12,
    "start_time": "2021-07-25T19:03:47.039Z"
   },
   {
    "duration": 26,
    "start_time": "2021-07-25T19:04:01.069Z"
   },
   {
    "duration": 22,
    "start_time": "2021-07-25T19:04:24.363Z"
   },
   {
    "duration": 365,
    "start_time": "2021-07-25T19:05:04.996Z"
   },
   {
    "duration": 290,
    "start_time": "2021-07-25T19:05:18.632Z"
   },
   {
    "duration": 645,
    "start_time": "2021-07-25T19:08:22.487Z"
   },
   {
    "duration": 296,
    "start_time": "2021-07-25T19:08:48.507Z"
   },
   {
    "duration": 1281,
    "start_time": "2021-07-25T19:21:55.474Z"
   },
   {
    "duration": 9,
    "start_time": "2021-07-25T19:22:13.283Z"
   },
   {
    "duration": 12,
    "start_time": "2021-07-25T19:22:36.776Z"
   },
   {
    "duration": 6,
    "start_time": "2021-07-25T19:48:02.208Z"
   },
   {
    "duration": 16,
    "start_time": "2021-07-25T19:49:21.718Z"
   },
   {
    "duration": 309,
    "start_time": "2021-07-25T19:49:52.094Z"
   },
   {
    "duration": 312,
    "start_time": "2021-07-25T19:53:53.775Z"
   },
   {
    "duration": 9,
    "start_time": "2021-07-25T19:54:07.961Z"
   },
   {
    "duration": 236,
    "start_time": "2021-07-25T19:54:23.957Z"
   },
   {
    "duration": 9,
    "start_time": "2021-07-25T19:54:28.035Z"
   },
   {
    "duration": 88,
    "start_time": "2021-07-26T16:50:15.888Z"
   },
   {
    "duration": 332,
    "start_time": "2021-07-26T16:50:27.517Z"
   },
   {
    "duration": 2695,
    "start_time": "2021-07-26T16:50:36.005Z"
   },
   {
    "duration": 37,
    "start_time": "2021-07-26T16:50:38.703Z"
   },
   {
    "duration": 23,
    "start_time": "2021-07-26T16:50:38.744Z"
   },
   {
    "duration": 14,
    "start_time": "2021-07-26T16:50:38.771Z"
   },
   {
    "duration": 28,
    "start_time": "2021-07-26T16:50:38.788Z"
   },
   {
    "duration": 13,
    "start_time": "2021-07-26T16:50:38.819Z"
   },
   {
    "duration": 81,
    "start_time": "2021-07-26T16:50:38.835Z"
   },
   {
    "duration": 14,
    "start_time": "2021-07-26T16:50:38.918Z"
   },
   {
    "duration": 8,
    "start_time": "2021-07-26T16:50:38.937Z"
   },
   {
    "duration": 9,
    "start_time": "2021-07-26T16:50:38.948Z"
   },
   {
    "duration": 25,
    "start_time": "2021-07-26T16:50:38.959Z"
   },
   {
    "duration": 9,
    "start_time": "2021-07-26T16:50:38.986Z"
   },
   {
    "duration": 13,
    "start_time": "2021-07-26T16:50:38.997Z"
   },
   {
    "duration": 10,
    "start_time": "2021-07-26T16:50:39.012Z"
   },
   {
    "duration": 49,
    "start_time": "2021-07-26T16:50:39.024Z"
   },
   {
    "duration": 7,
    "start_time": "2021-07-26T16:50:39.075Z"
   },
   {
    "duration": 13,
    "start_time": "2021-07-26T16:50:39.085Z"
   },
   {
    "duration": 6308,
    "start_time": "2021-07-26T16:50:39.100Z"
   },
   {
    "duration": 6581,
    "start_time": "2021-07-26T16:51:22.532Z"
   },
   {
    "duration": 351,
    "start_time": "2021-07-26T16:51:48.234Z"
   },
   {
    "duration": 17,
    "start_time": "2021-07-26T16:53:34.219Z"
   },
   {
    "duration": 350,
    "start_time": "2021-07-26T16:54:46.096Z"
   },
   {
    "duration": 16,
    "start_time": "2021-07-26T16:54:47.252Z"
   },
   {
    "duration": 370,
    "start_time": "2021-07-26T16:55:02.693Z"
   },
   {
    "duration": 345,
    "start_time": "2021-07-26T16:59:28.471Z"
   },
   {
    "duration": 324,
    "start_time": "2021-07-26T17:00:20.044Z"
   },
   {
    "duration": 340,
    "start_time": "2021-07-26T17:00:27.047Z"
   },
   {
    "duration": 529,
    "start_time": "2021-07-26T17:05:02.693Z"
   },
   {
    "duration": 340,
    "start_time": "2021-07-26T17:05:49.844Z"
   },
   {
    "duration": 314,
    "start_time": "2021-07-26T17:06:41.485Z"
   },
   {
    "duration": 270,
    "start_time": "2021-07-26T17:07:07.867Z"
   },
   {
    "duration": 554,
    "start_time": "2021-07-26T17:07:18.711Z"
   },
   {
    "duration": 501,
    "start_time": "2021-07-26T17:07:43.639Z"
   },
   {
    "duration": 92,
    "start_time": "2021-07-26T17:07:46.543Z"
   },
   {
    "duration": 350,
    "start_time": "2021-07-26T17:07:49.212Z"
   },
   {
    "duration": 333,
    "start_time": "2021-07-26T17:08:24.507Z"
   },
   {
    "duration": 687,
    "start_time": "2021-07-26T17:09:39.815Z"
   },
   {
    "duration": 770,
    "start_time": "2021-07-26T17:10:39.436Z"
   },
   {
    "duration": 545,
    "start_time": "2021-07-26T17:10:51.826Z"
   },
   {
    "duration": 353,
    "start_time": "2021-07-26T17:10:58.477Z"
   },
   {
    "duration": 93,
    "start_time": "2021-07-26T17:11:30.919Z"
   },
   {
    "duration": 525,
    "start_time": "2021-07-26T17:11:39.701Z"
   },
   {
    "duration": 455,
    "start_time": "2021-07-26T17:11:48.161Z"
   },
   {
    "duration": 393,
    "start_time": "2021-07-26T17:11:59.829Z"
   },
   {
    "duration": 492,
    "start_time": "2021-07-26T17:12:06.881Z"
   },
   {
    "duration": 430,
    "start_time": "2021-07-26T17:12:11.106Z"
   },
   {
    "duration": 439,
    "start_time": "2021-07-26T17:12:16.079Z"
   },
   {
    "duration": 475,
    "start_time": "2021-07-26T17:12:20.754Z"
   },
   {
    "duration": 603,
    "start_time": "2021-07-26T17:12:29.935Z"
   },
   {
    "duration": 585,
    "start_time": "2021-07-26T17:12:42.326Z"
   },
   {
    "duration": 598,
    "start_time": "2021-07-26T17:12:45.922Z"
   },
   {
    "duration": 578,
    "start_time": "2021-07-26T17:12:49.248Z"
   },
   {
    "duration": 393,
    "start_time": "2021-07-26T17:46:54.640Z"
   },
   {
    "duration": 387,
    "start_time": "2021-07-26T17:58:07.896Z"
   },
   {
    "duration": 89,
    "start_time": "2021-07-26T17:58:11.150Z"
   },
   {
    "duration": 415,
    "start_time": "2021-07-26T17:58:14.638Z"
   },
   {
    "duration": 556,
    "start_time": "2021-07-26T17:59:25.199Z"
   },
   {
    "duration": 270,
    "start_time": "2021-07-26T18:22:45.866Z"
   },
   {
    "duration": 387,
    "start_time": "2021-07-26T18:22:53.036Z"
   },
   {
    "duration": 386,
    "start_time": "2021-07-26T18:22:58.652Z"
   },
   {
    "duration": 506,
    "start_time": "2021-07-26T18:23:02.536Z"
   },
   {
    "duration": 628,
    "start_time": "2021-07-26T18:25:59.844Z"
   },
   {
    "duration": 593,
    "start_time": "2021-07-26T18:26:06.411Z"
   },
   {
    "duration": 575,
    "start_time": "2021-07-26T18:27:04.236Z"
   },
   {
    "duration": 592,
    "start_time": "2021-07-26T18:27:13.902Z"
   },
   {
    "duration": 622,
    "start_time": "2021-07-26T18:27:31.608Z"
   },
   {
    "duration": 609,
    "start_time": "2021-07-26T18:27:52.145Z"
   },
   {
    "duration": 878,
    "start_time": "2021-07-26T18:28:06.172Z"
   },
   {
    "duration": 688,
    "start_time": "2021-07-26T18:28:24.684Z"
   },
   {
    "duration": 588,
    "start_time": "2021-07-26T18:28:43.145Z"
   },
   {
    "duration": 562,
    "start_time": "2021-07-26T18:29:06.416Z"
   },
   {
    "duration": 584,
    "start_time": "2021-07-26T18:29:11.196Z"
   },
   {
    "duration": 658,
    "start_time": "2021-07-26T18:30:04.627Z"
   },
   {
    "duration": 496,
    "start_time": "2021-07-26T18:38:36.415Z"
   },
   {
    "duration": 467,
    "start_time": "2021-07-26T18:39:43.495Z"
   },
   {
    "duration": 421,
    "start_time": "2021-07-26T18:40:16.575Z"
   },
   {
    "duration": 422,
    "start_time": "2021-07-26T18:40:22.079Z"
   },
   {
    "duration": 438,
    "start_time": "2021-07-26T18:40:26.445Z"
   },
   {
    "duration": 441,
    "start_time": "2021-07-26T18:40:48.765Z"
   },
   {
    "duration": 418,
    "start_time": "2021-07-26T18:40:52.097Z"
   },
   {
    "duration": 539,
    "start_time": "2021-07-26T18:42:08.739Z"
   },
   {
    "duration": 409,
    "start_time": "2021-07-26T18:42:34.977Z"
   },
   {
    "duration": 446,
    "start_time": "2021-07-26T18:42:41.209Z"
   },
   {
    "duration": 444,
    "start_time": "2021-07-26T18:42:59.087Z"
   },
   {
    "duration": 463,
    "start_time": "2021-07-26T18:43:11.405Z"
   },
   {
    "duration": 520,
    "start_time": "2021-07-26T18:45:21.797Z"
   },
   {
    "duration": 615,
    "start_time": "2021-07-26T18:50:18.856Z"
   },
   {
    "duration": 523,
    "start_time": "2021-07-26T18:50:47.230Z"
   },
   {
    "duration": 509,
    "start_time": "2021-07-26T18:51:09.526Z"
   },
   {
    "duration": 268,
    "start_time": "2021-07-26T19:25:29.743Z"
   },
   {
    "duration": 219,
    "start_time": "2021-07-26T19:30:17.801Z"
   },
   {
    "duration": 22,
    "start_time": "2021-07-26T19:39:33.473Z"
   },
   {
    "duration": 359,
    "start_time": "2021-07-26T19:42:18.483Z"
   },
   {
    "duration": 352,
    "start_time": "2021-07-26T19:42:25.074Z"
   },
   {
    "duration": 349,
    "start_time": "2021-07-26T19:49:55.897Z"
   },
   {
    "duration": 412,
    "start_time": "2021-07-27T16:57:24.000Z"
   },
   {
    "duration": 1633,
    "start_time": "2021-07-27T16:57:32.435Z"
   },
   {
    "duration": 34,
    "start_time": "2021-07-27T16:57:34.072Z"
   },
   {
    "duration": 26,
    "start_time": "2021-07-27T16:57:34.110Z"
   },
   {
    "duration": 38,
    "start_time": "2021-07-27T16:57:34.139Z"
   },
   {
    "duration": 36,
    "start_time": "2021-07-27T16:57:34.180Z"
   },
   {
    "duration": 31,
    "start_time": "2021-07-27T16:57:34.219Z"
   },
   {
    "duration": 70,
    "start_time": "2021-07-27T16:57:34.253Z"
   },
   {
    "duration": 16,
    "start_time": "2021-07-27T16:57:34.327Z"
   },
   {
    "duration": 36,
    "start_time": "2021-07-27T16:57:34.346Z"
   },
   {
    "duration": 54,
    "start_time": "2021-07-27T16:57:34.385Z"
   },
   {
    "duration": 58,
    "start_time": "2021-07-27T16:57:34.442Z"
   },
   {
    "duration": 20,
    "start_time": "2021-07-27T16:57:34.503Z"
   },
   {
    "duration": 54,
    "start_time": "2021-07-27T16:57:34.525Z"
   },
   {
    "duration": 27,
    "start_time": "2021-07-27T16:57:34.582Z"
   },
   {
    "duration": 36,
    "start_time": "2021-07-27T16:57:34.612Z"
   },
   {
    "duration": 36,
    "start_time": "2021-07-27T16:57:34.651Z"
   },
   {
    "duration": 32,
    "start_time": "2021-07-27T16:57:34.690Z"
   },
   {
    "duration": 488,
    "start_time": "2021-07-27T16:57:34.725Z"
   },
   {
    "duration": 521,
    "start_time": "2021-07-27T16:57:35.217Z"
   },
   {
    "duration": 443,
    "start_time": "2021-07-27T16:57:35.740Z"
   },
   {
    "duration": 522,
    "start_time": "2021-07-27T16:57:36.186Z"
   },
   {
    "duration": 751,
    "start_time": "2021-07-27T16:57:36.711Z"
   },
   {
    "duration": 558,
    "start_time": "2021-07-27T16:57:37.470Z"
   },
   {
    "duration": 244,
    "start_time": "2021-07-27T16:57:38.030Z"
   },
   {
    "duration": 419,
    "start_time": "2021-07-27T16:57:38.283Z"
   },
   {
    "duration": 7,
    "start_time": "2021-07-27T16:57:38.705Z"
   },
   {
    "duration": 7,
    "start_time": "2021-07-27T16:58:01.564Z"
   },
   {
    "duration": 418,
    "start_time": "2021-07-27T17:10:49.853Z"
   },
   {
    "duration": 479,
    "start_time": "2021-07-27T17:12:03.807Z"
   },
   {
    "duration": 5,
    "start_time": "2021-07-27T17:15:31.063Z"
   },
   {
    "duration": 301,
    "start_time": "2021-07-28T17:01:11.485Z"
   },
   {
    "duration": 1084,
    "start_time": "2021-07-28T17:01:18.100Z"
   },
   {
    "duration": 25,
    "start_time": "2021-07-28T17:01:19.186Z"
   },
   {
    "duration": 7,
    "start_time": "2021-07-28T17:01:19.212Z"
   },
   {
    "duration": 10,
    "start_time": "2021-07-28T17:01:19.221Z"
   },
   {
    "duration": 10,
    "start_time": "2021-07-28T17:01:19.233Z"
   },
   {
    "duration": 7,
    "start_time": "2021-07-28T17:01:19.245Z"
   },
   {
    "duration": 84,
    "start_time": "2021-07-28T17:01:19.254Z"
   },
   {
    "duration": 7,
    "start_time": "2021-07-28T17:01:19.341Z"
   },
   {
    "duration": 8,
    "start_time": "2021-07-28T17:01:19.350Z"
   },
   {
    "duration": 11,
    "start_time": "2021-07-28T17:01:19.359Z"
   },
   {
    "duration": 21,
    "start_time": "2021-07-28T17:01:19.372Z"
   },
   {
    "duration": 6,
    "start_time": "2021-07-28T17:01:19.395Z"
   },
   {
    "duration": 7,
    "start_time": "2021-07-28T17:01:19.403Z"
   },
   {
    "duration": 6,
    "start_time": "2021-07-28T17:01:19.412Z"
   },
   {
    "duration": 10,
    "start_time": "2021-07-28T17:01:19.440Z"
   },
   {
    "duration": 6,
    "start_time": "2021-07-28T17:01:19.451Z"
   },
   {
    "duration": 7,
    "start_time": "2021-07-28T17:01:19.458Z"
   },
   {
    "duration": 223,
    "start_time": "2021-07-28T17:01:19.466Z"
   },
   {
    "duration": 240,
    "start_time": "2021-07-28T17:01:19.690Z"
   },
   {
    "duration": 233,
    "start_time": "2021-07-28T17:01:19.932Z"
   },
   {
    "duration": 321,
    "start_time": "2021-07-28T17:01:20.167Z"
   },
   {
    "duration": 373,
    "start_time": "2021-07-28T17:01:20.490Z"
   },
   {
    "duration": 336,
    "start_time": "2021-07-28T17:01:20.866Z"
   },
   {
    "duration": 108,
    "start_time": "2021-07-28T17:01:21.203Z"
   },
   {
    "duration": 303,
    "start_time": "2021-07-28T17:01:21.313Z"
   },
   {
    "duration": 4,
    "start_time": "2021-07-28T17:01:21.617Z"
   },
   {
    "duration": 342,
    "start_time": "2021-07-28T17:01:21.623Z"
   },
   {
    "duration": 4,
    "start_time": "2021-07-28T17:01:21.966Z"
   },
   {
    "duration": 262,
    "start_time": "2021-07-28T17:01:21.972Z"
   },
   {
    "duration": 111,
    "start_time": "2021-07-28T17:01:22.240Z"
   },
   {
    "duration": 460,
    "start_time": "2021-07-28T17:40:06.332Z"
   },
   {
    "duration": 3,
    "start_time": "2021-07-28T17:40:31.925Z"
   },
   {
    "duration": 9,
    "start_time": "2021-07-28T17:40:38.748Z"
   },
   {
    "duration": 10,
    "start_time": "2021-07-28T17:55:52.173Z"
   },
   {
    "duration": 334,
    "start_time": "2021-07-29T19:54:30.942Z"
   },
   {
    "duration": 1434,
    "start_time": "2021-07-29T19:54:37.803Z"
   },
   {
    "duration": 37,
    "start_time": "2021-07-29T19:54:39.240Z"
   },
   {
    "duration": 11,
    "start_time": "2021-07-29T19:54:39.281Z"
   },
   {
    "duration": 18,
    "start_time": "2021-07-29T19:54:39.296Z"
   },
   {
    "duration": 37,
    "start_time": "2021-07-29T19:54:39.317Z"
   },
   {
    "duration": 13,
    "start_time": "2021-07-29T19:54:39.357Z"
   },
   {
    "duration": 173,
    "start_time": "2021-07-29T19:54:39.373Z"
   },
   {
    "duration": 12,
    "start_time": "2021-07-29T19:54:39.550Z"
   },
   {
    "duration": 11,
    "start_time": "2021-07-29T19:54:39.567Z"
   },
   {
    "duration": 19,
    "start_time": "2021-07-29T19:54:39.580Z"
   },
   {
    "duration": 24,
    "start_time": "2021-07-29T19:54:39.602Z"
   },
   {
    "duration": 33,
    "start_time": "2021-07-29T19:54:39.629Z"
   },
   {
    "duration": 13,
    "start_time": "2021-07-29T19:54:39.665Z"
   },
   {
    "duration": 10,
    "start_time": "2021-07-29T19:54:39.680Z"
   },
   {
    "duration": 20,
    "start_time": "2021-07-29T19:54:39.692Z"
   },
   {
    "duration": 9,
    "start_time": "2021-07-29T19:54:39.715Z"
   },
   {
    "duration": 34,
    "start_time": "2021-07-29T19:54:39.726Z"
   },
   {
    "duration": 379,
    "start_time": "2021-07-29T19:54:39.762Z"
   },
   {
    "duration": 428,
    "start_time": "2021-07-29T19:54:40.143Z"
   },
   {
    "duration": 423,
    "start_time": "2021-07-29T19:54:40.574Z"
   },
   {
    "duration": 527,
    "start_time": "2021-07-29T19:54:40.999Z"
   },
   {
    "duration": 667,
    "start_time": "2021-07-29T19:54:41.529Z"
   },
   {
    "duration": 544,
    "start_time": "2021-07-29T19:54:42.201Z"
   },
   {
    "duration": 197,
    "start_time": "2021-07-29T19:54:42.754Z"
   },
   {
    "duration": 393,
    "start_time": "2021-07-29T19:54:42.954Z"
   },
   {
    "duration": 6,
    "start_time": "2021-07-29T19:54:43.354Z"
   },
   {
    "duration": 502,
    "start_time": "2021-07-29T19:54:43.363Z"
   },
   {
    "duration": 5,
    "start_time": "2021-07-29T19:54:43.868Z"
   },
   {
    "duration": 478,
    "start_time": "2021-07-29T19:54:43.876Z"
   },
   {
    "duration": 230,
    "start_time": "2021-07-29T19:54:44.357Z"
   },
   {
    "duration": 11,
    "start_time": "2021-07-29T19:54:44.589Z"
   },
   {
    "duration": 17,
    "start_time": "2021-07-29T19:54:44.602Z"
   },
   {
    "duration": 40,
    "start_time": "2021-07-29T19:54:44.622Z"
   },
   {
    "duration": 19,
    "start_time": "2021-07-29T19:55:39.199Z"
   },
   {
    "duration": 81,
    "start_time": "2021-07-29T19:56:14.537Z"
   },
   {
    "duration": 14,
    "start_time": "2021-07-29T19:56:28.457Z"
   },
   {
    "duration": 15,
    "start_time": "2021-07-29T19:56:41.451Z"
   },
   {
    "duration": 88,
    "start_time": "2021-07-29T19:58:03.889Z"
   },
   {
    "duration": 379,
    "start_time": "2021-07-29T19:58:27.698Z"
   },
   {
    "duration": 6133,
    "start_time": "2021-07-29T19:58:49.115Z"
   },
   {
    "duration": 286,
    "start_time": "2021-07-29T19:58:54.966Z"
   },
   {
    "duration": 12,
    "start_time": "2021-07-29T19:59:14.771Z"
   },
   {
    "duration": 11,
    "start_time": "2021-07-29T19:59:17.519Z"
   },
   {
    "duration": 325,
    "start_time": "2021-07-30T19:04:50.696Z"
   },
   {
    "duration": 1586,
    "start_time": "2021-07-30T19:04:59.017Z"
   },
   {
    "duration": 40,
    "start_time": "2021-07-30T19:05:00.605Z"
   },
   {
    "duration": 12,
    "start_time": "2021-07-30T19:05:00.649Z"
   },
   {
    "duration": 10,
    "start_time": "2021-07-30T19:05:00.669Z"
   },
   {
    "duration": 16,
    "start_time": "2021-07-30T19:05:00.682Z"
   },
   {
    "duration": 14,
    "start_time": "2021-07-30T19:05:00.701Z"
   },
   {
    "duration": 98,
    "start_time": "2021-07-30T19:05:00.717Z"
   },
   {
    "duration": 14,
    "start_time": "2021-07-30T19:05:00.820Z"
   },
   {
    "duration": 9,
    "start_time": "2021-07-30T19:05:00.838Z"
   },
   {
    "duration": 13,
    "start_time": "2021-07-30T19:05:00.850Z"
   },
   {
    "duration": 33,
    "start_time": "2021-07-30T19:05:00.865Z"
   },
   {
    "duration": 14,
    "start_time": "2021-07-30T19:05:00.901Z"
   },
   {
    "duration": 14,
    "start_time": "2021-07-30T19:05:00.917Z"
   },
   {
    "duration": 18,
    "start_time": "2021-07-30T19:05:00.934Z"
   },
   {
    "duration": 25,
    "start_time": "2021-07-30T19:05:00.954Z"
   },
   {
    "duration": 19,
    "start_time": "2021-07-30T19:05:00.981Z"
   },
   {
    "duration": 11,
    "start_time": "2021-07-30T19:05:01.002Z"
   },
   {
    "duration": 379,
    "start_time": "2021-07-30T19:05:01.015Z"
   },
   {
    "duration": 453,
    "start_time": "2021-07-30T19:05:01.397Z"
   },
   {
    "duration": 423,
    "start_time": "2021-07-30T19:05:01.853Z"
   },
   {
    "duration": 492,
    "start_time": "2021-07-30T19:05:02.279Z"
   },
   {
    "duration": 657,
    "start_time": "2021-07-30T19:05:02.774Z"
   },
   {
    "duration": 511,
    "start_time": "2021-07-30T19:05:03.435Z"
   },
   {
    "duration": 183,
    "start_time": "2021-07-30T19:05:03.949Z"
   },
   {
    "duration": 425,
    "start_time": "2021-07-30T19:05:04.134Z"
   },
   {
    "duration": 7,
    "start_time": "2021-07-30T19:05:04.562Z"
   },
   {
    "duration": 505,
    "start_time": "2021-07-30T19:05:04.572Z"
   },
   {
    "duration": 6,
    "start_time": "2021-07-30T19:05:05.079Z"
   },
   {
    "duration": 490,
    "start_time": "2021-07-30T19:05:05.088Z"
   },
   {
    "duration": 228,
    "start_time": "2021-07-30T19:05:05.581Z"
   },
   {
    "duration": 12,
    "start_time": "2021-07-30T19:05:05.811Z"
   },
   {
    "duration": 13,
    "start_time": "2021-07-30T19:05:05.825Z"
   },
   {
    "duration": 37,
    "start_time": "2021-07-30T19:05:05.840Z"
   },
   {
    "duration": 11,
    "start_time": "2021-07-30T19:05:05.880Z"
   },
   {
    "duration": 10,
    "start_time": "2021-07-30T19:05:05.893Z"
   },
   {
    "duration": 18,
    "start_time": "2021-07-30T19:05:05.906Z"
   },
   {
    "duration": 409,
    "start_time": "2021-07-30T19:49:14.196Z"
   },
   {
    "duration": 246,
    "start_time": "2021-07-30T19:50:13.973Z"
   },
   {
    "duration": 438,
    "start_time": "2021-07-30T19:52:20.887Z"
   },
   {
    "duration": 853,
    "start_time": "2021-07-30T19:57:30.596Z"
   },
   {
    "duration": 1049,
    "start_time": "2021-07-30T19:58:31.822Z"
   },
   {
    "duration": 1056,
    "start_time": "2021-07-30T19:59:15.146Z"
   },
   {
    "duration": 675,
    "start_time": "2021-07-30T20:00:32.918Z"
   },
   {
    "duration": 678,
    "start_time": "2021-07-30T20:01:17.026Z"
   },
   {
    "duration": 15,
    "start_time": "2021-07-30T20:04:32.988Z"
   },
   {
    "duration": 9,
    "start_time": "2021-07-30T20:04:37.593Z"
   },
   {
    "duration": 6,
    "start_time": "2021-07-30T20:04:51.133Z"
   },
   {
    "duration": 768,
    "start_time": "2021-07-30T20:11:40.499Z"
   },
   {
    "duration": 8,
    "start_time": "2021-07-30T20:13:22.996Z"
   },
   {
    "duration": 255,
    "start_time": "2021-07-30T20:13:44.675Z"
   },
   {
    "duration": 838,
    "start_time": "2021-07-30T20:21:29.647Z"
   },
   {
    "duration": 314,
    "start_time": "2021-07-30T20:22:50.759Z"
   },
   {
    "duration": 267,
    "start_time": "2021-07-30T20:24:23.469Z"
   },
   {
    "duration": 653,
    "start_time": "2021-07-30T20:24:47.361Z"
   },
   {
    "duration": 770,
    "start_time": "2021-07-30T20:28:50.097Z"
   },
   {
    "duration": 503,
    "start_time": "2021-07-30T20:29:17.522Z"
   },
   {
    "duration": 511,
    "start_time": "2021-07-30T20:29:32.671Z"
   },
   {
    "duration": 1041,
    "start_time": "2021-07-30T20:30:14.179Z"
   },
   {
    "duration": 1227,
    "start_time": "2021-07-30T20:31:21.140Z"
   },
   {
    "duration": 1106,
    "start_time": "2021-07-30T20:32:02.714Z"
   },
   {
    "duration": 115,
    "start_time": "2021-07-30T20:32:27.865Z"
   },
   {
    "duration": 855,
    "start_time": "2021-07-30T20:32:47.999Z"
   },
   {
    "duration": 935,
    "start_time": "2021-07-30T20:33:06.635Z"
   },
   {
    "duration": 90,
    "start_time": "2021-07-30T20:33:31.145Z"
   },
   {
    "duration": 903,
    "start_time": "2021-07-30T20:33:45.783Z"
   },
   {
    "duration": 285,
    "start_time": "2021-07-30T20:36:01.288Z"
   },
   {
    "duration": 8,
    "start_time": "2021-07-30T20:36:11.832Z"
   },
   {
    "duration": 9,
    "start_time": "2021-07-30T20:36:25.055Z"
   },
   {
    "duration": 9,
    "start_time": "2021-07-30T20:37:13.367Z"
   },
   {
    "duration": 15,
    "start_time": "2021-07-30T20:37:22.165Z"
   },
   {
    "duration": 1117,
    "start_time": "2021-07-30T20:39:38.580Z"
   },
   {
    "duration": 257,
    "start_time": "2021-07-30T20:47:11.815Z"
   },
   {
    "duration": 6,
    "start_time": "2021-07-30T20:47:41.711Z"
   },
   {
    "duration": 301,
    "start_time": "2021-07-30T20:47:52.746Z"
   },
   {
    "duration": 272,
    "start_time": "2021-07-30T20:48:36.964Z"
   },
   {
    "duration": 16,
    "start_time": "2021-07-30T20:49:05.395Z"
   },
   {
    "duration": 13,
    "start_time": "2021-07-30T20:49:13.873Z"
   },
   {
    "duration": 11,
    "start_time": "2021-07-30T20:50:19.756Z"
   },
   {
    "duration": 224,
    "start_time": "2021-07-30T20:50:25.270Z"
   },
   {
    "duration": 15,
    "start_time": "2021-07-30T20:50:40.890Z"
   },
   {
    "duration": 84,
    "start_time": "2021-07-30T20:50:49.739Z"
   },
   {
    "duration": 528,
    "start_time": "2021-07-30T20:51:05.118Z"
   },
   {
    "duration": 1430,
    "start_time": "2021-07-30T21:04:31.608Z"
   },
   {
    "duration": 45,
    "start_time": "2021-07-30T21:04:33.041Z"
   },
   {
    "duration": 11,
    "start_time": "2021-07-30T21:04:33.089Z"
   },
   {
    "duration": 8,
    "start_time": "2021-07-30T21:04:33.103Z"
   },
   {
    "duration": 12,
    "start_time": "2021-07-30T21:04:33.114Z"
   },
   {
    "duration": 45,
    "start_time": "2021-07-30T21:04:33.128Z"
   },
   {
    "duration": 50,
    "start_time": "2021-07-30T21:04:33.176Z"
   },
   {
    "duration": 12,
    "start_time": "2021-07-30T21:04:33.230Z"
   },
   {
    "duration": 11,
    "start_time": "2021-07-30T21:04:33.245Z"
   },
   {
    "duration": 14,
    "start_time": "2021-07-30T21:04:33.258Z"
   },
   {
    "duration": 22,
    "start_time": "2021-07-30T21:04:33.274Z"
   },
   {
    "duration": 9,
    "start_time": "2021-07-30T21:04:33.298Z"
   },
   {
    "duration": 9,
    "start_time": "2021-07-30T21:04:33.310Z"
   },
   {
    "duration": 47,
    "start_time": "2021-07-30T21:04:33.321Z"
   },
   {
    "duration": 17,
    "start_time": "2021-07-30T21:04:33.370Z"
   },
   {
    "duration": 9,
    "start_time": "2021-07-30T21:04:33.390Z"
   },
   {
    "duration": 9,
    "start_time": "2021-07-30T21:04:33.402Z"
   },
   {
    "duration": 458,
    "start_time": "2021-07-30T21:04:33.413Z"
   },
   {
    "duration": 476,
    "start_time": "2021-07-30T21:04:33.874Z"
   },
   {
    "duration": 423,
    "start_time": "2021-07-30T21:04:34.353Z"
   },
   {
    "duration": 535,
    "start_time": "2021-07-30T21:04:34.778Z"
   },
   {
    "duration": 819,
    "start_time": "2021-07-30T21:04:35.315Z"
   },
   {
    "duration": 515,
    "start_time": "2021-07-30T21:04:36.139Z"
   },
   {
    "duration": 222,
    "start_time": "2021-07-30T21:04:36.656Z"
   },
   {
    "duration": 383,
    "start_time": "2021-07-30T21:04:36.880Z"
   },
   {
    "duration": 6,
    "start_time": "2021-07-30T21:04:37.265Z"
   },
   {
    "duration": 418,
    "start_time": "2021-07-30T21:04:37.273Z"
   },
   {
    "duration": 6,
    "start_time": "2021-07-30T21:04:37.694Z"
   },
   {
    "duration": 574,
    "start_time": "2021-07-30T21:04:37.702Z"
   },
   {
    "duration": 238,
    "start_time": "2021-07-30T21:04:38.279Z"
   },
   {
    "duration": 11,
    "start_time": "2021-07-30T21:04:38.519Z"
   },
   {
    "duration": 14,
    "start_time": "2021-07-30T21:04:38.533Z"
   },
   {
    "duration": 29,
    "start_time": "2021-07-30T21:04:38.549Z"
   },
   {
    "duration": 14,
    "start_time": "2021-07-30T21:04:38.580Z"
   },
   {
    "duration": 9,
    "start_time": "2021-07-30T21:04:38.597Z"
   },
   {
    "duration": 73,
    "start_time": "2021-07-30T21:04:38.609Z"
   },
   {
    "duration": 1192,
    "start_time": "2021-07-30T21:04:37.494Z"
   },
   {
    "duration": 1191,
    "start_time": "2021-07-30T21:04:37.497Z"
   },
   {
    "duration": 23,
    "start_time": "2021-07-30T21:21:07.935Z"
   },
   {
    "duration": 1512,
    "start_time": "2021-07-30T21:21:15.131Z"
   },
   {
    "duration": 30,
    "start_time": "2021-07-30T21:21:16.646Z"
   },
   {
    "duration": 12,
    "start_time": "2021-07-30T21:21:16.678Z"
   },
   {
    "duration": 12,
    "start_time": "2021-07-30T21:21:16.691Z"
   },
   {
    "duration": 16,
    "start_time": "2021-07-30T21:21:16.705Z"
   },
   {
    "duration": 45,
    "start_time": "2021-07-30T21:21:16.723Z"
   },
   {
    "duration": 52,
    "start_time": "2021-07-30T21:21:16.771Z"
   },
   {
    "duration": 11,
    "start_time": "2021-07-30T21:21:16.827Z"
   },
   {
    "duration": 12,
    "start_time": "2021-07-30T21:21:16.841Z"
   },
   {
    "duration": 13,
    "start_time": "2021-07-30T21:21:16.855Z"
   },
   {
    "duration": 29,
    "start_time": "2021-07-30T21:21:16.870Z"
   },
   {
    "duration": 11,
    "start_time": "2021-07-30T21:21:16.901Z"
   },
   {
    "duration": 14,
    "start_time": "2021-07-30T21:21:16.915Z"
   },
   {
    "duration": 12,
    "start_time": "2021-07-30T21:21:16.931Z"
   },
   {
    "duration": 34,
    "start_time": "2021-07-30T21:21:16.945Z"
   },
   {
    "duration": 21,
    "start_time": "2021-07-30T21:21:16.981Z"
   },
   {
    "duration": 14,
    "start_time": "2021-07-30T21:21:17.004Z"
   },
   {
    "duration": 379,
    "start_time": "2021-07-30T21:21:17.021Z"
   },
   {
    "duration": 441,
    "start_time": "2021-07-30T21:21:17.403Z"
   },
   {
    "duration": 401,
    "start_time": "2021-07-30T21:21:17.846Z"
   },
   {
    "duration": 502,
    "start_time": "2021-07-30T21:21:18.250Z"
   },
   {
    "duration": 653,
    "start_time": "2021-07-30T21:21:18.755Z"
   },
   {
    "duration": 532,
    "start_time": "2021-07-30T21:21:19.411Z"
   },
   {
    "duration": 238,
    "start_time": "2021-07-30T21:21:19.945Z"
   },
   {
    "duration": 389,
    "start_time": "2021-07-30T21:21:20.186Z"
   },
   {
    "duration": 6,
    "start_time": "2021-07-30T21:21:20.580Z"
   },
   {
    "duration": 495,
    "start_time": "2021-07-30T21:21:20.589Z"
   },
   {
    "duration": 6,
    "start_time": "2021-07-30T21:21:21.086Z"
   },
   {
    "duration": 481,
    "start_time": "2021-07-30T21:21:21.095Z"
   },
   {
    "duration": 246,
    "start_time": "2021-07-30T21:21:21.579Z"
   },
   {
    "duration": 9,
    "start_time": "2021-07-30T21:21:21.827Z"
   },
   {
    "duration": 32,
    "start_time": "2021-07-30T21:21:21.838Z"
   },
   {
    "duration": 14,
    "start_time": "2021-07-30T21:21:21.873Z"
   },
   {
    "duration": 11,
    "start_time": "2021-07-30T21:21:21.889Z"
   },
   {
    "duration": 8,
    "start_time": "2021-07-30T21:21:21.902Z"
   },
   {
    "duration": 60,
    "start_time": "2021-07-30T21:21:21.912Z"
   },
   {
    "duration": 869,
    "start_time": "2021-07-30T21:21:21.974Z"
   },
   {
    "duration": 514,
    "start_time": "2021-07-30T21:21:22.846Z"
   },
   {
    "duration": 1644,
    "start_time": "2021-07-31T06:15:49.314Z"
   },
   {
    "duration": 30,
    "start_time": "2021-07-31T06:15:50.963Z"
   },
   {
    "duration": 20,
    "start_time": "2021-07-31T06:15:50.997Z"
   },
   {
    "duration": 16,
    "start_time": "2021-07-31T06:15:51.020Z"
   },
   {
    "duration": 30,
    "start_time": "2021-07-31T06:15:51.039Z"
   },
   {
    "duration": 13,
    "start_time": "2021-07-31T06:15:51.071Z"
   },
   {
    "duration": 74,
    "start_time": "2021-07-31T06:15:51.087Z"
   },
   {
    "duration": 17,
    "start_time": "2021-07-31T06:15:51.168Z"
   },
   {
    "duration": 9,
    "start_time": "2021-07-31T06:15:51.188Z"
   },
   {
    "duration": 10,
    "start_time": "2021-07-31T06:15:51.200Z"
   },
   {
    "duration": 56,
    "start_time": "2021-07-31T06:15:51.213Z"
   },
   {
    "duration": 18,
    "start_time": "2021-07-31T06:15:51.273Z"
   },
   {
    "duration": 19,
    "start_time": "2021-07-31T06:15:51.295Z"
   },
   {
    "duration": 10,
    "start_time": "2021-07-31T06:15:51.317Z"
   },
   {
    "duration": 52,
    "start_time": "2021-07-31T06:15:51.330Z"
   },
   {
    "duration": 17,
    "start_time": "2021-07-31T06:15:51.386Z"
   },
   {
    "duration": 13,
    "start_time": "2021-07-31T06:15:51.406Z"
   },
   {
    "duration": 434,
    "start_time": "2021-07-31T06:15:51.422Z"
   },
   {
    "duration": 459,
    "start_time": "2021-07-31T06:15:51.866Z"
   },
   {
    "duration": 438,
    "start_time": "2021-07-31T06:15:52.328Z"
   },
   {
    "duration": 519,
    "start_time": "2021-07-31T06:15:52.771Z"
   },
   {
    "duration": 717,
    "start_time": "2021-07-31T06:15:53.293Z"
   },
   {
    "duration": 564,
    "start_time": "2021-07-31T06:15:54.015Z"
   },
   {
    "duration": 229,
    "start_time": "2021-07-31T06:15:54.582Z"
   },
   {
    "duration": 455,
    "start_time": "2021-07-31T06:15:54.815Z"
   },
   {
    "duration": 6,
    "start_time": "2021-07-31T06:15:55.275Z"
   },
   {
    "duration": 496,
    "start_time": "2021-07-31T06:15:55.283Z"
   },
   {
    "duration": 6,
    "start_time": "2021-07-31T06:15:55.781Z"
   },
   {
    "duration": 531,
    "start_time": "2021-07-31T06:15:55.789Z"
   },
   {
    "duration": 250,
    "start_time": "2021-07-31T06:15:56.323Z"
   },
   {
    "duration": 11,
    "start_time": "2021-07-31T06:15:56.577Z"
   },
   {
    "duration": 32,
    "start_time": "2021-07-31T06:15:56.590Z"
   },
   {
    "duration": 21,
    "start_time": "2021-07-31T06:15:56.625Z"
   },
   {
    "duration": 23,
    "start_time": "2021-07-31T06:15:56.648Z"
   },
   {
    "duration": 14,
    "start_time": "2021-07-31T06:15:56.674Z"
   },
   {
    "duration": 21,
    "start_time": "2021-07-31T06:15:56.691Z"
   },
   {
    "duration": 988,
    "start_time": "2021-07-31T06:15:56.715Z"
   },
   {
    "duration": 594,
    "start_time": "2021-07-31T06:15:57.706Z"
   },
   {
    "duration": 1557,
    "start_time": "2021-07-31T06:16:24.068Z"
   },
   {
    "duration": 31,
    "start_time": "2021-07-31T06:16:25.627Z"
   },
   {
    "duration": 16,
    "start_time": "2021-07-31T06:16:25.667Z"
   },
   {
    "duration": 14,
    "start_time": "2021-07-31T06:16:25.687Z"
   },
   {
    "duration": 15,
    "start_time": "2021-07-31T06:16:25.704Z"
   },
   {
    "duration": 57,
    "start_time": "2021-07-31T06:16:25.722Z"
   },
   {
    "duration": 48,
    "start_time": "2021-07-31T06:16:25.785Z"
   },
   {
    "duration": 26,
    "start_time": "2021-07-31T06:16:25.836Z"
   },
   {
    "duration": 27,
    "start_time": "2021-07-31T06:16:25.865Z"
   },
   {
    "duration": 14,
    "start_time": "2021-07-31T06:16:25.895Z"
   },
   {
    "duration": 28,
    "start_time": "2021-07-31T06:16:25.911Z"
   },
   {
    "duration": 31,
    "start_time": "2021-07-31T06:16:25.942Z"
   },
   {
    "duration": 9,
    "start_time": "2021-07-31T06:16:25.977Z"
   },
   {
    "duration": 9,
    "start_time": "2021-07-31T06:16:25.989Z"
   },
   {
    "duration": 17,
    "start_time": "2021-07-31T06:16:26.001Z"
   },
   {
    "duration": 49,
    "start_time": "2021-07-31T06:16:26.021Z"
   },
   {
    "duration": 12,
    "start_time": "2021-07-31T06:16:26.072Z"
   },
   {
    "duration": 452,
    "start_time": "2021-07-31T06:16:26.087Z"
   },
   {
    "duration": 434,
    "start_time": "2021-07-31T06:16:26.541Z"
   },
   {
    "duration": 587,
    "start_time": "2021-07-31T06:16:26.978Z"
   },
   {
    "duration": 513,
    "start_time": "2021-07-31T06:16:27.568Z"
   },
   {
    "duration": 918,
    "start_time": "2021-07-31T06:16:28.086Z"
   },
   {
    "duration": 573,
    "start_time": "2021-07-31T06:16:29.007Z"
   },
   {
    "duration": 229,
    "start_time": "2021-07-31T06:16:29.583Z"
   },
   {
    "duration": 472,
    "start_time": "2021-07-31T06:16:29.815Z"
   },
   {
    "duration": 5,
    "start_time": "2021-07-31T06:16:30.289Z"
   },
   {
    "duration": 530,
    "start_time": "2021-07-31T06:16:30.296Z"
   },
   {
    "duration": 5,
    "start_time": "2021-07-31T06:16:30.828Z"
   },
   {
    "duration": 482,
    "start_time": "2021-07-31T06:16:30.835Z"
   },
   {
    "duration": 263,
    "start_time": "2021-07-31T06:16:31.319Z"
   },
   {
    "duration": 10,
    "start_time": "2021-07-31T06:16:31.585Z"
   },
   {
    "duration": 17,
    "start_time": "2021-07-31T06:16:31.597Z"
   },
   {
    "duration": 15,
    "start_time": "2021-07-31T06:16:31.616Z"
   },
   {
    "duration": 17,
    "start_time": "2021-07-31T06:16:31.662Z"
   },
   {
    "duration": 23,
    "start_time": "2021-07-31T06:16:31.681Z"
   },
   {
    "duration": 31,
    "start_time": "2021-07-31T06:16:31.707Z"
   },
   {
    "duration": 923,
    "start_time": "2021-07-31T06:16:31.741Z"
   },
   {
    "duration": 521,
    "start_time": "2021-07-31T06:16:32.667Z"
   },
   {
    "duration": 560,
    "start_time": "2021-07-31T06:46:27.111Z"
   },
   {
    "duration": 510,
    "start_time": "2021-07-31T06:46:46.311Z"
   },
   {
    "duration": 1512,
    "start_time": "2021-07-31T06:57:47.988Z"
   },
   {
    "duration": 30,
    "start_time": "2021-07-31T06:57:49.502Z"
   },
   {
    "duration": 10,
    "start_time": "2021-07-31T06:57:49.535Z"
   },
   {
    "duration": 25,
    "start_time": "2021-07-31T06:57:49.547Z"
   },
   {
    "duration": 14,
    "start_time": "2021-07-31T06:57:49.574Z"
   },
   {
    "duration": 11,
    "start_time": "2021-07-31T06:57:49.590Z"
   },
   {
    "duration": 49,
    "start_time": "2021-07-31T06:57:49.604Z"
   },
   {
    "duration": 13,
    "start_time": "2021-07-31T06:57:49.657Z"
   },
   {
    "duration": 24,
    "start_time": "2021-07-31T06:57:49.674Z"
   },
   {
    "duration": 16,
    "start_time": "2021-07-31T06:57:49.701Z"
   },
   {
    "duration": 27,
    "start_time": "2021-07-31T06:57:49.719Z"
   },
   {
    "duration": 26,
    "start_time": "2021-07-31T06:57:49.748Z"
   },
   {
    "duration": 25,
    "start_time": "2021-07-31T06:57:49.777Z"
   },
   {
    "duration": 12,
    "start_time": "2021-07-31T06:57:49.804Z"
   },
   {
    "duration": 21,
    "start_time": "2021-07-31T06:57:49.818Z"
   },
   {
    "duration": 23,
    "start_time": "2021-07-31T06:57:49.842Z"
   },
   {
    "duration": 25,
    "start_time": "2021-07-31T06:57:49.867Z"
   },
   {
    "duration": 378,
    "start_time": "2021-07-31T06:57:49.894Z"
   },
   {
    "duration": 435,
    "start_time": "2021-07-31T06:57:50.274Z"
   },
   {
    "duration": 407,
    "start_time": "2021-07-31T06:57:50.711Z"
   },
   {
    "duration": 523,
    "start_time": "2021-07-31T06:57:51.121Z"
   },
   {
    "duration": 660,
    "start_time": "2021-07-31T06:57:51.646Z"
   },
   {
    "duration": 536,
    "start_time": "2021-07-31T06:57:52.311Z"
   },
   {
    "duration": 227,
    "start_time": "2021-07-31T06:57:52.851Z"
   },
   {
    "duration": 381,
    "start_time": "2021-07-31T06:57:53.081Z"
   },
   {
    "duration": 6,
    "start_time": "2021-07-31T06:57:53.464Z"
   },
   {
    "duration": 413,
    "start_time": "2021-07-31T06:57:53.472Z"
   },
   {
    "duration": 6,
    "start_time": "2021-07-31T06:57:53.888Z"
   },
   {
    "duration": 577,
    "start_time": "2021-07-31T06:57:53.897Z"
   },
   {
    "duration": 228,
    "start_time": "2021-07-31T06:57:54.476Z"
   },
   {
    "duration": 11,
    "start_time": "2021-07-31T06:57:54.706Z"
   },
   {
    "duration": 55,
    "start_time": "2021-07-31T06:57:54.719Z"
   },
   {
    "duration": 17,
    "start_time": "2021-07-31T06:57:54.776Z"
   },
   {
    "duration": 17,
    "start_time": "2021-07-31T06:57:54.795Z"
   },
   {
    "duration": 9,
    "start_time": "2021-07-31T06:57:54.815Z"
   },
   {
    "duration": 45,
    "start_time": "2021-07-31T06:57:54.826Z"
   },
   {
    "duration": 890,
    "start_time": "2021-07-31T06:57:54.873Z"
   },
   {
    "duration": 507,
    "start_time": "2021-07-31T06:57:55.765Z"
   },
   {
    "duration": 322,
    "start_time": "2021-07-31T17:25:20.990Z"
   },
   {
    "duration": 1748,
    "start_time": "2021-07-31T17:25:28.687Z"
   },
   {
    "duration": 40,
    "start_time": "2021-07-31T17:25:30.440Z"
   },
   {
    "duration": 16,
    "start_time": "2021-07-31T17:25:30.483Z"
   },
   {
    "duration": 28,
    "start_time": "2021-07-31T17:25:30.502Z"
   },
   {
    "duration": 73,
    "start_time": "2021-07-31T17:25:30.533Z"
   },
   {
    "duration": 24,
    "start_time": "2021-07-31T17:25:30.608Z"
   },
   {
    "duration": 75,
    "start_time": "2021-07-31T17:25:30.635Z"
   },
   {
    "duration": 13,
    "start_time": "2021-07-31T17:25:30.715Z"
   },
   {
    "duration": 27,
    "start_time": "2021-07-31T17:25:30.732Z"
   },
   {
    "duration": 21,
    "start_time": "2021-07-31T17:25:30.762Z"
   },
   {
    "duration": 46,
    "start_time": "2021-07-31T17:25:30.786Z"
   },
   {
    "duration": 14,
    "start_time": "2021-07-31T17:25:30.835Z"
   },
   {
    "duration": 17,
    "start_time": "2021-07-31T17:25:30.852Z"
   },
   {
    "duration": 23,
    "start_time": "2021-07-31T17:25:30.872Z"
   },
   {
    "duration": 39,
    "start_time": "2021-07-31T17:25:30.898Z"
   },
   {
    "duration": 27,
    "start_time": "2021-07-31T17:25:30.940Z"
   },
   {
    "duration": 22,
    "start_time": "2021-07-31T17:25:30.970Z"
   },
   {
    "duration": 528,
    "start_time": "2021-07-31T17:25:30.995Z"
   },
   {
    "duration": 1705,
    "start_time": "2021-07-31T17:25:29.823Z"
   },
   {
    "duration": 1700,
    "start_time": "2021-07-31T17:25:29.830Z"
   },
   {
    "duration": 1697,
    "start_time": "2021-07-31T17:25:29.835Z"
   },
   {
    "duration": 1693,
    "start_time": "2021-07-31T17:25:29.840Z"
   },
   {
    "duration": 1690,
    "start_time": "2021-07-31T17:25:29.845Z"
   },
   {
    "duration": 1688,
    "start_time": "2021-07-31T17:25:29.849Z"
   },
   {
    "duration": 1686,
    "start_time": "2021-07-31T17:25:29.853Z"
   },
   {
    "duration": 1685,
    "start_time": "2021-07-31T17:25:29.856Z"
   },
   {
    "duration": 1681,
    "start_time": "2021-07-31T17:25:29.861Z"
   },
   {
    "duration": 1679,
    "start_time": "2021-07-31T17:25:29.865Z"
   },
   {
    "duration": 1677,
    "start_time": "2021-07-31T17:25:29.869Z"
   },
   {
    "duration": 1675,
    "start_time": "2021-07-31T17:25:29.873Z"
   },
   {
    "duration": 1672,
    "start_time": "2021-07-31T17:25:29.877Z"
   },
   {
    "duration": 1670,
    "start_time": "2021-07-31T17:25:29.881Z"
   },
   {
    "duration": 1668,
    "start_time": "2021-07-31T17:25:29.885Z"
   },
   {
    "duration": 1666,
    "start_time": "2021-07-31T17:25:29.888Z"
   },
   {
    "duration": 1664,
    "start_time": "2021-07-31T17:25:29.892Z"
   },
   {
    "duration": 1661,
    "start_time": "2021-07-31T17:25:29.896Z"
   },
   {
    "duration": 1658,
    "start_time": "2021-07-31T17:25:29.900Z"
   },
   {
    "duration": 1655,
    "start_time": "2021-07-31T17:25:29.904Z"
   },
   {
    "duration": 1653,
    "start_time": "2021-07-31T17:25:29.908Z"
   },
   {
    "duration": 8,
    "start_time": "2021-07-31T17:25:59.579Z"
   },
   {
    "duration": 6,
    "start_time": "2021-07-31T17:26:18.937Z"
   },
   {
    "duration": 6,
    "start_time": "2021-07-31T17:26:22.286Z"
   },
   {
    "duration": 7,
    "start_time": "2021-07-31T17:26:33.642Z"
   },
   {
    "duration": 4,
    "start_time": "2021-07-31T17:26:44.105Z"
   },
   {
    "duration": 6,
    "start_time": "2021-07-31T17:27:11.926Z"
   },
   {
    "duration": 10,
    "start_time": "2021-07-31T17:27:29.593Z"
   },
   {
    "duration": 7510,
    "start_time": "2021-07-31T17:29:16.844Z"
   },
   {
    "duration": 17,
    "start_time": "2021-07-31T17:29:29.647Z"
   },
   {
    "duration": 18,
    "start_time": "2021-07-31T17:30:03.990Z"
   },
   {
    "duration": 12,
    "start_time": "2021-07-31T17:30:15.743Z"
   },
   {
    "duration": 4,
    "start_time": "2021-07-31T17:52:58.612Z"
   },
   {
    "duration": 8,
    "start_time": "2021-07-31T17:53:03.832Z"
   },
   {
    "duration": 12,
    "start_time": "2021-07-31T18:56:29.231Z"
   },
   {
    "duration": 5,
    "start_time": "2021-07-31T18:56:37.616Z"
   },
   {
    "duration": 8,
    "start_time": "2021-07-31T18:57:53.491Z"
   },
   {
    "duration": 5,
    "start_time": "2021-07-31T18:58:14.310Z"
   },
   {
    "duration": 86,
    "start_time": "2021-07-31T18:58:26.460Z"
   },
   {
    "duration": 86,
    "start_time": "2021-07-31T18:58:37.977Z"
   },
   {
    "duration": 83,
    "start_time": "2021-07-31T18:58:47.005Z"
   },
   {
    "duration": 86,
    "start_time": "2021-07-31T18:59:02.123Z"
   },
   {
    "duration": 89,
    "start_time": "2021-07-31T18:59:13.787Z"
   },
   {
    "duration": 280,
    "start_time": "2021-07-31T19:02:24.880Z"
   },
   {
    "duration": 1416,
    "start_time": "2021-07-31T19:02:34.900Z"
   },
   {
    "duration": 32,
    "start_time": "2021-07-31T19:02:36.319Z"
   },
   {
    "duration": 28,
    "start_time": "2021-07-31T19:02:36.354Z"
   },
   {
    "duration": 27,
    "start_time": "2021-07-31T19:02:36.385Z"
   },
   {
    "duration": 29,
    "start_time": "2021-07-31T19:02:36.415Z"
   },
   {
    "duration": 27,
    "start_time": "2021-07-31T19:02:36.447Z"
   },
   {
    "duration": 65,
    "start_time": "2021-07-31T19:02:36.476Z"
   },
   {
    "duration": 14,
    "start_time": "2021-07-31T19:02:36.545Z"
   },
   {
    "duration": 30,
    "start_time": "2021-07-31T19:02:36.562Z"
   },
   {
    "duration": 30,
    "start_time": "2021-07-31T19:02:36.594Z"
   },
   {
    "duration": 43,
    "start_time": "2021-07-31T19:02:36.626Z"
   },
   {
    "duration": 27,
    "start_time": "2021-07-31T19:02:36.671Z"
   },
   {
    "duration": 35,
    "start_time": "2021-07-31T19:02:36.700Z"
   },
   {
    "duration": 23,
    "start_time": "2021-07-31T19:02:36.737Z"
   },
   {
    "duration": 41,
    "start_time": "2021-07-31T19:02:36.762Z"
   },
   {
    "duration": 22,
    "start_time": "2021-07-31T19:02:36.805Z"
   },
   {
    "duration": 23,
    "start_time": "2021-07-31T19:02:36.829Z"
   },
   {
    "duration": 18,
    "start_time": "2021-07-31T19:02:36.855Z"
   },
   {
    "duration": 5,
    "start_time": "2021-07-31T19:02:36.875Z"
   },
   {
    "duration": 9,
    "start_time": "2021-07-31T19:02:36.882Z"
   },
   {
    "duration": 97,
    "start_time": "2021-07-31T19:02:36.893Z"
   },
   {
    "duration": -224,
    "start_time": "2021-07-31T19:02:37.218Z"
   },
   {
    "duration": -227,
    "start_time": "2021-07-31T19:02:37.222Z"
   },
   {
    "duration": -229,
    "start_time": "2021-07-31T19:02:37.225Z"
   },
   {
    "duration": -231,
    "start_time": "2021-07-31T19:02:37.229Z"
   },
   {
    "duration": -234,
    "start_time": "2021-07-31T19:02:37.234Z"
   },
   {
    "duration": -246,
    "start_time": "2021-07-31T19:02:37.247Z"
   },
   {
    "duration": -250,
    "start_time": "2021-07-31T19:02:37.252Z"
   },
   {
    "duration": -253,
    "start_time": "2021-07-31T19:02:37.257Z"
   },
   {
    "duration": -257,
    "start_time": "2021-07-31T19:02:37.262Z"
   },
   {
    "duration": -259,
    "start_time": "2021-07-31T19:02:37.266Z"
   },
   {
    "duration": -263,
    "start_time": "2021-07-31T19:02:37.271Z"
   },
   {
    "duration": -266,
    "start_time": "2021-07-31T19:02:37.276Z"
   },
   {
    "duration": -269,
    "start_time": "2021-07-31T19:02:37.280Z"
   },
   {
    "duration": -272,
    "start_time": "2021-07-31T19:02:37.284Z"
   },
   {
    "duration": -274,
    "start_time": "2021-07-31T19:02:37.288Z"
   },
   {
    "duration": -277,
    "start_time": "2021-07-31T19:02:37.292Z"
   },
   {
    "duration": -281,
    "start_time": "2021-07-31T19:02:37.297Z"
   },
   {
    "duration": -282,
    "start_time": "2021-07-31T19:02:37.300Z"
   },
   {
    "duration": -286,
    "start_time": "2021-07-31T19:02:37.305Z"
   },
   {
    "duration": -289,
    "start_time": "2021-07-31T19:02:37.309Z"
   },
   {
    "duration": -293,
    "start_time": "2021-07-31T19:02:37.314Z"
   },
   {
    "duration": 1553,
    "start_time": "2021-07-31T19:03:02.666Z"
   },
   {
    "duration": 31,
    "start_time": "2021-07-31T19:03:04.221Z"
   },
   {
    "duration": 10,
    "start_time": "2021-07-31T19:03:04.255Z"
   },
   {
    "duration": 15,
    "start_time": "2021-07-31T19:03:04.268Z"
   },
   {
    "duration": 17,
    "start_time": "2021-07-31T19:03:04.285Z"
   },
   {
    "duration": 11,
    "start_time": "2021-07-31T19:03:04.305Z"
   },
   {
    "duration": 62,
    "start_time": "2021-07-31T19:03:04.318Z"
   },
   {
    "duration": 14,
    "start_time": "2021-07-31T19:03:04.385Z"
   },
   {
    "duration": 20,
    "start_time": "2021-07-31T19:03:04.403Z"
   },
   {
    "duration": 17,
    "start_time": "2021-07-31T19:03:04.426Z"
   },
   {
    "duration": 42,
    "start_time": "2021-07-31T19:03:04.446Z"
   },
   {
    "duration": 10,
    "start_time": "2021-07-31T19:03:04.491Z"
   },
   {
    "duration": 13,
    "start_time": "2021-07-31T19:03:04.504Z"
   },
   {
    "duration": 36,
    "start_time": "2021-07-31T19:03:04.520Z"
   },
   {
    "duration": 20,
    "start_time": "2021-07-31T19:03:04.558Z"
   },
   {
    "duration": 9,
    "start_time": "2021-07-31T19:03:04.580Z"
   },
   {
    "duration": 9,
    "start_time": "2021-07-31T19:03:04.592Z"
   },
   {
    "duration": 12,
    "start_time": "2021-07-31T19:03:04.603Z"
   },
   {
    "duration": 40,
    "start_time": "2021-07-31T19:03:04.617Z"
   },
   {
    "duration": 10,
    "start_time": "2021-07-31T19:03:04.659Z"
   },
   {
    "duration": 4,
    "start_time": "2021-07-31T19:03:04.672Z"
   },
   {
    "duration": 394,
    "start_time": "2021-07-31T19:03:04.679Z"
   },
   {
    "duration": 429,
    "start_time": "2021-07-31T19:03:05.078Z"
   },
   {
    "duration": 386,
    "start_time": "2021-07-31T19:03:05.511Z"
   },
   {
    "duration": 503,
    "start_time": "2021-07-31T19:03:05.899Z"
   },
   {
    "duration": 662,
    "start_time": "2021-07-31T19:03:06.405Z"
   },
   {
    "duration": 490,
    "start_time": "2021-07-31T19:03:07.070Z"
   },
   {
    "duration": 213,
    "start_time": "2021-07-31T19:03:07.562Z"
   },
   {
    "duration": 390,
    "start_time": "2021-07-31T19:03:07.777Z"
   },
   {
    "duration": 5,
    "start_time": "2021-07-31T19:03:08.169Z"
   },
   {
    "duration": 506,
    "start_time": "2021-07-31T19:03:08.176Z"
   },
   {
    "duration": 5,
    "start_time": "2021-07-31T19:03:08.685Z"
   },
   {
    "duration": 495,
    "start_time": "2021-07-31T19:03:08.693Z"
   },
   {
    "duration": 269,
    "start_time": "2021-07-31T19:03:09.191Z"
   },
   {
    "duration": 11,
    "start_time": "2021-07-31T19:03:09.463Z"
   },
   {
    "duration": 28,
    "start_time": "2021-07-31T19:03:09.476Z"
   },
   {
    "duration": 17,
    "start_time": "2021-07-31T19:03:09.506Z"
   },
   {
    "duration": 35,
    "start_time": "2021-07-31T19:03:09.525Z"
   },
   {
    "duration": 8,
    "start_time": "2021-07-31T19:03:09.563Z"
   },
   {
    "duration": 26,
    "start_time": "2021-07-31T19:03:09.574Z"
   },
   {
    "duration": 868,
    "start_time": "2021-07-31T19:03:09.602Z"
   },
   {
    "duration": 494,
    "start_time": "2021-07-31T19:03:10.473Z"
   },
   {
    "duration": 456,
    "start_time": "2021-07-31T19:12:58.917Z"
   },
   {
    "duration": 8,
    "start_time": "2021-07-31T19:14:02.382Z"
   },
   {
    "duration": 140,
    "start_time": "2021-07-31T19:15:04.888Z"
   },
   {
    "duration": 6592,
    "start_time": "2021-07-31T19:15:09.487Z"
   },
   {
    "duration": 6723,
    "start_time": "2021-07-31T19:15:26.175Z"
   },
   {
    "duration": 287,
    "start_time": "2021-07-31T19:16:44.200Z"
   },
   {
    "duration": 267,
    "start_time": "2021-07-31T19:17:03.520Z"
   },
   {
    "duration": 8,
    "start_time": "2021-07-31T19:17:09.578Z"
   },
   {
    "duration": 9,
    "start_time": "2021-07-31T19:17:19.759Z"
   },
   {
    "duration": 10,
    "start_time": "2021-07-31T19:17:30.714Z"
   },
   {
    "duration": 92,
    "start_time": "2021-07-31T19:17:46.208Z"
   },
   {
    "duration": 7372,
    "start_time": "2021-07-31T19:17:51.567Z"
   },
   {
    "duration": 9,
    "start_time": "2021-07-31T19:18:24.742Z"
   },
   {
    "duration": 8,
    "start_time": "2021-07-31T19:18:44.372Z"
   },
   {
    "duration": 278,
    "start_time": "2021-07-31T19:19:11.613Z"
   },
   {
    "duration": 10,
    "start_time": "2021-07-31T19:19:20.665Z"
   },
   {
    "duration": 264,
    "start_time": "2021-07-31T19:19:27.597Z"
   },
   {
    "duration": 9,
    "start_time": "2021-07-31T19:19:55.150Z"
   },
   {
    "duration": 5,
    "start_time": "2021-07-31T19:20:09.343Z"
   },
   {
    "duration": 1629,
    "start_time": "2021-07-31T19:20:21.798Z"
   },
   {
    "duration": 31,
    "start_time": "2021-07-31T19:20:23.430Z"
   },
   {
    "duration": 20,
    "start_time": "2021-07-31T19:20:23.464Z"
   },
   {
    "duration": 24,
    "start_time": "2021-07-31T19:20:23.487Z"
   },
   {
    "duration": 30,
    "start_time": "2021-07-31T19:20:23.513Z"
   },
   {
    "duration": 17,
    "start_time": "2021-07-31T19:20:23.545Z"
   },
   {
    "duration": 59,
    "start_time": "2021-07-31T19:20:23.564Z"
   },
   {
    "duration": 15,
    "start_time": "2021-07-31T19:20:23.626Z"
   },
   {
    "duration": 20,
    "start_time": "2021-07-31T19:20:23.644Z"
   },
   {
    "duration": 22,
    "start_time": "2021-07-31T19:20:23.666Z"
   },
   {
    "duration": 38,
    "start_time": "2021-07-31T19:20:23.690Z"
   },
   {
    "duration": 14,
    "start_time": "2021-07-31T19:20:23.730Z"
   },
   {
    "duration": 27,
    "start_time": "2021-07-31T19:20:23.746Z"
   },
   {
    "duration": 17,
    "start_time": "2021-07-31T19:20:23.775Z"
   },
   {
    "duration": 23,
    "start_time": "2021-07-31T19:20:23.794Z"
   },
   {
    "duration": 21,
    "start_time": "2021-07-31T19:20:23.820Z"
   },
   {
    "duration": 27,
    "start_time": "2021-07-31T19:20:23.844Z"
   },
   {
    "duration": 21,
    "start_time": "2021-07-31T19:20:23.874Z"
   },
   {
    "duration": 16,
    "start_time": "2021-07-31T19:20:23.898Z"
   },
   {
    "duration": 14,
    "start_time": "2021-07-31T19:20:23.916Z"
   },
   {
    "duration": 21,
    "start_time": "2021-07-31T19:20:23.933Z"
   },
   {
    "duration": 423,
    "start_time": "2021-07-31T19:20:23.957Z"
   },
   {
    "duration": 499,
    "start_time": "2021-07-31T19:20:24.387Z"
   },
   {
    "duration": 512,
    "start_time": "2021-07-31T19:20:24.889Z"
   },
   {
    "duration": 508,
    "start_time": "2021-07-31T19:20:25.404Z"
   },
   {
    "duration": 697,
    "start_time": "2021-07-31T19:20:25.915Z"
   },
   {
    "duration": 537,
    "start_time": "2021-07-31T19:20:26.614Z"
   },
   {
    "duration": 218,
    "start_time": "2021-07-31T19:20:27.154Z"
   },
   {
    "duration": 403,
    "start_time": "2021-07-31T19:20:27.375Z"
   },
   {
    "duration": 6,
    "start_time": "2021-07-31T19:20:27.781Z"
   },
   {
    "duration": 475,
    "start_time": "2021-07-31T19:20:27.789Z"
   },
   {
    "duration": 7,
    "start_time": "2021-07-31T19:20:28.268Z"
   },
   {
    "duration": 656,
    "start_time": "2021-07-31T19:20:28.278Z"
   },
   {
    "duration": 256,
    "start_time": "2021-07-31T19:20:28.937Z"
   },
   {
    "duration": 11,
    "start_time": "2021-07-31T19:20:29.196Z"
   },
   {
    "duration": 25,
    "start_time": "2021-07-31T19:20:29.209Z"
   },
   {
    "duration": 29,
    "start_time": "2021-07-31T19:20:29.237Z"
   },
   {
    "duration": 19,
    "start_time": "2021-07-31T19:20:29.269Z"
   },
   {
    "duration": 16,
    "start_time": "2021-07-31T19:20:29.290Z"
   },
   {
    "duration": 30,
    "start_time": "2021-07-31T19:20:29.309Z"
   },
   {
    "duration": 894,
    "start_time": "2021-07-31T19:20:29.355Z"
   },
   {
    "duration": 514,
    "start_time": "2021-07-31T19:20:30.252Z"
   },
   {
    "duration": 14,
    "start_time": "2021-07-31T19:33:32.241Z"
   },
   {
    "duration": 1443,
    "start_time": "2021-07-31T19:33:45.268Z"
   },
   {
    "duration": 29,
    "start_time": "2021-07-31T19:33:46.714Z"
   },
   {
    "duration": 16,
    "start_time": "2021-07-31T19:33:46.747Z"
   },
   {
    "duration": 15,
    "start_time": "2021-07-31T19:33:46.767Z"
   },
   {
    "duration": 17,
    "start_time": "2021-07-31T19:33:46.785Z"
   },
   {
    "duration": 12,
    "start_time": "2021-07-31T19:33:46.805Z"
   },
   {
    "duration": 53,
    "start_time": "2021-07-31T19:33:46.819Z"
   },
   {
    "duration": 12,
    "start_time": "2021-07-31T19:33:46.878Z"
   },
   {
    "duration": 9,
    "start_time": "2021-07-31T19:33:46.894Z"
   },
   {
    "duration": 7,
    "start_time": "2021-07-31T19:33:46.905Z"
   },
   {
    "duration": 53,
    "start_time": "2021-07-31T19:33:46.915Z"
   },
   {
    "duration": 10,
    "start_time": "2021-07-31T19:33:46.971Z"
   },
   {
    "duration": 14,
    "start_time": "2021-07-31T19:33:46.983Z"
   },
   {
    "duration": 16,
    "start_time": "2021-07-31T19:33:46.999Z"
   },
   {
    "duration": 42,
    "start_time": "2021-07-31T19:33:47.017Z"
   },
   {
    "duration": 9,
    "start_time": "2021-07-31T19:33:47.061Z"
   },
   {
    "duration": 11,
    "start_time": "2021-07-31T19:33:47.072Z"
   },
   {
    "duration": 18,
    "start_time": "2021-07-31T19:33:47.085Z"
   },
   {
    "duration": 6,
    "start_time": "2021-07-31T19:33:47.105Z"
   },
   {
    "duration": 43,
    "start_time": "2021-07-31T19:33:47.113Z"
   },
   {
    "duration": 365,
    "start_time": "2021-07-31T19:33:47.158Z"
   },
   {
    "duration": 424,
    "start_time": "2021-07-31T19:33:47.526Z"
   },
   {
    "duration": 401,
    "start_time": "2021-07-31T19:33:47.957Z"
   },
   {
    "duration": 793,
    "start_time": "2021-07-31T19:33:48.361Z"
   },
   {
    "duration": 739,
    "start_time": "2021-07-31T19:33:49.157Z"
   },
   {
    "duration": 532,
    "start_time": "2021-07-31T19:33:49.899Z"
   },
   {
    "duration": 224,
    "start_time": "2021-07-31T19:33:50.433Z"
   },
   {
    "duration": 381,
    "start_time": "2021-07-31T19:33:50.659Z"
   },
   {
    "duration": 14,
    "start_time": "2021-07-31T19:33:51.042Z"
   },
   {
    "duration": 500,
    "start_time": "2021-07-31T19:33:51.059Z"
   },
   {
    "duration": 5,
    "start_time": "2021-07-31T19:33:51.562Z"
   },
   {
    "duration": 472,
    "start_time": "2021-07-31T19:33:51.569Z"
   },
   {
    "duration": 234,
    "start_time": "2021-07-31T19:33:52.044Z"
   },
   {
    "duration": 10,
    "start_time": "2021-07-31T19:33:52.281Z"
   },
   {
    "duration": 17,
    "start_time": "2021-07-31T19:33:52.294Z"
   },
   {
    "duration": 44,
    "start_time": "2021-07-31T19:33:52.314Z"
   },
   {
    "duration": 15,
    "start_time": "2021-07-31T19:33:52.361Z"
   },
   {
    "duration": 10,
    "start_time": "2021-07-31T19:33:52.378Z"
   },
   {
    "duration": 21,
    "start_time": "2021-07-31T19:33:52.391Z"
   },
   {
    "duration": 941,
    "start_time": "2021-07-31T19:33:52.414Z"
   },
   {
    "duration": 513,
    "start_time": "2021-07-31T19:33:53.357Z"
   },
   {
    "duration": 368,
    "start_time": "2021-07-31T19:36:44.870Z"
   },
   {
    "duration": 381,
    "start_time": "2021-07-31T19:36:50.927Z"
   },
   {
    "duration": 402,
    "start_time": "2021-07-31T19:36:57.996Z"
   },
   {
    "duration": 1503,
    "start_time": "2021-07-31T19:37:04.834Z"
   },
   {
    "duration": 35,
    "start_time": "2021-07-31T19:37:06.340Z"
   },
   {
    "duration": 11,
    "start_time": "2021-07-31T19:37:06.379Z"
   },
   {
    "duration": 17,
    "start_time": "2021-07-31T19:37:06.392Z"
   },
   {
    "duration": 21,
    "start_time": "2021-07-31T19:37:06.412Z"
   },
   {
    "duration": 33,
    "start_time": "2021-07-31T19:37:06.435Z"
   },
   {
    "duration": 57,
    "start_time": "2021-07-31T19:37:06.472Z"
   },
   {
    "duration": 12,
    "start_time": "2021-07-31T19:37:06.533Z"
   },
   {
    "duration": 13,
    "start_time": "2021-07-31T19:37:06.548Z"
   },
   {
    "duration": 12,
    "start_time": "2021-07-31T19:37:06.564Z"
   },
   {
    "duration": 34,
    "start_time": "2021-07-31T19:37:06.579Z"
   },
   {
    "duration": 10,
    "start_time": "2021-07-31T19:37:06.616Z"
   },
   {
    "duration": 30,
    "start_time": "2021-07-31T19:37:06.628Z"
   },
   {
    "duration": 29,
    "start_time": "2021-07-31T19:37:06.662Z"
   },
   {
    "duration": 23,
    "start_time": "2021-07-31T19:37:06.693Z"
   },
   {
    "duration": 12,
    "start_time": "2021-07-31T19:37:06.718Z"
   },
   {
    "duration": 34,
    "start_time": "2021-07-31T19:37:06.733Z"
   },
   {
    "duration": 15,
    "start_time": "2021-07-31T19:37:06.770Z"
   },
   {
    "duration": 7,
    "start_time": "2021-07-31T19:37:06.788Z"
   },
   {
    "duration": 11,
    "start_time": "2021-07-31T19:37:06.797Z"
   },
   {
    "duration": 398,
    "start_time": "2021-07-31T19:37:06.810Z"
   },
   {
    "duration": 440,
    "start_time": "2021-07-31T19:37:07.211Z"
   },
   {
    "duration": 427,
    "start_time": "2021-07-31T19:37:07.657Z"
   },
   {
    "duration": 504,
    "start_time": "2021-07-31T19:37:08.088Z"
   },
   {
    "duration": 685,
    "start_time": "2021-07-31T19:37:08.595Z"
   },
   {
    "duration": 520,
    "start_time": "2021-07-31T19:37:09.283Z"
   },
   {
    "duration": 207,
    "start_time": "2021-07-31T19:37:09.806Z"
   },
   {
    "duration": 425,
    "start_time": "2021-07-31T19:37:10.016Z"
   },
   {
    "duration": 15,
    "start_time": "2021-07-31T19:37:10.443Z"
   },
   {
    "duration": 511,
    "start_time": "2021-07-31T19:37:10.461Z"
   },
   {
    "duration": 7,
    "start_time": "2021-07-31T19:37:10.975Z"
   },
   {
    "duration": 503,
    "start_time": "2021-07-31T19:37:10.985Z"
   },
   {
    "duration": 224,
    "start_time": "2021-07-31T19:37:11.492Z"
   },
   {
    "duration": 10,
    "start_time": "2021-07-31T19:37:11.718Z"
   },
   {
    "duration": 46,
    "start_time": "2021-07-31T19:37:11.730Z"
   },
   {
    "duration": 20,
    "start_time": "2021-07-31T19:37:11.779Z"
   },
   {
    "duration": 32,
    "start_time": "2021-07-31T19:37:11.801Z"
   },
   {
    "duration": 25,
    "start_time": "2021-07-31T19:37:11.836Z"
   },
   {
    "duration": 34,
    "start_time": "2021-07-31T19:37:11.864Z"
   },
   {
    "duration": 1377,
    "start_time": "2021-07-31T19:37:11.901Z"
   },
   {
    "duration": 498,
    "start_time": "2021-07-31T19:37:13.280Z"
   },
   {
    "duration": 15,
    "start_time": "2021-07-31T20:23:02.756Z"
   },
   {
    "duration": 403,
    "start_time": "2021-07-31T20:28:13.246Z"
   },
   {
    "duration": 282,
    "start_time": "2021-07-31T20:29:24.210Z"
   },
   {
    "duration": 278,
    "start_time": "2021-07-31T20:29:41.802Z"
   },
   {
    "duration": 16,
    "start_time": "2021-07-31T20:29:52.865Z"
   },
   {
    "duration": 9,
    "start_time": "2021-07-31T20:30:43.563Z"
   },
   {
    "duration": 10,
    "start_time": "2021-07-31T20:31:37.223Z"
   },
   {
    "duration": 12,
    "start_time": "2021-07-31T20:35:24.843Z"
   },
   {
    "duration": 10,
    "start_time": "2021-07-31T20:35:30.377Z"
   },
   {
    "duration": 11,
    "start_time": "2021-07-31T20:35:40.938Z"
   },
   {
    "duration": 10,
    "start_time": "2021-07-31T20:35:54.298Z"
   },
   {
    "duration": 18,
    "start_time": "2021-07-31T20:47:04.144Z"
   },
   {
    "duration": 17,
    "start_time": "2021-07-31T20:47:16.880Z"
   },
   {
    "duration": 11,
    "start_time": "2021-07-31T20:55:27.771Z"
   },
   {
    "duration": 12,
    "start_time": "2021-07-31T20:55:45.395Z"
   },
   {
    "duration": 12,
    "start_time": "2021-07-31T20:57:11.590Z"
   },
   {
    "duration": 22,
    "start_time": "2021-07-31T21:01:08.958Z"
   },
   {
    "duration": 21,
    "start_time": "2021-07-31T21:01:14.446Z"
   },
   {
    "duration": 518,
    "start_time": "2021-07-31T21:04:54.715Z"
   },
   {
    "duration": 490,
    "start_time": "2021-07-31T21:06:29.180Z"
   },
   {
    "duration": 468,
    "start_time": "2021-07-31T21:06:38.373Z"
   },
   {
    "duration": 507,
    "start_time": "2021-07-31T21:06:49.933Z"
   },
   {
    "duration": 15,
    "start_time": "2021-07-31T21:07:42.366Z"
   },
   {
    "duration": 16,
    "start_time": "2021-07-31T21:07:55.949Z"
   },
   {
    "duration": 1511,
    "start_time": "2021-07-31T21:15:27.032Z"
   },
   {
    "duration": 32,
    "start_time": "2021-07-31T21:15:28.546Z"
   },
   {
    "duration": 27,
    "start_time": "2021-07-31T21:15:28.581Z"
   },
   {
    "duration": 14,
    "start_time": "2021-07-31T21:15:28.611Z"
   },
   {
    "duration": 27,
    "start_time": "2021-07-31T21:15:28.627Z"
   },
   {
    "duration": 16,
    "start_time": "2021-07-31T21:15:28.656Z"
   },
   {
    "duration": 63,
    "start_time": "2021-07-31T21:15:28.674Z"
   },
   {
    "duration": 13,
    "start_time": "2021-07-31T21:15:28.741Z"
   },
   {
    "duration": 18,
    "start_time": "2021-07-31T21:15:28.757Z"
   },
   {
    "duration": 9,
    "start_time": "2021-07-31T21:15:28.778Z"
   },
   {
    "duration": 34,
    "start_time": "2021-07-31T21:15:28.790Z"
   },
   {
    "duration": 11,
    "start_time": "2021-07-31T21:15:28.826Z"
   },
   {
    "duration": 27,
    "start_time": "2021-07-31T21:15:28.839Z"
   },
   {
    "duration": 26,
    "start_time": "2021-07-31T21:15:28.869Z"
   },
   {
    "duration": 20,
    "start_time": "2021-07-31T21:15:28.898Z"
   },
   {
    "duration": 20,
    "start_time": "2021-07-31T21:15:28.920Z"
   },
   {
    "duration": 15,
    "start_time": "2021-07-31T21:15:28.943Z"
   },
   {
    "duration": 15,
    "start_time": "2021-07-31T21:15:28.960Z"
   },
   {
    "duration": 6,
    "start_time": "2021-07-31T21:15:28.978Z"
   },
   {
    "duration": 12,
    "start_time": "2021-07-31T21:15:28.986Z"
   },
   {
    "duration": 382,
    "start_time": "2021-07-31T21:15:29.001Z"
   },
   {
    "duration": 450,
    "start_time": "2021-07-31T21:15:29.385Z"
   },
   {
    "duration": 418,
    "start_time": "2021-07-31T21:15:29.839Z"
   },
   {
    "duration": 497,
    "start_time": "2021-07-31T21:15:30.260Z"
   },
   {
    "duration": 784,
    "start_time": "2021-07-31T21:15:30.760Z"
   },
   {
    "duration": 511,
    "start_time": "2021-07-31T21:15:31.546Z"
   },
   {
    "duration": 201,
    "start_time": "2021-07-31T21:15:32.059Z"
   },
   {
    "duration": 387,
    "start_time": "2021-07-31T21:15:32.263Z"
   },
   {
    "duration": 6,
    "start_time": "2021-07-31T21:15:32.653Z"
   },
   {
    "duration": 499,
    "start_time": "2021-07-31T21:15:32.662Z"
   },
   {
    "duration": 5,
    "start_time": "2021-07-31T21:15:33.164Z"
   },
   {
    "duration": 476,
    "start_time": "2021-07-31T21:15:33.172Z"
   },
   {
    "duration": 218,
    "start_time": "2021-07-31T21:15:33.655Z"
   },
   {
    "duration": 11,
    "start_time": "2021-07-31T21:15:33.876Z"
   },
   {
    "duration": 15,
    "start_time": "2021-07-31T21:15:33.890Z"
   },
   {
    "duration": 15,
    "start_time": "2021-07-31T21:15:33.908Z"
   },
   {
    "duration": 12,
    "start_time": "2021-07-31T21:15:33.956Z"
   },
   {
    "duration": 11,
    "start_time": "2021-07-31T21:15:33.970Z"
   },
   {
    "duration": 25,
    "start_time": "2021-07-31T21:15:33.984Z"
   },
   {
    "duration": 926,
    "start_time": "2021-07-31T21:15:34.012Z"
   },
   {
    "duration": 542,
    "start_time": "2021-07-31T21:15:34.941Z"
   },
   {
    "duration": 1500,
    "start_time": "2021-08-01T05:30:12.349Z"
   },
   {
    "duration": 31,
    "start_time": "2021-08-01T05:30:13.851Z"
   },
   {
    "duration": 12,
    "start_time": "2021-08-01T05:30:13.885Z"
   },
   {
    "duration": 9,
    "start_time": "2021-08-01T05:30:13.900Z"
   },
   {
    "duration": 51,
    "start_time": "2021-08-01T05:30:13.911Z"
   },
   {
    "duration": 16,
    "start_time": "2021-08-01T05:30:13.965Z"
   },
   {
    "duration": 49,
    "start_time": "2021-08-01T05:30:13.983Z"
   },
   {
    "duration": 18,
    "start_time": "2021-08-01T05:30:14.035Z"
   },
   {
    "duration": 9,
    "start_time": "2021-08-01T05:30:14.056Z"
   },
   {
    "duration": 10,
    "start_time": "2021-08-01T05:30:14.068Z"
   },
   {
    "duration": 22,
    "start_time": "2021-08-01T05:30:14.080Z"
   },
   {
    "duration": 11,
    "start_time": "2021-08-01T05:30:14.104Z"
   },
   {
    "duration": 46,
    "start_time": "2021-08-01T05:30:14.118Z"
   },
   {
    "duration": 16,
    "start_time": "2021-08-01T05:30:14.167Z"
   },
   {
    "duration": 15,
    "start_time": "2021-08-01T05:30:14.187Z"
   },
   {
    "duration": 9,
    "start_time": "2021-08-01T05:30:14.205Z"
   },
   {
    "duration": 47,
    "start_time": "2021-08-01T05:30:14.217Z"
   },
   {
    "duration": 14,
    "start_time": "2021-08-01T05:30:14.266Z"
   },
   {
    "duration": 5,
    "start_time": "2021-08-01T05:30:14.283Z"
   },
   {
    "duration": 6,
    "start_time": "2021-08-01T05:30:14.290Z"
   },
   {
    "duration": 399,
    "start_time": "2021-08-01T05:30:14.298Z"
   },
   {
    "duration": 446,
    "start_time": "2021-08-01T05:30:14.701Z"
   },
   {
    "duration": 421,
    "start_time": "2021-08-01T05:30:15.162Z"
   },
   {
    "duration": 478,
    "start_time": "2021-08-01T05:30:15.587Z"
   },
   {
    "duration": 681,
    "start_time": "2021-08-01T05:30:16.068Z"
   },
   {
    "duration": 515,
    "start_time": "2021-08-01T05:30:16.752Z"
   },
   {
    "duration": 298,
    "start_time": "2021-08-01T05:30:17.270Z"
   },
   {
    "duration": 382,
    "start_time": "2021-08-01T05:30:17.571Z"
   },
   {
    "duration": 10,
    "start_time": "2021-08-01T05:30:17.956Z"
   },
   {
    "duration": 504,
    "start_time": "2021-08-01T05:30:17.968Z"
   },
   {
    "duration": 5,
    "start_time": "2021-08-01T05:30:18.474Z"
   },
   {
    "duration": 486,
    "start_time": "2021-08-01T05:30:18.481Z"
   },
   {
    "duration": 233,
    "start_time": "2021-08-01T05:30:18.970Z"
   },
   {
    "duration": 10,
    "start_time": "2021-08-01T05:30:19.206Z"
   },
   {
    "duration": 15,
    "start_time": "2021-08-01T05:30:19.218Z"
   },
   {
    "duration": 35,
    "start_time": "2021-08-01T05:30:19.235Z"
   },
   {
    "duration": 18,
    "start_time": "2021-08-01T05:30:19.272Z"
   },
   {
    "duration": 19,
    "start_time": "2021-08-01T05:30:19.293Z"
   },
   {
    "duration": 21,
    "start_time": "2021-08-01T05:30:19.314Z"
   },
   {
    "duration": 915,
    "start_time": "2021-08-01T05:30:19.337Z"
   },
   {
    "duration": 511,
    "start_time": "2021-08-01T05:30:20.254Z"
   },
   {
    "duration": 18,
    "start_time": "2021-08-01T05:33:23.320Z"
   },
   {
    "duration": 428,
    "start_time": "2021-08-01T05:33:30.113Z"
   },
   {
    "duration": 312,
    "start_time": "2021-08-01T05:33:33.753Z"
   },
   {
    "duration": 14,
    "start_time": "2021-08-01T05:33:40.009Z"
   }
  ],
  "kernelspec": {
   "display_name": "Python 3",
   "language": "python",
   "name": "python3"
  },
  "language_info": {
   "codemirror_mode": {
    "name": "ipython",
    "version": 3
   },
   "file_extension": ".py",
   "mimetype": "text/x-python",
   "name": "python",
   "nbconvert_exporter": "python",
   "pygments_lexer": "ipython3",
   "version": "3.8.8"
  },
  "toc": {
   "base_numbering": 1,
   "nav_menu": {},
   "number_sections": true,
   "sideBar": true,
   "skip_h1_title": true,
   "title_cell": "Содержание",
   "title_sidebar": "Contents",
   "toc_cell": true,
   "toc_position": {
    "height": "calc(100% - 180px)",
    "left": "10px",
    "top": "150px",
    "width": "323.903px"
   },
   "toc_section_display": true,
   "toc_window_display": true
  }
 },
 "nbformat": 4,
 "nbformat_minor": 2
}
