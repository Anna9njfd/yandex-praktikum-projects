{
 "cells": [
  {
   "cell_type": "markdown",
   "metadata": {
    "toc": true
   },
   "source": [
    "<h1>Содержание<span class=\"tocSkip\"></span></h1>\n",
    "<div class=\"toc\"><ul class=\"toc-item\"><li><span><a href=\"#Изучение-данных-из-файла\" data-toc-modified-id=\"Изучение-данных-из-файла-1\"><span class=\"toc-item-num\">1&nbsp;&nbsp;</span>Изучение данных из файла</a></span><ul class=\"toc-item\"><li><span><a href=\"#Вывод\" data-toc-modified-id=\"Вывод-1.1\"><span class=\"toc-item-num\">1.1&nbsp;&nbsp;</span>Вывод</a></span></li></ul></li><li><span><a href=\"#Предобработка-данных\" data-toc-modified-id=\"Предобработка-данных-2\"><span class=\"toc-item-num\">2&nbsp;&nbsp;</span>Предобработка данных</a></span><ul class=\"toc-item\"><li><span><a href=\"#Замена-названий-столбцов\" data-toc-modified-id=\"Замена-названий-столбцов-2.1\"><span class=\"toc-item-num\">2.1&nbsp;&nbsp;</span>Замена названий столбцов</a></span></li><li><span><a href=\"#Обработка-пропущенных-значений\" data-toc-modified-id=\"Обработка-пропущенных-значений-2.2\"><span class=\"toc-item-num\">2.2&nbsp;&nbsp;</span>Обработка пропущенных значений</a></span></li><li><span><a href=\"#Изменения-типов-данных\" data-toc-modified-id=\"Изменения-типов-данных-2.3\"><span class=\"toc-item-num\">2.3&nbsp;&nbsp;</span>Изменения типов данных</a></span></li><li><span><a href=\"#Расчёт-суммарных-продаж-во-всех-регионах\" data-toc-modified-id=\"Расчёт-суммарных-продаж-во-всех-регионах-2.4\"><span class=\"toc-item-num\">2.4&nbsp;&nbsp;</span>Расчёт суммарных продаж во всех регионах</a></span></li><li><span><a href=\"#Проверка-на-наличие-дубликатов\" data-toc-modified-id=\"Проверка-на-наличие-дубликатов-2.5\"><span class=\"toc-item-num\">2.5&nbsp;&nbsp;</span>Проверка на наличие дубликатов</a></span></li><li><span><a href=\"#Вывод\" data-toc-modified-id=\"Вывод-2.6\"><span class=\"toc-item-num\">2.6&nbsp;&nbsp;</span>Вывод</a></span></li></ul></li><li><span><a href=\"#Исследовательский-анализ-данных\" data-toc-modified-id=\"Исследовательский-анализ-данных-3\"><span class=\"toc-item-num\">3&nbsp;&nbsp;</span>Исследовательский анализ данных</a></span><ul class=\"toc-item\"><li><span><a href=\"#Сколько-игр-выпускалось-в-разные-годы\" data-toc-modified-id=\"Сколько-игр-выпускалось-в-разные-годы-3.1\"><span class=\"toc-item-num\">3.1&nbsp;&nbsp;</span>Сколько игр выпускалось в разные годы</a></span></li><li><span><a href=\"#Как-менялись-продажи-по-платформам\" data-toc-modified-id=\"Как-менялись-продажи-по-платформам-3.2\"><span class=\"toc-item-num\">3.2&nbsp;&nbsp;</span>Как менялись продажи по платформам</a></span></li><li><span><a href=\"#Анализ-платформ-по-продажам\" data-toc-modified-id=\"Анализ-платформ-по-продажам-3.3\"><span class=\"toc-item-num\">3.3&nbsp;&nbsp;</span>Анализ платформ по продажам</a></span></li><li><span><a href=\"#Глобальные-продажи-игр-в-разбивке-по-платформам\" data-toc-modified-id=\"Глобальные-продажи-игр-в-разбивке-по-платформам-3.4\"><span class=\"toc-item-num\">3.4&nbsp;&nbsp;</span>Глобальные продажи игр в разбивке по платформам</a></span></li><li><span><a href=\"#Влияние-отзывов-пользователей-и-критиков-на-продажи\" data-toc-modified-id=\"Влияние-отзывов-пользователей-и-критиков-на-продажи-3.5\"><span class=\"toc-item-num\">3.5&nbsp;&nbsp;</span>Влияние отзывов пользователей и критиков на продажи</a></span></li><li><span><a href=\"#Общее-распределение-игр-по-жанрам\" data-toc-modified-id=\"Общее-распределение-игр-по-жанрам-3.6\"><span class=\"toc-item-num\">3.6&nbsp;&nbsp;</span>Общее распределение игр по жанрам</a></span></li><li><span><a href=\"#Вывод\" data-toc-modified-id=\"Вывод-3.7\"><span class=\"toc-item-num\">3.7&nbsp;&nbsp;</span>Вывод</a></span></li></ul></li><li><span><a href=\"#Портрет-пользователя-каждого-региона\" data-toc-modified-id=\"Портрет-пользователя-каждого-региона-4\"><span class=\"toc-item-num\">4&nbsp;&nbsp;</span>Портрет пользователя каждого региона</a></span><ul class=\"toc-item\"><li><span><a href=\"#Самые-популярные-платформы-(топ-5)\" data-toc-modified-id=\"Самые-популярные-платформы-(топ-5)-4.1\"><span class=\"toc-item-num\">4.1&nbsp;&nbsp;</span>Самые популярные платформы (топ-5)</a></span></li><li><span><a href=\"#Самые-популярные-жанры-(топ-5)\" data-toc-modified-id=\"Самые-популярные-жанры-(топ-5)-4.2\"><span class=\"toc-item-num\">4.2&nbsp;&nbsp;</span>Самые популярные жанры (топ-5)</a></span></li><li><span><a href=\"#Влияние-рейтинга-ESRB-на-продажи-в-отдельном-регионе\" data-toc-modified-id=\"Влияние-рейтинга-ESRB-на-продажи-в-отдельном-регионе-4.3\"><span class=\"toc-item-num\">4.3&nbsp;&nbsp;</span>Влияние рейтинга ESRB на продажи в отдельном регионе</a></span></li><li><span><a href=\"#Вывод\" data-toc-modified-id=\"Вывод-4.4\"><span class=\"toc-item-num\">4.4&nbsp;&nbsp;</span>Вывод</a></span></li></ul></li><li><span><a href=\"#Проверка-гипотез\" data-toc-modified-id=\"Проверка-гипотез-5\"><span class=\"toc-item-num\">5&nbsp;&nbsp;</span>Проверка гипотез</a></span><ul class=\"toc-item\"><li><span><a href=\"#Средние-пользовательские-рейтинги-платформ-Xbox-One-и-PC-одинаковые\" data-toc-modified-id=\"Средние-пользовательские-рейтинги-платформ-Xbox-One-и-PC-одинаковые-5.1\"><span class=\"toc-item-num\">5.1&nbsp;&nbsp;</span>Средние пользовательские рейтинги платформ Xbox One и PC одинаковые</a></span></li><li><span><a href=\"#Средние-пользовательские-рейтинги-жанров-Action-(англ.-«действие»,-экшен-игры)-и-Sports-(англ.-«спортивные-соревнования»)-разные\" data-toc-modified-id=\"Средние-пользовательские-рейтинги-жанров-Action-(англ.-«действие»,-экшен-игры)-и-Sports-(англ.-«спортивные-соревнования»)-разные-5.2\"><span class=\"toc-item-num\">5.2&nbsp;&nbsp;</span>Средние пользовательские рейтинги жанров Action (англ. «действие», экшен-игры) и Sports (англ. «спортивные соревнования») разные</a></span></li><li><span><a href=\"#Вывод\" data-toc-modified-id=\"Вывод-5.3\"><span class=\"toc-item-num\">5.3&nbsp;&nbsp;</span>Вывод</a></span></li></ul></li><li><span><a href=\"#Общий-вывод\" data-toc-modified-id=\"Общий-вывод-6\"><span class=\"toc-item-num\">6&nbsp;&nbsp;</span>Общий вывод</a></span></li></ul></div>"
   ]
  },
  {
   "cell_type": "markdown",
   "metadata": {},
   "source": [
    "# Определение закономерностей успешной компьютерной игры\n",
    "\n",
    "Итернет-магазине «Стримчик» продаёт по всему миру компьютерные игры. Из открытых источников нам доступны исторические данные о продажах игр, оценки пользователей и экспертов, жанры и платформы (например, Xbox или PlayStation).\n",
    "\n",
    "Необходимо выявить определяющие успешность игры закономерности. Это позволит сделать ставку на потенциально популярный продукт и спланировать рекламные кампании.\n",
    "\n",
    "У нас в распоряжении данные до 2016 года. Представим, что сейчас декабрь 2016 г., и мы планируем кампанию на 2017-й. \n",
    "\n",
    "\n",
    "В наборе данных попадается аббревиатура ESRB (Entertainment Software Rating Board) — это ассоциация, определяющая возрастной рейтинг компьютерных игр. ESRB оценивает игровой контент и присваивает ему подходящую возрастную категорию, например, «Для взрослых», «Для детей младшего возраста» или «Для подростков»."
   ]
  },
  {
   "cell_type": "markdown",
   "metadata": {},
   "source": [
    "## Изучение данных из файла"
   ]
  },
  {
   "cell_type": "markdown",
   "metadata": {},
   "source": [
    "Импортируем библиотеки pandas, matplotlib, numpy."
   ]
  },
  {
   "cell_type": "code",
   "execution_count": 1,
   "metadata": {},
   "outputs": [],
   "source": [
    "import pandas as pd\n",
    "import matplotlib.pyplot as plt\n",
    "import numpy as np"
   ]
  },
  {
   "cell_type": "markdown",
   "metadata": {},
   "source": [
    "Прочитаем файл и сохраним его в переменной *data*."
   ]
  },
  {
   "cell_type": "code",
   "execution_count": 2,
   "metadata": {},
   "outputs": [],
   "source": [
    "data = pd.read_csv('/datasets/games.csv')"
   ]
  },
  {
   "cell_type": "markdown",
   "metadata": {},
   "source": [
    "В нашем датафрейме есть столбцы, которые содержат следующую информацию:\n",
    "* Name — название игры\n",
    "* Platform — платформа\n",
    "* Year_of_Release — год выпуска\n",
    "* Genre — жанр игры\n",
    "* NA_sales — продажи в Северной Америке (миллионы проданных копий)\n",
    "* EU_sales — продажи в Европе (миллионы проданных копий)\n",
    "* JP_sales — продажи в Японии (миллионы проданных копий)\n",
    "* Other_sales — продажи в других странах (миллионы проданных копий)\n",
    "* Critic_Score — оценка критиков (максимум 100)\n",
    "* User_Score — оценка пользователей (максимум 10)\n",
    "* Rating — рейтинг от организации ESRB (англ. Entertainment Software Rating Board). Эта ассоциация определяет рейтинг компьютерных игр и присваивает им подходящую возрастную категорию."
   ]
  },
  {
   "cell_type": "code",
   "execution_count": 3,
   "metadata": {},
   "outputs": [
    {
     "data": {
      "text/html": [
       "<div>\n",
       "<style scoped>\n",
       "    .dataframe tbody tr th:only-of-type {\n",
       "        vertical-align: middle;\n",
       "    }\n",
       "\n",
       "    .dataframe tbody tr th {\n",
       "        vertical-align: top;\n",
       "    }\n",
       "\n",
       "    .dataframe thead th {\n",
       "        text-align: right;\n",
       "    }\n",
       "</style>\n",
       "<table border=\"1\" class=\"dataframe\">\n",
       "  <thead>\n",
       "    <tr style=\"text-align: right;\">\n",
       "      <th></th>\n",
       "      <th>Name</th>\n",
       "      <th>Platform</th>\n",
       "      <th>Year_of_Release</th>\n",
       "      <th>Genre</th>\n",
       "      <th>NA_sales</th>\n",
       "      <th>EU_sales</th>\n",
       "      <th>JP_sales</th>\n",
       "      <th>Other_sales</th>\n",
       "      <th>Critic_Score</th>\n",
       "      <th>User_Score</th>\n",
       "      <th>Rating</th>\n",
       "    </tr>\n",
       "  </thead>\n",
       "  <tbody>\n",
       "    <tr>\n",
       "      <td>0</td>\n",
       "      <td>Wii Sports</td>\n",
       "      <td>Wii</td>\n",
       "      <td>2006.0</td>\n",
       "      <td>Sports</td>\n",
       "      <td>41.36</td>\n",
       "      <td>28.96</td>\n",
       "      <td>3.77</td>\n",
       "      <td>8.45</td>\n",
       "      <td>76.0</td>\n",
       "      <td>8</td>\n",
       "      <td>E</td>\n",
       "    </tr>\n",
       "    <tr>\n",
       "      <td>1</td>\n",
       "      <td>Super Mario Bros.</td>\n",
       "      <td>NES</td>\n",
       "      <td>1985.0</td>\n",
       "      <td>Platform</td>\n",
       "      <td>29.08</td>\n",
       "      <td>3.58</td>\n",
       "      <td>6.81</td>\n",
       "      <td>0.77</td>\n",
       "      <td>NaN</td>\n",
       "      <td>NaN</td>\n",
       "      <td>NaN</td>\n",
       "    </tr>\n",
       "    <tr>\n",
       "      <td>2</td>\n",
       "      <td>Mario Kart Wii</td>\n",
       "      <td>Wii</td>\n",
       "      <td>2008.0</td>\n",
       "      <td>Racing</td>\n",
       "      <td>15.68</td>\n",
       "      <td>12.76</td>\n",
       "      <td>3.79</td>\n",
       "      <td>3.29</td>\n",
       "      <td>82.0</td>\n",
       "      <td>8.3</td>\n",
       "      <td>E</td>\n",
       "    </tr>\n",
       "    <tr>\n",
       "      <td>3</td>\n",
       "      <td>Wii Sports Resort</td>\n",
       "      <td>Wii</td>\n",
       "      <td>2009.0</td>\n",
       "      <td>Sports</td>\n",
       "      <td>15.61</td>\n",
       "      <td>10.93</td>\n",
       "      <td>3.28</td>\n",
       "      <td>2.95</td>\n",
       "      <td>80.0</td>\n",
       "      <td>8</td>\n",
       "      <td>E</td>\n",
       "    </tr>\n",
       "    <tr>\n",
       "      <td>4</td>\n",
       "      <td>Pokemon Red/Pokemon Blue</td>\n",
       "      <td>GB</td>\n",
       "      <td>1996.0</td>\n",
       "      <td>Role-Playing</td>\n",
       "      <td>11.27</td>\n",
       "      <td>8.89</td>\n",
       "      <td>10.22</td>\n",
       "      <td>1.00</td>\n",
       "      <td>NaN</td>\n",
       "      <td>NaN</td>\n",
       "      <td>NaN</td>\n",
       "    </tr>\n",
       "  </tbody>\n",
       "</table>\n",
       "</div>"
      ],
      "text/plain": [
       "                       Name Platform  Year_of_Release         Genre  NA_sales  \\\n",
       "0                Wii Sports      Wii           2006.0        Sports     41.36   \n",
       "1         Super Mario Bros.      NES           1985.0      Platform     29.08   \n",
       "2            Mario Kart Wii      Wii           2008.0        Racing     15.68   \n",
       "3         Wii Sports Resort      Wii           2009.0        Sports     15.61   \n",
       "4  Pokemon Red/Pokemon Blue       GB           1996.0  Role-Playing     11.27   \n",
       "\n",
       "   EU_sales  JP_sales  Other_sales  Critic_Score User_Score Rating  \n",
       "0     28.96      3.77         8.45          76.0          8      E  \n",
       "1      3.58      6.81         0.77           NaN        NaN    NaN  \n",
       "2     12.76      3.79         3.29          82.0        8.3      E  \n",
       "3     10.93      3.28         2.95          80.0          8      E  \n",
       "4      8.89     10.22         1.00           NaN        NaN    NaN  "
      ]
     },
     "execution_count": 3,
     "metadata": {},
     "output_type": "execute_result"
    }
   ],
   "source": [
    "data.head()"
   ]
  },
  {
   "cell_type": "markdown",
   "metadata": {},
   "source": [
    "Названия столбцов записаны в разных регистрах, необходимо будет привести названия столбцов к нижнему регистру, чтобы было удобно впоследствии работать с данными.\n",
    "\n",
    " Посмотрим общую информацию о датафрейме через метод *info()*."
   ]
  },
  {
   "cell_type": "code",
   "execution_count": 4,
   "metadata": {},
   "outputs": [
    {
     "name": "stdout",
     "output_type": "stream",
     "text": [
      "<class 'pandas.core.frame.DataFrame'>\n",
      "RangeIndex: 16715 entries, 0 to 16714\n",
      "Data columns (total 11 columns):\n",
      "Name               16713 non-null object\n",
      "Platform           16715 non-null object\n",
      "Year_of_Release    16446 non-null float64\n",
      "Genre              16713 non-null object\n",
      "NA_sales           16715 non-null float64\n",
      "EU_sales           16715 non-null float64\n",
      "JP_sales           16715 non-null float64\n",
      "Other_sales        16715 non-null float64\n",
      "Critic_Score       8137 non-null float64\n",
      "User_Score         10014 non-null object\n",
      "Rating             9949 non-null object\n",
      "dtypes: float64(6), object(5)\n",
      "memory usage: 1.4+ MB\n"
     ]
    }
   ],
   "source": [
    "data.info()"
   ]
  },
  {
   "cell_type": "markdown",
   "metadata": {},
   "source": [
    "Рассмотрим полученную информацию.\n",
    "\n",
    "Всего в таблице 11 столбцов. Типа данных всего два, встречается float64 и object.\n",
    "Значения в столбце  *Year_of_Release* формата object, необходимо будет поменять тип данных  на int. Также для столбца *User_Score*  тип данных object стоит поменять на числовой.\n",
    "\n",
    "\n",
    "В нашем датафрейме 16715 строк, в 6-ти столбцах кол-во non-null строк меньше данного значения. На этапе предобработки данных будет необходимо рассмотреть каждый столбец и при необходимости заполнить пропуски."
   ]
  },
  {
   "cell_type": "markdown",
   "metadata": {},
   "source": [
    "Посмотрим на числовое описание данных, используя метод *describe*."
   ]
  },
  {
   "cell_type": "code",
   "execution_count": 5,
   "metadata": {},
   "outputs": [
    {
     "data": {
      "text/html": [
       "<div>\n",
       "<style scoped>\n",
       "    .dataframe tbody tr th:only-of-type {\n",
       "        vertical-align: middle;\n",
       "    }\n",
       "\n",
       "    .dataframe tbody tr th {\n",
       "        vertical-align: top;\n",
       "    }\n",
       "\n",
       "    .dataframe thead th {\n",
       "        text-align: right;\n",
       "    }\n",
       "</style>\n",
       "<table border=\"1\" class=\"dataframe\">\n",
       "  <thead>\n",
       "    <tr style=\"text-align: right;\">\n",
       "      <th></th>\n",
       "      <th>Year_of_Release</th>\n",
       "      <th>NA_sales</th>\n",
       "      <th>EU_sales</th>\n",
       "      <th>JP_sales</th>\n",
       "      <th>Other_sales</th>\n",
       "      <th>Critic_Score</th>\n",
       "    </tr>\n",
       "  </thead>\n",
       "  <tbody>\n",
       "    <tr>\n",
       "      <td>count</td>\n",
       "      <td>16446.000000</td>\n",
       "      <td>16715.000000</td>\n",
       "      <td>16715.000000</td>\n",
       "      <td>16715.000000</td>\n",
       "      <td>16715.000000</td>\n",
       "      <td>8137.000000</td>\n",
       "    </tr>\n",
       "    <tr>\n",
       "      <td>mean</td>\n",
       "      <td>2006.484616</td>\n",
       "      <td>0.263377</td>\n",
       "      <td>0.145060</td>\n",
       "      <td>0.077617</td>\n",
       "      <td>0.047342</td>\n",
       "      <td>68.967679</td>\n",
       "    </tr>\n",
       "    <tr>\n",
       "      <td>std</td>\n",
       "      <td>5.877050</td>\n",
       "      <td>0.813604</td>\n",
       "      <td>0.503339</td>\n",
       "      <td>0.308853</td>\n",
       "      <td>0.186731</td>\n",
       "      <td>13.938165</td>\n",
       "    </tr>\n",
       "    <tr>\n",
       "      <td>min</td>\n",
       "      <td>1980.000000</td>\n",
       "      <td>0.000000</td>\n",
       "      <td>0.000000</td>\n",
       "      <td>0.000000</td>\n",
       "      <td>0.000000</td>\n",
       "      <td>13.000000</td>\n",
       "    </tr>\n",
       "    <tr>\n",
       "      <td>25%</td>\n",
       "      <td>2003.000000</td>\n",
       "      <td>0.000000</td>\n",
       "      <td>0.000000</td>\n",
       "      <td>0.000000</td>\n",
       "      <td>0.000000</td>\n",
       "      <td>60.000000</td>\n",
       "    </tr>\n",
       "    <tr>\n",
       "      <td>50%</td>\n",
       "      <td>2007.000000</td>\n",
       "      <td>0.080000</td>\n",
       "      <td>0.020000</td>\n",
       "      <td>0.000000</td>\n",
       "      <td>0.010000</td>\n",
       "      <td>71.000000</td>\n",
       "    </tr>\n",
       "    <tr>\n",
       "      <td>75%</td>\n",
       "      <td>2010.000000</td>\n",
       "      <td>0.240000</td>\n",
       "      <td>0.110000</td>\n",
       "      <td>0.040000</td>\n",
       "      <td>0.030000</td>\n",
       "      <td>79.000000</td>\n",
       "    </tr>\n",
       "    <tr>\n",
       "      <td>max</td>\n",
       "      <td>2016.000000</td>\n",
       "      <td>41.360000</td>\n",
       "      <td>28.960000</td>\n",
       "      <td>10.220000</td>\n",
       "      <td>10.570000</td>\n",
       "      <td>98.000000</td>\n",
       "    </tr>\n",
       "  </tbody>\n",
       "</table>\n",
       "</div>"
      ],
      "text/plain": [
       "       Year_of_Release      NA_sales      EU_sales      JP_sales  \\\n",
       "count     16446.000000  16715.000000  16715.000000  16715.000000   \n",
       "mean       2006.484616      0.263377      0.145060      0.077617   \n",
       "std           5.877050      0.813604      0.503339      0.308853   \n",
       "min        1980.000000      0.000000      0.000000      0.000000   \n",
       "25%        2003.000000      0.000000      0.000000      0.000000   \n",
       "50%        2007.000000      0.080000      0.020000      0.000000   \n",
       "75%        2010.000000      0.240000      0.110000      0.040000   \n",
       "max        2016.000000     41.360000     28.960000     10.220000   \n",
       "\n",
       "        Other_sales  Critic_Score  \n",
       "count  16715.000000   8137.000000  \n",
       "mean       0.047342     68.967679  \n",
       "std        0.186731     13.938165  \n",
       "min        0.000000     13.000000  \n",
       "25%        0.000000     60.000000  \n",
       "50%        0.010000     71.000000  \n",
       "75%        0.030000     79.000000  \n",
       "max       10.570000     98.000000  "
      ]
     },
     "execution_count": 5,
     "metadata": {},
     "output_type": "execute_result"
    }
   ],
   "source": [
    "data.describe()"
   ]
  },
  {
   "cell_type": "markdown",
   "metadata": {},
   "source": [
    "Исходя из описательной статистики, подозрительных данных, которые бы сразу бросались в глаза у нас нет. Мы видим, что данные представлены за период 1980-2016гг, продажи по регионам составляют от 0 до 41.36 млн копий, а оценка критиков от 13 до 98 (при условии, что 100 баллов - это максимум)."
   ]
  },
  {
   "cell_type": "markdown",
   "metadata": {},
   "source": [
    "### Вывод"
   ]
  },
  {
   "cell_type": "markdown",
   "metadata": {},
   "source": [
    "Каждая строка таблицы содержит информацию об определённой компьютерной игре и её продажах по регионам.\n",
    "Для дальнейшей работы с датафреймом необходимо обработать данные. При изучении общей информации обнаружили пропущенные значения, они встречаются в 6-ти столбцах. Столбцы с пропущенными значениями необходимо изучить и предложить логичную замену или оставить их пустыми. Также необходимо поменять тип данных  для столбцов *Year_of_Release* и *User_score* и привести названия столбцов к одному регистру. Также после предобработки данных в столбцах  необходимо проверить датафрейм на наличие дубликатов."
   ]
  },
  {
   "cell_type": "markdown",
   "metadata": {},
   "source": [
    "## Предобработка данных"
   ]
  },
  {
   "cell_type": "markdown",
   "metadata": {},
   "source": [
    "### Замена названий столбцов"
   ]
  },
  {
   "cell_type": "markdown",
   "metadata": {},
   "source": [
    "Приведём название столбцов датафрейма к нижнему регистру."
   ]
  },
  {
   "cell_type": "code",
   "execution_count": 6,
   "metadata": {},
   "outputs": [
    {
     "data": {
      "text/html": [
       "<div>\n",
       "<style scoped>\n",
       "    .dataframe tbody tr th:only-of-type {\n",
       "        vertical-align: middle;\n",
       "    }\n",
       "\n",
       "    .dataframe tbody tr th {\n",
       "        vertical-align: top;\n",
       "    }\n",
       "\n",
       "    .dataframe thead th {\n",
       "        text-align: right;\n",
       "    }\n",
       "</style>\n",
       "<table border=\"1\" class=\"dataframe\">\n",
       "  <thead>\n",
       "    <tr style=\"text-align: right;\">\n",
       "      <th></th>\n",
       "      <th>name</th>\n",
       "      <th>platform</th>\n",
       "      <th>year_of_release</th>\n",
       "      <th>genre</th>\n",
       "      <th>na_sales</th>\n",
       "      <th>eu_sales</th>\n",
       "      <th>jp_sales</th>\n",
       "      <th>other_sales</th>\n",
       "      <th>critic_score</th>\n",
       "      <th>user_score</th>\n",
       "      <th>rating</th>\n",
       "    </tr>\n",
       "  </thead>\n",
       "  <tbody>\n",
       "    <tr>\n",
       "      <td>0</td>\n",
       "      <td>Wii Sports</td>\n",
       "      <td>Wii</td>\n",
       "      <td>2006.0</td>\n",
       "      <td>Sports</td>\n",
       "      <td>41.36</td>\n",
       "      <td>28.96</td>\n",
       "      <td>3.77</td>\n",
       "      <td>8.45</td>\n",
       "      <td>76.0</td>\n",
       "      <td>8</td>\n",
       "      <td>E</td>\n",
       "    </tr>\n",
       "    <tr>\n",
       "      <td>1</td>\n",
       "      <td>Super Mario Bros.</td>\n",
       "      <td>NES</td>\n",
       "      <td>1985.0</td>\n",
       "      <td>Platform</td>\n",
       "      <td>29.08</td>\n",
       "      <td>3.58</td>\n",
       "      <td>6.81</td>\n",
       "      <td>0.77</td>\n",
       "      <td>NaN</td>\n",
       "      <td>NaN</td>\n",
       "      <td>NaN</td>\n",
       "    </tr>\n",
       "    <tr>\n",
       "      <td>2</td>\n",
       "      <td>Mario Kart Wii</td>\n",
       "      <td>Wii</td>\n",
       "      <td>2008.0</td>\n",
       "      <td>Racing</td>\n",
       "      <td>15.68</td>\n",
       "      <td>12.76</td>\n",
       "      <td>3.79</td>\n",
       "      <td>3.29</td>\n",
       "      <td>82.0</td>\n",
       "      <td>8.3</td>\n",
       "      <td>E</td>\n",
       "    </tr>\n",
       "    <tr>\n",
       "      <td>3</td>\n",
       "      <td>Wii Sports Resort</td>\n",
       "      <td>Wii</td>\n",
       "      <td>2009.0</td>\n",
       "      <td>Sports</td>\n",
       "      <td>15.61</td>\n",
       "      <td>10.93</td>\n",
       "      <td>3.28</td>\n",
       "      <td>2.95</td>\n",
       "      <td>80.0</td>\n",
       "      <td>8</td>\n",
       "      <td>E</td>\n",
       "    </tr>\n",
       "    <tr>\n",
       "      <td>4</td>\n",
       "      <td>Pokemon Red/Pokemon Blue</td>\n",
       "      <td>GB</td>\n",
       "      <td>1996.0</td>\n",
       "      <td>Role-Playing</td>\n",
       "      <td>11.27</td>\n",
       "      <td>8.89</td>\n",
       "      <td>10.22</td>\n",
       "      <td>1.00</td>\n",
       "      <td>NaN</td>\n",
       "      <td>NaN</td>\n",
       "      <td>NaN</td>\n",
       "    </tr>\n",
       "  </tbody>\n",
       "</table>\n",
       "</div>"
      ],
      "text/plain": [
       "                       name platform  year_of_release         genre  na_sales  \\\n",
       "0                Wii Sports      Wii           2006.0        Sports     41.36   \n",
       "1         Super Mario Bros.      NES           1985.0      Platform     29.08   \n",
       "2            Mario Kart Wii      Wii           2008.0        Racing     15.68   \n",
       "3         Wii Sports Resort      Wii           2009.0        Sports     15.61   \n",
       "4  Pokemon Red/Pokemon Blue       GB           1996.0  Role-Playing     11.27   \n",
       "\n",
       "   eu_sales  jp_sales  other_sales  critic_score user_score rating  \n",
       "0     28.96      3.77         8.45          76.0          8      E  \n",
       "1      3.58      6.81         0.77           NaN        NaN    NaN  \n",
       "2     12.76      3.79         3.29          82.0        8.3      E  \n",
       "3     10.93      3.28         2.95          80.0          8      E  \n",
       "4      8.89     10.22         1.00           NaN        NaN    NaN  "
      ]
     },
     "execution_count": 6,
     "metadata": {},
     "output_type": "execute_result"
    }
   ],
   "source": [
    "data.columns = ['name', 'platform', 'year_of_release', 'genre', 'na_sales', 'eu_sales', 'jp_sales', 'other_sales', 'critic_score', 'user_score', 'rating']\n",
    "data.head()"
   ]
  },
  {
   "cell_type": "markdown",
   "metadata": {},
   "source": [
    "### Обработка пропущенных значений"
   ]
  },
  {
   "cell_type": "markdown",
   "metadata": {},
   "source": [
    "Посмотрим еще раз на пропущенные значения датафрейма, используя метод  суммирования пропущенных значений *isnull().sum()*."
   ]
  },
  {
   "cell_type": "code",
   "execution_count": 7,
   "metadata": {},
   "outputs": [
    {
     "data": {
      "text/plain": [
       "name                  2\n",
       "platform              0\n",
       "year_of_release     269\n",
       "genre                 2\n",
       "na_sales              0\n",
       "eu_sales              0\n",
       "jp_sales              0\n",
       "other_sales           0\n",
       "critic_score       8578\n",
       "user_score         6701\n",
       "rating             6766\n",
       "dtype: int64"
      ]
     },
     "execution_count": 7,
     "metadata": {},
     "output_type": "execute_result"
    }
   ],
   "source": [
    "data.isnull().sum()"
   ]
  },
  {
   "cell_type": "markdown",
   "metadata": {},
   "source": [
    "Посмотрим на строки, где пропущены значения в столбце *name*."
   ]
  },
  {
   "cell_type": "code",
   "execution_count": 8,
   "metadata": {},
   "outputs": [
    {
     "data": {
      "text/html": [
       "<div>\n",
       "<style scoped>\n",
       "    .dataframe tbody tr th:only-of-type {\n",
       "        vertical-align: middle;\n",
       "    }\n",
       "\n",
       "    .dataframe tbody tr th {\n",
       "        vertical-align: top;\n",
       "    }\n",
       "\n",
       "    .dataframe thead th {\n",
       "        text-align: right;\n",
       "    }\n",
       "</style>\n",
       "<table border=\"1\" class=\"dataframe\">\n",
       "  <thead>\n",
       "    <tr style=\"text-align: right;\">\n",
       "      <th></th>\n",
       "      <th>name</th>\n",
       "      <th>platform</th>\n",
       "      <th>year_of_release</th>\n",
       "      <th>genre</th>\n",
       "      <th>na_sales</th>\n",
       "      <th>eu_sales</th>\n",
       "      <th>jp_sales</th>\n",
       "      <th>other_sales</th>\n",
       "      <th>critic_score</th>\n",
       "      <th>user_score</th>\n",
       "      <th>rating</th>\n",
       "    </tr>\n",
       "  </thead>\n",
       "  <tbody>\n",
       "    <tr>\n",
       "      <td>659</td>\n",
       "      <td>NaN</td>\n",
       "      <td>GEN</td>\n",
       "      <td>1993.0</td>\n",
       "      <td>NaN</td>\n",
       "      <td>1.78</td>\n",
       "      <td>0.53</td>\n",
       "      <td>0.00</td>\n",
       "      <td>0.08</td>\n",
       "      <td>NaN</td>\n",
       "      <td>NaN</td>\n",
       "      <td>NaN</td>\n",
       "    </tr>\n",
       "    <tr>\n",
       "      <td>14244</td>\n",
       "      <td>NaN</td>\n",
       "      <td>GEN</td>\n",
       "      <td>1993.0</td>\n",
       "      <td>NaN</td>\n",
       "      <td>0.00</td>\n",
       "      <td>0.00</td>\n",
       "      <td>0.03</td>\n",
       "      <td>0.00</td>\n",
       "      <td>NaN</td>\n",
       "      <td>NaN</td>\n",
       "      <td>NaN</td>\n",
       "    </tr>\n",
       "  </tbody>\n",
       "</table>\n",
       "</div>"
      ],
      "text/plain": [
       "      name platform  year_of_release genre  na_sales  eu_sales  jp_sales  \\\n",
       "659    NaN      GEN           1993.0   NaN      1.78      0.53      0.00   \n",
       "14244  NaN      GEN           1993.0   NaN      0.00      0.00      0.03   \n",
       "\n",
       "       other_sales  critic_score user_score rating  \n",
       "659           0.08           NaN        NaN    NaN  \n",
       "14244         0.00           NaN        NaN    NaN  "
      ]
     },
     "execution_count": 8,
     "metadata": {},
     "output_type": "execute_result"
    }
   ],
   "source": [
    "data[data['name'].isnull()]"
   ]
  },
  {
   "cell_type": "markdown",
   "metadata": {},
   "source": [
    "Получается, строки, где пропущены значения в столбцах *name* и *genre* совпадают.\n",
    "Так как таких строк всего 2 и они составляют всего 0.01% удалим их из датафрейма."
   ]
  },
  {
   "cell_type": "code",
   "execution_count": 9,
   "metadata": {},
   "outputs": [],
   "source": [
    "data = data[data['name'].notnull()]"
   ]
  },
  {
   "cell_type": "markdown",
   "metadata": {},
   "source": [
    "Изучим значения  в столбце *user_score*."
   ]
  },
  {
   "cell_type": "code",
   "execution_count": 10,
   "metadata": {},
   "outputs": [
    {
     "data": {
      "text/plain": [
       "tbd    2424\n",
       "7.8     324\n",
       "8       290\n",
       "8.2     282\n",
       "8.3     254\n",
       "       ... \n",
       "9.6       2\n",
       "0.7       2\n",
       "0.9       2\n",
       "9.7       1\n",
       "0         1\n",
       "Name: user_score, Length: 96, dtype: int64"
      ]
     },
     "execution_count": 10,
     "metadata": {},
     "output_type": "execute_result"
    }
   ],
   "source": [
    "data['user_score'].value_counts()"
   ]
  },
  {
   "cell_type": "markdown",
   "metadata": {},
   "source": [
    "Больше всего у нас значений \"tbd\"(англ. to be done -  подлежит уточнению). По сути это равносильно пропущенному значению. Спрогнозировать величину оценки пользователей крайне сложно, поэтому заменим \"tbd\" на пропуск."
   ]
  },
  {
   "cell_type": "code",
   "execution_count": 11,
   "metadata": {},
   "outputs": [],
   "source": [
    "data['user_score'] = data['user_score'].replace('tbd', np.nan)"
   ]
  },
  {
   "cell_type": "markdown",
   "metadata": {},
   "source": [
    "В столбце с информацией о рейтинге копьютерной игры от организации ESRB заменим пропущенные значения на *unknown*."
   ]
  },
  {
   "cell_type": "code",
   "execution_count": 12,
   "metadata": {},
   "outputs": [],
   "source": [
    "data['rating'] = data['rating'].fillna('unknown')"
   ]
  },
  {
   "cell_type": "code",
   "execution_count": 13,
   "metadata": {},
   "outputs": [
    {
     "data": {
      "text/plain": [
       "name                  0\n",
       "platform              0\n",
       "year_of_release     269\n",
       "genre                 0\n",
       "na_sales              0\n",
       "eu_sales              0\n",
       "jp_sales              0\n",
       "other_sales           0\n",
       "critic_score       8576\n",
       "user_score         9123\n",
       "rating                0\n",
       "dtype: int64"
      ]
     },
     "execution_count": 13,
     "metadata": {},
     "output_type": "execute_result"
    }
   ],
   "source": [
    "data.isnull().sum()"
   ]
  },
  {
   "cell_type": "markdown",
   "metadata": {},
   "source": [
    "В столбце год выпуска игры у нас пропущено 269 значений. \n",
    "Также в столбцах  с  оценкой критиков и пользователей у нас пропущено большое количество значений. Возможно это связано с тем, что система оценки игр была введена относительно недавно, а в нашей выборке игры с 1980 года. Соответственно оценки для игр, вышедших раньше впринципе не собирались и рейтинг им также не присваивался. \n",
    "\n",
    "Если мы заменим пропуски на средние показатели по выборке, впоследствии при анализе данных можем получить недостоверные результаты, поэтому оставим данные значения пропущенными."
   ]
  },
  {
   "cell_type": "markdown",
   "metadata": {},
   "source": [
    "### Изменения типов данных"
   ]
  },
  {
   "cell_type": "markdown",
   "metadata": {},
   "source": [
    "Преобразуем значения в столбце  *year_of_release* из типа данных object в  целочисленный тип данных *integer*. "
   ]
  },
  {
   "cell_type": "code",
   "execution_count": 14,
   "metadata": {},
   "outputs": [],
   "source": [
    "data['year_of_release'] = data['year_of_release'].astype('Int64')"
   ]
  },
  {
   "cell_type": "markdown",
   "metadata": {},
   "source": [
    "Также поменяем тип данных в столбе *user_score* на числовой."
   ]
  },
  {
   "cell_type": "code",
   "execution_count": 15,
   "metadata": {},
   "outputs": [],
   "source": [
    "data['user_score'] = pd.to_numeric(data['user_score'])"
   ]
  },
  {
   "cell_type": "markdown",
   "metadata": {},
   "source": [
    "### Расчёт суммарных продаж во всех регионах"
   ]
  },
  {
   "cell_type": "markdown",
   "metadata": {},
   "source": [
    "Посчитаем суммарные продажи во всех регионах и запишем их в отдельный столбец *total_sales*."
   ]
  },
  {
   "cell_type": "code",
   "execution_count": 16,
   "metadata": {},
   "outputs": [
    {
     "data": {
      "text/html": [
       "<div>\n",
       "<style scoped>\n",
       "    .dataframe tbody tr th:only-of-type {\n",
       "        vertical-align: middle;\n",
       "    }\n",
       "\n",
       "    .dataframe tbody tr th {\n",
       "        vertical-align: top;\n",
       "    }\n",
       "\n",
       "    .dataframe thead th {\n",
       "        text-align: right;\n",
       "    }\n",
       "</style>\n",
       "<table border=\"1\" class=\"dataframe\">\n",
       "  <thead>\n",
       "    <tr style=\"text-align: right;\">\n",
       "      <th></th>\n",
       "      <th>name</th>\n",
       "      <th>platform</th>\n",
       "      <th>year_of_release</th>\n",
       "      <th>genre</th>\n",
       "      <th>na_sales</th>\n",
       "      <th>eu_sales</th>\n",
       "      <th>jp_sales</th>\n",
       "      <th>other_sales</th>\n",
       "      <th>critic_score</th>\n",
       "      <th>user_score</th>\n",
       "      <th>rating</th>\n",
       "      <th>total_sales</th>\n",
       "    </tr>\n",
       "  </thead>\n",
       "  <tbody>\n",
       "    <tr>\n",
       "      <td>0</td>\n",
       "      <td>Wii Sports</td>\n",
       "      <td>Wii</td>\n",
       "      <td>2006</td>\n",
       "      <td>Sports</td>\n",
       "      <td>41.36</td>\n",
       "      <td>28.96</td>\n",
       "      <td>3.77</td>\n",
       "      <td>8.45</td>\n",
       "      <td>76.0</td>\n",
       "      <td>8.0</td>\n",
       "      <td>E</td>\n",
       "      <td>82.54</td>\n",
       "    </tr>\n",
       "    <tr>\n",
       "      <td>1</td>\n",
       "      <td>Super Mario Bros.</td>\n",
       "      <td>NES</td>\n",
       "      <td>1985</td>\n",
       "      <td>Platform</td>\n",
       "      <td>29.08</td>\n",
       "      <td>3.58</td>\n",
       "      <td>6.81</td>\n",
       "      <td>0.77</td>\n",
       "      <td>NaN</td>\n",
       "      <td>NaN</td>\n",
       "      <td>unknown</td>\n",
       "      <td>40.24</td>\n",
       "    </tr>\n",
       "    <tr>\n",
       "      <td>2</td>\n",
       "      <td>Mario Kart Wii</td>\n",
       "      <td>Wii</td>\n",
       "      <td>2008</td>\n",
       "      <td>Racing</td>\n",
       "      <td>15.68</td>\n",
       "      <td>12.76</td>\n",
       "      <td>3.79</td>\n",
       "      <td>3.29</td>\n",
       "      <td>82.0</td>\n",
       "      <td>8.3</td>\n",
       "      <td>E</td>\n",
       "      <td>35.52</td>\n",
       "    </tr>\n",
       "    <tr>\n",
       "      <td>3</td>\n",
       "      <td>Wii Sports Resort</td>\n",
       "      <td>Wii</td>\n",
       "      <td>2009</td>\n",
       "      <td>Sports</td>\n",
       "      <td>15.61</td>\n",
       "      <td>10.93</td>\n",
       "      <td>3.28</td>\n",
       "      <td>2.95</td>\n",
       "      <td>80.0</td>\n",
       "      <td>8.0</td>\n",
       "      <td>E</td>\n",
       "      <td>32.77</td>\n",
       "    </tr>\n",
       "    <tr>\n",
       "      <td>4</td>\n",
       "      <td>Pokemon Red/Pokemon Blue</td>\n",
       "      <td>GB</td>\n",
       "      <td>1996</td>\n",
       "      <td>Role-Playing</td>\n",
       "      <td>11.27</td>\n",
       "      <td>8.89</td>\n",
       "      <td>10.22</td>\n",
       "      <td>1.00</td>\n",
       "      <td>NaN</td>\n",
       "      <td>NaN</td>\n",
       "      <td>unknown</td>\n",
       "      <td>31.38</td>\n",
       "    </tr>\n",
       "  </tbody>\n",
       "</table>\n",
       "</div>"
      ],
      "text/plain": [
       "                       name platform  year_of_release         genre  na_sales  \\\n",
       "0                Wii Sports      Wii             2006        Sports     41.36   \n",
       "1         Super Mario Bros.      NES             1985      Platform     29.08   \n",
       "2            Mario Kart Wii      Wii             2008        Racing     15.68   \n",
       "3         Wii Sports Resort      Wii             2009        Sports     15.61   \n",
       "4  Pokemon Red/Pokemon Blue       GB             1996  Role-Playing     11.27   \n",
       "\n",
       "   eu_sales  jp_sales  other_sales  critic_score  user_score   rating  \\\n",
       "0     28.96      3.77         8.45          76.0         8.0        E   \n",
       "1      3.58      6.81         0.77           NaN         NaN  unknown   \n",
       "2     12.76      3.79         3.29          82.0         8.3        E   \n",
       "3     10.93      3.28         2.95          80.0         8.0        E   \n",
       "4      8.89     10.22         1.00           NaN         NaN  unknown   \n",
       "\n",
       "   total_sales  \n",
       "0        82.54  \n",
       "1        40.24  \n",
       "2        35.52  \n",
       "3        32.77  \n",
       "4        31.38  "
      ]
     },
     "execution_count": 16,
     "metadata": {},
     "output_type": "execute_result"
    }
   ],
   "source": [
    "data['total_sales'] = data['na_sales'] + data['eu_sales'] + data['jp_sales'] + data['other_sales']\n",
    "data.head()"
   ]
  },
  {
   "cell_type": "markdown",
   "metadata": {},
   "source": [
    "### Проверка на наличие дубликатов"
   ]
  },
  {
   "cell_type": "markdown",
   "metadata": {},
   "source": [
    "Проверим, есть ли дубликаты строк в таблице через метод duplicated()."
   ]
  },
  {
   "cell_type": "code",
   "execution_count": 17,
   "metadata": {},
   "outputs": [
    {
     "data": {
      "text/plain": [
       "0"
      ]
     },
     "execution_count": 17,
     "metadata": {},
     "output_type": "execute_result"
    }
   ],
   "source": [
    "data.duplicated().sum()"
   ]
  },
  {
   "cell_type": "markdown",
   "metadata": {},
   "source": [
    "### Вывод"
   ]
  },
  {
   "cell_type": "markdown",
   "metadata": {},
   "source": [
    "На этапе предобработки данных мы привели названия столбцов датафрейма к нижнему регистру, поменяли тип данных  на числовой для значений в столбцах *year_of_release* и *user_score*. Также было заменено значение \"tbd\"  в столбце оценки пользователей на пропуск, так как данная аббревиатура подразумевает, что оценки на данный момент нет, и она подлежит уточнению. Пропущенные значения в столбце *rating* были заменены на \"unknown\". Был добавлен столец *total_sales* c информацией по суммарной продаже по всем регионам, и датафрейм проверен на наличие дубликатов строк."
   ]
  },
  {
   "cell_type": "markdown",
   "metadata": {},
   "source": [
    "## Исследовательский анализ данных"
   ]
  },
  {
   "cell_type": "markdown",
   "metadata": {},
   "source": [
    "### Сколько игр выпускалось в разные годы"
   ]
  },
  {
   "cell_type": "markdown",
   "metadata": {},
   "source": [
    "Посмотрим, сколько игр выпускалось в разные годы. "
   ]
  },
  {
   "cell_type": "code",
   "execution_count": 18,
   "metadata": {
    "scrolled": true
   },
   "outputs": [
    {
     "data": {
      "text/html": [
       "<div>\n",
       "<style scoped>\n",
       "    .dataframe tbody tr th:only-of-type {\n",
       "        vertical-align: middle;\n",
       "    }\n",
       "\n",
       "    .dataframe tbody tr th {\n",
       "        vertical-align: top;\n",
       "    }\n",
       "\n",
       "    .dataframe thead th {\n",
       "        text-align: right;\n",
       "    }\n",
       "</style>\n",
       "<table border=\"1\" class=\"dataframe\">\n",
       "  <thead>\n",
       "    <tr style=\"text-align: right;\">\n",
       "      <th></th>\n",
       "      <th>name</th>\n",
       "    </tr>\n",
       "    <tr>\n",
       "      <th>year_of_release</th>\n",
       "      <th></th>\n",
       "    </tr>\n",
       "  </thead>\n",
       "  <tbody>\n",
       "    <tr>\n",
       "      <td>1980</td>\n",
       "      <td>9</td>\n",
       "    </tr>\n",
       "    <tr>\n",
       "      <td>1981</td>\n",
       "      <td>46</td>\n",
       "    </tr>\n",
       "    <tr>\n",
       "      <td>1982</td>\n",
       "      <td>36</td>\n",
       "    </tr>\n",
       "    <tr>\n",
       "      <td>1983</td>\n",
       "      <td>17</td>\n",
       "    </tr>\n",
       "    <tr>\n",
       "      <td>1984</td>\n",
       "      <td>14</td>\n",
       "    </tr>\n",
       "    <tr>\n",
       "      <td>1985</td>\n",
       "      <td>14</td>\n",
       "    </tr>\n",
       "    <tr>\n",
       "      <td>1986</td>\n",
       "      <td>21</td>\n",
       "    </tr>\n",
       "    <tr>\n",
       "      <td>1987</td>\n",
       "      <td>16</td>\n",
       "    </tr>\n",
       "    <tr>\n",
       "      <td>1988</td>\n",
       "      <td>15</td>\n",
       "    </tr>\n",
       "    <tr>\n",
       "      <td>1989</td>\n",
       "      <td>17</td>\n",
       "    </tr>\n",
       "    <tr>\n",
       "      <td>1990</td>\n",
       "      <td>16</td>\n",
       "    </tr>\n",
       "    <tr>\n",
       "      <td>1991</td>\n",
       "      <td>41</td>\n",
       "    </tr>\n",
       "    <tr>\n",
       "      <td>1992</td>\n",
       "      <td>43</td>\n",
       "    </tr>\n",
       "    <tr>\n",
       "      <td>1993</td>\n",
       "      <td>60</td>\n",
       "    </tr>\n",
       "    <tr>\n",
       "      <td>1994</td>\n",
       "      <td>121</td>\n",
       "    </tr>\n",
       "    <tr>\n",
       "      <td>1995</td>\n",
       "      <td>219</td>\n",
       "    </tr>\n",
       "    <tr>\n",
       "      <td>1996</td>\n",
       "      <td>263</td>\n",
       "    </tr>\n",
       "    <tr>\n",
       "      <td>1997</td>\n",
       "      <td>289</td>\n",
       "    </tr>\n",
       "    <tr>\n",
       "      <td>1998</td>\n",
       "      <td>379</td>\n",
       "    </tr>\n",
       "    <tr>\n",
       "      <td>1999</td>\n",
       "      <td>338</td>\n",
       "    </tr>\n",
       "    <tr>\n",
       "      <td>2000</td>\n",
       "      <td>350</td>\n",
       "    </tr>\n",
       "    <tr>\n",
       "      <td>2001</td>\n",
       "      <td>482</td>\n",
       "    </tr>\n",
       "    <tr>\n",
       "      <td>2002</td>\n",
       "      <td>829</td>\n",
       "    </tr>\n",
       "    <tr>\n",
       "      <td>2003</td>\n",
       "      <td>775</td>\n",
       "    </tr>\n",
       "    <tr>\n",
       "      <td>2004</td>\n",
       "      <td>762</td>\n",
       "    </tr>\n",
       "    <tr>\n",
       "      <td>2005</td>\n",
       "      <td>939</td>\n",
       "    </tr>\n",
       "    <tr>\n",
       "      <td>2006</td>\n",
       "      <td>1006</td>\n",
       "    </tr>\n",
       "    <tr>\n",
       "      <td>2007</td>\n",
       "      <td>1197</td>\n",
       "    </tr>\n",
       "    <tr>\n",
       "      <td>2008</td>\n",
       "      <td>1427</td>\n",
       "    </tr>\n",
       "    <tr>\n",
       "      <td>2009</td>\n",
       "      <td>1426</td>\n",
       "    </tr>\n",
       "    <tr>\n",
       "      <td>2010</td>\n",
       "      <td>1255</td>\n",
       "    </tr>\n",
       "    <tr>\n",
       "      <td>2011</td>\n",
       "      <td>1136</td>\n",
       "    </tr>\n",
       "    <tr>\n",
       "      <td>2012</td>\n",
       "      <td>653</td>\n",
       "    </tr>\n",
       "    <tr>\n",
       "      <td>2013</td>\n",
       "      <td>544</td>\n",
       "    </tr>\n",
       "    <tr>\n",
       "      <td>2014</td>\n",
       "      <td>581</td>\n",
       "    </tr>\n",
       "    <tr>\n",
       "      <td>2015</td>\n",
       "      <td>606</td>\n",
       "    </tr>\n",
       "    <tr>\n",
       "      <td>2016</td>\n",
       "      <td>502</td>\n",
       "    </tr>\n",
       "  </tbody>\n",
       "</table>\n",
       "</div>"
      ],
      "text/plain": [
       "                 name\n",
       "year_of_release      \n",
       "1980                9\n",
       "1981               46\n",
       "1982               36\n",
       "1983               17\n",
       "1984               14\n",
       "1985               14\n",
       "1986               21\n",
       "1987               16\n",
       "1988               15\n",
       "1989               17\n",
       "1990               16\n",
       "1991               41\n",
       "1992               43\n",
       "1993               60\n",
       "1994              121\n",
       "1995              219\n",
       "1996              263\n",
       "1997              289\n",
       "1998              379\n",
       "1999              338\n",
       "2000              350\n",
       "2001              482\n",
       "2002              829\n",
       "2003              775\n",
       "2004              762\n",
       "2005              939\n",
       "2006             1006\n",
       "2007             1197\n",
       "2008             1427\n",
       "2009             1426\n",
       "2010             1255\n",
       "2011             1136\n",
       "2012              653\n",
       "2013              544\n",
       "2014              581\n",
       "2015              606\n",
       "2016              502"
      ]
     },
     "execution_count": 18,
     "metadata": {},
     "output_type": "execute_result"
    }
   ],
   "source": [
    "games_by_year = data.pivot_table(index = 'year_of_release', values = 'name', aggfunc = 'count')\n",
    "games_by_year"
   ]
  },
  {
   "cell_type": "code",
   "execution_count": 19,
   "metadata": {},
   "outputs": [
    {
     "data": {
      "image/png": "[encoded data removed]",
      "text/plain": [
       "<Figure size 432x288 with 1 Axes>"
      ]
     },
     "metadata": {
      "needs_background": "light"
     },
     "output_type": "display_data"
    }
   ],
   "source": [
    "games_by_year.plot();"
   ]
  },
  {
   "cell_type": "markdown",
   "metadata": {},
   "source": [
    "Исходя из графика выше мы видим, что с 1980 по 1993 год количество компьютерных игр было совсем небольшим, в среднем 26 игр в год. Затем идёт стремительный рост с пиковым значением в 2008 году в 1427 игр, а после снижение, и  в 2016 году мы получаем значение 502 игры.\n",
    "\n",
    "То есть до 1994 года цифры совсем небольшие, так как индустрия компьютерных игр только зарождалась, а значит период по 1993 год можно считать незначительным."
   ]
  },
  {
   "cell_type": "markdown",
   "metadata": {},
   "source": [
    "### Как менялись продажи по платформам"
   ]
  },
  {
   "cell_type": "markdown",
   "metadata": {},
   "source": [
    "Изучим, как менялись продажи по платформам. Построим сводную таблицу по сумммарной выручке всех платфом."
   ]
  },
  {
   "cell_type": "code",
   "execution_count": 20,
   "metadata": {
    "scrolled": true
   },
   "outputs": [
    {
     "data": {
      "text/html": [
       "<div>\n",
       "<style scoped>\n",
       "    .dataframe tbody tr th:only-of-type {\n",
       "        vertical-align: middle;\n",
       "    }\n",
       "\n",
       "    .dataframe tbody tr th {\n",
       "        vertical-align: top;\n",
       "    }\n",
       "\n",
       "    .dataframe thead th {\n",
       "        text-align: right;\n",
       "    }\n",
       "</style>\n",
       "<table border=\"1\" class=\"dataframe\">\n",
       "  <thead>\n",
       "    <tr style=\"text-align: right;\">\n",
       "      <th></th>\n",
       "      <th>total_sales</th>\n",
       "    </tr>\n",
       "    <tr>\n",
       "      <th>platform</th>\n",
       "      <th></th>\n",
       "    </tr>\n",
       "  </thead>\n",
       "  <tbody>\n",
       "    <tr>\n",
       "      <td>PS2</td>\n",
       "      <td>1255.77</td>\n",
       "    </tr>\n",
       "    <tr>\n",
       "      <td>X360</td>\n",
       "      <td>971.42</td>\n",
       "    </tr>\n",
       "    <tr>\n",
       "      <td>PS3</td>\n",
       "      <td>939.65</td>\n",
       "    </tr>\n",
       "    <tr>\n",
       "      <td>Wii</td>\n",
       "      <td>907.51</td>\n",
       "    </tr>\n",
       "    <tr>\n",
       "      <td>DS</td>\n",
       "      <td>806.12</td>\n",
       "    </tr>\n",
       "    <tr>\n",
       "      <td>PS</td>\n",
       "      <td>730.86</td>\n",
       "    </tr>\n",
       "    <tr>\n",
       "      <td>GBA</td>\n",
       "      <td>317.85</td>\n",
       "    </tr>\n",
       "    <tr>\n",
       "      <td>PS4</td>\n",
       "      <td>314.14</td>\n",
       "    </tr>\n",
       "    <tr>\n",
       "      <td>PSP</td>\n",
       "      <td>294.05</td>\n",
       "    </tr>\n",
       "    <tr>\n",
       "      <td>PC</td>\n",
       "      <td>259.52</td>\n",
       "    </tr>\n",
       "    <tr>\n",
       "      <td>3DS</td>\n",
       "      <td>259.00</td>\n",
       "    </tr>\n",
       "    <tr>\n",
       "      <td>XB</td>\n",
       "      <td>257.74</td>\n",
       "    </tr>\n",
       "    <tr>\n",
       "      <td>GB</td>\n",
       "      <td>255.46</td>\n",
       "    </tr>\n",
       "    <tr>\n",
       "      <td>NES</td>\n",
       "      <td>251.05</td>\n",
       "    </tr>\n",
       "    <tr>\n",
       "      <td>N64</td>\n",
       "      <td>218.68</td>\n",
       "    </tr>\n",
       "    <tr>\n",
       "      <td>SNES</td>\n",
       "      <td>200.04</td>\n",
       "    </tr>\n",
       "    <tr>\n",
       "      <td>GC</td>\n",
       "      <td>198.93</td>\n",
       "    </tr>\n",
       "    <tr>\n",
       "      <td>XOne</td>\n",
       "      <td>159.32</td>\n",
       "    </tr>\n",
       "    <tr>\n",
       "      <td>2600</td>\n",
       "      <td>96.98</td>\n",
       "    </tr>\n",
       "    <tr>\n",
       "      <td>WiiU</td>\n",
       "      <td>82.19</td>\n",
       "    </tr>\n",
       "    <tr>\n",
       "      <td>PSV</td>\n",
       "      <td>54.07</td>\n",
       "    </tr>\n",
       "    <tr>\n",
       "      <td>SAT</td>\n",
       "      <td>33.59</td>\n",
       "    </tr>\n",
       "    <tr>\n",
       "      <td>GEN</td>\n",
       "      <td>28.35</td>\n",
       "    </tr>\n",
       "    <tr>\n",
       "      <td>DC</td>\n",
       "      <td>15.95</td>\n",
       "    </tr>\n",
       "    <tr>\n",
       "      <td>SCD</td>\n",
       "      <td>1.86</td>\n",
       "    </tr>\n",
       "    <tr>\n",
       "      <td>NG</td>\n",
       "      <td>1.44</td>\n",
       "    </tr>\n",
       "    <tr>\n",
       "      <td>WS</td>\n",
       "      <td>1.42</td>\n",
       "    </tr>\n",
       "    <tr>\n",
       "      <td>TG16</td>\n",
       "      <td>0.16</td>\n",
       "    </tr>\n",
       "    <tr>\n",
       "      <td>3DO</td>\n",
       "      <td>0.10</td>\n",
       "    </tr>\n",
       "    <tr>\n",
       "      <td>GG</td>\n",
       "      <td>0.04</td>\n",
       "    </tr>\n",
       "    <tr>\n",
       "      <td>PCFX</td>\n",
       "      <td>0.03</td>\n",
       "    </tr>\n",
       "  </tbody>\n",
       "</table>\n",
       "</div>"
      ],
      "text/plain": [
       "          total_sales\n",
       "platform             \n",
       "PS2           1255.77\n",
       "X360           971.42\n",
       "PS3            939.65\n",
       "Wii            907.51\n",
       "DS             806.12\n",
       "PS             730.86\n",
       "GBA            317.85\n",
       "PS4            314.14\n",
       "PSP            294.05\n",
       "PC             259.52\n",
       "3DS            259.00\n",
       "XB             257.74\n",
       "GB             255.46\n",
       "NES            251.05\n",
       "N64            218.68\n",
       "SNES           200.04\n",
       "GC             198.93\n",
       "XOne           159.32\n",
       "2600            96.98\n",
       "WiiU            82.19\n",
       "PSV             54.07\n",
       "SAT             33.59\n",
       "GEN             28.35\n",
       "DC              15.95\n",
       "SCD              1.86\n",
       "NG               1.44\n",
       "WS               1.42\n",
       "TG16             0.16\n",
       "3DO              0.10\n",
       "GG               0.04\n",
       "PCFX             0.03"
      ]
     },
     "execution_count": 20,
     "metadata": {},
     "output_type": "execute_result"
    }
   ],
   "source": [
    "sales_by_platform = data.pivot_table(index = 'platform', values = 'total_sales', aggfunc = 'sum')\n",
    "sales_by_platform.sort_values(by = 'total_sales', ascending = False)"
   ]
  },
  {
   "cell_type": "markdown",
   "metadata": {},
   "source": [
    "Первые шесть платформ можно выделить в группу с наибольшими суммарными продажами по годам.\n",
    "Посмотрим при помощи гистограмм, как менялось количество выпущенных игр по каждой из шести платформ."
   ]
  },
  {
   "cell_type": "code",
   "execution_count": 21,
   "metadata": {},
   "outputs": [
    {
     "data": {
      "image/png": "[encoded data removed]",
      "text/plain": [
       "<Figure size 720x720 with 6 Axes>"
      ]
     },
     "metadata": {
      "needs_background": "light"
     },
     "output_type": "display_data"
    }
   ],
   "source": [
    "top6_platforms = data.query('platform ==\"PS2\" or platform ==\"X360\" or platform ==\"PS3\" or platform ==\"Wii\" or platform ==\"DS\" or platform ==\"PS\"')\n",
    "top6_platforms['year_of_release'].hist(by=top6_platforms['platform'], figsize=(10,10));\n"
   ]
  },
  {
   "cell_type": "markdown",
   "metadata": {},
   "source": [
    "Из полученных гистограмм следует, что некоторые платформы уже не выпускают игры (PS, PS2, DS). А такая платформа как Wii за последний год выпустила всего одну игру. Платформы PS3 и  X360 продолжают выпускать игры, при этом максимальное количество игр было выпущено в 2011 году.\n",
    "\n",
    "Посчитаем среднюю продолжительность жизни платформ по ТОП-6. "
   ]
  },
  {
   "cell_type": "code",
   "execution_count": 22,
   "metadata": {},
   "outputs": [
    {
     "data": {
      "text/html": [
       "<div>\n",
       "<style scoped>\n",
       "    .dataframe tbody tr th:only-of-type {\n",
       "        vertical-align: middle;\n",
       "    }\n",
       "\n",
       "    .dataframe tbody tr th {\n",
       "        vertical-align: top;\n",
       "    }\n",
       "\n",
       "    .dataframe thead tr th {\n",
       "        text-align: left;\n",
       "    }\n",
       "\n",
       "    .dataframe thead tr:last-of-type th {\n",
       "        text-align: right;\n",
       "    }\n",
       "</style>\n",
       "<table border=\"1\" class=\"dataframe\">\n",
       "  <thead>\n",
       "    <tr>\n",
       "      <th></th>\n",
       "      <th>min</th>\n",
       "      <th>max</th>\n",
       "      <th>total_years</th>\n",
       "    </tr>\n",
       "    <tr>\n",
       "      <th></th>\n",
       "      <th>year_of_release</th>\n",
       "      <th>year_of_release</th>\n",
       "      <th></th>\n",
       "    </tr>\n",
       "    <tr>\n",
       "      <th>platform</th>\n",
       "      <th></th>\n",
       "      <th></th>\n",
       "      <th></th>\n",
       "    </tr>\n",
       "  </thead>\n",
       "  <tbody>\n",
       "    <tr>\n",
       "      <td>DS</td>\n",
       "      <td>1985</td>\n",
       "      <td>2013</td>\n",
       "      <td>28</td>\n",
       "    </tr>\n",
       "    <tr>\n",
       "      <td>PS</td>\n",
       "      <td>1994</td>\n",
       "      <td>2003</td>\n",
       "      <td>9</td>\n",
       "    </tr>\n",
       "    <tr>\n",
       "      <td>PS2</td>\n",
       "      <td>2000</td>\n",
       "      <td>2011</td>\n",
       "      <td>11</td>\n",
       "    </tr>\n",
       "    <tr>\n",
       "      <td>PS3</td>\n",
       "      <td>2006</td>\n",
       "      <td>2016</td>\n",
       "      <td>10</td>\n",
       "    </tr>\n",
       "    <tr>\n",
       "      <td>Wii</td>\n",
       "      <td>2006</td>\n",
       "      <td>2016</td>\n",
       "      <td>10</td>\n",
       "    </tr>\n",
       "    <tr>\n",
       "      <td>X360</td>\n",
       "      <td>2005</td>\n",
       "      <td>2016</td>\n",
       "      <td>11</td>\n",
       "    </tr>\n",
       "  </tbody>\n",
       "</table>\n",
       "</div>"
      ],
      "text/plain": [
       "                     min             max total_years\n",
       "         year_of_release year_of_release            \n",
       "platform                                            \n",
       "DS                  1985            2013          28\n",
       "PS                  1994            2003           9\n",
       "PS2                 2000            2011          11\n",
       "PS3                 2006            2016          10\n",
       "Wii                 2006            2016          10\n",
       "X360                2005            2016          11"
      ]
     },
     "execution_count": 22,
     "metadata": {},
     "output_type": "execute_result"
    }
   ],
   "source": [
    "platform_lifetime = top6_platforms.pivot_table(index = 'platform', values = 'year_of_release', aggfunc =['min', 'max'])\n",
    "platform_lifetime['total_years'] = platform_lifetime['max'] - platform_lifetime['min']\n",
    "platform_lifetime"
   ]
  },
  {
   "cell_type": "markdown",
   "metadata": {},
   "source": [
    "На платформе **DS** игры выпускали целых 28 лет. Значение заметно отличается от других платформ. Исключим его из сводной таблицы и посчитаем средний срок функционирования платформы  на основании 5 значений."
   ]
  },
  {
   "cell_type": "code",
   "execution_count": 23,
   "metadata": {},
   "outputs": [
    {
     "data": {
      "text/plain": [
       "10.2"
      ]
     },
     "execution_count": 23,
     "metadata": {},
     "output_type": "execute_result"
    }
   ],
   "source": [
    "platform_lifetime_5 = platform_lifetime.query('platform !=\"DS\"')\n",
    "platform_lifetime_5['total_years'].mean()"
   ]
  },
  {
   "cell_type": "markdown",
   "metadata": {},
   "source": [
    "Получается средний срок службы платформы около 10 лет. Так как мы планируем кампанию на 2017-й год, нам интересно рассмотреть платформы, которые сейчас активно развиваются и растут. Для этого логично взять период меньше половины жизненного цикла платформы, например 4 года. Соответсвенно актуальным периодом будем считать период с 2013 по 2016 года.\n",
    "\n",
    "Сделаем срез с 2013 по 2016гг и создадим новый датафрейм  *data_actual*."
   ]
  },
  {
   "cell_type": "code",
   "execution_count": 24,
   "metadata": {},
   "outputs": [],
   "source": [
    "data_actual = data.query('year_of_release >=2013')"
   ]
  },
  {
   "cell_type": "markdown",
   "metadata": {},
   "source": [
    "### Анализ платформ по продажам"
   ]
  },
  {
   "cell_type": "markdown",
   "metadata": {},
   "source": [
    "Построим сводную таблицу, чтобы определить какие платформы по продажам растут, а какие падают."
   ]
  },
  {
   "cell_type": "code",
   "execution_count": 25,
   "metadata": {
    "scrolled": true
   },
   "outputs": [
    {
     "data": {
      "text/html": [
       "<div>\n",
       "<style scoped>\n",
       "    .dataframe tbody tr th:only-of-type {\n",
       "        vertical-align: middle;\n",
       "    }\n",
       "\n",
       "    .dataframe tbody tr th {\n",
       "        vertical-align: top;\n",
       "    }\n",
       "\n",
       "    .dataframe thead th {\n",
       "        text-align: right;\n",
       "    }\n",
       "</style>\n",
       "<table border=\"1\" class=\"dataframe\">\n",
       "  <thead>\n",
       "    <tr style=\"text-align: right;\">\n",
       "      <th></th>\n",
       "      <th>total_sales</th>\n",
       "    </tr>\n",
       "    <tr>\n",
       "      <th>platform</th>\n",
       "      <th></th>\n",
       "    </tr>\n",
       "  </thead>\n",
       "  <tbody>\n",
       "    <tr>\n",
       "      <td>PS4</td>\n",
       "      <td>314.14</td>\n",
       "    </tr>\n",
       "    <tr>\n",
       "      <td>PS3</td>\n",
       "      <td>181.43</td>\n",
       "    </tr>\n",
       "    <tr>\n",
       "      <td>XOne</td>\n",
       "      <td>159.32</td>\n",
       "    </tr>\n",
       "    <tr>\n",
       "      <td>3DS</td>\n",
       "      <td>143.25</td>\n",
       "    </tr>\n",
       "    <tr>\n",
       "      <td>X360</td>\n",
       "      <td>136.80</td>\n",
       "    </tr>\n",
       "    <tr>\n",
       "      <td>WiiU</td>\n",
       "      <td>64.63</td>\n",
       "    </tr>\n",
       "    <tr>\n",
       "      <td>PC</td>\n",
       "      <td>39.43</td>\n",
       "    </tr>\n",
       "    <tr>\n",
       "      <td>PSV</td>\n",
       "      <td>32.99</td>\n",
       "    </tr>\n",
       "    <tr>\n",
       "      <td>Wii</td>\n",
       "      <td>13.66</td>\n",
       "    </tr>\n",
       "    <tr>\n",
       "      <td>PSP</td>\n",
       "      <td>3.50</td>\n",
       "    </tr>\n",
       "    <tr>\n",
       "      <td>DS</td>\n",
       "      <td>1.54</td>\n",
       "    </tr>\n",
       "  </tbody>\n",
       "</table>\n",
       "</div>"
      ],
      "text/plain": [
       "          total_sales\n",
       "platform             \n",
       "PS4            314.14\n",
       "PS3            181.43\n",
       "XOne           159.32\n",
       "3DS            143.25\n",
       "X360           136.80\n",
       "WiiU            64.63\n",
       "PC              39.43\n",
       "PSV             32.99\n",
       "Wii             13.66\n",
       "PSP              3.50\n",
       "DS               1.54"
      ]
     },
     "execution_count": 25,
     "metadata": {},
     "output_type": "execute_result"
    }
   ],
   "source": [
    "data_actual_sales = (data_actual\n",
    "                     .pivot_table(index = 'platform', values = 'total_sales', aggfunc = 'sum')\n",
    "                     .sort_values(by = 'total_sales', ascending = False))\n",
    "data_actual_sales"
   ]
  },
  {
   "cell_type": "markdown",
   "metadata": {},
   "source": [
    "Получается что большего всего игр продают на плаформах PS4, PS3, XOne.\n",
    "Посмотрим на тренд по продажам игр в течение всего актуального периода."
   ]
  },
  {
   "cell_type": "code",
   "execution_count": 26,
   "metadata": {},
   "outputs": [
    {
     "data": {
      "image/png": "[encoded data removed]",
      "text/plain": [
       "<Figure size 720x576 with 1 Axes>"
      ]
     },
     "metadata": {
      "needs_background": "light"
     },
     "output_type": "display_data"
    }
   ],
   "source": [
    "data_actual.pivot_table(index='year_of_release', columns='platform', values='total_sales', aggfunc='sum').plot(figsize=(10,8));"
   ]
  },
  {
   "cell_type": "markdown",
   "metadata": {},
   "source": [
    "Из графика мы видим, что по большинству платформ к 2016 году наступает снижение продаж. Так для платформ PS3, X360, 3DS характерно значительное снижение продаж, вероятнее всего платформы находятся на финальных этапах жизненного цикла. \n",
    "Среди всех 11-ти платформ выделяются XOne и PS4. У них также к 2016 году наблюдается снижение продаж, однако своего пика они достигли относительно недавно, в 2015 году, а значит их можно считать потенциально прибыльными."
   ]
  },
  {
   "cell_type": "markdown",
   "metadata": {},
   "source": [
    "### Глобальные продажи игр в разбивке по платформам"
   ]
  },
  {
   "cell_type": "markdown",
   "metadata": {},
   "source": [
    "Построим график «ящик с усами» по глобальным продажам игр в разбивке по платформам."
   ]
  },
  {
   "cell_type": "code",
   "execution_count": 27,
   "metadata": {},
   "outputs": [
    {
     "name": "stderr",
     "output_type": "stream",
     "text": [
      "/opt/conda/lib/python3.7/site-packages/numpy/core/_asarray.py:83: VisibleDeprecationWarning: Creating an ndarray from ragged nested sequences (which is a list-or-tuple of lists-or-tuples-or ndarrays with different lengths or shapes) is deprecated. If you meant to do this, you must specify 'dtype=object' when creating the ndarray\n",
      "  return array(a, dtype, copy=False, order=order)\n"
     ]
    },
    {
     "data": {
      "text/plain": [
       "(0, 3)"
      ]
     },
     "execution_count": 27,
     "metadata": {},
     "output_type": "execute_result"
    },
    {
     "data": {
      "image/png": "[encoded data removed]",
      "text/plain": [
       "<Figure size 1080x432 with 1 Axes>"
      ]
     },
     "metadata": {
      "needs_background": "light"
     },
     "output_type": "display_data"
    }
   ],
   "source": [
    "data_actual.boxplot(column=['total_sales'],by='platform', figsize=(15,6));\n",
    "plt.ylim(0, 3)"
   ]
  },
  {
   "cell_type": "code",
   "execution_count": 28,
   "metadata": {},
   "outputs": [
    {
     "data": {
      "text/html": [
       "<div>\n",
       "<style scoped>\n",
       "    .dataframe tbody tr th:only-of-type {\n",
       "        vertical-align: middle;\n",
       "    }\n",
       "\n",
       "    .dataframe tbody tr th {\n",
       "        vertical-align: top;\n",
       "    }\n",
       "\n",
       "    .dataframe thead tr th {\n",
       "        text-align: left;\n",
       "    }\n",
       "\n",
       "    .dataframe thead tr:last-of-type th {\n",
       "        text-align: right;\n",
       "    }\n",
       "</style>\n",
       "<table border=\"1\" class=\"dataframe\">\n",
       "  <thead>\n",
       "    <tr>\n",
       "      <th></th>\n",
       "      <th>mean</th>\n",
       "      <th>median</th>\n",
       "      <th>sum</th>\n",
       "    </tr>\n",
       "    <tr>\n",
       "      <th></th>\n",
       "      <th>total_sales</th>\n",
       "      <th>total_sales</th>\n",
       "      <th>total_sales</th>\n",
       "    </tr>\n",
       "    <tr>\n",
       "      <th>platform</th>\n",
       "      <th></th>\n",
       "      <th></th>\n",
       "      <th></th>\n",
       "    </tr>\n",
       "  </thead>\n",
       "  <tbody>\n",
       "    <tr>\n",
       "      <td>X360</td>\n",
       "      <td>0.735484</td>\n",
       "      <td>0.265</td>\n",
       "      <td>136.80</td>\n",
       "    </tr>\n",
       "    <tr>\n",
       "      <td>XOne</td>\n",
       "      <td>0.645020</td>\n",
       "      <td>0.220</td>\n",
       "      <td>159.32</td>\n",
       "    </tr>\n",
       "    <tr>\n",
       "      <td>PS4</td>\n",
       "      <td>0.801378</td>\n",
       "      <td>0.200</td>\n",
       "      <td>314.14</td>\n",
       "    </tr>\n",
       "    <tr>\n",
       "      <td>WiiU</td>\n",
       "      <td>0.562000</td>\n",
       "      <td>0.200</td>\n",
       "      <td>64.63</td>\n",
       "    </tr>\n",
       "    <tr>\n",
       "      <td>Wii</td>\n",
       "      <td>0.593913</td>\n",
       "      <td>0.180</td>\n",
       "      <td>13.66</td>\n",
       "    </tr>\n",
       "    <tr>\n",
       "      <td>DS</td>\n",
       "      <td>0.192500</td>\n",
       "      <td>0.150</td>\n",
       "      <td>1.54</td>\n",
       "    </tr>\n",
       "    <tr>\n",
       "      <td>PS3</td>\n",
       "      <td>0.525884</td>\n",
       "      <td>0.150</td>\n",
       "      <td>181.43</td>\n",
       "    </tr>\n",
       "    <tr>\n",
       "      <td>3DS</td>\n",
       "      <td>0.472772</td>\n",
       "      <td>0.090</td>\n",
       "      <td>143.25</td>\n",
       "    </tr>\n",
       "    <tr>\n",
       "      <td>PC</td>\n",
       "      <td>0.208624</td>\n",
       "      <td>0.080</td>\n",
       "      <td>39.43</td>\n",
       "    </tr>\n",
       "    <tr>\n",
       "      <td>PSV</td>\n",
       "      <td>0.092151</td>\n",
       "      <td>0.040</td>\n",
       "      <td>32.99</td>\n",
       "    </tr>\n",
       "    <tr>\n",
       "      <td>PSP</td>\n",
       "      <td>0.052239</td>\n",
       "      <td>0.020</td>\n",
       "      <td>3.50</td>\n",
       "    </tr>\n",
       "  </tbody>\n",
       "</table>\n",
       "</div>"
      ],
      "text/plain": [
       "                mean      median         sum\n",
       "         total_sales total_sales total_sales\n",
       "platform                                    \n",
       "X360        0.735484       0.265      136.80\n",
       "XOne        0.645020       0.220      159.32\n",
       "PS4         0.801378       0.200      314.14\n",
       "WiiU        0.562000       0.200       64.63\n",
       "Wii         0.593913       0.180       13.66\n",
       "DS          0.192500       0.150        1.54\n",
       "PS3         0.525884       0.150      181.43\n",
       "3DS         0.472772       0.090      143.25\n",
       "PC          0.208624       0.080       39.43\n",
       "PSV         0.092151       0.040       32.99\n",
       "PSP         0.052239       0.020        3.50"
      ]
     },
     "execution_count": 28,
     "metadata": {},
     "output_type": "execute_result"
    }
   ],
   "source": [
    "pivot_by_platform = (data_actual.\n",
    "                  pivot_table(index = 'platform', values = 'total_sales', aggfunc = ['mean', 'median' , 'sum'])\n",
    "                  .sort_values(by=[('median', 'total_sales')], ascending  = False))\n",
    "\n",
    "pivot_by_platform"
   ]
  },
  {
   "cell_type": "markdown",
   "metadata": {},
   "source": [
    "Самые высокие медианные продажи у платформ  X360, XOne, PS4, WiiU. При этом если суммарные продажи больше всего на PS4, медианные и средние продажи выше для игр на X360."
   ]
  },
  {
   "cell_type": "markdown",
   "metadata": {},
   "source": [
    "### Влияние отзывов пользователей и критиков на продажи  "
   ]
  },
  {
   "cell_type": "markdown",
   "metadata": {},
   "source": [
    "Посмотрим, как влияют на продажи внутри одной популярной платформы отзывы пользователей и критиков. Для этого построим диаграммы рассеяния и посчитаем корреляцию между отзывами и продажами. Для анализа возьмём платформы с наибольшими продажами - PS4, XOne и PS3.\n"
   ]
  },
  {
   "cell_type": "code",
   "execution_count": 29,
   "metadata": {},
   "outputs": [
    {
     "data": {
      "image/png": "[encoded data removed]",
      "text/plain": [
       "<Figure size 432x288 with 1 Axes>"
      ]
     },
     "metadata": {
      "needs_background": "light"
     },
     "output_type": "display_data"
    },
    {
     "data": {
      "image/png": "[encoded data removed]",
      "text/plain": [
       "<Figure size 432x288 with 1 Axes>"
      ]
     },
     "metadata": {
      "needs_background": "light"
     },
     "output_type": "display_data"
    },
    {
     "data": {
      "image/png": "[encoded data removed]",
      "text/plain": [
       "<Figure size 432x288 with 1 Axes>"
      ]
     },
     "metadata": {
      "needs_background": "light"
     },
     "output_type": "display_data"
    }
   ],
   "source": [
    "data_actual.query('platform == \"PS4\"').plot( x= 'user_score', y = 'total_sales', kind = 'scatter', alpha = 0.6);\n",
    "plt.title('Влияние отзывов пользователей на продажи игр для PS4');\n",
    "data_actual.query('platform == \"XOne\"').plot( x= 'user_score', y = 'total_sales', kind = 'scatter', alpha = 0.6);\n",
    "plt.title('Влияние отзывов пользователей на продажи игр для Xone');\n",
    "data_actual.query('platform == \"PS3\"').plot( x= 'user_score', y = 'total_sales', kind = 'scatter', alpha = 0.6);\n",
    "plt.title('Влияние отзывов пользователей на продажи игр для PS3');"
   ]
  },
  {
   "cell_type": "code",
   "execution_count": 30,
   "metadata": {},
   "outputs": [
    {
     "data": {
      "image/png": "[encoded data removed]",
      "text/plain": [
       "<Figure size 432x288 with 1 Axes>"
      ]
     },
     "metadata": {
      "needs_background": "light"
     },
     "output_type": "display_data"
    },
    {
     "data": {
      "image/png": "[encoded data removed]",
      "text/plain": [
       "<Figure size 432x288 with 1 Axes>"
      ]
     },
     "metadata": {
      "needs_background": "light"
     },
     "output_type": "display_data"
    },
    {
     "data": {
      "image/png": "[encoded data removed]",
      "text/plain": [
       "<Figure size 432x288 with 1 Axes>"
      ]
     },
     "metadata": {
      "needs_background": "light"
     },
     "output_type": "display_data"
    }
   ],
   "source": [
    "data_actual.query('platform == \"PS4\"').plot( x= 'critic_score', y = 'total_sales', kind = 'scatter', alpha = 0.6);\n",
    "plt.title('Влияние отзывов критиков на продажи игр для PS4');\n",
    "data_actual.query('platform == \"XOne\"').plot( x= 'critic_score', y = 'total_sales', kind = 'scatter', alpha = 0.6);\n",
    "plt.title('Влияние отзывов критиков на продажи игр для Xone');\n",
    "data_actual.query('platform == \"PS3\"').plot( x= 'critic_score', y = 'total_sales', kind = 'scatter', alpha = 0.6);\n",
    "plt.title('Влияние отзывов критиков на продажи игр для PS3');"
   ]
  },
  {
   "cell_type": "code",
   "execution_count": 31,
   "metadata": {},
   "outputs": [
    {
     "data": {
      "text/html": [
       "<div>\n",
       "<style scoped>\n",
       "    .dataframe tbody tr th:only-of-type {\n",
       "        vertical-align: middle;\n",
       "    }\n",
       "\n",
       "    .dataframe tbody tr th {\n",
       "        vertical-align: top;\n",
       "    }\n",
       "\n",
       "    .dataframe thead th {\n",
       "        text-align: right;\n",
       "    }\n",
       "</style>\n",
       "<table border=\"1\" class=\"dataframe\">\n",
       "  <thead>\n",
       "    <tr style=\"text-align: right;\">\n",
       "      <th></th>\n",
       "      <th>total_sales</th>\n",
       "      <th>user_score</th>\n",
       "      <th>critic_score</th>\n",
       "    </tr>\n",
       "  </thead>\n",
       "  <tbody>\n",
       "    <tr>\n",
       "      <td>total_sales</td>\n",
       "      <td>1.000000</td>\n",
       "      <td>-0.031957</td>\n",
       "      <td>0.406568</td>\n",
       "    </tr>\n",
       "    <tr>\n",
       "      <td>user_score</td>\n",
       "      <td>-0.031957</td>\n",
       "      <td>1.000000</td>\n",
       "      <td>0.557654</td>\n",
       "    </tr>\n",
       "    <tr>\n",
       "      <td>critic_score</td>\n",
       "      <td>0.406568</td>\n",
       "      <td>0.557654</td>\n",
       "      <td>1.000000</td>\n",
       "    </tr>\n",
       "  </tbody>\n",
       "</table>\n",
       "</div>"
      ],
      "text/plain": [
       "              total_sales  user_score  critic_score\n",
       "total_sales      1.000000   -0.031957      0.406568\n",
       "user_score      -0.031957    1.000000      0.557654\n",
       "critic_score     0.406568    0.557654      1.000000"
      ]
     },
     "execution_count": 31,
     "metadata": {},
     "output_type": "execute_result"
    }
   ],
   "source": [
    "data_actual.query('platform == \"PS4\"')[['total_sales', 'user_score', 'critic_score']].corr()"
   ]
  },
  {
   "cell_type": "code",
   "execution_count": 32,
   "metadata": {},
   "outputs": [
    {
     "data": {
      "text/html": [
       "<div>\n",
       "<style scoped>\n",
       "    .dataframe tbody tr th:only-of-type {\n",
       "        vertical-align: middle;\n",
       "    }\n",
       "\n",
       "    .dataframe tbody tr th {\n",
       "        vertical-align: top;\n",
       "    }\n",
       "\n",
       "    .dataframe thead th {\n",
       "        text-align: right;\n",
       "    }\n",
       "</style>\n",
       "<table border=\"1\" class=\"dataframe\">\n",
       "  <thead>\n",
       "    <tr style=\"text-align: right;\">\n",
       "      <th></th>\n",
       "      <th>total_sales</th>\n",
       "      <th>user_score</th>\n",
       "      <th>critic_score</th>\n",
       "    </tr>\n",
       "  </thead>\n",
       "  <tbody>\n",
       "    <tr>\n",
       "      <td>total_sales</td>\n",
       "      <td>1.000000</td>\n",
       "      <td>-0.068925</td>\n",
       "      <td>0.416998</td>\n",
       "    </tr>\n",
       "    <tr>\n",
       "      <td>user_score</td>\n",
       "      <td>-0.068925</td>\n",
       "      <td>1.000000</td>\n",
       "      <td>0.472462</td>\n",
       "    </tr>\n",
       "    <tr>\n",
       "      <td>critic_score</td>\n",
       "      <td>0.416998</td>\n",
       "      <td>0.472462</td>\n",
       "      <td>1.000000</td>\n",
       "    </tr>\n",
       "  </tbody>\n",
       "</table>\n",
       "</div>"
      ],
      "text/plain": [
       "              total_sales  user_score  critic_score\n",
       "total_sales      1.000000   -0.068925      0.416998\n",
       "user_score      -0.068925    1.000000      0.472462\n",
       "critic_score     0.416998    0.472462      1.000000"
      ]
     },
     "execution_count": 32,
     "metadata": {},
     "output_type": "execute_result"
    }
   ],
   "source": [
    "data_actual.query('platform == \"XOne\"')[['total_sales', 'user_score', 'critic_score']].corr()"
   ]
  },
  {
   "cell_type": "code",
   "execution_count": 33,
   "metadata": {},
   "outputs": [
    {
     "data": {
      "text/html": [
       "<div>\n",
       "<style scoped>\n",
       "    .dataframe tbody tr th:only-of-type {\n",
       "        vertical-align: middle;\n",
       "    }\n",
       "\n",
       "    .dataframe tbody tr th {\n",
       "        vertical-align: top;\n",
       "    }\n",
       "\n",
       "    .dataframe thead th {\n",
       "        text-align: right;\n",
       "    }\n",
       "</style>\n",
       "<table border=\"1\" class=\"dataframe\">\n",
       "  <thead>\n",
       "    <tr style=\"text-align: right;\">\n",
       "      <th></th>\n",
       "      <th>total_sales</th>\n",
       "      <th>user_score</th>\n",
       "      <th>critic_score</th>\n",
       "    </tr>\n",
       "  </thead>\n",
       "  <tbody>\n",
       "    <tr>\n",
       "      <td>total_sales</td>\n",
       "      <td>1.000000</td>\n",
       "      <td>0.002394</td>\n",
       "      <td>0.334285</td>\n",
       "    </tr>\n",
       "    <tr>\n",
       "      <td>user_score</td>\n",
       "      <td>0.002394</td>\n",
       "      <td>1.000000</td>\n",
       "      <td>0.599920</td>\n",
       "    </tr>\n",
       "    <tr>\n",
       "      <td>critic_score</td>\n",
       "      <td>0.334285</td>\n",
       "      <td>0.599920</td>\n",
       "      <td>1.000000</td>\n",
       "    </tr>\n",
       "  </tbody>\n",
       "</table>\n",
       "</div>"
      ],
      "text/plain": [
       "              total_sales  user_score  critic_score\n",
       "total_sales      1.000000    0.002394      0.334285\n",
       "user_score       0.002394    1.000000      0.599920\n",
       "critic_score     0.334285    0.599920      1.000000"
      ]
     },
     "execution_count": 33,
     "metadata": {},
     "output_type": "execute_result"
    }
   ],
   "source": [
    "data_actual.query('platform == \"PS3\"')[['total_sales', 'user_score', 'critic_score']].corr()"
   ]
  },
  {
   "cell_type": "markdown",
   "metadata": {},
   "source": [
    "Исходя из полученных графиков и коэффициентов корреляции, можно сделать вывод о том, что оценка пользователей не влияет на продажи игр, коэффициент корреляции для всех трёх платформ примерно равен нулю. При этом мы можем наблюдать взаимосвязь между оценкой  критиков и уровнем продаж, чем более высокая оценка,тем выше продажи игры (коэффицциент корреляции положительный и равен в среднем 0.39)."
   ]
  },
  {
   "cell_type": "markdown",
   "metadata": {},
   "source": [
    "### Общее распределение игр по жанрам"
   ]
  },
  {
   "cell_type": "markdown",
   "metadata": {},
   "source": [
    "Посмотрим на общее распределение игр по жанрам."
   ]
  },
  {
   "cell_type": "code",
   "execution_count": 34,
   "metadata": {},
   "outputs": [
    {
     "data": {
      "image/png": "[encoded data removed]",
      "text/plain": [
       "<Figure size 576x360 with 1 Axes>"
      ]
     },
     "metadata": {
      "needs_background": "light"
     },
     "output_type": "display_data"
    }
   ],
   "source": [
    "genre_count = (data_actual\n",
    "               .pivot_table(index = 'genre', values='name', aggfunc='count')\n",
    "               .sort_values(by='name', ascending = False)\n",
    "               .plot(kind = 'barh', figsize =(8,5)));"
   ]
  },
  {
   "cell_type": "markdown",
   "metadata": {},
   "source": [
    "Больше всего игр с 2013 по 2016гг было выпущено в жанре *Action*.\n",
    "\n",
    "Теперь посмотрим какие жанры самые прибыльные."
   ]
  },
  {
   "cell_type": "code",
   "execution_count": 35,
   "metadata": {},
   "outputs": [
    {
     "data": {
      "image/png": "[encoded data removed]",
      "text/plain": [
       "<Figure size 576x360 with 1 Axes>"
      ]
     },
     "metadata": {
      "needs_background": "light"
     },
     "output_type": "display_data"
    }
   ],
   "source": [
    "genre_pivot = (data_actual\n",
    "               .pivot_table(index = 'genre', values='total_sales', aggfunc='sum')\n",
    "               .sort_values(by='total_sales', ascending = False)\n",
    "               .plot(kind = 'barh', figsize =(8,5)));"
   ]
  },
  {
   "cell_type": "markdown",
   "metadata": {},
   "source": [
    "Самым прибыльным также получился жанр *Action*. Затем идут жанр *Shooter*  и *Sport*. При этом количественно игр этих жанров гораздо меньше. Жанры с самыми низкими продажами - *Puzzle*, *Strategy*"
   ]
  },
  {
   "cell_type": "markdown",
   "metadata": {},
   "source": [
    "### Вывод"
   ]
  },
  {
   "cell_type": "markdown",
   "metadata": {},
   "source": [
    "На этапе исследовательского анализа данных мы рассчитали, что жизненный цикл платформы в среднем составляет 10 лет, и определили актуальный период для построения прогнозов -  с 2013 по 2016гг.\n",
    "Для большинства платформ актуального периода к 2016 году наступает снижение продаж. При этом платформы XOne и PS4 можно считать потенциально прибыльными. Также в ходе анализа было определено, что оценки критиков положительно влияют на уровень продаж игр, в то время как отзывы пользователей на продажи игр не влияют. Самым распространённым и прибыльным является жанр Action, жанры Puzzle и Strategy имеют самые низкие продажи.\n"
   ]
  },
  {
   "cell_type": "markdown",
   "metadata": {},
   "source": [
    "## Портрет пользователя каждого региона"
   ]
  },
  {
   "cell_type": "markdown",
   "metadata": {},
   "source": [
    "### Самые популярные платформы (топ-5)"
   ]
  },
  {
   "cell_type": "markdown",
   "metadata": {},
   "source": [
    "Для  пользоватедей каждого региона (Северная Америка, Европа и Япония) определим самые популярные платформы."
   ]
  },
  {
   "cell_type": "code",
   "execution_count": 36,
   "metadata": {},
   "outputs": [
    {
     "data": {
      "text/html": [
       "<div>\n",
       "<style scoped>\n",
       "    .dataframe tbody tr th:only-of-type {\n",
       "        vertical-align: middle;\n",
       "    }\n",
       "\n",
       "    .dataframe tbody tr th {\n",
       "        vertical-align: top;\n",
       "    }\n",
       "\n",
       "    .dataframe thead th {\n",
       "        text-align: right;\n",
       "    }\n",
       "</style>\n",
       "<table border=\"1\" class=\"dataframe\">\n",
       "  <thead>\n",
       "    <tr style=\"text-align: right;\">\n",
       "      <th></th>\n",
       "      <th>na_sales</th>\n",
       "    </tr>\n",
       "    <tr>\n",
       "      <th>platform</th>\n",
       "      <th></th>\n",
       "    </tr>\n",
       "  </thead>\n",
       "  <tbody>\n",
       "    <tr>\n",
       "      <td>PS4</td>\n",
       "      <td>108.74</td>\n",
       "    </tr>\n",
       "    <tr>\n",
       "      <td>XOne</td>\n",
       "      <td>93.12</td>\n",
       "    </tr>\n",
       "    <tr>\n",
       "      <td>X360</td>\n",
       "      <td>81.66</td>\n",
       "    </tr>\n",
       "    <tr>\n",
       "      <td>PS3</td>\n",
       "      <td>63.50</td>\n",
       "    </tr>\n",
       "    <tr>\n",
       "      <td>3DS</td>\n",
       "      <td>38.20</td>\n",
       "    </tr>\n",
       "  </tbody>\n",
       "</table>\n",
       "</div>"
      ],
      "text/plain": [
       "          na_sales\n",
       "platform          \n",
       "PS4         108.74\n",
       "XOne         93.12\n",
       "X360         81.66\n",
       "PS3          63.50\n",
       "3DS          38.20"
      ]
     },
     "execution_count": 36,
     "metadata": {},
     "output_type": "execute_result"
    }
   ],
   "source": [
    "data_actual.pivot_table(index='platform', values='na_sales', aggfunc='sum').sort_values(by='na_sales', ascending=False).head()"
   ]
  },
  {
   "cell_type": "code",
   "execution_count": 37,
   "metadata": {},
   "outputs": [
    {
     "data": {
      "text/html": [
       "<div>\n",
       "<style scoped>\n",
       "    .dataframe tbody tr th:only-of-type {\n",
       "        vertical-align: middle;\n",
       "    }\n",
       "\n",
       "    .dataframe tbody tr th {\n",
       "        vertical-align: top;\n",
       "    }\n",
       "\n",
       "    .dataframe thead th {\n",
       "        text-align: right;\n",
       "    }\n",
       "</style>\n",
       "<table border=\"1\" class=\"dataframe\">\n",
       "  <thead>\n",
       "    <tr style=\"text-align: right;\">\n",
       "      <th></th>\n",
       "      <th>eu_sales</th>\n",
       "    </tr>\n",
       "    <tr>\n",
       "      <th>platform</th>\n",
       "      <th></th>\n",
       "    </tr>\n",
       "  </thead>\n",
       "  <tbody>\n",
       "    <tr>\n",
       "      <td>PS4</td>\n",
       "      <td>141.09</td>\n",
       "    </tr>\n",
       "    <tr>\n",
       "      <td>PS3</td>\n",
       "      <td>67.81</td>\n",
       "    </tr>\n",
       "    <tr>\n",
       "      <td>XOne</td>\n",
       "      <td>51.59</td>\n",
       "    </tr>\n",
       "    <tr>\n",
       "      <td>X360</td>\n",
       "      <td>42.52</td>\n",
       "    </tr>\n",
       "    <tr>\n",
       "      <td>3DS</td>\n",
       "      <td>30.96</td>\n",
       "    </tr>\n",
       "  </tbody>\n",
       "</table>\n",
       "</div>"
      ],
      "text/plain": [
       "          eu_sales\n",
       "platform          \n",
       "PS4         141.09\n",
       "PS3          67.81\n",
       "XOne         51.59\n",
       "X360         42.52\n",
       "3DS          30.96"
      ]
     },
     "execution_count": 37,
     "metadata": {},
     "output_type": "execute_result"
    }
   ],
   "source": [
    "data_actual.pivot_table(index='platform', values='eu_sales', aggfunc='sum').sort_values(by='eu_sales', ascending=False).head()"
   ]
  },
  {
   "cell_type": "code",
   "execution_count": 38,
   "metadata": {},
   "outputs": [
    {
     "data": {
      "text/html": [
       "<div>\n",
       "<style scoped>\n",
       "    .dataframe tbody tr th:only-of-type {\n",
       "        vertical-align: middle;\n",
       "    }\n",
       "\n",
       "    .dataframe tbody tr th {\n",
       "        vertical-align: top;\n",
       "    }\n",
       "\n",
       "    .dataframe thead th {\n",
       "        text-align: right;\n",
       "    }\n",
       "</style>\n",
       "<table border=\"1\" class=\"dataframe\">\n",
       "  <thead>\n",
       "    <tr style=\"text-align: right;\">\n",
       "      <th></th>\n",
       "      <th>jp_sales</th>\n",
       "    </tr>\n",
       "    <tr>\n",
       "      <th>platform</th>\n",
       "      <th></th>\n",
       "    </tr>\n",
       "  </thead>\n",
       "  <tbody>\n",
       "    <tr>\n",
       "      <td>3DS</td>\n",
       "      <td>67.81</td>\n",
       "    </tr>\n",
       "    <tr>\n",
       "      <td>PS3</td>\n",
       "      <td>23.35</td>\n",
       "    </tr>\n",
       "    <tr>\n",
       "      <td>PSV</td>\n",
       "      <td>18.59</td>\n",
       "    </tr>\n",
       "    <tr>\n",
       "      <td>PS4</td>\n",
       "      <td>15.96</td>\n",
       "    </tr>\n",
       "    <tr>\n",
       "      <td>WiiU</td>\n",
       "      <td>10.88</td>\n",
       "    </tr>\n",
       "  </tbody>\n",
       "</table>\n",
       "</div>"
      ],
      "text/plain": [
       "          jp_sales\n",
       "platform          \n",
       "3DS          67.81\n",
       "PS3          23.35\n",
       "PSV          18.59\n",
       "PS4          15.96\n",
       "WiiU         10.88"
      ]
     },
     "execution_count": 38,
     "metadata": {},
     "output_type": "execute_result"
    }
   ],
   "source": [
    "data_actual.pivot_table(index='platform', values='jp_sales', aggfunc='sum').sort_values(by='jp_sales', ascending=False).head()"
   ]
  },
  {
   "cell_type": "code",
   "execution_count": 39,
   "metadata": {},
   "outputs": [
    {
     "data": {
      "image/png": "[encoded data removed]",
      "text/plain": [
       "<Figure size 432x288 with 1 Axes>"
      ]
     },
     "metadata": {
      "needs_background": "light"
     },
     "output_type": "display_data"
    }
   ],
   "source": [
    "platform_by_region = (data_actual\n",
    "                      .query('platform !=\"DS\" and platform!=\"PSP\" and platform!=\"Wii\" and platform != \"PC\"')\n",
    "                      .pivot_table(index = 'platform', values= ['na_sales', 'eu_sales', 'jp_sales'], aggfunc='sum')\n",
    "                      .plot(kind = 'bar'))"
   ]
  },
  {
   "cell_type": "markdown",
   "metadata": {},
   "source": [
    "Мы видим, что ТОП-5 платфом в Европе и Северной Америки совпадает, в обоих регионах лидирует PS4. В Японии же самой популярной является платформа 3DS, также в топ-5 входят платформы PSV и WiiU, которые в Северной Америки и Европе не так популярны.  Интересно, что платформы X360 и XOne совсем не популярны в Японии. Вероятно это связано с тем, что американская компания Microsoft,  которая выпускает данные платформы больше заточена по Американский и Европейский рынок. В Японии же предпочтения клиентов наилучшим образом угадывает платформа от японской компании Nintendo - 3DS."
   ]
  },
  {
   "cell_type": "markdown",
   "metadata": {},
   "source": [
    "### Самые популярные жанры (топ-5)"
   ]
  },
  {
   "cell_type": "markdown",
   "metadata": {},
   "source": [
    "Изучим, какие жанры популярны в различных регионах."
   ]
  },
  {
   "cell_type": "code",
   "execution_count": 40,
   "metadata": {},
   "outputs": [
    {
     "data": {
      "image/png": "[encoded data removed]",
      "text/plain": [
       "<Figure size 864x288 with 1 Axes>"
      ]
     },
     "metadata": {
      "needs_background": "light"
     },
     "output_type": "display_data"
    },
    {
     "data": {
      "image/png": "[encoded data removed]",
      "text/plain": [
       "<Figure size 864x288 with 1 Axes>"
      ]
     },
     "metadata": {
      "needs_background": "light"
     },
     "output_type": "display_data"
    },
    {
     "data": {
      "image/png": "[encoded data removed]",
      "text/plain": [
       "<Figure size 864x288 with 1 Axes>"
      ]
     },
     "metadata": {
      "needs_background": "light"
     },
     "output_type": "display_data"
    }
   ],
   "source": [
    "data_actual.pivot_table(index='genre', values='na_sales', aggfunc='sum').sort_values(by='na_sales', ascending=False).head().plot(kind='bar', figsize=(12,4));\n",
    "plt.title('ТОП-5 жанров в Северной Америке');\n",
    "data_actual.pivot_table(index='genre', values='eu_sales', aggfunc='sum').sort_values(by='eu_sales', ascending=False).head().plot(kind='bar',  figsize=(12,4));\n",
    "plt.title('ТОП-5 жанров в Европе');\n",
    "data_actual.pivot_table(index='genre', values='jp_sales', aggfunc='sum').sort_values(by='jp_sales', ascending=False).head().plot(kind='bar',  figsize=(12,4));\n",
    "plt.title('ТОП-5 жанров в Японии');"
   ]
  },
  {
   "cell_type": "markdown",
   "metadata": {},
   "source": [
    "ТОП-5 жанров в Европе и Северной Америке практически совпадают, самый популярный жанры - Action.  На 2-ом и 3-ем месте Shooter и Spotrs. Отличается только 5-ое место ( Misc для Америки и Racling для Европы). В Японии же самый популярный жанр Role-Playing, а после него идёт жанр Action."
   ]
  },
  {
   "cell_type": "markdown",
   "metadata": {},
   "source": [
    "### Влияние рейтинга ESRB на продажи в отдельном регионе"
   ]
  },
  {
   "cell_type": "markdown",
   "metadata": {},
   "source": [
    "Изучим влияет ли рейтинг компьютерных игр по возрастной категории от орагнизации ESRB на продажи  в отдельном регионе."
   ]
  },
  {
   "cell_type": "code",
   "execution_count": 41,
   "metadata": {},
   "outputs": [
    {
     "data": {
      "text/html": [
       "<div>\n",
       "<style scoped>\n",
       "    .dataframe tbody tr th:only-of-type {\n",
       "        vertical-align: middle;\n",
       "    }\n",
       "\n",
       "    .dataframe tbody tr th {\n",
       "        vertical-align: top;\n",
       "    }\n",
       "\n",
       "    .dataframe thead th {\n",
       "        text-align: right;\n",
       "    }\n",
       "</style>\n",
       "<table border=\"1\" class=\"dataframe\">\n",
       "  <thead>\n",
       "    <tr style=\"text-align: right;\">\n",
       "      <th></th>\n",
       "      <th>eu_sales</th>\n",
       "      <th>jp_sales</th>\n",
       "      <th>na_sales</th>\n",
       "    </tr>\n",
       "    <tr>\n",
       "      <th>rating</th>\n",
       "      <th></th>\n",
       "      <th></th>\n",
       "      <th></th>\n",
       "    </tr>\n",
       "  </thead>\n",
       "  <tbody>\n",
       "    <tr>\n",
       "      <td>E</td>\n",
       "      <td>83.36</td>\n",
       "      <td>15.14</td>\n",
       "      <td>79.05</td>\n",
       "    </tr>\n",
       "    <tr>\n",
       "      <td>E10+</td>\n",
       "      <td>42.69</td>\n",
       "      <td>5.89</td>\n",
       "      <td>54.24</td>\n",
       "    </tr>\n",
       "    <tr>\n",
       "      <td>M</td>\n",
       "      <td>145.32</td>\n",
       "      <td>14.11</td>\n",
       "      <td>165.21</td>\n",
       "    </tr>\n",
       "    <tr>\n",
       "      <td>T</td>\n",
       "      <td>41.95</td>\n",
       "      <td>20.59</td>\n",
       "      <td>49.79</td>\n",
       "    </tr>\n",
       "    <tr>\n",
       "      <td>unknown</td>\n",
       "      <td>78.91</td>\n",
       "      <td>85.05</td>\n",
       "      <td>89.42</td>\n",
       "    </tr>\n",
       "  </tbody>\n",
       "</table>\n",
       "</div>"
      ],
      "text/plain": [
       "         eu_sales  jp_sales  na_sales\n",
       "rating                               \n",
       "E           83.36     15.14     79.05\n",
       "E10+        42.69      5.89     54.24\n",
       "M          145.32     14.11    165.21\n",
       "T           41.95     20.59     49.79\n",
       "unknown     78.91     85.05     89.42"
      ]
     },
     "execution_count": 41,
     "metadata": {},
     "output_type": "execute_result"
    }
   ],
   "source": [
    "data_actual.pivot_table(index='rating', values=['na_sales', 'eu_sales', 'jp_sales'], aggfunc='sum')"
   ]
  },
  {
   "cell_type": "markdown",
   "metadata": {},
   "source": [
    "Расшифоровка кода рейтинга:\n",
    "* «E» («Everyone») — «Для всех»: Содержание вполне подходит для возрастной категории от 6 лет. \n",
    "* «E10+» («Everyone 10 and older») — «Для всех от 10 лет и старше\n",
    "* «T» («Teen») — «Подросткам»: Игра подходит для лиц от 13 лет.\n",
    "* «M» («Mature») — «Для взрослых»: Материалы игры не подходят для подростков младше 17 лет. "
   ]
  },
  {
   "cell_type": "markdown",
   "metadata": {},
   "source": [
    "Как мы видим, в Европе и Северной Америке  больше всего продаж приходится на игры категории \"М\", старше 17 лет. Меньше всего продаж среди игр для подростков (от 13 лет). В Японии большое количество игр, где рейтинг не определён. Возможно на территории Японии есть другие организации, которые присваивают возрастные категории для компьютерных игр. Если брать данные от организации ESRB, то больше всего продаж для игр категории T (для подростков от 13 лет)."
   ]
  },
  {
   "cell_type": "markdown",
   "metadata": {},
   "source": [
    "### Вывод"
   ]
  },
  {
   "cell_type": "markdown",
   "metadata": {},
   "source": [
    "Мы изучили портреты пользователей трёх регионов: Северная Америка, Европа, Япония. Для пользователей Северной Америки и Европы характерны схожие предпочтения в платформах и жанрах (самая популярная платформа - PS4, жанр - Action). Также большинство продаж по этим двум регионам приходится на игры категории \"М\", старше 17 лет. В то время как в Японии популярна более всего платформа от местной компании Nintendo  - 3DS, a жанр - Role-Playing."
   ]
  },
  {
   "cell_type": "markdown",
   "metadata": {},
   "source": [
    "## Проверка гипотез"
   ]
  },
  {
   "cell_type": "markdown",
   "metadata": {},
   "source": [
    "### Средние пользовательские рейтинги платформ Xbox One и PC одинаковые"
   ]
  },
  {
   "cell_type": "markdown",
   "metadata": {},
   "source": [
    "Нам необходимо проверить гипотезу о равенстве среднего двух генеральных совокупностей по взятым из них выборкам. \n",
    "\n",
    "Сформулируем нулевую и альтернативную гипотезы:\n",
    "\n",
    "* H0: средние пользовательские рейтинги платформ Xbox One и PC одинаковые\n",
    "* H1: cредние пользовательские рейтинги платформ Xbox One и PC различные\n",
    "\n",
    "Для проверки гипотезы применим метод scipy.stats.ttest_ind. Нулевую гипотезу проверим на пятипроцентном уровне значимости."
   ]
  },
  {
   "cell_type": "code",
   "execution_count": 42,
   "metadata": {},
   "outputs": [
    {
     "name": "stdout",
     "output_type": "stream",
     "text": [
      "p-значение: 0.14759594013430463\n",
      "Не получилось отвергнуть нулевую гипотезу\n"
     ]
    }
   ],
   "source": [
    "XOne = data_actual.query('platform == \"XOne\"')['user_score'].dropna()\n",
    "PC = data_actual.query('platform == \"PC\"')['user_score'].dropna()\n",
    "\n",
    "from scipy import stats as st\n",
    "\n",
    "alpha = 0.05\n",
    "results = st.ttest_ind(XOne, PC, equal_var=False)\n",
    "print('p-значение:', results.pvalue)\n",
    "\n",
    "if (results.pvalue < alpha):\n",
    "    print(\"Отвергаем нулевую гипотезу\")\n",
    "else:\n",
    "    print(\"Не получилось отвергнуть нулевую гипотезу\")"
   ]
  },
  {
   "cell_type": "markdown",
   "metadata": {},
   "source": [
    "У нас нет оснований отвергнуть нулевую гипотезу на 5-ти уровне значимости у о том, что средние пользовательские рейтинги платформ Xbox One и PC одинаковые."
   ]
  },
  {
   "cell_type": "markdown",
   "metadata": {},
   "source": [
    "### Средние пользовательские рейтинги жанров Action (англ. «действие», экшен-игры) и Sports (англ. «спортивные соревнования») разные"
   ]
  },
  {
   "cell_type": "markdown",
   "metadata": {},
   "source": [
    "Сформулируем нулевую и альтернативную гипотезы:\n",
    "\n",
    "* H0: средние пользовательские рейтинги  жанров Action и  и Sports  одинаковые\n",
    "* H1: средние пользовательские рейтинги  жанров Action и  и Sports  разные\n",
    "\n",
    "Нулевую гипотезу проверим на пятипроцентном уровне значимости."
   ]
  },
  {
   "cell_type": "code",
   "execution_count": 43,
   "metadata": {},
   "outputs": [
    {
     "name": "stdout",
     "output_type": "stream",
     "text": [
      "p-значение: 1.4460039700704315e-20\n",
      "Отвергаем нулевую гипотезу\n"
     ]
    }
   ],
   "source": [
    "Action = data_actual.query('genre == \"Action\"')['user_score'].dropna()\n",
    "Sports = data_actual.query('genre == \"Sports\"')['user_score'].dropna()\n",
    "\n",
    "from scipy import stats as st\n",
    "\n",
    "alpha = 0.05\n",
    "results = st.ttest_ind(Action, Sports, equal_var=False)\n",
    "print('p-значение:', results.pvalue)\n",
    "\n",
    "if (results.pvalue < alpha):\n",
    "    print(\"Отвергаем нулевую гипотезу\")\n",
    "else:\n",
    "    print(\"Не получилось отвергнуть нулевую гипотезу\")"
   ]
  },
  {
   "cell_type": "markdown",
   "metadata": {},
   "source": [
    "Получается, что средние пользовательские рейтинги жанров Action и Sports отличаются. Мы отвергаем нулевую гипотезу о том, что средние пользовательские рейтинги жанров Action и и Sports одинаковые на 5-ти процентном уровне значимости."
   ]
  },
  {
   "cell_type": "markdown",
   "metadata": {},
   "source": [
    "### Вывод"
   ]
  },
  {
   "cell_type": "markdown",
   "metadata": {},
   "source": [
    "Мы проверили две гипотезы по средней пользовательской оценке  на 5-ти процентном уровне значимости, получив следующие результаты: средние пользовательские рейтинги платформ Xbox One и PC одинаковые, и средние пользовательские рейтинги жанров Action и Sports отличаются."
   ]
  },
  {
   "cell_type": "markdown",
   "metadata": {},
   "source": [
    "## Общий вывод"
   ]
  },
  {
   "cell_type": "markdown",
   "metadata": {},
   "source": [
    "Мы проанализировали  исторические данные о продажах компьютерных игр, оценки пользователей и экспертов, жанры и платформы.\n",
    "\n",
    "В ходе работы были предобработанны данные,  проведены дополнительные расчёты (расчёт суммарных продаж по всем регионам).\n",
    "Также был определён актуалный период для построения прогноза: с 2013 по 2016гг.\n",
    "\n",
    "В результате  анализа данных были сделаны следующие выводы:\n",
    "* Для большинства платформ актуального периода к 2016 году наступает снижение продаж. При этом платформы XOne и PS4 можно считать потенциально прибыльными.\n",
    "* Оценки критиков положительно влияют на уровень продаж игр, в то время как отзывы пользователей на продажи игр не влияют.\n",
    "* Самым распространённым и прибыльным является жанр Action, жанры Puzzle и Strategy имеют самые низкие продажи.\n",
    "* Для пользователей Северной Америки и Европы характерны схожие предпочтения в платформах и жанрах. Самые  популярные платформы - PS4,XOne, a  жанры - Action, Shooter, Sport). В Японии самая популярная платформа 3DS, a жанр - Role-Playing.\n",
    "* Пользователи Северной Америки и Европы чаще преобретают игры категории \"М\", старше 17 лет. В Японии - игры категории T (для подростков от 13 лет).\n",
    "* На пятипроцентном уровне значимости мы можем утверждать, что средние пользовательские рейтинги платформ Xbox One и PC одинаковые.\n",
    "* На пятипроцентном уровне значимости мы можем утверждать, что средние пользовательские рейтинги жанров Action и Sports отличаются.\n",
    "\n",
    "На основании выводов выше интернет-магазин «Стримчик» может спланировать рекламные кампании на 2017 год для достижения наибольшей прибыли. \n",
    "\n"
   ]
  }
 ],
 "metadata": {
  "ExecuteTimeLog": [
   {
    "duration": 930,
    "start_time": "2021-06-10T05:36:23.272Z"
   },
   {
    "duration": 114,
    "start_time": "2021-06-10T05:37:03.960Z"
   },
   {
    "duration": 48,
    "start_time": "2021-06-10T05:37:14.818Z"
   },
   {
    "duration": 25,
    "start_time": "2021-06-10T05:39:56.180Z"
   },
   {
    "duration": 17,
    "start_time": "2021-06-10T05:40:40.736Z"
   },
   {
    "duration": 46,
    "start_time": "2021-06-10T05:45:24.597Z"
   },
   {
    "duration": 317,
    "start_time": "2021-06-10T19:47:49.234Z"
   },
   {
    "duration": 819,
    "start_time": "2021-06-10T19:48:00.479Z"
   },
   {
    "duration": 53,
    "start_time": "2021-06-10T19:48:01.301Z"
   },
   {
    "duration": 23,
    "start_time": "2021-06-10T19:48:01.357Z"
   },
   {
    "duration": 14,
    "start_time": "2021-06-10T19:48:01.383Z"
   },
   {
    "duration": 69,
    "start_time": "2021-06-10T19:48:01.399Z"
   },
   {
    "duration": 1553,
    "start_time": "2021-06-10T19:48:01.470Z"
   },
   {
    "duration": 19,
    "start_time": "2021-06-10T19:48:27.599Z"
   },
   {
    "duration": 4,
    "start_time": "2021-06-10T20:05:00.970Z"
   },
   {
    "duration": 22,
    "start_time": "2021-06-10T20:05:06.414Z"
   },
   {
    "duration": 24,
    "start_time": "2021-06-10T20:05:41.307Z"
   },
   {
    "duration": 9,
    "start_time": "2021-06-10T20:11:23.767Z"
   },
   {
    "duration": 14,
    "start_time": "2021-06-10T20:11:33.188Z"
   },
   {
    "duration": 28,
    "start_time": "2021-06-10T20:11:48.320Z"
   },
   {
    "duration": 4,
    "start_time": "2021-06-10T20:14:20.049Z"
   },
   {
    "duration": 14,
    "start_time": "2021-06-10T20:14:22.209Z"
   },
   {
    "duration": 18,
    "start_time": "2021-06-10T20:14:27.969Z"
   },
   {
    "duration": 847,
    "start_time": "2021-06-10T20:14:41.029Z"
   },
   {
    "duration": 54,
    "start_time": "2021-06-10T20:14:41.879Z"
   },
   {
    "duration": 23,
    "start_time": "2021-06-10T20:14:41.939Z"
   },
   {
    "duration": 15,
    "start_time": "2021-06-10T20:14:41.965Z"
   },
   {
    "duration": 71,
    "start_time": "2021-06-10T20:14:41.982Z"
   },
   {
    "duration": 20,
    "start_time": "2021-06-10T20:14:42.055Z"
   },
   {
    "duration": 383,
    "start_time": "2021-06-10T20:14:42.079Z"
   },
   {
    "duration": -281,
    "start_time": "2021-06-10T20:14:42.745Z"
   },
   {
    "duration": -289,
    "start_time": "2021-06-10T20:14:42.754Z"
   },
   {
    "duration": 205,
    "start_time": "2021-06-11T05:00:19.059Z"
   },
   {
    "duration": 614,
    "start_time": "2021-06-11T05:00:33.707Z"
   },
   {
    "duration": 40,
    "start_time": "2021-06-11T05:00:34.323Z"
   },
   {
    "duration": 21,
    "start_time": "2021-06-11T05:00:34.368Z"
   },
   {
    "duration": 12,
    "start_time": "2021-06-11T05:00:34.390Z"
   },
   {
    "duration": 29,
    "start_time": "2021-06-11T05:00:34.403Z"
   },
   {
    "duration": 13,
    "start_time": "2021-06-11T05:00:34.433Z"
   },
   {
    "duration": 44,
    "start_time": "2021-06-11T05:00:34.449Z"
   },
   {
    "duration": 2,
    "start_time": "2021-06-11T05:00:34.496Z"
   },
   {
    "duration": 12,
    "start_time": "2021-06-11T05:02:07.294Z"
   },
   {
    "duration": 256,
    "start_time": "2021-06-11T05:02:57.872Z"
   },
   {
    "duration": 62,
    "start_time": "2021-06-11T05:03:16.326Z"
   },
   {
    "duration": 6,
    "start_time": "2021-06-11T05:04:18.199Z"
   },
   {
    "duration": 7,
    "start_time": "2021-06-11T05:07:57.217Z"
   },
   {
    "duration": 59,
    "start_time": "2021-06-11T05:13:59.212Z"
   },
   {
    "duration": 64,
    "start_time": "2021-06-11T05:15:46.757Z"
   },
   {
    "duration": 13,
    "start_time": "2021-06-11T05:16:21.560Z"
   },
   {
    "duration": 512,
    "start_time": "2021-06-11T08:02:18.231Z"
   },
   {
    "duration": 821,
    "start_time": "2021-06-11T08:02:27.910Z"
   },
   {
    "duration": 49,
    "start_time": "2021-06-11T08:02:28.733Z"
   },
   {
    "duration": 26,
    "start_time": "2021-06-11T08:02:28.785Z"
   },
   {
    "duration": 15,
    "start_time": "2021-06-11T08:02:28.814Z"
   },
   {
    "duration": 47,
    "start_time": "2021-06-11T08:02:28.832Z"
   },
   {
    "duration": 36,
    "start_time": "2021-06-11T08:02:28.881Z"
   },
   {
    "duration": 23,
    "start_time": "2021-06-11T08:02:28.919Z"
   },
   {
    "duration": 22,
    "start_time": "2021-06-11T08:02:28.945Z"
   },
   {
    "duration": 384,
    "start_time": "2021-06-11T08:02:28.969Z"
   },
   {
    "duration": -580,
    "start_time": "2021-06-11T08:02:29.935Z"
   },
   {
    "duration": 11,
    "start_time": "2021-06-11T08:03:10.266Z"
   },
   {
    "duration": 8,
    "start_time": "2021-06-11T08:03:30.815Z"
   },
   {
    "duration": 14,
    "start_time": "2021-06-11T08:03:45.023Z"
   },
   {
    "duration": 11,
    "start_time": "2021-06-11T08:06:20.460Z"
   },
   {
    "duration": 309,
    "start_time": "2021-06-11T08:11:21.897Z"
   },
   {
    "duration": 365,
    "start_time": "2021-06-11T19:28:21.621Z"
   },
   {
    "duration": 885,
    "start_time": "2021-06-11T19:28:31.941Z"
   },
   {
    "duration": 46,
    "start_time": "2021-06-11T19:28:32.829Z"
   },
   {
    "duration": 33,
    "start_time": "2021-06-11T19:28:32.879Z"
   },
   {
    "duration": 22,
    "start_time": "2021-06-11T19:28:32.915Z"
   },
   {
    "duration": 45,
    "start_time": "2021-06-11T19:28:32.940Z"
   },
   {
    "duration": 21,
    "start_time": "2021-06-11T19:28:33.008Z"
   },
   {
    "duration": 16,
    "start_time": "2021-06-11T19:28:33.032Z"
   },
   {
    "duration": 19,
    "start_time": "2021-06-11T19:28:33.053Z"
   },
   {
    "duration": 8,
    "start_time": "2021-06-11T19:28:33.110Z"
   },
   {
    "duration": 24,
    "start_time": "2021-06-11T19:28:33.120Z"
   },
   {
    "duration": 27,
    "start_time": "2021-06-11T19:28:33.146Z"
   },
   {
    "duration": 22,
    "start_time": "2021-06-11T19:28:33.176Z"
   },
   {
    "duration": 29,
    "start_time": "2021-06-11T19:28:33.200Z"
   },
   {
    "duration": 10,
    "start_time": "2021-06-11T19:28:45.650Z"
   },
   {
    "duration": 119,
    "start_time": "2021-06-11T19:28:59.238Z"
   },
   {
    "duration": 14,
    "start_time": "2021-06-11T19:29:02.388Z"
   },
   {
    "duration": 108,
    "start_time": "2021-06-11T20:13:48.336Z"
   },
   {
    "duration": 6,
    "start_time": "2021-06-11T20:14:01.646Z"
   },
   {
    "duration": 10,
    "start_time": "2021-06-11T20:22:39.307Z"
   },
   {
    "duration": 14,
    "start_time": "2021-06-11T20:22:46.931Z"
   },
   {
    "duration": 8633,
    "start_time": "2021-06-11T20:34:12.965Z"
   },
   {
    "duration": 11,
    "start_time": "2021-06-11T20:34:44.887Z"
   },
   {
    "duration": 27,
    "start_time": "2021-06-11T20:36:47.286Z"
   },
   {
    "duration": 642,
    "start_time": "2021-06-11T20:49:56.877Z"
   },
   {
    "duration": 327,
    "start_time": "2021-06-11T20:50:53.307Z"
   },
   {
    "duration": 349,
    "start_time": "2021-06-11T20:51:28.216Z"
   },
   {
    "duration": 318,
    "start_time": "2021-06-11T20:58:12.471Z"
   },
   {
    "duration": 392,
    "start_time": "2021-06-11T21:04:12.114Z"
   },
   {
    "duration": 2083,
    "start_time": "2021-06-11T21:04:25.878Z"
   },
   {
    "duration": 118,
    "start_time": "2021-06-11T21:04:45.395Z"
   },
   {
    "duration": 323,
    "start_time": "2021-06-11T21:04:51.007Z"
   },
   {
    "duration": 314,
    "start_time": "2021-06-11T21:04:54.301Z"
   },
   {
    "duration": 311,
    "start_time": "2021-06-11T21:05:23.319Z"
   },
   {
    "duration": 305,
    "start_time": "2021-06-11T21:08:43.371Z"
   },
   {
    "duration": 401,
    "start_time": "2021-06-12T16:00:52.686Z"
   },
   {
    "duration": 928,
    "start_time": "2021-06-12T16:00:59.659Z"
   },
   {
    "duration": 51,
    "start_time": "2021-06-12T16:01:00.590Z"
   },
   {
    "duration": 26,
    "start_time": "2021-06-12T16:01:00.645Z"
   },
   {
    "duration": 42,
    "start_time": "2021-06-12T16:01:00.674Z"
   },
   {
    "duration": 46,
    "start_time": "2021-06-12T16:01:00.719Z"
   },
   {
    "duration": 41,
    "start_time": "2021-06-12T16:01:00.768Z"
   },
   {
    "duration": 12,
    "start_time": "2021-06-12T16:01:00.811Z"
   },
   {
    "duration": 22,
    "start_time": "2021-06-12T16:01:00.825Z"
   },
   {
    "duration": 8,
    "start_time": "2021-06-12T16:01:00.851Z"
   },
   {
    "duration": 48,
    "start_time": "2021-06-12T16:01:00.862Z"
   },
   {
    "duration": 7,
    "start_time": "2021-06-12T16:01:00.912Z"
   },
   {
    "duration": 18,
    "start_time": "2021-06-12T16:01:00.921Z"
   },
   {
    "duration": 12,
    "start_time": "2021-06-12T16:01:00.941Z"
   },
   {
    "duration": 6,
    "start_time": "2021-06-12T16:01:00.955Z"
   },
   {
    "duration": 50,
    "start_time": "2021-06-12T16:01:00.964Z"
   },
   {
    "duration": 10,
    "start_time": "2021-06-12T16:01:01.016Z"
   },
   {
    "duration": 30,
    "start_time": "2021-06-12T16:01:01.029Z"
   },
   {
    "duration": 373,
    "start_time": "2021-06-12T16:01:01.062Z"
   },
   {
    "duration": 23,
    "start_time": "2021-06-12T16:17:17.775Z"
   },
   {
    "duration": 11,
    "start_time": "2021-06-12T17:54:16.495Z"
   },
   {
    "duration": 318,
    "start_time": "2021-06-12T18:06:21.092Z"
   },
   {
    "duration": 27,
    "start_time": "2021-06-12T18:06:39.678Z"
   },
   {
    "duration": 29,
    "start_time": "2021-06-12T18:06:54.252Z"
   },
   {
    "duration": 24,
    "start_time": "2021-06-12T18:07:10.727Z"
   },
   {
    "duration": 301,
    "start_time": "2021-06-12T18:07:15.758Z"
   },
   {
    "duration": 15,
    "start_time": "2021-06-12T18:19:30.472Z"
   },
   {
    "duration": 24,
    "start_time": "2021-06-12T18:19:41.145Z"
   },
   {
    "duration": 518,
    "start_time": "2021-06-12T18:20:20.467Z"
   },
   {
    "duration": 22,
    "start_time": "2021-06-12T18:20:42.402Z"
   },
   {
    "duration": 468,
    "start_time": "2021-06-12T18:42:24.745Z"
   },
   {
    "duration": 3611,
    "start_time": "2021-06-12T18:42:44.332Z"
   },
   {
    "duration": 101,
    "start_time": "2021-06-12T18:43:46.484Z"
   },
   {
    "duration": 1287,
    "start_time": "2021-06-12T19:24:46.404Z"
   },
   {
    "duration": 1652,
    "start_time": "2021-06-12T19:25:16.357Z"
   },
   {
    "duration": 117,
    "start_time": "2021-06-12T19:25:37.543Z"
   },
   {
    "duration": 1444,
    "start_time": "2021-06-12T19:25:43.643Z"
   },
   {
    "duration": 1690,
    "start_time": "2021-06-12T19:26:42.007Z"
   },
   {
    "duration": 1480,
    "start_time": "2021-06-12T19:27:02.391Z"
   },
   {
    "duration": 346,
    "start_time": "2021-06-13T19:18:04.806Z"
   },
   {
    "duration": 1011,
    "start_time": "2021-06-13T19:18:11.843Z"
   },
   {
    "duration": 49,
    "start_time": "2021-06-13T19:18:12.856Z"
   },
   {
    "duration": 22,
    "start_time": "2021-06-13T19:18:12.908Z"
   },
   {
    "duration": 29,
    "start_time": "2021-06-13T19:18:12.933Z"
   },
   {
    "duration": 51,
    "start_time": "2021-06-13T19:18:12.964Z"
   },
   {
    "duration": 22,
    "start_time": "2021-06-13T19:18:13.018Z"
   },
   {
    "duration": 14,
    "start_time": "2021-06-13T19:18:13.064Z"
   },
   {
    "duration": 20,
    "start_time": "2021-06-13T19:18:13.082Z"
   },
   {
    "duration": 11,
    "start_time": "2021-06-13T19:18:13.105Z"
   },
   {
    "duration": 48,
    "start_time": "2021-06-13T19:18:13.119Z"
   },
   {
    "duration": 11,
    "start_time": "2021-06-13T19:18:13.170Z"
   },
   {
    "duration": 20,
    "start_time": "2021-06-13T19:18:13.184Z"
   },
   {
    "duration": 9,
    "start_time": "2021-06-13T19:18:13.207Z"
   },
   {
    "duration": 18,
    "start_time": "2021-06-13T19:18:13.218Z"
   },
   {
    "duration": 26,
    "start_time": "2021-06-13T19:18:13.263Z"
   },
   {
    "duration": 30,
    "start_time": "2021-06-13T19:18:13.292Z"
   },
   {
    "duration": 56,
    "start_time": "2021-06-13T19:18:13.325Z"
   },
   {
    "duration": 324,
    "start_time": "2021-06-13T19:18:13.383Z"
   },
   {
    "duration": 25,
    "start_time": "2021-06-13T19:18:13.710Z"
   },
   {
    "duration": 1662,
    "start_time": "2021-06-13T19:18:13.738Z"
   },
   {
    "duration": 60,
    "start_time": "2021-06-13T19:18:15.403Z"
   },
   {
    "duration": 13,
    "start_time": "2021-06-13T19:23:49.712Z"
   },
   {
    "duration": 8,
    "start_time": "2021-06-13T19:38:39.815Z"
   },
   {
    "duration": 132,
    "start_time": "2021-06-13T19:59:38.474Z"
   },
   {
    "duration": 21,
    "start_time": "2021-06-13T19:59:47.708Z"
   },
   {
    "duration": 407,
    "start_time": "2021-06-13T20:04:36.047Z"
   },
   {
    "duration": 563,
    "start_time": "2021-06-13T20:04:45.262Z"
   },
   {
    "duration": 514,
    "start_time": "2021-06-13T20:04:50.248Z"
   },
   {
    "duration": 746,
    "start_time": "2021-06-13T20:19:40.303Z"
   },
   {
    "duration": 592,
    "start_time": "2021-06-13T20:22:13.718Z"
   },
   {
    "duration": 326,
    "start_time": "2021-06-13T20:22:35.967Z"
   },
   {
    "duration": 24,
    "start_time": "2021-06-13T20:23:51.443Z"
   },
   {
    "duration": 346,
    "start_time": "2021-06-13T20:23:58.555Z"
   },
   {
    "duration": 6,
    "start_time": "2021-06-13T20:25:03.039Z"
   },
   {
    "duration": 548,
    "start_time": "2021-06-13T20:25:05.911Z"
   },
   {
    "duration": 561,
    "start_time": "2021-06-13T20:25:48.523Z"
   },
   {
    "duration": 635,
    "start_time": "2021-06-13T20:27:14.105Z"
   },
   {
    "duration": 596,
    "start_time": "2021-06-13T20:27:21.016Z"
   },
   {
    "duration": 605,
    "start_time": "2021-06-13T20:28:48.231Z"
   },
   {
    "duration": 108,
    "start_time": "2021-06-13T20:29:02.123Z"
   },
   {
    "duration": 606,
    "start_time": "2021-06-13T20:29:04.512Z"
   },
   {
    "duration": 112,
    "start_time": "2021-06-13T20:29:33.037Z"
   },
   {
    "duration": 622,
    "start_time": "2021-06-13T20:29:38.776Z"
   },
   {
    "duration": 606,
    "start_time": "2021-06-13T20:30:07.228Z"
   },
   {
    "duration": 320,
    "start_time": "2021-06-13T20:31:05.570Z"
   },
   {
    "duration": 641,
    "start_time": "2021-06-13T20:31:09.364Z"
   },
   {
    "duration": 846,
    "start_time": "2021-06-13T20:32:54.028Z"
   },
   {
    "duration": 798,
    "start_time": "2021-06-13T20:32:58.016Z"
   },
   {
    "duration": 853,
    "start_time": "2021-06-13T20:33:09.881Z"
   },
   {
    "duration": 702,
    "start_time": "2021-06-13T20:33:18.181Z"
   },
   {
    "duration": 684,
    "start_time": "2021-06-13T20:33:31.684Z"
   },
   {
    "duration": 18,
    "start_time": "2021-06-13T20:38:55.175Z"
   },
   {
    "duration": 336,
    "start_time": "2021-06-13T20:40:44.255Z"
   },
   {
    "duration": 353,
    "start_time": "2021-06-13T20:40:50.372Z"
   },
   {
    "duration": 347,
    "start_time": "2021-06-13T20:41:06.748Z"
   },
   {
    "duration": 342,
    "start_time": "2021-06-13T20:41:15.257Z"
   },
   {
    "duration": 343,
    "start_time": "2021-06-13T20:41:39.667Z"
   },
   {
    "duration": 768,
    "start_time": "2021-06-13T20:43:21.334Z"
   },
   {
    "duration": 683,
    "start_time": "2021-06-13T20:43:30.524Z"
   },
   {
    "duration": 662,
    "start_time": "2021-06-13T20:43:34.780Z"
   },
   {
    "duration": 412,
    "start_time": "2021-06-13T20:51:03.669Z"
   },
   {
    "duration": 380,
    "start_time": "2021-06-13T20:51:06.782Z"
   },
   {
    "duration": 391,
    "start_time": "2021-06-13T20:51:25.456Z"
   },
   {
    "duration": 408,
    "start_time": "2021-06-13T20:52:04.838Z"
   },
   {
    "duration": 442,
    "start_time": "2021-06-13T20:52:28.422Z"
   },
   {
    "duration": 429,
    "start_time": "2021-06-13T20:52:35.215Z"
   },
   {
    "duration": 415,
    "start_time": "2021-06-13T20:52:40.162Z"
   },
   {
    "duration": 913,
    "start_time": "2021-06-13T20:53:37.905Z"
   },
   {
    "duration": 847,
    "start_time": "2021-06-13T20:54:08.681Z"
   },
   {
    "duration": 880,
    "start_time": "2021-06-13T20:54:20.030Z"
   },
   {
    "duration": 1166,
    "start_time": "2021-06-13T20:55:36.770Z"
   },
   {
    "duration": 1174,
    "start_time": "2021-06-13T20:56:47.643Z"
   },
   {
    "duration": 18,
    "start_time": "2021-06-13T21:01:59.351Z"
   },
   {
    "duration": 18,
    "start_time": "2021-06-13T21:02:27.859Z"
   },
   {
    "duration": 17,
    "start_time": "2021-06-13T21:02:30.870Z"
   },
   {
    "duration": 1110,
    "start_time": "2021-06-13T21:05:17.792Z"
   },
   {
    "duration": 1255,
    "start_time": "2021-06-13T21:07:07.366Z"
   },
   {
    "duration": 1190,
    "start_time": "2021-06-13T21:07:56.741Z"
   },
   {
    "duration": 1285,
    "start_time": "2021-06-13T21:08:01.194Z"
   },
   {
    "duration": 348,
    "start_time": "2021-06-13T21:15:53.541Z"
   },
   {
    "duration": 330,
    "start_time": "2021-06-13T21:16:09.173Z"
   },
   {
    "duration": 21,
    "start_time": "2021-06-13T21:16:24.456Z"
   },
   {
    "duration": 20,
    "start_time": "2021-06-13T21:17:01.665Z"
   },
   {
    "duration": 126,
    "start_time": "2021-06-13T21:18:50.087Z"
   },
   {
    "duration": 122,
    "start_time": "2021-06-13T21:19:50.412Z"
   },
   {
    "duration": 106,
    "start_time": "2021-06-13T21:19:54.422Z"
   },
   {
    "duration": 110,
    "start_time": "2021-06-13T21:21:00.746Z"
   },
   {
    "duration": 106,
    "start_time": "2021-06-13T21:21:15.266Z"
   },
   {
    "duration": 112,
    "start_time": "2021-06-13T21:21:32.079Z"
   },
   {
    "duration": 153,
    "start_time": "2021-06-13T21:21:38.933Z"
   },
   {
    "duration": 94,
    "start_time": "2021-06-13T21:21:47.692Z"
   },
   {
    "duration": 355,
    "start_time": "2021-06-13T21:22:01.061Z"
   },
   {
    "duration": 710,
    "start_time": "2021-06-13T21:22:26.368Z"
   },
   {
    "duration": 92,
    "start_time": "2021-06-13T21:22:37.925Z"
   },
   {
    "duration": 468,
    "start_time": "2021-06-13T21:23:11.227Z"
   },
   {
    "duration": 369,
    "start_time": "2021-06-13T21:23:19.829Z"
   },
   {
    "duration": 377,
    "start_time": "2021-06-13T21:23:27.700Z"
   },
   {
    "duration": 385,
    "start_time": "2021-06-13T21:23:32.256Z"
   },
   {
    "duration": 94,
    "start_time": "2021-06-13T21:23:52.806Z"
   },
   {
    "duration": 466,
    "start_time": "2021-06-13T21:24:00.667Z"
   },
   {
    "duration": 516,
    "start_time": "2021-06-13T21:24:09.403Z"
   },
   {
    "duration": 89,
    "start_time": "2021-06-13T21:24:46.672Z"
   },
   {
    "duration": 340,
    "start_time": "2021-06-13T21:25:36.109Z"
   },
   {
    "duration": 985,
    "start_time": "2021-06-13T21:26:31.809Z"
   },
   {
    "duration": 329,
    "start_time": "2021-06-13T21:26:50.912Z"
   },
   {
    "duration": 451,
    "start_time": "2021-06-13T21:27:03.807Z"
   },
   {
    "duration": 418,
    "start_time": "2021-06-13T21:27:27.873Z"
   },
   {
    "duration": 327,
    "start_time": "2021-06-13T21:27:46.321Z"
   },
   {
    "duration": 352,
    "start_time": "2021-06-13T21:28:29.215Z"
   },
   {
    "duration": 357,
    "start_time": "2021-06-13T21:28:49.507Z"
   },
   {
    "duration": 514,
    "start_time": "2021-06-13T21:31:33.970Z"
   },
   {
    "duration": 7,
    "start_time": "2021-06-13T21:39:33.389Z"
   },
   {
    "duration": 4,
    "start_time": "2021-06-13T21:39:54.620Z"
   },
   {
    "duration": 6,
    "start_time": "2021-06-13T21:39:59.305Z"
   },
   {
    "duration": 7,
    "start_time": "2021-06-13T21:39:59.557Z"
   },
   {
    "duration": 45,
    "start_time": "2021-06-13T21:40:14.810Z"
   },
   {
    "duration": 7724,
    "start_time": "2021-06-13T21:43:06.419Z"
   },
   {
    "duration": 12,
    "start_time": "2021-06-13T21:43:29.396Z"
   },
   {
    "duration": 165,
    "start_time": "2021-06-13T21:44:53.068Z"
   },
   {
    "duration": 13,
    "start_time": "2021-06-13T21:45:13.369Z"
   },
   {
    "duration": 43,
    "start_time": "2021-06-13T21:54:56.883Z"
   },
   {
    "duration": 356,
    "start_time": "2021-06-13T21:55:29.068Z"
   },
   {
    "duration": 871,
    "start_time": "2021-06-13T21:55:50.762Z"
   },
   {
    "duration": 43,
    "start_time": "2021-06-13T21:56:04.774Z"
   },
   {
    "duration": 43,
    "start_time": "2021-06-13T21:56:31.735Z"
   },
   {
    "duration": 331,
    "start_time": "2021-06-13T21:56:41.793Z"
   },
   {
    "duration": 383,
    "start_time": "2021-06-13T21:57:05.976Z"
   },
   {
    "duration": 35,
    "start_time": "2021-06-13T21:57:57.070Z"
   },
   {
    "duration": 43,
    "start_time": "2021-06-13T21:58:29.878Z"
   },
   {
    "duration": 43,
    "start_time": "2021-06-13T21:58:57.807Z"
   },
   {
    "duration": 34,
    "start_time": "2021-06-13T21:59:39.891Z"
   },
   {
    "duration": 42,
    "start_time": "2021-06-13T21:59:49.744Z"
   },
   {
    "duration": 42,
    "start_time": "2021-06-13T22:00:20.994Z"
   },
   {
    "duration": 42,
    "start_time": "2021-06-13T22:00:37.244Z"
   },
   {
    "duration": 42,
    "start_time": "2021-06-13T22:01:03.416Z"
   },
   {
    "duration": 42,
    "start_time": "2021-06-13T22:01:11.019Z"
   },
   {
    "duration": 356,
    "start_time": "2021-06-14T08:23:05.507Z"
   },
   {
    "duration": 1419,
    "start_time": "2021-06-14T08:23:14.634Z"
   },
   {
    "duration": 46,
    "start_time": "2021-06-14T08:23:16.056Z"
   },
   {
    "duration": 24,
    "start_time": "2021-06-14T08:23:16.105Z"
   },
   {
    "duration": 13,
    "start_time": "2021-06-14T08:23:16.131Z"
   },
   {
    "duration": 64,
    "start_time": "2021-06-14T08:23:16.147Z"
   },
   {
    "duration": 18,
    "start_time": "2021-06-14T08:23:16.214Z"
   },
   {
    "duration": 14,
    "start_time": "2021-06-14T08:23:16.234Z"
   },
   {
    "duration": 42,
    "start_time": "2021-06-14T08:23:16.252Z"
   },
   {
    "duration": 10,
    "start_time": "2021-06-14T08:23:16.298Z"
   },
   {
    "duration": 11,
    "start_time": "2021-06-14T08:23:16.310Z"
   },
   {
    "duration": 6,
    "start_time": "2021-06-14T08:23:16.323Z"
   },
   {
    "duration": 14,
    "start_time": "2021-06-14T08:23:16.331Z"
   },
   {
    "duration": 8,
    "start_time": "2021-06-14T08:23:16.385Z"
   },
   {
    "duration": 9,
    "start_time": "2021-06-14T08:23:16.395Z"
   },
   {
    "duration": 26,
    "start_time": "2021-06-14T08:23:16.407Z"
   },
   {
    "duration": 55,
    "start_time": "2021-06-14T08:23:16.436Z"
   },
   {
    "duration": 23,
    "start_time": "2021-06-14T08:23:16.493Z"
   },
   {
    "duration": 310,
    "start_time": "2021-06-14T08:23:16.519Z"
   },
   {
    "duration": 23,
    "start_time": "2021-06-14T08:23:16.833Z"
   },
   {
    "duration": 1446,
    "start_time": "2021-06-14T08:23:16.858Z"
   },
   {
    "duration": 40,
    "start_time": "2021-06-14T08:23:18.306Z"
   },
   {
    "duration": 36,
    "start_time": "2021-06-14T08:23:18.349Z"
   },
   {
    "duration": 8,
    "start_time": "2021-06-14T08:23:18.390Z"
   },
   {
    "duration": 23,
    "start_time": "2021-06-14T08:23:18.402Z"
   },
   {
    "duration": 532,
    "start_time": "2021-06-14T08:23:18.427Z"
   },
   {
    "duration": 707,
    "start_time": "2021-06-14T08:23:18.962Z"
   },
   {
    "duration": 46,
    "start_time": "2021-06-14T08:23:19.672Z"
   },
   {
    "duration": 1142,
    "start_time": "2021-06-14T08:23:19.720Z"
   },
   {
    "duration": 1182,
    "start_time": "2021-06-14T08:23:20.864Z"
   },
   {
    "duration": 17,
    "start_time": "2021-06-14T08:23:22.049Z"
   },
   {
    "duration": 15,
    "start_time": "2021-06-14T08:23:22.086Z"
   },
   {
    "duration": 17,
    "start_time": "2021-06-14T08:23:22.104Z"
   },
   {
    "duration": 365,
    "start_time": "2021-06-14T08:23:22.123Z"
   },
   {
    "duration": 365,
    "start_time": "2021-06-14T08:23:22.491Z"
   },
   {
    "duration": 428,
    "start_time": "2021-06-14T08:23:22.859Z"
   },
   {
    "duration": 22,
    "start_time": "2021-06-14T08:33:52.904Z"
   },
   {
    "duration": 20,
    "start_time": "2021-06-14T08:34:01.813Z"
   },
   {
    "duration": 530,
    "start_time": "2021-06-14T08:34:19.623Z"
   },
   {
    "duration": 32,
    "start_time": "2021-06-14T08:34:27.281Z"
   },
   {
    "duration": 21,
    "start_time": "2021-06-14T08:34:34.975Z"
   },
   {
    "duration": 19,
    "start_time": "2021-06-14T08:34:38.186Z"
   },
   {
    "duration": 21,
    "start_time": "2021-06-14T08:34:50.346Z"
   },
   {
    "duration": 370,
    "start_time": "2021-06-14T08:41:57.856Z"
   },
   {
    "duration": 343,
    "start_time": "2021-06-14T08:42:22.292Z"
   },
   {
    "duration": 263,
    "start_time": "2021-06-14T08:53:35.883Z"
   },
   {
    "duration": 465,
    "start_time": "2021-06-14T08:53:42.153Z"
   },
   {
    "duration": 852,
    "start_time": "2021-06-14T08:53:56.390Z"
   },
   {
    "duration": 266,
    "start_time": "2021-06-14T08:54:01.965Z"
   },
   {
    "duration": 422,
    "start_time": "2021-06-14T08:54:09.741Z"
   },
   {
    "duration": 293,
    "start_time": "2021-06-14T08:54:17.702Z"
   },
   {
    "duration": 287,
    "start_time": "2021-06-14T08:54:22.888Z"
   },
   {
    "duration": 254,
    "start_time": "2021-06-14T08:54:27.704Z"
   },
   {
    "duration": 576,
    "start_time": "2021-06-14T08:55:21.626Z"
   },
   {
    "duration": 836,
    "start_time": "2021-06-14T08:55:42.841Z"
   },
   {
    "duration": 897,
    "start_time": "2021-06-14T08:57:17.983Z"
   },
   {
    "duration": 1194,
    "start_time": "2021-06-14T08:57:26.465Z"
   },
   {
    "duration": 949,
    "start_time": "2021-06-14T08:57:36.085Z"
   },
   {
    "duration": 119,
    "start_time": "2021-06-14T09:05:02.199Z"
   },
   {
    "duration": 10,
    "start_time": "2021-06-14T09:05:35.734Z"
   },
   {
    "duration": 7,
    "start_time": "2021-06-14T09:05:43.923Z"
   },
   {
    "duration": 12,
    "start_time": "2021-06-14T09:05:46.351Z"
   },
   {
    "duration": 34,
    "start_time": "2021-06-14T09:10:02.735Z"
   },
   {
    "duration": 1569,
    "start_time": "2021-06-14T09:10:47.091Z"
   },
   {
    "duration": 49,
    "start_time": "2021-06-14T09:10:48.663Z"
   },
   {
    "duration": 23,
    "start_time": "2021-06-14T09:10:48.716Z"
   },
   {
    "duration": 24,
    "start_time": "2021-06-14T09:10:48.742Z"
   },
   {
    "duration": 50,
    "start_time": "2021-06-14T09:10:48.769Z"
   },
   {
    "duration": 19,
    "start_time": "2021-06-14T09:10:48.822Z"
   },
   {
    "duration": 43,
    "start_time": "2021-06-14T09:10:48.844Z"
   },
   {
    "duration": 22,
    "start_time": "2021-06-14T09:10:48.889Z"
   },
   {
    "duration": 10,
    "start_time": "2021-06-14T09:10:48.916Z"
   },
   {
    "duration": 15,
    "start_time": "2021-06-14T09:10:48.932Z"
   },
   {
    "duration": 39,
    "start_time": "2021-06-14T09:10:48.950Z"
   },
   {
    "duration": 13,
    "start_time": "2021-06-14T09:10:48.992Z"
   },
   {
    "duration": 15,
    "start_time": "2021-06-14T09:10:49.008Z"
   },
   {
    "duration": 8,
    "start_time": "2021-06-14T09:10:49.026Z"
   },
   {
    "duration": 12,
    "start_time": "2021-06-14T09:10:49.036Z"
   },
   {
    "duration": 67,
    "start_time": "2021-06-14T09:10:49.051Z"
   },
   {
    "duration": 26,
    "start_time": "2021-06-14T09:10:49.121Z"
   },
   {
    "duration": 46,
    "start_time": "2021-06-14T09:10:49.149Z"
   },
   {
    "duration": 313,
    "start_time": "2021-06-14T09:10:49.197Z"
   },
   {
    "duration": 25,
    "start_time": "2021-06-14T09:10:49.513Z"
   },
   {
    "duration": 1477,
    "start_time": "2021-06-14T09:10:49.541Z"
   },
   {
    "duration": 43,
    "start_time": "2021-06-14T09:10:51.022Z"
   },
   {
    "duration": 16,
    "start_time": "2021-06-14T09:10:51.086Z"
   },
   {
    "duration": 10,
    "start_time": "2021-06-14T09:10:51.105Z"
   },
   {
    "duration": 20,
    "start_time": "2021-06-14T09:10:51.118Z"
   },
   {
    "duration": 540,
    "start_time": "2021-06-14T09:10:51.141Z"
   },
   {
    "duration": 748,
    "start_time": "2021-06-14T09:10:51.690Z"
   },
   {
    "duration": 57,
    "start_time": "2021-06-14T09:10:52.442Z"
   },
   {
    "duration": 1184,
    "start_time": "2021-06-14T09:10:52.502Z"
   },
   {
    "duration": 1202,
    "start_time": "2021-06-14T09:10:53.688Z"
   },
   {
    "duration": 17,
    "start_time": "2021-06-14T09:10:54.893Z"
   },
   {
    "duration": 15,
    "start_time": "2021-06-14T09:10:54.912Z"
   },
   {
    "duration": 15,
    "start_time": "2021-06-14T09:10:54.929Z"
   },
   {
    "duration": 418,
    "start_time": "2021-06-14T09:10:54.947Z"
   },
   {
    "duration": 528,
    "start_time": "2021-06-14T09:10:55.368Z"
   },
   {
    "duration": 29,
    "start_time": "2021-06-14T09:10:55.899Z"
   },
   {
    "duration": 34,
    "start_time": "2021-06-14T09:10:55.931Z"
   },
   {
    "duration": 28,
    "start_time": "2021-06-14T09:10:55.986Z"
   },
   {
    "duration": 390,
    "start_time": "2021-06-14T09:10:56.017Z"
   },
   {
    "duration": 950,
    "start_time": "2021-06-14T09:10:56.409Z"
   },
   {
    "duration": 36,
    "start_time": "2021-06-14T09:10:57.361Z"
   },
   {
    "duration": 457,
    "start_time": "2021-06-14T09:33:57.961Z"
   },
   {
    "duration": 329,
    "start_time": "2021-06-14T09:34:41.969Z"
   },
   {
    "duration": 318,
    "start_time": "2021-06-14T09:57:36.649Z"
   },
   {
    "duration": 17,
    "start_time": "2021-06-14T09:59:17.536Z"
   },
   {
    "duration": 18,
    "start_time": "2021-06-14T10:04:57.799Z"
   },
   {
    "duration": 1419,
    "start_time": "2021-06-14T10:06:16.620Z"
   },
   {
    "duration": 49,
    "start_time": "2021-06-14T10:06:18.042Z"
   },
   {
    "duration": 24,
    "start_time": "2021-06-14T10:06:18.094Z"
   },
   {
    "duration": 14,
    "start_time": "2021-06-14T10:06:18.121Z"
   },
   {
    "duration": 71,
    "start_time": "2021-06-14T10:06:18.138Z"
   },
   {
    "duration": 19,
    "start_time": "2021-06-14T10:06:18.211Z"
   },
   {
    "duration": 12,
    "start_time": "2021-06-14T10:06:18.233Z"
   },
   {
    "duration": 47,
    "start_time": "2021-06-14T10:06:18.249Z"
   },
   {
    "duration": 13,
    "start_time": "2021-06-14T10:06:18.300Z"
   },
   {
    "duration": 11,
    "start_time": "2021-06-14T10:06:18.316Z"
   },
   {
    "duration": 8,
    "start_time": "2021-06-14T10:06:18.330Z"
   },
   {
    "duration": 45,
    "start_time": "2021-06-14T10:06:18.340Z"
   },
   {
    "duration": 15,
    "start_time": "2021-06-14T10:06:18.387Z"
   },
   {
    "duration": 6,
    "start_time": "2021-06-14T10:06:18.405Z"
   },
   {
    "duration": 9,
    "start_time": "2021-06-14T10:06:18.413Z"
   },
   {
    "duration": 26,
    "start_time": "2021-06-14T10:06:18.424Z"
   },
   {
    "duration": 54,
    "start_time": "2021-06-14T10:06:18.452Z"
   },
   {
    "duration": 24,
    "start_time": "2021-06-14T10:06:18.509Z"
   },
   {
    "duration": 317,
    "start_time": "2021-06-14T10:06:18.536Z"
   },
   {
    "duration": 34,
    "start_time": "2021-06-14T10:06:18.855Z"
   },
   {
    "duration": 1463,
    "start_time": "2021-06-14T10:06:18.892Z"
   },
   {
    "duration": 55,
    "start_time": "2021-06-14T10:06:20.358Z"
   },
   {
    "duration": 12,
    "start_time": "2021-06-14T10:06:20.420Z"
   },
   {
    "duration": 7,
    "start_time": "2021-06-14T10:06:20.436Z"
   },
   {
    "duration": 53,
    "start_time": "2021-06-14T10:06:20.445Z"
   },
   {
    "duration": 516,
    "start_time": "2021-06-14T10:06:20.501Z"
   },
   {
    "duration": 713,
    "start_time": "2021-06-14T10:06:21.020Z"
   },
   {
    "duration": 63,
    "start_time": "2021-06-14T10:06:21.736Z"
   },
   {
    "duration": 1126,
    "start_time": "2021-06-14T10:06:21.802Z"
   },
   {
    "duration": 1147,
    "start_time": "2021-06-14T10:06:22.931Z"
   },
   {
    "duration": 17,
    "start_time": "2021-06-14T10:06:24.080Z"
   },
   {
    "duration": 19,
    "start_time": "2021-06-14T10:06:24.099Z"
   },
   {
    "duration": 15,
    "start_time": "2021-06-14T10:06:24.121Z"
   },
   {
    "duration": 366,
    "start_time": "2021-06-14T10:06:24.138Z"
   },
   {
    "duration": 344,
    "start_time": "2021-06-14T10:06:24.507Z"
   },
   {
    "duration": 33,
    "start_time": "2021-06-14T10:06:24.854Z"
   },
   {
    "duration": 19,
    "start_time": "2021-06-14T10:06:24.890Z"
   },
   {
    "duration": 19,
    "start_time": "2021-06-14T10:06:24.911Z"
   },
   {
    "duration": 363,
    "start_time": "2021-06-14T10:06:24.932Z"
   },
   {
    "duration": 947,
    "start_time": "2021-06-14T10:06:25.298Z"
   },
   {
    "duration": 38,
    "start_time": "2021-06-14T10:06:26.247Z"
   },
   {
    "duration": 16,
    "start_time": "2021-06-14T10:06:26.287Z"
   },
   {
    "duration": 16,
    "start_time": "2021-06-14T10:06:26.306Z"
   },
   {
    "duration": 411,
    "start_time": "2021-06-14T10:07:43.479Z"
   },
   {
    "duration": 300,
    "start_time": "2021-06-14T10:07:47.558Z"
   },
   {
    "duration": 7,
    "start_time": "2021-06-14T10:08:09.195Z"
   },
   {
    "duration": 9,
    "start_time": "2021-06-14T10:08:23.667Z"
   },
   {
    "duration": 315,
    "start_time": "2021-06-14T10:08:49.579Z"
   },
   {
    "duration": 329,
    "start_time": "2021-06-14T10:08:53.653Z"
   },
   {
    "duration": 286,
    "start_time": "2021-06-14T10:09:15.145Z"
   },
   {
    "duration": 5,
    "start_time": "2021-06-14T10:10:21.225Z"
   },
   {
    "duration": 6,
    "start_time": "2021-06-14T10:10:38.996Z"
   },
   {
    "duration": 6,
    "start_time": "2021-06-14T10:11:00.407Z"
   },
   {
    "duration": 6,
    "start_time": "2021-06-14T10:11:02.941Z"
   },
   {
    "duration": 6,
    "start_time": "2021-06-14T10:11:04.970Z"
   },
   {
    "duration": 8,
    "start_time": "2021-06-14T10:12:19.599Z"
   },
   {
    "duration": 18,
    "start_time": "2021-06-14T10:12:39.133Z"
   },
   {
    "duration": 1447,
    "start_time": "2021-06-14T10:32:55.618Z"
   },
   {
    "duration": 53,
    "start_time": "2021-06-14T10:32:57.068Z"
   },
   {
    "duration": 23,
    "start_time": "2021-06-14T10:32:57.124Z"
   },
   {
    "duration": 15,
    "start_time": "2021-06-14T10:32:57.150Z"
   },
   {
    "duration": 60,
    "start_time": "2021-06-14T10:32:57.168Z"
   },
   {
    "duration": 18,
    "start_time": "2021-06-14T10:32:57.231Z"
   },
   {
    "duration": 39,
    "start_time": "2021-06-14T10:32:57.252Z"
   },
   {
    "duration": 20,
    "start_time": "2021-06-14T10:32:57.295Z"
   },
   {
    "duration": 13,
    "start_time": "2021-06-14T10:32:57.318Z"
   },
   {
    "duration": 15,
    "start_time": "2021-06-14T10:32:57.334Z"
   },
   {
    "duration": 37,
    "start_time": "2021-06-14T10:32:57.352Z"
   },
   {
    "duration": 9,
    "start_time": "2021-06-14T10:32:57.392Z"
   },
   {
    "duration": 21,
    "start_time": "2021-06-14T10:32:57.403Z"
   },
   {
    "duration": 6,
    "start_time": "2021-06-14T10:32:57.428Z"
   },
   {
    "duration": 16,
    "start_time": "2021-06-14T10:32:57.437Z"
   },
   {
    "duration": 55,
    "start_time": "2021-06-14T10:32:57.455Z"
   },
   {
    "duration": 27,
    "start_time": "2021-06-14T10:32:57.513Z"
   },
   {
    "duration": 46,
    "start_time": "2021-06-14T10:32:57.542Z"
   },
   {
    "duration": 319,
    "start_time": "2021-06-14T10:32:57.590Z"
   },
   {
    "duration": 23,
    "start_time": "2021-06-14T10:32:57.911Z"
   },
   {
    "duration": 1592,
    "start_time": "2021-06-14T10:32:57.936Z"
   },
   {
    "duration": 55,
    "start_time": "2021-06-14T10:32:59.531Z"
   },
   {
    "duration": 13,
    "start_time": "2021-06-14T10:32:59.591Z"
   },
   {
    "duration": 12,
    "start_time": "2021-06-14T10:32:59.607Z"
   },
   {
    "duration": 24,
    "start_time": "2021-06-14T10:32:59.622Z"
   },
   {
    "duration": 543,
    "start_time": "2021-06-14T10:32:59.648Z"
   },
   {
    "duration": 789,
    "start_time": "2021-06-14T10:33:00.194Z"
   },
   {
    "duration": 46,
    "start_time": "2021-06-14T10:33:00.986Z"
   },
   {
    "duration": 1275,
    "start_time": "2021-06-14T10:33:01.035Z"
   },
   {
    "duration": 1174,
    "start_time": "2021-06-14T10:33:02.313Z"
   },
   {
    "duration": 17,
    "start_time": "2021-06-14T10:33:03.489Z"
   },
   {
    "duration": 46,
    "start_time": "2021-06-14T10:33:03.509Z"
   },
   {
    "duration": 16,
    "start_time": "2021-06-14T10:33:03.557Z"
   },
   {
    "duration": 366,
    "start_time": "2021-06-14T10:33:03.586Z"
   },
   {
    "duration": 371,
    "start_time": "2021-06-14T10:33:03.954Z"
   },
   {
    "duration": 19,
    "start_time": "2021-06-14T10:33:04.328Z"
   },
   {
    "duration": 41,
    "start_time": "2021-06-14T10:33:04.350Z"
   },
   {
    "duration": 21,
    "start_time": "2021-06-14T10:33:04.393Z"
   },
   {
    "duration": 371,
    "start_time": "2021-06-14T10:33:04.417Z"
   },
   {
    "duration": 949,
    "start_time": "2021-06-14T10:33:04.790Z"
   },
   {
    "duration": 22,
    "start_time": "2021-06-14T10:33:05.741Z"
   },
   {
    "duration": 27,
    "start_time": "2021-06-14T10:33:05.765Z"
   },
   {
    "duration": 20,
    "start_time": "2021-06-14T10:33:05.794Z"
   },
   {
    "duration": 4,
    "start_time": "2021-06-14T10:34:18.108Z"
   },
   {
    "duration": 851,
    "start_time": "2021-06-14T10:34:24.222Z"
   },
   {
    "duration": 48,
    "start_time": "2021-06-14T10:34:25.075Z"
   },
   {
    "duration": 22,
    "start_time": "2021-06-14T10:34:25.126Z"
   },
   {
    "duration": 18,
    "start_time": "2021-06-14T10:34:25.150Z"
   },
   {
    "duration": 42,
    "start_time": "2021-06-14T10:34:25.186Z"
   },
   {
    "duration": 19,
    "start_time": "2021-06-14T10:34:25.230Z"
   },
   {
    "duration": 40,
    "start_time": "2021-06-14T10:34:25.251Z"
   },
   {
    "duration": 18,
    "start_time": "2021-06-14T10:34:25.295Z"
   },
   {
    "duration": 10,
    "start_time": "2021-06-14T10:34:25.316Z"
   },
   {
    "duration": 10,
    "start_time": "2021-06-14T10:34:25.328Z"
   },
   {
    "duration": 8,
    "start_time": "2021-06-14T10:34:25.340Z"
   },
   {
    "duration": 8,
    "start_time": "2021-06-14T10:34:25.386Z"
   },
   {
    "duration": 15,
    "start_time": "2021-06-14T10:34:25.396Z"
   },
   {
    "duration": 6,
    "start_time": "2021-06-14T10:34:25.413Z"
   },
   {
    "duration": 14,
    "start_time": "2021-06-14T10:34:25.421Z"
   },
   {
    "duration": 51,
    "start_time": "2021-06-14T10:34:25.443Z"
   },
   {
    "duration": 26,
    "start_time": "2021-06-14T10:34:25.497Z"
   },
   {
    "duration": 24,
    "start_time": "2021-06-14T10:34:25.525Z"
   },
   {
    "duration": 403,
    "start_time": "2021-06-14T10:34:25.551Z"
   },
   {
    "duration": 34,
    "start_time": "2021-06-14T10:34:25.957Z"
   },
   {
    "duration": 1476,
    "start_time": "2021-06-14T10:34:25.994Z"
   },
   {
    "duration": 51,
    "start_time": "2021-06-14T10:34:27.472Z"
   },
   {
    "duration": 14,
    "start_time": "2021-06-14T10:34:27.528Z"
   },
   {
    "duration": 10,
    "start_time": "2021-06-14T10:34:27.545Z"
   },
   {
    "duration": 45,
    "start_time": "2021-06-14T10:34:27.558Z"
   },
   {
    "duration": 600,
    "start_time": "2021-06-14T10:34:27.605Z"
   },
   {
    "duration": 1977,
    "start_time": "2021-06-14T10:34:28.208Z"
   },
   {
    "duration": 107,
    "start_time": "2021-06-14T10:34:30.189Z"
   },
   {
    "duration": 1187,
    "start_time": "2021-06-14T10:34:30.299Z"
   },
   {
    "duration": 1198,
    "start_time": "2021-06-14T10:34:31.488Z"
   },
   {
    "duration": 17,
    "start_time": "2021-06-14T10:34:32.689Z"
   },
   {
    "duration": 17,
    "start_time": "2021-06-14T10:34:32.708Z"
   },
   {
    "duration": 16,
    "start_time": "2021-06-14T10:34:32.727Z"
   },
   {
    "duration": 414,
    "start_time": "2021-06-14T10:34:32.745Z"
   },
   {
    "duration": 380,
    "start_time": "2021-06-14T10:34:33.162Z"
   },
   {
    "duration": 23,
    "start_time": "2021-06-14T10:34:33.545Z"
   },
   {
    "duration": 22,
    "start_time": "2021-06-14T10:34:33.587Z"
   },
   {
    "duration": 23,
    "start_time": "2021-06-14T10:34:33.611Z"
   },
   {
    "duration": 564,
    "start_time": "2021-06-14T10:34:33.636Z"
   },
   {
    "duration": 985,
    "start_time": "2021-06-14T10:34:34.204Z"
   },
   {
    "duration": 22,
    "start_time": "2021-06-14T10:34:35.191Z"
   },
   {
    "duration": 479,
    "start_time": "2021-06-14T10:34:35.216Z"
   },
   {
    "duration": 17,
    "start_time": "2021-06-14T10:34:35.697Z"
   },
   {
    "duration": 885,
    "start_time": "2021-06-14T10:49:20.458Z"
   },
   {
    "duration": 49,
    "start_time": "2021-06-14T10:49:21.345Z"
   },
   {
    "duration": 22,
    "start_time": "2021-06-14T10:49:21.397Z"
   },
   {
    "duration": 15,
    "start_time": "2021-06-14T10:49:21.422Z"
   },
   {
    "duration": 72,
    "start_time": "2021-06-14T10:49:21.440Z"
   },
   {
    "duration": 19,
    "start_time": "2021-06-14T10:49:21.514Z"
   },
   {
    "duration": 14,
    "start_time": "2021-06-14T10:49:21.535Z"
   },
   {
    "duration": 44,
    "start_time": "2021-06-14T10:49:21.553Z"
   },
   {
    "duration": 10,
    "start_time": "2021-06-14T10:49:21.599Z"
   },
   {
    "duration": 14,
    "start_time": "2021-06-14T10:49:21.611Z"
   },
   {
    "duration": 7,
    "start_time": "2021-06-14T10:49:21.627Z"
   },
   {
    "duration": 7,
    "start_time": "2021-06-14T10:49:21.637Z"
   },
   {
    "duration": 41,
    "start_time": "2021-06-14T10:49:21.647Z"
   },
   {
    "duration": 7,
    "start_time": "2021-06-14T10:49:21.690Z"
   },
   {
    "duration": 10,
    "start_time": "2021-06-14T10:49:21.699Z"
   },
   {
    "duration": 35,
    "start_time": "2021-06-14T10:49:21.711Z"
   },
   {
    "duration": 51,
    "start_time": "2021-06-14T10:49:21.748Z"
   },
   {
    "duration": 24,
    "start_time": "2021-06-14T10:49:21.801Z"
   },
   {
    "duration": 329,
    "start_time": "2021-06-14T10:49:21.827Z"
   },
   {
    "duration": 34,
    "start_time": "2021-06-14T10:49:22.158Z"
   },
   {
    "duration": 1594,
    "start_time": "2021-06-14T10:49:22.194Z"
   },
   {
    "duration": 41,
    "start_time": "2021-06-14T10:49:23.791Z"
   },
   {
    "duration": 13,
    "start_time": "2021-06-14T10:49:23.837Z"
   },
   {
    "duration": 35,
    "start_time": "2021-06-14T10:49:23.853Z"
   },
   {
    "duration": 21,
    "start_time": "2021-06-14T10:49:23.891Z"
   },
   {
    "duration": 570,
    "start_time": "2021-06-14T10:49:23.915Z"
   },
   {
    "duration": 656,
    "start_time": "2021-06-14T10:49:24.488Z"
   },
   {
    "duration": 54,
    "start_time": "2021-06-14T10:49:25.147Z"
   },
   {
    "duration": 1284,
    "start_time": "2021-06-14T10:49:25.203Z"
   },
   {
    "duration": 1312,
    "start_time": "2021-06-14T10:49:26.490Z"
   },
   {
    "duration": 15,
    "start_time": "2021-06-14T10:49:27.804Z"
   },
   {
    "duration": 19,
    "start_time": "2021-06-14T10:49:27.822Z"
   },
   {
    "duration": 53,
    "start_time": "2021-06-14T10:49:27.843Z"
   },
   {
    "duration": 358,
    "start_time": "2021-06-14T10:49:27.899Z"
   },
   {
    "duration": 359,
    "start_time": "2021-06-14T10:49:28.259Z"
   },
   {
    "duration": 20,
    "start_time": "2021-06-14T10:49:28.620Z"
   },
   {
    "duration": 22,
    "start_time": "2021-06-14T10:49:28.642Z"
   },
   {
    "duration": 37,
    "start_time": "2021-06-14T10:49:28.666Z"
   },
   {
    "duration": 447,
    "start_time": "2021-06-14T10:49:28.705Z"
   },
   {
    "duration": 932,
    "start_time": "2021-06-14T10:49:29.155Z"
   },
   {
    "duration": 24,
    "start_time": "2021-06-14T10:49:30.089Z"
   },
   {
    "duration": 478,
    "start_time": "2021-06-14T10:49:30.116Z"
   },
   {
    "duration": 17,
    "start_time": "2021-06-14T10:49:30.597Z"
   },
   {
    "duration": 865,
    "start_time": "2021-06-14T10:58:58.701Z"
   },
   {
    "duration": 48,
    "start_time": "2021-06-14T10:58:59.569Z"
   },
   {
    "duration": 26,
    "start_time": "2021-06-14T10:58:59.621Z"
   },
   {
    "duration": 17,
    "start_time": "2021-06-14T10:58:59.650Z"
   },
   {
    "duration": 57,
    "start_time": "2021-06-14T10:58:59.670Z"
   },
   {
    "duration": 18,
    "start_time": "2021-06-14T10:58:59.730Z"
   },
   {
    "duration": 40,
    "start_time": "2021-06-14T10:58:59.751Z"
   },
   {
    "duration": 18,
    "start_time": "2021-06-14T10:58:59.795Z"
   },
   {
    "duration": 10,
    "start_time": "2021-06-14T10:58:59.816Z"
   },
   {
    "duration": 12,
    "start_time": "2021-06-14T10:58:59.829Z"
   },
   {
    "duration": 43,
    "start_time": "2021-06-14T10:58:59.844Z"
   },
   {
    "duration": 6,
    "start_time": "2021-06-14T10:58:59.890Z"
   },
   {
    "duration": 15,
    "start_time": "2021-06-14T10:58:59.898Z"
   },
   {
    "duration": 6,
    "start_time": "2021-06-14T10:58:59.916Z"
   },
   {
    "duration": 10,
    "start_time": "2021-06-14T10:58:59.925Z"
   },
   {
    "duration": 68,
    "start_time": "2021-06-14T10:58:59.937Z"
   },
   {
    "duration": 27,
    "start_time": "2021-06-14T10:59:00.007Z"
   },
   {
    "duration": 23,
    "start_time": "2021-06-14T10:59:00.036Z"
   },
   {
    "duration": 418,
    "start_time": "2021-06-14T10:59:00.086Z"
   },
   {
    "duration": 22,
    "start_time": "2021-06-14T10:59:00.506Z"
   },
   {
    "duration": 1558,
    "start_time": "2021-06-14T10:59:00.530Z"
   },
   {
    "duration": 40,
    "start_time": "2021-06-14T10:59:02.090Z"
   },
   {
    "duration": 12,
    "start_time": "2021-06-14T10:59:02.136Z"
   },
   {
    "duration": 37,
    "start_time": "2021-06-14T10:59:02.151Z"
   },
   {
    "duration": 20,
    "start_time": "2021-06-14T10:59:02.191Z"
   },
   {
    "duration": 556,
    "start_time": "2021-06-14T10:59:02.213Z"
   },
   {
    "duration": 669,
    "start_time": "2021-06-14T10:59:02.772Z"
   },
   {
    "duration": 60,
    "start_time": "2021-06-14T10:59:03.445Z"
   },
   {
    "duration": 1183,
    "start_time": "2021-06-14T10:59:03.508Z"
   },
   {
    "duration": 1195,
    "start_time": "2021-06-14T10:59:04.693Z"
   },
   {
    "duration": 18,
    "start_time": "2021-06-14T10:59:05.891Z"
   },
   {
    "duration": 29,
    "start_time": "2021-06-14T10:59:05.911Z"
   },
   {
    "duration": 17,
    "start_time": "2021-06-14T10:59:05.943Z"
   },
   {
    "duration": 363,
    "start_time": "2021-06-14T10:59:05.986Z"
   },
   {
    "duration": 367,
    "start_time": "2021-06-14T10:59:06.351Z"
   },
   {
    "duration": 20,
    "start_time": "2021-06-14T10:59:06.721Z"
   },
   {
    "duration": 43,
    "start_time": "2021-06-14T10:59:06.744Z"
   },
   {
    "duration": 19,
    "start_time": "2021-06-14T10:59:06.789Z"
   },
   {
    "duration": 463,
    "start_time": "2021-06-14T10:59:06.811Z"
   },
   {
    "duration": 954,
    "start_time": "2021-06-14T10:59:07.277Z"
   },
   {
    "duration": 23,
    "start_time": "2021-06-14T10:59:08.234Z"
   },
   {
    "duration": 453,
    "start_time": "2021-06-14T10:59:08.259Z"
   },
   {
    "duration": 17,
    "start_time": "2021-06-14T10:59:08.715Z"
   }
  ],
  "kernelspec": {
   "display_name": "Python 3",
   "language": "python",
   "name": "python3"
  },
  "language_info": {
   "codemirror_mode": {
    "name": "ipython",
    "version": 3
   },
   "file_extension": ".py",
   "mimetype": "text/x-python",
   "name": "python",
   "nbconvert_exporter": "python",
   "pygments_lexer": "ipython3",
   "version": "3.8.8"
  },
  "toc": {
   "base_numbering": 1,
   "nav_menu": {},
   "number_sections": true,
   "sideBar": true,
   "skip_h1_title": true,
   "title_cell": "Содержание",
   "title_sidebar": "Contents",
   "toc_cell": true,
   "toc_position": {
    "height": "calc(100% - 180px)",
    "left": "10px",
    "top": "150px",
    "width": "323.903px"
   },
   "toc_section_display": true,
   "toc_window_display": true
  }
 },
 "nbformat": 4,
 "nbformat_minor": 2
}
