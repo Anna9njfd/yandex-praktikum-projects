{
 "cells": [
  {
   "cell_type": "markdown",
   "metadata": {},
   "source": [
    "# Анализ пользовательского поведения в мобильном приложении"
   ]
  },
  {
   "cell_type": "markdown",
   "metadata": {},
   "source": [
    "Необходимо разобраться, как ведут себя пользователи мобильного приложения, который продаёт продукты питания.\n",
    "Для этого необходимо изучить воронку продаж и проанализировать как пользователи доходят до покупки, а также оценить результаты A/A/B-тестирования. \n",
    "\n",
    "Для проведения анализа у нас есть запись логов. Каждая запись в логе — это действие пользователя, или событие.\n",
    "* EventName — название события;\n",
    "* DeviceIDHash — уникальный идентификатор пользователя;\n",
    "* EventTimestamp — время события;\n",
    "* ExpId — номер эксперимента: 246 и 247 — контрольные группы, а 248 — экспериментальная.\n",
    "\n",
    "Цель -  проанализировать пользовательское поведение в приложении и принять решение о необходимости смене шрифтов.\n"
   ]
  },
  {
   "cell_type": "markdown",
   "metadata": {},
   "source": [
    "## Изучение общей информации и предобработка данных"
   ]
  },
  {
   "cell_type": "markdown",
   "metadata": {},
   "source": [
    "Импортируем библиотеки, с которыми будем работать."
   ]
  },
  {
   "cell_type": "code",
   "execution_count": 1,
   "metadata": {},
   "outputs": [],
   "source": [
    "import pandas as pd\n",
    "import matplotlib.pyplot as plt\n",
    "import numpy as np\n",
    "import seaborn as sns\n",
    "import scipy.stats as stats\n",
    "from plotly import graph_objects as go\n",
    "import plotly.express as px\n",
    "import re\n",
    "import requests\n",
    "import datetime\n",
    "from datetime import datetime as dt\n",
    "import math as mth\n",
    "from scipy import stats as st"
   ]
  },
  {
   "cell_type": "markdown",
   "metadata": {},
   "source": [
    "Прочитаем файл с данными по заведениям общественного питания в Москве и сохраним его в переменной **data**."
   ]
  },
  {
   "cell_type": "code",
   "execution_count": 2,
   "metadata": {},
   "outputs": [
    {
     "data": {
      "text/html": [
       "<div>\n",
       "<style scoped>\n",
       "    .dataframe tbody tr th:only-of-type {\n",
       "        vertical-align: middle;\n",
       "    }\n",
       "\n",
       "    .dataframe tbody tr th {\n",
       "        vertical-align: top;\n",
       "    }\n",
       "\n",
       "    .dataframe thead th {\n",
       "        text-align: right;\n",
       "    }\n",
       "</style>\n",
       "<table border=\"1\" class=\"dataframe\">\n",
       "  <thead>\n",
       "    <tr style=\"text-align: right;\">\n",
       "      <th></th>\n",
       "      <th>EventName\\tDeviceIDHash\\tEventTimestamp\\tExpId</th>\n",
       "    </tr>\n",
       "  </thead>\n",
       "  <tbody>\n",
       "    <tr>\n",
       "      <th>0</th>\n",
       "      <td>MainScreenAppear\\t4575588528974610257\\t1564029...</td>\n",
       "    </tr>\n",
       "    <tr>\n",
       "      <th>1</th>\n",
       "      <td>MainScreenAppear\\t7416695313311560658\\t1564053...</td>\n",
       "    </tr>\n",
       "    <tr>\n",
       "      <th>2</th>\n",
       "      <td>PaymentScreenSuccessful\\t3518123091307005509\\t...</td>\n",
       "    </tr>\n",
       "    <tr>\n",
       "      <th>3</th>\n",
       "      <td>CartScreenAppear\\t3518123091307005509\\t1564054...</td>\n",
       "    </tr>\n",
       "    <tr>\n",
       "      <th>4</th>\n",
       "      <td>PaymentScreenSuccessful\\t6217807653094995999\\t...</td>\n",
       "    </tr>\n",
       "  </tbody>\n",
       "</table>\n",
       "</div>"
      ],
      "text/plain": [
       "      EventName\\tDeviceIDHash\\tEventTimestamp\\tExpId\n",
       "0  MainScreenAppear\\t4575588528974610257\\t1564029...\n",
       "1  MainScreenAppear\\t7416695313311560658\\t1564053...\n",
       "2  PaymentScreenSuccessful\\t3518123091307005509\\t...\n",
       "3  CartScreenAppear\\t3518123091307005509\\t1564054...\n",
       "4  PaymentScreenSuccessful\\t6217807653094995999\\t..."
      ]
     },
     "execution_count": 2,
     "metadata": {},
     "output_type": "execute_result"
    }
   ],
   "source": [
    "data = pd.read_csv('/datasets/logs_exp.csv')\n",
    "data.head()"
   ]
  },
  {
   "cell_type": "markdown",
   "metadata": {},
   "source": [
    "Как мы видим данные склеились в одну строку. В параметрах функции read_csv() зададим sep='\\t', чтобы указать какими символами разделять колонки."
   ]
  },
  {
   "cell_type": "code",
   "execution_count": 3,
   "metadata": {},
   "outputs": [
    {
     "data": {
      "text/html": [
       "<div>\n",
       "<style scoped>\n",
       "    .dataframe tbody tr th:only-of-type {\n",
       "        vertical-align: middle;\n",
       "    }\n",
       "\n",
       "    .dataframe tbody tr th {\n",
       "        vertical-align: top;\n",
       "    }\n",
       "\n",
       "    .dataframe thead th {\n",
       "        text-align: right;\n",
       "    }\n",
       "</style>\n",
       "<table border=\"1\" class=\"dataframe\">\n",
       "  <thead>\n",
       "    <tr style=\"text-align: right;\">\n",
       "      <th></th>\n",
       "      <th>EventName</th>\n",
       "      <th>DeviceIDHash</th>\n",
       "      <th>EventTimestamp</th>\n",
       "      <th>ExpId</th>\n",
       "    </tr>\n",
       "  </thead>\n",
       "  <tbody>\n",
       "    <tr>\n",
       "      <th>0</th>\n",
       "      <td>MainScreenAppear</td>\n",
       "      <td>4575588528974610257</td>\n",
       "      <td>1564029816</td>\n",
       "      <td>246</td>\n",
       "    </tr>\n",
       "    <tr>\n",
       "      <th>1</th>\n",
       "      <td>MainScreenAppear</td>\n",
       "      <td>7416695313311560658</td>\n",
       "      <td>1564053102</td>\n",
       "      <td>246</td>\n",
       "    </tr>\n",
       "    <tr>\n",
       "      <th>2</th>\n",
       "      <td>PaymentScreenSuccessful</td>\n",
       "      <td>3518123091307005509</td>\n",
       "      <td>1564054127</td>\n",
       "      <td>248</td>\n",
       "    </tr>\n",
       "    <tr>\n",
       "      <th>3</th>\n",
       "      <td>CartScreenAppear</td>\n",
       "      <td>3518123091307005509</td>\n",
       "      <td>1564054127</td>\n",
       "      <td>248</td>\n",
       "    </tr>\n",
       "    <tr>\n",
       "      <th>4</th>\n",
       "      <td>PaymentScreenSuccessful</td>\n",
       "      <td>6217807653094995999</td>\n",
       "      <td>1564055322</td>\n",
       "      <td>248</td>\n",
       "    </tr>\n",
       "  </tbody>\n",
       "</table>\n",
       "</div>"
      ],
      "text/plain": [
       "                 EventName         DeviceIDHash  EventTimestamp  ExpId\n",
       "0         MainScreenAppear  4575588528974610257      1564029816    246\n",
       "1         MainScreenAppear  7416695313311560658      1564053102    246\n",
       "2  PaymentScreenSuccessful  3518123091307005509      1564054127    248\n",
       "3         CartScreenAppear  3518123091307005509      1564054127    248\n",
       "4  PaymentScreenSuccessful  6217807653094995999      1564055322    248"
      ]
     },
     "execution_count": 3,
     "metadata": {},
     "output_type": "execute_result"
    }
   ],
   "source": [
    "data = pd.read_csv('/datasets/logs_exp.csv', sep='\\t')\n",
    "data.head()"
   ]
  },
  {
   "cell_type": "markdown",
   "metadata": {},
   "source": [
    "Заменим названия столбцов на удобные, с которыми будет проще работать в дальнейшем."
   ]
  },
  {
   "cell_type": "code",
   "execution_count": 4,
   "metadata": {},
   "outputs": [
    {
     "data": {
      "text/html": [
       "<div>\n",
       "<style scoped>\n",
       "    .dataframe tbody tr th:only-of-type {\n",
       "        vertical-align: middle;\n",
       "    }\n",
       "\n",
       "    .dataframe tbody tr th {\n",
       "        vertical-align: top;\n",
       "    }\n",
       "\n",
       "    .dataframe thead th {\n",
       "        text-align: right;\n",
       "    }\n",
       "</style>\n",
       "<table border=\"1\" class=\"dataframe\">\n",
       "  <thead>\n",
       "    <tr style=\"text-align: right;\">\n",
       "      <th></th>\n",
       "      <th>event_name</th>\n",
       "      <th>user_id</th>\n",
       "      <th>event_timestamp</th>\n",
       "      <th>exp_id</th>\n",
       "    </tr>\n",
       "  </thead>\n",
       "  <tbody>\n",
       "    <tr>\n",
       "      <th>0</th>\n",
       "      <td>MainScreenAppear</td>\n",
       "      <td>4575588528974610257</td>\n",
       "      <td>1564029816</td>\n",
       "      <td>246</td>\n",
       "    </tr>\n",
       "    <tr>\n",
       "      <th>1</th>\n",
       "      <td>MainScreenAppear</td>\n",
       "      <td>7416695313311560658</td>\n",
       "      <td>1564053102</td>\n",
       "      <td>246</td>\n",
       "    </tr>\n",
       "    <tr>\n",
       "      <th>2</th>\n",
       "      <td>PaymentScreenSuccessful</td>\n",
       "      <td>3518123091307005509</td>\n",
       "      <td>1564054127</td>\n",
       "      <td>248</td>\n",
       "    </tr>\n",
       "    <tr>\n",
       "      <th>3</th>\n",
       "      <td>CartScreenAppear</td>\n",
       "      <td>3518123091307005509</td>\n",
       "      <td>1564054127</td>\n",
       "      <td>248</td>\n",
       "    </tr>\n",
       "    <tr>\n",
       "      <th>4</th>\n",
       "      <td>PaymentScreenSuccessful</td>\n",
       "      <td>6217807653094995999</td>\n",
       "      <td>1564055322</td>\n",
       "      <td>248</td>\n",
       "    </tr>\n",
       "  </tbody>\n",
       "</table>\n",
       "</div>"
      ],
      "text/plain": [
       "                event_name              user_id  event_timestamp  exp_id\n",
       "0         MainScreenAppear  4575588528974610257       1564029816     246\n",
       "1         MainScreenAppear  7416695313311560658       1564053102     246\n",
       "2  PaymentScreenSuccessful  3518123091307005509       1564054127     248\n",
       "3         CartScreenAppear  3518123091307005509       1564054127     248\n",
       "4  PaymentScreenSuccessful  6217807653094995999       1564055322     248"
      ]
     },
     "execution_count": 4,
     "metadata": {},
     "output_type": "execute_result"
    }
   ],
   "source": [
    "data.columns=['event_name', 'user_id', 'event_timestamp', 'exp_id']\n",
    "data.head()"
   ]
  },
  {
   "cell_type": "markdown",
   "metadata": {},
   "source": [
    "Изучим общую информацию по датасету."
   ]
  },
  {
   "cell_type": "code",
   "execution_count": 5,
   "metadata": {},
   "outputs": [
    {
     "name": "stdout",
     "output_type": "stream",
     "text": [
      "<class 'pandas.core.frame.DataFrame'>\n",
      "RangeIndex: 244126 entries, 0 to 244125\n",
      "Data columns (total 4 columns):\n",
      " #   Column           Non-Null Count   Dtype \n",
      "---  ------           --------------   ----- \n",
      " 0   event_name       244126 non-null  object\n",
      " 1   user_id          244126 non-null  int64 \n",
      " 2   event_timestamp  244126 non-null  int64 \n",
      " 3   exp_id           244126 non-null  int64 \n",
      "dtypes: int64(3), object(1)\n",
      "memory usage: 7.5+ MB\n"
     ]
    }
   ],
   "source": [
    "data.info()"
   ]
  },
  {
   "cell_type": "markdown",
   "metadata": {},
   "source": [
    "Всего у нас 244 126 наблюдений, пропущенных значений нет.  Данные в столбце о времени события (event_timestamp) представлены в формате целочисленных значений. Приведем эти значения к типу дата."
   ]
  },
  {
   "cell_type": "code",
   "execution_count": 6,
   "metadata": {},
   "outputs": [
    {
     "data": {
      "text/html": [
       "<div>\n",
       "<style scoped>\n",
       "    .dataframe tbody tr th:only-of-type {\n",
       "        vertical-align: middle;\n",
       "    }\n",
       "\n",
       "    .dataframe tbody tr th {\n",
       "        vertical-align: top;\n",
       "    }\n",
       "\n",
       "    .dataframe thead th {\n",
       "        text-align: right;\n",
       "    }\n",
       "</style>\n",
       "<table border=\"1\" class=\"dataframe\">\n",
       "  <thead>\n",
       "    <tr style=\"text-align: right;\">\n",
       "      <th></th>\n",
       "      <th>event_name</th>\n",
       "      <th>user_id</th>\n",
       "      <th>event_timestamp</th>\n",
       "      <th>exp_id</th>\n",
       "    </tr>\n",
       "  </thead>\n",
       "  <tbody>\n",
       "    <tr>\n",
       "      <th>0</th>\n",
       "      <td>MainScreenAppear</td>\n",
       "      <td>4575588528974610257</td>\n",
       "      <td>2019-07-25 04:43:36</td>\n",
       "      <td>246</td>\n",
       "    </tr>\n",
       "    <tr>\n",
       "      <th>1</th>\n",
       "      <td>MainScreenAppear</td>\n",
       "      <td>7416695313311560658</td>\n",
       "      <td>2019-07-25 11:11:42</td>\n",
       "      <td>246</td>\n",
       "    </tr>\n",
       "    <tr>\n",
       "      <th>2</th>\n",
       "      <td>PaymentScreenSuccessful</td>\n",
       "      <td>3518123091307005509</td>\n",
       "      <td>2019-07-25 11:28:47</td>\n",
       "      <td>248</td>\n",
       "    </tr>\n",
       "    <tr>\n",
       "      <th>3</th>\n",
       "      <td>CartScreenAppear</td>\n",
       "      <td>3518123091307005509</td>\n",
       "      <td>2019-07-25 11:28:47</td>\n",
       "      <td>248</td>\n",
       "    </tr>\n",
       "    <tr>\n",
       "      <th>4</th>\n",
       "      <td>PaymentScreenSuccessful</td>\n",
       "      <td>6217807653094995999</td>\n",
       "      <td>2019-07-25 11:48:42</td>\n",
       "      <td>248</td>\n",
       "    </tr>\n",
       "  </tbody>\n",
       "</table>\n",
       "</div>"
      ],
      "text/plain": [
       "                event_name              user_id     event_timestamp  exp_id\n",
       "0         MainScreenAppear  4575588528974610257 2019-07-25 04:43:36     246\n",
       "1         MainScreenAppear  7416695313311560658 2019-07-25 11:11:42     246\n",
       "2  PaymentScreenSuccessful  3518123091307005509 2019-07-25 11:28:47     248\n",
       "3         CartScreenAppear  3518123091307005509 2019-07-25 11:28:47     248\n",
       "4  PaymentScreenSuccessful  6217807653094995999 2019-07-25 11:48:42     248"
      ]
     },
     "execution_count": 6,
     "metadata": {},
     "output_type": "execute_result"
    }
   ],
   "source": [
    "data['event_timestamp'] = pd.to_datetime(data['event_timestamp'], unit='s')\n",
    "data.head()"
   ]
  },
  {
   "cell_type": "markdown",
   "metadata": {},
   "source": [
    "Также добавим отдельный столбец *date*, где будет только дата события."
   ]
  },
  {
   "cell_type": "code",
   "execution_count": 7,
   "metadata": {},
   "outputs": [
    {
     "data": {
      "text/html": [
       "<div>\n",
       "<style scoped>\n",
       "    .dataframe tbody tr th:only-of-type {\n",
       "        vertical-align: middle;\n",
       "    }\n",
       "\n",
       "    .dataframe tbody tr th {\n",
       "        vertical-align: top;\n",
       "    }\n",
       "\n",
       "    .dataframe thead th {\n",
       "        text-align: right;\n",
       "    }\n",
       "</style>\n",
       "<table border=\"1\" class=\"dataframe\">\n",
       "  <thead>\n",
       "    <tr style=\"text-align: right;\">\n",
       "      <th></th>\n",
       "      <th>event_name</th>\n",
       "      <th>user_id</th>\n",
       "      <th>event_timestamp</th>\n",
       "      <th>exp_id</th>\n",
       "      <th>date</th>\n",
       "    </tr>\n",
       "  </thead>\n",
       "  <tbody>\n",
       "    <tr>\n",
       "      <th>0</th>\n",
       "      <td>MainScreenAppear</td>\n",
       "      <td>4575588528974610257</td>\n",
       "      <td>2019-07-25 04:43:36</td>\n",
       "      <td>246</td>\n",
       "      <td>2019-07-25</td>\n",
       "    </tr>\n",
       "    <tr>\n",
       "      <th>1</th>\n",
       "      <td>MainScreenAppear</td>\n",
       "      <td>7416695313311560658</td>\n",
       "      <td>2019-07-25 11:11:42</td>\n",
       "      <td>246</td>\n",
       "      <td>2019-07-25</td>\n",
       "    </tr>\n",
       "    <tr>\n",
       "      <th>2</th>\n",
       "      <td>PaymentScreenSuccessful</td>\n",
       "      <td>3518123091307005509</td>\n",
       "      <td>2019-07-25 11:28:47</td>\n",
       "      <td>248</td>\n",
       "      <td>2019-07-25</td>\n",
       "    </tr>\n",
       "    <tr>\n",
       "      <th>3</th>\n",
       "      <td>CartScreenAppear</td>\n",
       "      <td>3518123091307005509</td>\n",
       "      <td>2019-07-25 11:28:47</td>\n",
       "      <td>248</td>\n",
       "      <td>2019-07-25</td>\n",
       "    </tr>\n",
       "    <tr>\n",
       "      <th>4</th>\n",
       "      <td>PaymentScreenSuccessful</td>\n",
       "      <td>6217807653094995999</td>\n",
       "      <td>2019-07-25 11:48:42</td>\n",
       "      <td>248</td>\n",
       "      <td>2019-07-25</td>\n",
       "    </tr>\n",
       "  </tbody>\n",
       "</table>\n",
       "</div>"
      ],
      "text/plain": [
       "                event_name              user_id     event_timestamp  exp_id  \\\n",
       "0         MainScreenAppear  4575588528974610257 2019-07-25 04:43:36     246   \n",
       "1         MainScreenAppear  7416695313311560658 2019-07-25 11:11:42     246   \n",
       "2  PaymentScreenSuccessful  3518123091307005509 2019-07-25 11:28:47     248   \n",
       "3         CartScreenAppear  3518123091307005509 2019-07-25 11:28:47     248   \n",
       "4  PaymentScreenSuccessful  6217807653094995999 2019-07-25 11:48:42     248   \n",
       "\n",
       "        date  \n",
       "0 2019-07-25  \n",
       "1 2019-07-25  \n",
       "2 2019-07-25  \n",
       "3 2019-07-25  \n",
       "4 2019-07-25  "
      ]
     },
     "execution_count": 7,
     "metadata": {},
     "output_type": "execute_result"
    }
   ],
   "source": [
    "data['date'] = data['event_timestamp'].dt.date\n",
    "data['date'] = pd.to_datetime(data['date'])\n",
    "data.head()"
   ]
  },
  {
   "cell_type": "markdown",
   "metadata": {},
   "source": [
    "Проверим датасет на наличие дубликатов."
   ]
  },
  {
   "cell_type": "code",
   "execution_count": 8,
   "metadata": {},
   "outputs": [
    {
     "data": {
      "text/plain": [
       "413"
      ]
     },
     "execution_count": 8,
     "metadata": {},
     "output_type": "execute_result"
    }
   ],
   "source": [
    "data.duplicated().sum()"
   ]
  },
  {
   "cell_type": "markdown",
   "metadata": {},
   "source": [
    "В сравнении с общим числом записей количество дубликатов совсем небольшое, всего 0.17%. Удалим задвоенные записи из нашего датасета."
   ]
  },
  {
   "cell_type": "code",
   "execution_count": 9,
   "metadata": {},
   "outputs": [
    {
     "name": "stdout",
     "output_type": "stream",
     "text": [
      "<class 'pandas.core.frame.DataFrame'>\n",
      "Int64Index: 243713 entries, 0 to 244125\n",
      "Data columns (total 5 columns):\n",
      " #   Column           Non-Null Count   Dtype         \n",
      "---  ------           --------------   -----         \n",
      " 0   event_name       243713 non-null  object        \n",
      " 1   user_id          243713 non-null  int64         \n",
      " 2   event_timestamp  243713 non-null  datetime64[ns]\n",
      " 3   exp_id           243713 non-null  int64         \n",
      " 4   date             243713 non-null  datetime64[ns]\n",
      "dtypes: datetime64[ns](2), int64(2), object(1)\n",
      "memory usage: 11.2+ MB\n"
     ]
    }
   ],
   "source": [
    "data = data.drop_duplicates()\n",
    "data.info()"
   ]
  },
  {
   "cell_type": "markdown",
   "metadata": {},
   "source": [
    "**Вывод**"
   ]
  },
  {
   "cell_type": "markdown",
   "metadata": {},
   "source": [
    "Для анализа у нас есть запись логов, которую мы сохранили в переменной data. Для удобства работы в дальнейшем мы заменили названия столбцов на  *event_name, user_id, event_timestamp, exp_id*. Таже тип данных в столбце *event_timestamp* мы поменяли с int64 на datetime64[ns] и добавили отдельный столбец *date*, где содержится только дата события. Пропущенных значений в датасете не было, однако были задвоенные записи, которые мы удалили.\n"
   ]
  },
  {
   "cell_type": "markdown",
   "metadata": {},
   "source": [
    "## Изучение  и проверка данных"
   ]
  },
  {
   "cell_type": "markdown",
   "metadata": {},
   "source": [
    "Посмотрим сколько всего событий в логе."
   ]
  },
  {
   "cell_type": "code",
   "execution_count": 10,
   "metadata": {},
   "outputs": [
    {
     "name": "stdout",
     "output_type": "stream",
     "text": [
      "Всего событий в логе: 243713\n"
     ]
    }
   ],
   "source": [
    "print('Всего событий в логе:', len(data))"
   ]
  },
  {
   "cell_type": "code",
   "execution_count": 46,
   "metadata": {},
   "outputs": [
    {
     "data": {
      "text/plain": [
       "'Всего событий в логе:'"
      ]
     },
     "metadata": {},
     "output_type": "display_data"
    },
    {
     "data": {
      "text/plain": [
       "240887"
      ]
     },
     "metadata": {},
     "output_type": "display_data"
    }
   ],
   "source": [
    "display('Всего событий в логе:', len(data))"
   ]
  },
  {
   "cell_type": "markdown",
   "metadata": {},
   "source": [
    "Выведем сколько всего пользователей в логе."
   ]
  },
  {
   "cell_type": "code",
   "execution_count": 12,
   "metadata": {},
   "outputs": [
    {
     "name": "stdout",
     "output_type": "stream",
     "text": [
      "Всего пользователей в логе: 7551\n"
     ]
    }
   ],
   "source": [
    "print('Всего пользователей в логе:', len(data.user_id.unique()))"
   ]
  },
  {
   "cell_type": "markdown",
   "metadata": {},
   "source": [
    "Посчитаем сколько в среднем событий приходится на пользователя."
   ]
  },
  {
   "cell_type": "code",
   "execution_count": 13,
   "metadata": {},
   "outputs": [
    {
     "name": "stdout",
     "output_type": "stream",
     "text": [
      "В среднем на пользователя приходится 32.0 события\n"
     ]
    }
   ],
   "source": [
    "mean_event_user=round((len(data)/ len(data.user_id.unique())),0)\n",
    "print('В среднем на пользователя приходится', mean_event_user, 'события')"
   ]
  },
  {
   "cell_type": "markdown",
   "metadata": {},
   "source": [
    "Посмотрим данными за какой период мы располагаем."
   ]
  },
  {
   "cell_type": "code",
   "execution_count": 14,
   "metadata": {},
   "outputs": [
    {
     "name": "stderr",
     "output_type": "stream",
     "text": [
      "/opt/conda/lib/python3.7/site-packages/ipykernel_launcher.py:1: FutureWarning: Treating datetime data as categorical rather than numeric in `.describe` is deprecated and will be removed in a future version of pandas. Specify `datetime_is_numeric=True` to silence this warning and adopt the future behavior now.\n",
      "  \"\"\"Entry point for launching an IPython kernel.\n"
     ]
    },
    {
     "data": {
      "text/plain": [
       "count                  243713\n",
       "unique                 176654\n",
       "top       2019-08-01 14:40:35\n",
       "freq                        9\n",
       "first     2019-07-25 04:43:36\n",
       "last      2019-08-07 21:15:17\n",
       "Name: event_timestamp, dtype: object"
      ]
     },
     "execution_count": 14,
     "metadata": {},
     "output_type": "execute_result"
    }
   ],
   "source": [
    "data['event_timestamp'].describe()"
   ]
  },
  {
   "cell_type": "markdown",
   "metadata": {},
   "source": [
    "В нашем датасете есть записи логов с 25 июля по 7 августа 2019 года, то есть две недели.\n",
    "Построим гистограмму записей по дате и времени."
   ]
  },
  {
   "cell_type": "code",
   "execution_count": 15,
   "metadata": {},
   "outputs": [],
   "source": [
    "import sys\n",
    "import warnings\n",
    "if not sys.warnoptions:\n",
    "       warnings.simplefilter(\"ignore\")"
   ]
  },
  {
   "cell_type": "code",
   "execution_count": 16,
   "metadata": {},
   "outputs": [
    {
     "data": {
      "image/png": "[encoded data removed]",
      "text/plain": [
       "<Figure size 1152x360 with 1 Axes>"
      ]
     },
     "metadata": {
      "needs_background": "light"
     },
     "output_type": "display_data"
    }
   ],
   "source": [
    "data['date'].hist(figsize=(16, 5));\n",
    "plt.title('Распределение данных в датасете по дате', fontsize=14);\n",
    "plt.xlabel('Дата', fontsize=12);\n",
    "plt.ylabel('Частота', fontsize=12);"
   ]
  },
  {
   "cell_type": "markdown",
   "metadata": {},
   "source": [
    "Из гистограммы выше мы видим, что данные у нас неравномерно распределены во времени. До 31 июля данных очень мало. Так как технически в логи новых дней по некоторым пользователям могут «доезжать» события из прошлого, для анализа возьмём данные с 1 по 7 августа."
   ]
  },
  {
   "cell_type": "markdown",
   "metadata": {},
   "source": [
    "Посчитаем сколько событий и пользователей мы потеряем, если отбросим  данные с 25 по 31 июля."
   ]
  },
  {
   "cell_type": "code",
   "execution_count": 17,
   "metadata": {},
   "outputs": [
    {
     "data": {
      "text/plain": [
       "0.0116"
      ]
     },
     "execution_count": 17,
     "metadata": {},
     "output_type": "execute_result"
    }
   ],
   "source": [
    "round(len(data.query('date < \"2019-08-01\"'))/len(data), 4)"
   ]
  },
  {
   "cell_type": "code",
   "execution_count": 18,
   "metadata": {},
   "outputs": [
    {
     "data": {
      "text/plain": [
       "0.0023"
      ]
     },
     "execution_count": 18,
     "metadata": {},
     "output_type": "execute_result"
    }
   ],
   "source": [
    "round(1-(data.query('date >= \"2019-08-01\"')['user_id'].nunique()/data['user_id'].nunique()), 4)"
   ]
  },
  {
   "cell_type": "markdown",
   "metadata": {},
   "source": [
    "Отбросив старые данные, мы потеряем 1,16% всех событий и  0,23% уникальных пользователей."
   ]
  },
  {
   "cell_type": "code",
   "execution_count": 19,
   "metadata": {},
   "outputs": [],
   "source": [
    "data = data.query('date >= \"2019-08-01\"')"
   ]
  },
  {
   "cell_type": "markdown",
   "metadata": {},
   "source": [
    "Теперь проверим, что в нашей выборке есть пользователи из всех трёх экспериментальных групп."
   ]
  },
  {
   "cell_type": "code",
   "execution_count": 20,
   "metadata": {},
   "outputs": [
    {
     "data": {
      "text/html": [
       "<div>\n",
       "<style scoped>\n",
       "    .dataframe tbody tr th:only-of-type {\n",
       "        vertical-align: middle;\n",
       "    }\n",
       "\n",
       "    .dataframe tbody tr th {\n",
       "        vertical-align: top;\n",
       "    }\n",
       "\n",
       "    .dataframe thead th {\n",
       "        text-align: right;\n",
       "    }\n",
       "</style>\n",
       "<table border=\"1\" class=\"dataframe\">\n",
       "  <thead>\n",
       "    <tr style=\"text-align: right;\">\n",
       "      <th></th>\n",
       "      <th>exp_id</th>\n",
       "      <th>user_id</th>\n",
       "    </tr>\n",
       "  </thead>\n",
       "  <tbody>\n",
       "    <tr>\n",
       "      <th>0</th>\n",
       "      <td>246</td>\n",
       "      <td>2484</td>\n",
       "    </tr>\n",
       "    <tr>\n",
       "      <th>1</th>\n",
       "      <td>247</td>\n",
       "      <td>2513</td>\n",
       "    </tr>\n",
       "    <tr>\n",
       "      <th>2</th>\n",
       "      <td>248</td>\n",
       "      <td>2537</td>\n",
       "    </tr>\n",
       "  </tbody>\n",
       "</table>\n",
       "</div>"
      ],
      "text/plain": [
       "   exp_id  user_id\n",
       "0     246     2484\n",
       "1     247     2513\n",
       "2     248     2537"
      ]
     },
     "execution_count": 20,
     "metadata": {},
     "output_type": "execute_result"
    }
   ],
   "source": [
    "data.groupby('exp_id').agg({'user_id':'nunique'}).reset_index()"
   ]
  },
  {
   "cell_type": "markdown",
   "metadata": {},
   "source": [
    " Из таблицы выше мы видим, что пользователи равномерно распределены между тремя экспериментальными группами."
   ]
  },
  {
   "cell_type": "markdown",
   "metadata": {},
   "source": [
    "**Вывод**"
   ]
  },
  {
   "cell_type": "markdown",
   "metadata": {},
   "source": [
    "На данном этапе мы изучили данные в нашем датасете. В среднем на одного пользователя приходится 32 события. Мы располагаем записями логов  с 25 июля по 7 августа 2019 года. Так как данные распределены неравномерно, мы отбросили данные с 25 по 31 июля и убедились, что потеряли незначительное количество данных (1,16% всех событий и 0,23% уникальных пользователей). Также мы провеорили, что пользователи равномерно распределены между тремя экспериментальными группами."
   ]
  },
  {
   "cell_type": "markdown",
   "metadata": {},
   "source": [
    "## Анализ воронки событий"
   ]
  },
  {
   "cell_type": "markdown",
   "metadata": {},
   "source": [
    "Посмотрим, какие события есть в логах, и  как часто они встречаются."
   ]
  },
  {
   "cell_type": "code",
   "execution_count": 21,
   "metadata": {},
   "outputs": [
    {
     "data": {
      "text/plain": [
       "MainScreenAppear           117328\n",
       "OffersScreenAppear          46333\n",
       "CartScreenAppear            42303\n",
       "PaymentScreenSuccessful     33918\n",
       "Tutorial                     1005\n",
       "Name: event_name, dtype: int64"
      ]
     },
     "execution_count": 21,
     "metadata": {},
     "output_type": "execute_result"
    }
   ],
   "source": [
    "data['event_name'].value_counts()"
   ]
  },
  {
   "cell_type": "markdown",
   "metadata": {},
   "source": [
    "Чаще всего пользователи открывают главную страницу, что вполне логично, оно появляется при открытии приложения. Такое действие за неделю пользователи совершали 117 328 раз. Затем идёт просмотр предложений с товарами и корзина. Здесь число событий очень похоже (46 333 и 42 303). Ещё меньше пользователей переходят к оплате покупок (33 918 событий за неделю). Реже всего пользователи заходят на страницу с обучающими материалами (1005).\n",
    "\n",
    "Теперь найдём количество пользователей, которые совершали каждое из этих событий."
   ]
  },
  {
   "cell_type": "code",
   "execution_count": 22,
   "metadata": {},
   "outputs": [
    {
     "data": {
      "text/plain": [
       "466"
      ]
     },
     "execution_count": 22,
     "metadata": {},
     "output_type": "execute_result"
    }
   ],
   "source": [
    "users_groupped = data.groupby('user_id').agg({'event_name':'nunique'}).reset_index()\n",
    "users_groupped.columns = ['user_id', 'unique_events_count']\n",
    "\n",
    "all_events_users = users_groupped.query('unique_events_count == 5')\n",
    "len(all_events_users)"
   ]
  },
  {
   "cell_type": "markdown",
   "metadata": {},
   "source": [
    "Всего 466 пользователей совершали каждое из событий. \n",
    "\n",
    "Отсортируем события по числу пользователей."
   ]
  },
  {
   "cell_type": "code",
   "execution_count": 23,
   "metadata": {},
   "outputs": [
    {
     "data": {
      "text/html": [
       "<div>\n",
       "<style scoped>\n",
       "    .dataframe tbody tr th:only-of-type {\n",
       "        vertical-align: middle;\n",
       "    }\n",
       "\n",
       "    .dataframe tbody tr th {\n",
       "        vertical-align: top;\n",
       "    }\n",
       "\n",
       "    .dataframe thead th {\n",
       "        text-align: right;\n",
       "    }\n",
       "</style>\n",
       "<table border=\"1\" class=\"dataframe\">\n",
       "  <thead>\n",
       "    <tr style=\"text-align: right;\">\n",
       "      <th></th>\n",
       "      <th>event_name</th>\n",
       "      <th>count</th>\n",
       "    </tr>\n",
       "  </thead>\n",
       "  <tbody>\n",
       "    <tr>\n",
       "      <th>1</th>\n",
       "      <td>MainScreenAppear</td>\n",
       "      <td>7419</td>\n",
       "    </tr>\n",
       "    <tr>\n",
       "      <th>2</th>\n",
       "      <td>OffersScreenAppear</td>\n",
       "      <td>4593</td>\n",
       "    </tr>\n",
       "    <tr>\n",
       "      <th>0</th>\n",
       "      <td>CartScreenAppear</td>\n",
       "      <td>3734</td>\n",
       "    </tr>\n",
       "    <tr>\n",
       "      <th>3</th>\n",
       "      <td>PaymentScreenSuccessful</td>\n",
       "      <td>3539</td>\n",
       "    </tr>\n",
       "    <tr>\n",
       "      <th>4</th>\n",
       "      <td>Tutorial</td>\n",
       "      <td>840</td>\n",
       "    </tr>\n",
       "  </tbody>\n",
       "</table>\n",
       "</div>"
      ],
      "text/plain": [
       "                event_name  count\n",
       "1         MainScreenAppear   7419\n",
       "2       OffersScreenAppear   4593\n",
       "0         CartScreenAppear   3734\n",
       "3  PaymentScreenSuccessful   3539\n",
       "4                 Tutorial    840"
      ]
     },
     "execution_count": 23,
     "metadata": {},
     "output_type": "execute_result"
    }
   ],
   "source": [
    "events_by_user = data.groupby('event_name').agg({'user_id':'nunique'}).reset_index()\n",
    "events_by_user.columns = ['event_name', 'count']\n",
    "events_by_user = events_by_user.sort_values(by='count', ascending = False)\n",
    "events_by_user"
   ]
  },
  {
   "cell_type": "markdown",
   "metadata": {},
   "source": [
    "Также как и при расчёте числа событий, пользователи чаще всего заходят на главную страницу,и реже всего на страницу с тьюториалом.\n",
    "\n",
    "Добавим столбец с долей пользователей, которые хотя бы раз совершали то или иное событие."
   ]
  },
  {
   "cell_type": "code",
   "execution_count": 24,
   "metadata": {},
   "outputs": [
    {
     "data": {
      "text/html": [
       "<div>\n",
       "<style scoped>\n",
       "    .dataframe tbody tr th:only-of-type {\n",
       "        vertical-align: middle;\n",
       "    }\n",
       "\n",
       "    .dataframe tbody tr th {\n",
       "        vertical-align: top;\n",
       "    }\n",
       "\n",
       "    .dataframe thead th {\n",
       "        text-align: right;\n",
       "    }\n",
       "</style>\n",
       "<table border=\"1\" class=\"dataframe\">\n",
       "  <thead>\n",
       "    <tr style=\"text-align: right;\">\n",
       "      <th></th>\n",
       "      <th>event_name</th>\n",
       "      <th>count</th>\n",
       "      <th>share</th>\n",
       "    </tr>\n",
       "  </thead>\n",
       "  <tbody>\n",
       "    <tr>\n",
       "      <th>1</th>\n",
       "      <td>MainScreenAppear</td>\n",
       "      <td>7419</td>\n",
       "      <td>0.98</td>\n",
       "    </tr>\n",
       "    <tr>\n",
       "      <th>2</th>\n",
       "      <td>OffersScreenAppear</td>\n",
       "      <td>4593</td>\n",
       "      <td>0.61</td>\n",
       "    </tr>\n",
       "    <tr>\n",
       "      <th>0</th>\n",
       "      <td>CartScreenAppear</td>\n",
       "      <td>3734</td>\n",
       "      <td>0.50</td>\n",
       "    </tr>\n",
       "    <tr>\n",
       "      <th>3</th>\n",
       "      <td>PaymentScreenSuccessful</td>\n",
       "      <td>3539</td>\n",
       "      <td>0.47</td>\n",
       "    </tr>\n",
       "    <tr>\n",
       "      <th>4</th>\n",
       "      <td>Tutorial</td>\n",
       "      <td>840</td>\n",
       "      <td>0.11</td>\n",
       "    </tr>\n",
       "  </tbody>\n",
       "</table>\n",
       "</div>"
      ],
      "text/plain": [
       "                event_name  count  share\n",
       "1         MainScreenAppear   7419   0.98\n",
       "2       OffersScreenAppear   4593   0.61\n",
       "0         CartScreenAppear   3734   0.50\n",
       "3  PaymentScreenSuccessful   3539   0.47\n",
       "4                 Tutorial    840   0.11"
      ]
     },
     "execution_count": 24,
     "metadata": {},
     "output_type": "execute_result"
    }
   ],
   "source": [
    "events_by_user['share'] = round(events_by_user['count'] / data['user_id'].nunique(), 2)\n",
    "events_by_user"
   ]
  },
  {
   "cell_type": "markdown",
   "metadata": {},
   "source": [
    "Практически все пользователи (98%) открывали главную страницу, 61% просматривали предложения товаров в магазине, ровно половина переходила к корзине и почти столько же, 47% оплачивали покупку. На страницу c обучающими материалами заходило 11% пользователей."
   ]
  },
  {
   "cell_type": "markdown",
   "metadata": {},
   "source": [
    "Вероятно в таком порядке и происходят события:\n",
    "\n",
    "1. Пользователь открывает приложение (главная страница)\n",
    "2. Просматривает предложения товаров в магазине\n",
    "3. Добавляет товары в корзину\n",
    "4. Оплачивает покупку\n",
    "\n",
    "В какой момент пользователь открывает тьюториал предположить достаточно сложно, его просматривает небольшое количество пользователей. Можно предположить, что только новые пользователи после главной страницы смотрят тьюториал, а потом начинают просматривать товары. С другой стороны, возможно интерфейс в нашем приложении интуитивно-понятный пользователю и  дополнительно просматривать обучающие материалы  большинству не нужно. При дальнейшем построении воронки это событие использовать не будем."
   ]
  },
  {
   "cell_type": "code",
   "execution_count": 25,
   "metadata": {},
   "outputs": [
    {
     "data": {
      "text/html": [
       "<div>\n",
       "<style scoped>\n",
       "    .dataframe tbody tr th:only-of-type {\n",
       "        vertical-align: middle;\n",
       "    }\n",
       "\n",
       "    .dataframe tbody tr th {\n",
       "        vertical-align: top;\n",
       "    }\n",
       "\n",
       "    .dataframe thead th {\n",
       "        text-align: right;\n",
       "    }\n",
       "</style>\n",
       "<table border=\"1\" class=\"dataframe\">\n",
       "  <thead>\n",
       "    <tr style=\"text-align: right;\">\n",
       "      <th></th>\n",
       "      <th>event_name</th>\n",
       "      <th>count</th>\n",
       "      <th>share</th>\n",
       "    </tr>\n",
       "  </thead>\n",
       "  <tbody>\n",
       "    <tr>\n",
       "      <th>1</th>\n",
       "      <td>MainScreenAppear</td>\n",
       "      <td>7419</td>\n",
       "      <td>0.98</td>\n",
       "    </tr>\n",
       "    <tr>\n",
       "      <th>2</th>\n",
       "      <td>OffersScreenAppear</td>\n",
       "      <td>4593</td>\n",
       "      <td>0.61</td>\n",
       "    </tr>\n",
       "    <tr>\n",
       "      <th>0</th>\n",
       "      <td>CartScreenAppear</td>\n",
       "      <td>3734</td>\n",
       "      <td>0.50</td>\n",
       "    </tr>\n",
       "    <tr>\n",
       "      <th>3</th>\n",
       "      <td>PaymentScreenSuccessful</td>\n",
       "      <td>3539</td>\n",
       "      <td>0.47</td>\n",
       "    </tr>\n",
       "  </tbody>\n",
       "</table>\n",
       "</div>"
      ],
      "text/plain": [
       "                event_name  count  share\n",
       "1         MainScreenAppear   7419   0.98\n",
       "2       OffersScreenAppear   4593   0.61\n",
       "0         CartScreenAppear   3734   0.50\n",
       "3  PaymentScreenSuccessful   3539   0.47"
      ]
     },
     "execution_count": 25,
     "metadata": {},
     "output_type": "execute_result"
    }
   ],
   "source": [
    "purchase_funnel = events_by_user.drop(index=4)\n",
    "purchase_funnel"
   ]
  },
  {
   "cell_type": "markdown",
   "metadata": {},
   "source": [
    "Добавим информацию какая  доля пользователей проходит на следующий шаг воронки."
   ]
  },
  {
   "cell_type": "code",
   "execution_count": 26,
   "metadata": {},
   "outputs": [
    {
     "data": {
      "text/html": [
       "<div>\n",
       "<style scoped>\n",
       "    .dataframe tbody tr th:only-of-type {\n",
       "        vertical-align: middle;\n",
       "    }\n",
       "\n",
       "    .dataframe tbody tr th {\n",
       "        vertical-align: top;\n",
       "    }\n",
       "\n",
       "    .dataframe thead th {\n",
       "        text-align: right;\n",
       "    }\n",
       "</style>\n",
       "<table border=\"1\" class=\"dataframe\">\n",
       "  <thead>\n",
       "    <tr style=\"text-align: right;\">\n",
       "      <th></th>\n",
       "      <th>event_name</th>\n",
       "      <th>count</th>\n",
       "      <th>share</th>\n",
       "      <th>ratio_to_previous_event</th>\n",
       "    </tr>\n",
       "  </thead>\n",
       "  <tbody>\n",
       "    <tr>\n",
       "      <th>1</th>\n",
       "      <td>MainScreenAppear</td>\n",
       "      <td>7419</td>\n",
       "      <td>0.98</td>\n",
       "      <td>NaN</td>\n",
       "    </tr>\n",
       "    <tr>\n",
       "      <th>2</th>\n",
       "      <td>OffersScreenAppear</td>\n",
       "      <td>4593</td>\n",
       "      <td>0.61</td>\n",
       "      <td>0.62</td>\n",
       "    </tr>\n",
       "    <tr>\n",
       "      <th>0</th>\n",
       "      <td>CartScreenAppear</td>\n",
       "      <td>3734</td>\n",
       "      <td>0.50</td>\n",
       "      <td>0.81</td>\n",
       "    </tr>\n",
       "    <tr>\n",
       "      <th>3</th>\n",
       "      <td>PaymentScreenSuccessful</td>\n",
       "      <td>3539</td>\n",
       "      <td>0.47</td>\n",
       "      <td>0.95</td>\n",
       "    </tr>\n",
       "  </tbody>\n",
       "</table>\n",
       "</div>"
      ],
      "text/plain": [
       "                event_name  count  share  ratio_to_previous_event\n",
       "1         MainScreenAppear   7419   0.98                      NaN\n",
       "2       OffersScreenAppear   4593   0.61                     0.62\n",
       "0         CartScreenAppear   3734   0.50                     0.81\n",
       "3  PaymentScreenSuccessful   3539   0.47                     0.95"
      ]
     },
     "execution_count": 26,
     "metadata": {},
     "output_type": "execute_result"
    }
   ],
   "source": [
    "purchase_funnel['ratio_to_previous_event'] = round(purchase_funnel['count']/purchase_funnel['count'].shift(1),2)\n",
    "purchase_funnel"
   ]
  },
  {
   "cell_type": "code",
   "execution_count": 49,
   "metadata": {},
   "outputs": [
    {
     "data": {
      "application/vnd.plotly.v1+json": {
       "config": {
        "plotlyServerURL": "https://plot.ly"
       },
       "data": [
        {
         "type": "funnel",
         "x": [
          7419,
          4593,
          3734,
          3539
         ],
         "y": [
          "Открыли главную страницу",
          "Просматривали предложения товаров",
          "Перешли в корзину",
          "Оплатили заказ"
         ]
        }
       ],
       "layout": {
        "template": {
         "data": {
          "bar": [
           {
            "error_x": {
             "color": "#2a3f5f"
            },
            "error_y": {
             "color": "#2a3f5f"
            },
            "marker": {
             "line": {
              "color": "#E5ECF6",
              "width": 0.5
             },
             "pattern": {
              "fillmode": "overlay",
              "size": 10,
              "solidity": 0.2
             }
            },
            "type": "bar"
           }
          ],
          "barpolar": [
           {
            "marker": {
             "line": {
              "color": "#E5ECF6",
              "width": 0.5
             },
             "pattern": {
              "fillmode": "overlay",
              "size": 10,
              "solidity": 0.2
             }
            },
            "type": "barpolar"
           }
          ],
          "carpet": [
           {
            "aaxis": {
             "endlinecolor": "#2a3f5f",
             "gridcolor": "white",
             "linecolor": "white",
             "minorgridcolor": "white",
             "startlinecolor": "#2a3f5f"
            },
            "baxis": {
             "endlinecolor": "#2a3f5f",
             "gridcolor": "white",
             "linecolor": "white",
             "minorgridcolor": "white",
             "startlinecolor": "#2a3f5f"
            },
            "type": "carpet"
           }
          ],
          "choropleth": [
           {
            "colorbar": {
             "outlinewidth": 0,
             "ticks": ""
            },
            "type": "choropleth"
           }
          ],
          "contour": [
           {
            "colorbar": {
             "outlinewidth": 0,
             "ticks": ""
            },
            "colorscale": [
             [
              0,
              "#0d0887"
             ],
             [
              0.1111111111111111,
              "#46039f"
             ],
             [
              0.2222222222222222,
              "#7201a8"
             ],
             [
              0.3333333333333333,
              "#9c179e"
             ],
             [
              0.4444444444444444,
              "#bd3786"
             ],
             [
              0.5555555555555556,
              "#d8576b"
             ],
             [
              0.6666666666666666,
              "#ed7953"
             ],
             [
              0.7777777777777778,
              "#fb9f3a"
             ],
             [
              0.8888888888888888,
              "#fdca26"
             ],
             [
              1,
              "#f0f921"
             ]
            ],
            "type": "contour"
           }
          ],
          "contourcarpet": [
           {
            "colorbar": {
             "outlinewidth": 0,
             "ticks": ""
            },
            "type": "contourcarpet"
           }
          ],
          "heatmap": [
           {
            "colorbar": {
             "outlinewidth": 0,
             "ticks": ""
            },
            "colorscale": [
             [
              0,
              "#0d0887"
             ],
             [
              0.1111111111111111,
              "#46039f"
             ],
             [
              0.2222222222222222,
              "#7201a8"
             ],
             [
              0.3333333333333333,
              "#9c179e"
             ],
             [
              0.4444444444444444,
              "#bd3786"
             ],
             [
              0.5555555555555556,
              "#d8576b"
             ],
             [
              0.6666666666666666,
              "#ed7953"
             ],
             [
              0.7777777777777778,
              "#fb9f3a"
             ],
             [
              0.8888888888888888,
              "#fdca26"
             ],
             [
              1,
              "#f0f921"
             ]
            ],
            "type": "heatmap"
           }
          ],
          "heatmapgl": [
           {
            "colorbar": {
             "outlinewidth": 0,
             "ticks": ""
            },
            "colorscale": [
             [
              0,
              "#0d0887"
             ],
             [
              0.1111111111111111,
              "#46039f"
             ],
             [
              0.2222222222222222,
              "#7201a8"
             ],
             [
              0.3333333333333333,
              "#9c179e"
             ],
             [
              0.4444444444444444,
              "#bd3786"
             ],
             [
              0.5555555555555556,
              "#d8576b"
             ],
             [
              0.6666666666666666,
              "#ed7953"
             ],
             [
              0.7777777777777778,
              "#fb9f3a"
             ],
             [
              0.8888888888888888,
              "#fdca26"
             ],
             [
              1,
              "#f0f921"
             ]
            ],
            "type": "heatmapgl"
           }
          ],
          "histogram": [
           {
            "marker": {
             "pattern": {
              "fillmode": "overlay",
              "size": 10,
              "solidity": 0.2
             }
            },
            "type": "histogram"
           }
          ],
          "histogram2d": [
           {
            "colorbar": {
             "outlinewidth": 0,
             "ticks": ""
            },
            "colorscale": [
             [
              0,
              "#0d0887"
             ],
             [
              0.1111111111111111,
              "#46039f"
             ],
             [
              0.2222222222222222,
              "#7201a8"
             ],
             [
              0.3333333333333333,
              "#9c179e"
             ],
             [
              0.4444444444444444,
              "#bd3786"
             ],
             [
              0.5555555555555556,
              "#d8576b"
             ],
             [
              0.6666666666666666,
              "#ed7953"
             ],
             [
              0.7777777777777778,
              "#fb9f3a"
             ],
             [
              0.8888888888888888,
              "#fdca26"
             ],
             [
              1,
              "#f0f921"
             ]
            ],
            "type": "histogram2d"
           }
          ],
          "histogram2dcontour": [
           {
            "colorbar": {
             "outlinewidth": 0,
             "ticks": ""
            },
            "colorscale": [
             [
              0,
              "#0d0887"
             ],
             [
              0.1111111111111111,
              "#46039f"
             ],
             [
              0.2222222222222222,
              "#7201a8"
             ],
             [
              0.3333333333333333,
              "#9c179e"
             ],
             [
              0.4444444444444444,
              "#bd3786"
             ],
             [
              0.5555555555555556,
              "#d8576b"
             ],
             [
              0.6666666666666666,
              "#ed7953"
             ],
             [
              0.7777777777777778,
              "#fb9f3a"
             ],
             [
              0.8888888888888888,
              "#fdca26"
             ],
             [
              1,
              "#f0f921"
             ]
            ],
            "type": "histogram2dcontour"
           }
          ],
          "mesh3d": [
           {
            "colorbar": {
             "outlinewidth": 0,
             "ticks": ""
            },
            "type": "mesh3d"
           }
          ],
          "parcoords": [
           {
            "line": {
             "colorbar": {
              "outlinewidth": 0,
              "ticks": ""
             }
            },
            "type": "parcoords"
           }
          ],
          "pie": [
           {
            "automargin": true,
            "type": "pie"
           }
          ],
          "scatter": [
           {
            "marker": {
             "colorbar": {
              "outlinewidth": 0,
              "ticks": ""
             }
            },
            "type": "scatter"
           }
          ],
          "scatter3d": [
           {
            "line": {
             "colorbar": {
              "outlinewidth": 0,
              "ticks": ""
             }
            },
            "marker": {
             "colorbar": {
              "outlinewidth": 0,
              "ticks": ""
             }
            },
            "type": "scatter3d"
           }
          ],
          "scattercarpet": [
           {
            "marker": {
             "colorbar": {
              "outlinewidth": 0,
              "ticks": ""
             }
            },
            "type": "scattercarpet"
           }
          ],
          "scattergeo": [
           {
            "marker": {
             "colorbar": {
              "outlinewidth": 0,
              "ticks": ""
             }
            },
            "type": "scattergeo"
           }
          ],
          "scattergl": [
           {
            "marker": {
             "colorbar": {
              "outlinewidth": 0,
              "ticks": ""
             }
            },
            "type": "scattergl"
           }
          ],
          "scattermapbox": [
           {
            "marker": {
             "colorbar": {
              "outlinewidth": 0,
              "ticks": ""
             }
            },
            "type": "scattermapbox"
           }
          ],
          "scatterpolar": [
           {
            "marker": {
             "colorbar": {
              "outlinewidth": 0,
              "ticks": ""
             }
            },
            "type": "scatterpolar"
           }
          ],
          "scatterpolargl": [
           {
            "marker": {
             "colorbar": {
              "outlinewidth": 0,
              "ticks": ""
             }
            },
            "type": "scatterpolargl"
           }
          ],
          "scatterternary": [
           {
            "marker": {
             "colorbar": {
              "outlinewidth": 0,
              "ticks": ""
             }
            },
            "type": "scatterternary"
           }
          ],
          "surface": [
           {
            "colorbar": {
             "outlinewidth": 0,
             "ticks": ""
            },
            "colorscale": [
             [
              0,
              "#0d0887"
             ],
             [
              0.1111111111111111,
              "#46039f"
             ],
             [
              0.2222222222222222,
              "#7201a8"
             ],
             [
              0.3333333333333333,
              "#9c179e"
             ],
             [
              0.4444444444444444,
              "#bd3786"
             ],
             [
              0.5555555555555556,
              "#d8576b"
             ],
             [
              0.6666666666666666,
              "#ed7953"
             ],
             [
              0.7777777777777778,
              "#fb9f3a"
             ],
             [
              0.8888888888888888,
              "#fdca26"
             ],
             [
              1,
              "#f0f921"
             ]
            ],
            "type": "surface"
           }
          ],
          "table": [
           {
            "cells": {
             "fill": {
              "color": "#EBF0F8"
             },
             "line": {
              "color": "white"
             }
            },
            "header": {
             "fill": {
              "color": "#C8D4E3"
             },
             "line": {
              "color": "white"
             }
            },
            "type": "table"
           }
          ]
         },
         "layout": {
          "annotationdefaults": {
           "arrowcolor": "#2a3f5f",
           "arrowhead": 0,
           "arrowwidth": 1
          },
          "autotypenumbers": "strict",
          "coloraxis": {
           "colorbar": {
            "outlinewidth": 0,
            "ticks": ""
           }
          },
          "colorscale": {
           "diverging": [
            [
             0,
             "#8e0152"
            ],
            [
             0.1,
             "#c51b7d"
            ],
            [
             0.2,
             "#de77ae"
            ],
            [
             0.3,
             "#f1b6da"
            ],
            [
             0.4,
             "#fde0ef"
            ],
            [
             0.5,
             "#f7f7f7"
            ],
            [
             0.6,
             "#e6f5d0"
            ],
            [
             0.7,
             "#b8e186"
            ],
            [
             0.8,
             "#7fbc41"
            ],
            [
             0.9,
             "#4d9221"
            ],
            [
             1,
             "#276419"
            ]
           ],
           "sequential": [
            [
             0,
             "#0d0887"
            ],
            [
             0.1111111111111111,
             "#46039f"
            ],
            [
             0.2222222222222222,
             "#7201a8"
            ],
            [
             0.3333333333333333,
             "#9c179e"
            ],
            [
             0.4444444444444444,
             "#bd3786"
            ],
            [
             0.5555555555555556,
             "#d8576b"
            ],
            [
             0.6666666666666666,
             "#ed7953"
            ],
            [
             0.7777777777777778,
             "#fb9f3a"
            ],
            [
             0.8888888888888888,
             "#fdca26"
            ],
            [
             1,
             "#f0f921"
            ]
           ],
           "sequentialminus": [
            [
             0,
             "#0d0887"
            ],
            [
             0.1111111111111111,
             "#46039f"
            ],
            [
             0.2222222222222222,
             "#7201a8"
            ],
            [
             0.3333333333333333,
             "#9c179e"
            ],
            [
             0.4444444444444444,
             "#bd3786"
            ],
            [
             0.5555555555555556,
             "#d8576b"
            ],
            [
             0.6666666666666666,
             "#ed7953"
            ],
            [
             0.7777777777777778,
             "#fb9f3a"
            ],
            [
             0.8888888888888888,
             "#fdca26"
            ],
            [
             1,
             "#f0f921"
            ]
           ]
          },
          "colorway": [
           "#636efa",
           "#EF553B",
           "#00cc96",
           "#ab63fa",
           "#FFA15A",
           "#19d3f3",
           "#FF6692",
           "#B6E880",
           "#FF97FF",
           "#FECB52"
          ],
          "font": {
           "color": "#2a3f5f"
          },
          "geo": {
           "bgcolor": "white",
           "lakecolor": "white",
           "landcolor": "#E5ECF6",
           "showlakes": true,
           "showland": true,
           "subunitcolor": "white"
          },
          "hoverlabel": {
           "align": "left"
          },
          "hovermode": "closest",
          "mapbox": {
           "style": "light"
          },
          "paper_bgcolor": "white",
          "plot_bgcolor": "#E5ECF6",
          "polar": {
           "angularaxis": {
            "gridcolor": "white",
            "linecolor": "white",
            "ticks": ""
           },
           "bgcolor": "#E5ECF6",
           "radialaxis": {
            "gridcolor": "white",
            "linecolor": "white",
            "ticks": ""
           }
          },
          "scene": {
           "xaxis": {
            "backgroundcolor": "#E5ECF6",
            "gridcolor": "white",
            "gridwidth": 2,
            "linecolor": "white",
            "showbackground": true,
            "ticks": "",
            "zerolinecolor": "white"
           },
           "yaxis": {
            "backgroundcolor": "#E5ECF6",
            "gridcolor": "white",
            "gridwidth": 2,
            "linecolor": "white",
            "showbackground": true,
            "ticks": "",
            "zerolinecolor": "white"
           },
           "zaxis": {
            "backgroundcolor": "#E5ECF6",
            "gridcolor": "white",
            "gridwidth": 2,
            "linecolor": "white",
            "showbackground": true,
            "ticks": "",
            "zerolinecolor": "white"
           }
          },
          "shapedefaults": {
           "line": {
            "color": "#2a3f5f"
           }
          },
          "ternary": {
           "aaxis": {
            "gridcolor": "white",
            "linecolor": "white",
            "ticks": ""
           },
           "baxis": {
            "gridcolor": "white",
            "linecolor": "white",
            "ticks": ""
           },
           "bgcolor": "#E5ECF6",
           "caxis": {
            "gridcolor": "white",
            "linecolor": "white",
            "ticks": ""
           }
          },
          "title": {
           "x": 0.05
          },
          "xaxis": {
           "automargin": true,
           "gridcolor": "white",
           "linecolor": "white",
           "ticks": "",
           "title": {
            "standoff": 15
           },
           "zerolinecolor": "white",
           "zerolinewidth": 2
          },
          "yaxis": {
           "automargin": true,
           "gridcolor": "white",
           "linecolor": "white",
           "ticks": "",
           "title": {
            "standoff": 15
           },
           "zerolinecolor": "white",
           "zerolinewidth": 2
          }
         }
        },
        "title": {
         "text": "Воронка событий в приложении",
         "x": 0.5,
         "xanchor": "center",
         "y": 0.9,
         "yanchor": "top"
        }
       }
      },
      "text/html": [
       "<div>                            <div id=\"05f23192-0d7a-4d30-a4c2-b7bbd6c44b4b\" class=\"plotly-graph-div\" style=\"height:525px; width:100%;\"></div>            <script type=\"text/javascript\">                require([\"plotly\"], function(Plotly) {                    window.PLOTLYENV=window.PLOTLYENV || {};                                    if (document.getElementById(\"05f23192-0d7a-4d30-a4c2-b7bbd6c44b4b\")) {                    Plotly.newPlot(                        \"05f23192-0d7a-4d30-a4c2-b7bbd6c44b4b\",                        [{\"type\":\"funnel\",\"x\":[7419,4593,3734,3539],\"y\":[\"\\u041e\\u0442\\u043a\\u0440\\u044b\\u043b\\u0438 \\u0433\\u043b\\u0430\\u0432\\u043d\\u0443\\u044e \\u0441\\u0442\\u0440\\u0430\\u043d\\u0438\\u0446\\u0443\",\"\\u041f\\u0440\\u043e\\u0441\\u043c\\u0430\\u0442\\u0440\\u0438\\u0432\\u0430\\u043b\\u0438 \\u043f\\u0440\\u0435\\u0434\\u043b\\u043e\\u0436\\u0435\\u043d\\u0438\\u044f \\u0442\\u043e\\u0432\\u0430\\u0440\\u043e\\u0432\",\"\\u041f\\u0435\\u0440\\u0435\\u0448\\u043b\\u0438 \\u0432 \\u043a\\u043e\\u0440\\u0437\\u0438\\u043d\\u0443\",\"\\u041e\\u043f\\u043b\\u0430\\u0442\\u0438\\u043b\\u0438 \\u0437\\u0430\\u043a\\u0430\\u0437\"]}],                        {\"template\":{\"data\":{\"bar\":[{\"error_x\":{\"color\":\"#2a3f5f\"},\"error_y\":{\"color\":\"#2a3f5f\"},\"marker\":{\"line\":{\"color\":\"#E5ECF6\",\"width\":0.5},\"pattern\":{\"fillmode\":\"overlay\",\"size\":10,\"solidity\":0.2}},\"type\":\"bar\"}],\"barpolar\":[{\"marker\":{\"line\":{\"color\":\"#E5ECF6\",\"width\":0.5},\"pattern\":{\"fillmode\":\"overlay\",\"size\":10,\"solidity\":0.2}},\"type\":\"barpolar\"}],\"carpet\":[{\"aaxis\":{\"endlinecolor\":\"#2a3f5f\",\"gridcolor\":\"white\",\"linecolor\":\"white\",\"minorgridcolor\":\"white\",\"startlinecolor\":\"#2a3f5f\"},\"baxis\":{\"endlinecolor\":\"#2a3f5f\",\"gridcolor\":\"white\",\"linecolor\":\"white\",\"minorgridcolor\":\"white\",\"startlinecolor\":\"#2a3f5f\"},\"type\":\"carpet\"}],\"choropleth\":[{\"colorbar\":{\"outlinewidth\":0,\"ticks\":\"\"},\"type\":\"choropleth\"}],\"contour\":[{\"colorbar\":{\"outlinewidth\":0,\"ticks\":\"\"},\"colorscale\":[[0.0,\"#0d0887\"],[0.1111111111111111,\"#46039f\"],[0.2222222222222222,\"#7201a8\"],[0.3333333333333333,\"#9c179e\"],[0.4444444444444444,\"#bd3786\"],[0.5555555555555556,\"#d8576b\"],[0.6666666666666666,\"#ed7953\"],[0.7777777777777778,\"#fb9f3a\"],[0.8888888888888888,\"#fdca26\"],[1.0,\"#f0f921\"]],\"type\":\"contour\"}],\"contourcarpet\":[{\"colorbar\":{\"outlinewidth\":0,\"ticks\":\"\"},\"type\":\"contourcarpet\"}],\"heatmap\":[{\"colorbar\":{\"outlinewidth\":0,\"ticks\":\"\"},\"colorscale\":[[0.0,\"#0d0887\"],[0.1111111111111111,\"#46039f\"],[0.2222222222222222,\"#7201a8\"],[0.3333333333333333,\"#9c179e\"],[0.4444444444444444,\"#bd3786\"],[0.5555555555555556,\"#d8576b\"],[0.6666666666666666,\"#ed7953\"],[0.7777777777777778,\"#fb9f3a\"],[0.8888888888888888,\"#fdca26\"],[1.0,\"#f0f921\"]],\"type\":\"heatmap\"}],\"heatmapgl\":[{\"colorbar\":{\"outlinewidth\":0,\"ticks\":\"\"},\"colorscale\":[[0.0,\"#0d0887\"],[0.1111111111111111,\"#46039f\"],[0.2222222222222222,\"#7201a8\"],[0.3333333333333333,\"#9c179e\"],[0.4444444444444444,\"#bd3786\"],[0.5555555555555556,\"#d8576b\"],[0.6666666666666666,\"#ed7953\"],[0.7777777777777778,\"#fb9f3a\"],[0.8888888888888888,\"#fdca26\"],[1.0,\"#f0f921\"]],\"type\":\"heatmapgl\"}],\"histogram\":[{\"marker\":{\"pattern\":{\"fillmode\":\"overlay\",\"size\":10,\"solidity\":0.2}},\"type\":\"histogram\"}],\"histogram2d\":[{\"colorbar\":{\"outlinewidth\":0,\"ticks\":\"\"},\"colorscale\":[[0.0,\"#0d0887\"],[0.1111111111111111,\"#46039f\"],[0.2222222222222222,\"#7201a8\"],[0.3333333333333333,\"#9c179e\"],[0.4444444444444444,\"#bd3786\"],[0.5555555555555556,\"#d8576b\"],[0.6666666666666666,\"#ed7953\"],[0.7777777777777778,\"#fb9f3a\"],[0.8888888888888888,\"#fdca26\"],[1.0,\"#f0f921\"]],\"type\":\"histogram2d\"}],\"histogram2dcontour\":[{\"colorbar\":{\"outlinewidth\":0,\"ticks\":\"\"},\"colorscale\":[[0.0,\"#0d0887\"],[0.1111111111111111,\"#46039f\"],[0.2222222222222222,\"#7201a8\"],[0.3333333333333333,\"#9c179e\"],[0.4444444444444444,\"#bd3786\"],[0.5555555555555556,\"#d8576b\"],[0.6666666666666666,\"#ed7953\"],[0.7777777777777778,\"#fb9f3a\"],[0.8888888888888888,\"#fdca26\"],[1.0,\"#f0f921\"]],\"type\":\"histogram2dcontour\"}],\"mesh3d\":[{\"colorbar\":{\"outlinewidth\":0,\"ticks\":\"\"},\"type\":\"mesh3d\"}],\"parcoords\":[{\"line\":{\"colorbar\":{\"outlinewidth\":0,\"ticks\":\"\"}},\"type\":\"parcoords\"}],\"pie\":[{\"automargin\":true,\"type\":\"pie\"}],\"scatter\":[{\"marker\":{\"colorbar\":{\"outlinewidth\":0,\"ticks\":\"\"}},\"type\":\"scatter\"}],\"scatter3d\":[{\"line\":{\"colorbar\":{\"outlinewidth\":0,\"ticks\":\"\"}},\"marker\":{\"colorbar\":{\"outlinewidth\":0,\"ticks\":\"\"}},\"type\":\"scatter3d\"}],\"scattercarpet\":[{\"marker\":{\"colorbar\":{\"outlinewidth\":0,\"ticks\":\"\"}},\"type\":\"scattercarpet\"}],\"scattergeo\":[{\"marker\":{\"colorbar\":{\"outlinewidth\":0,\"ticks\":\"\"}},\"type\":\"scattergeo\"}],\"scattergl\":[{\"marker\":{\"colorbar\":{\"outlinewidth\":0,\"ticks\":\"\"}},\"type\":\"scattergl\"}],\"scattermapbox\":[{\"marker\":{\"colorbar\":{\"outlinewidth\":0,\"ticks\":\"\"}},\"type\":\"scattermapbox\"}],\"scatterpolar\":[{\"marker\":{\"colorbar\":{\"outlinewidth\":0,\"ticks\":\"\"}},\"type\":\"scatterpolar\"}],\"scatterpolargl\":[{\"marker\":{\"colorbar\":{\"outlinewidth\":0,\"ticks\":\"\"}},\"type\":\"scatterpolargl\"}],\"scatterternary\":[{\"marker\":{\"colorbar\":{\"outlinewidth\":0,\"ticks\":\"\"}},\"type\":\"scatterternary\"}],\"surface\":[{\"colorbar\":{\"outlinewidth\":0,\"ticks\":\"\"},\"colorscale\":[[0.0,\"#0d0887\"],[0.1111111111111111,\"#46039f\"],[0.2222222222222222,\"#7201a8\"],[0.3333333333333333,\"#9c179e\"],[0.4444444444444444,\"#bd3786\"],[0.5555555555555556,\"#d8576b\"],[0.6666666666666666,\"#ed7953\"],[0.7777777777777778,\"#fb9f3a\"],[0.8888888888888888,\"#fdca26\"],[1.0,\"#f0f921\"]],\"type\":\"surface\"}],\"table\":[{\"cells\":{\"fill\":{\"color\":\"#EBF0F8\"},\"line\":{\"color\":\"white\"}},\"header\":{\"fill\":{\"color\":\"#C8D4E3\"},\"line\":{\"color\":\"white\"}},\"type\":\"table\"}]},\"layout\":{\"annotationdefaults\":{\"arrowcolor\":\"#2a3f5f\",\"arrowhead\":0,\"arrowwidth\":1},\"autotypenumbers\":\"strict\",\"coloraxis\":{\"colorbar\":{\"outlinewidth\":0,\"ticks\":\"\"}},\"colorscale\":{\"diverging\":[[0,\"#8e0152\"],[0.1,\"#c51b7d\"],[0.2,\"#de77ae\"],[0.3,\"#f1b6da\"],[0.4,\"#fde0ef\"],[0.5,\"#f7f7f7\"],[0.6,\"#e6f5d0\"],[0.7,\"#b8e186\"],[0.8,\"#7fbc41\"],[0.9,\"#4d9221\"],[1,\"#276419\"]],\"sequential\":[[0.0,\"#0d0887\"],[0.1111111111111111,\"#46039f\"],[0.2222222222222222,\"#7201a8\"],[0.3333333333333333,\"#9c179e\"],[0.4444444444444444,\"#bd3786\"],[0.5555555555555556,\"#d8576b\"],[0.6666666666666666,\"#ed7953\"],[0.7777777777777778,\"#fb9f3a\"],[0.8888888888888888,\"#fdca26\"],[1.0,\"#f0f921\"]],\"sequentialminus\":[[0.0,\"#0d0887\"],[0.1111111111111111,\"#46039f\"],[0.2222222222222222,\"#7201a8\"],[0.3333333333333333,\"#9c179e\"],[0.4444444444444444,\"#bd3786\"],[0.5555555555555556,\"#d8576b\"],[0.6666666666666666,\"#ed7953\"],[0.7777777777777778,\"#fb9f3a\"],[0.8888888888888888,\"#fdca26\"],[1.0,\"#f0f921\"]]},\"colorway\":[\"#636efa\",\"#EF553B\",\"#00cc96\",\"#ab63fa\",\"#FFA15A\",\"#19d3f3\",\"#FF6692\",\"#B6E880\",\"#FF97FF\",\"#FECB52\"],\"font\":{\"color\":\"#2a3f5f\"},\"geo\":{\"bgcolor\":\"white\",\"lakecolor\":\"white\",\"landcolor\":\"#E5ECF6\",\"showlakes\":true,\"showland\":true,\"subunitcolor\":\"white\"},\"hoverlabel\":{\"align\":\"left\"},\"hovermode\":\"closest\",\"mapbox\":{\"style\":\"light\"},\"paper_bgcolor\":\"white\",\"plot_bgcolor\":\"#E5ECF6\",\"polar\":{\"angularaxis\":{\"gridcolor\":\"white\",\"linecolor\":\"white\",\"ticks\":\"\"},\"bgcolor\":\"#E5ECF6\",\"radialaxis\":{\"gridcolor\":\"white\",\"linecolor\":\"white\",\"ticks\":\"\"}},\"scene\":{\"xaxis\":{\"backgroundcolor\":\"#E5ECF6\",\"gridcolor\":\"white\",\"gridwidth\":2,\"linecolor\":\"white\",\"showbackground\":true,\"ticks\":\"\",\"zerolinecolor\":\"white\"},\"yaxis\":{\"backgroundcolor\":\"#E5ECF6\",\"gridcolor\":\"white\",\"gridwidth\":2,\"linecolor\":\"white\",\"showbackground\":true,\"ticks\":\"\",\"zerolinecolor\":\"white\"},\"zaxis\":{\"backgroundcolor\":\"#E5ECF6\",\"gridcolor\":\"white\",\"gridwidth\":2,\"linecolor\":\"white\",\"showbackground\":true,\"ticks\":\"\",\"zerolinecolor\":\"white\"}},\"shapedefaults\":{\"line\":{\"color\":\"#2a3f5f\"}},\"ternary\":{\"aaxis\":{\"gridcolor\":\"white\",\"linecolor\":\"white\",\"ticks\":\"\"},\"baxis\":{\"gridcolor\":\"white\",\"linecolor\":\"white\",\"ticks\":\"\"},\"bgcolor\":\"#E5ECF6\",\"caxis\":{\"gridcolor\":\"white\",\"linecolor\":\"white\",\"ticks\":\"\"}},\"title\":{\"x\":0.05},\"xaxis\":{\"automargin\":true,\"gridcolor\":\"white\",\"linecolor\":\"white\",\"ticks\":\"\",\"title\":{\"standoff\":15},\"zerolinecolor\":\"white\",\"zerolinewidth\":2},\"yaxis\":{\"automargin\":true,\"gridcolor\":\"white\",\"linecolor\":\"white\",\"ticks\":\"\",\"title\":{\"standoff\":15},\"zerolinecolor\":\"white\",\"zerolinewidth\":2}}},\"title\":{\"text\":\"\\u0412\\u043e\\u0440\\u043e\\u043d\\u043a\\u0430 \\u0441\\u043e\\u0431\\u044b\\u0442\\u0438\\u0439 \\u0432 \\u043f\\u0440\\u0438\\u043b\\u043e\\u0436\\u0435\\u043d\\u0438\\u0438\",\"x\":0.5,\"xanchor\":\"center\",\"y\":0.9,\"yanchor\":\"top\"}},                        {\"responsive\": true}                    ).then(function(){\n",
       "                            \n",
       "var gd = document.getElementById('05f23192-0d7a-4d30-a4c2-b7bbd6c44b4b');\n",
       "var x = new MutationObserver(function (mutations, observer) {{\n",
       "        var display = window.getComputedStyle(gd).display;\n",
       "        if (!display || display === 'none') {{\n",
       "            console.log([gd, 'removed!']);\n",
       "            Plotly.purge(gd);\n",
       "            observer.disconnect();\n",
       "        }}\n",
       "}});\n",
       "\n",
       "// Listen for the removal of the full notebook cells\n",
       "var notebookContainer = gd.closest('#notebook-container');\n",
       "if (notebookContainer) {{\n",
       "    x.observe(notebookContainer, {childList: true});\n",
       "}}\n",
       "\n",
       "// Listen for the clearing of the current output cell\n",
       "var outputEl = gd.closest('.output');\n",
       "if (outputEl) {{\n",
       "    x.observe(outputEl, {childList: true});\n",
       "}}\n",
       "\n",
       "                        })                };                });            </script>        </div>"
      ]
     },
     "metadata": {},
     "output_type": "display_data"
    }
   ],
   "source": [
    "fig = go.Figure(\n",
    "    go.Funnel(\n",
    "        y=[\n",
    "            'Открыли главную страницу',\n",
    "            'Просматривали предложения товаров',\n",
    "            'Перешли в корзину',\n",
    "            'Оплатили заказ',\n",
    "        ],\n",
    "        x=purchase_funnel['count'],\n",
    "        )\n",
    ")\n",
    "fig.update_layout(title=\"Воронка событий в приложении\")\n",
    "\n",
    "fig.show() "
   ]
  },
  {
   "cell_type": "markdown",
   "metadata": {},
   "source": [
    "Больше всего пользователей теряется на этапе перехода с главной страницы к просмотру предложений товаров, остаётся только 62% пользователей. Возможно в этой части стоит поправить интерфейс, чтобы пользователи активнее проходили дальше. Если пользователь открыл приложение то логично, что он как минимум заинтересован посмотреть какие продукты и цены мы предлагаем.\n",
    "\n",
    "Посчитаем какая доля пользователей доходит от первого события до оплаты."
   ]
  },
  {
   "cell_type": "code",
   "execution_count": 28,
   "metadata": {},
   "outputs": [
    {
     "data": {
      "text/plain": [
       "0.48"
      ]
     },
     "execution_count": 28,
     "metadata": {},
     "output_type": "execute_result"
    }
   ],
   "source": [
    "round(3539/7419,2)"
   ]
  },
  {
   "cell_type": "markdown",
   "metadata": {},
   "source": [
    "**Вывод**"
   ]
  },
  {
   "cell_type": "markdown",
   "metadata": {},
   "source": [
    "На данном этапе мы проанализировали воронку продаж. Практически все пользователи 98% открывали главную страницу, 62% просматривали предложения товаров в магазине, ровно половина переходила к корзине и почти столько же оплачивали покупку. На страницу c обучающими материалами заходило всего 11% пользователей, поэтому это событие мы не учитывали при расчёте воронки. Всего 466 пользователей совершали каждое из событий. Больше всего пользователей теряется на этапе перехода с главной страницы к просмотру предложений товаров, остаётся только 62% пользователей. При этом 48% пользователей доходят до оплаты, это очень высокий показатель."
   ]
  },
  {
   "cell_type": "markdown",
   "metadata": {},
   "source": [
    "## Анализ результатов A/A/В теста"
   ]
  },
  {
   "cell_type": "markdown",
   "metadata": {},
   "source": [
    "Посмотрим сколько пользователей в каждой экспериментальной группе."
   ]
  },
  {
   "cell_type": "code",
   "execution_count": 29,
   "metadata": {},
   "outputs": [
    {
     "data": {
      "text/html": [
       "<div>\n",
       "<style scoped>\n",
       "    .dataframe tbody tr th:only-of-type {\n",
       "        vertical-align: middle;\n",
       "    }\n",
       "\n",
       "    .dataframe tbody tr th {\n",
       "        vertical-align: top;\n",
       "    }\n",
       "\n",
       "    .dataframe thead th {\n",
       "        text-align: right;\n",
       "    }\n",
       "</style>\n",
       "<table border=\"1\" class=\"dataframe\">\n",
       "  <thead>\n",
       "    <tr style=\"text-align: right;\">\n",
       "      <th></th>\n",
       "      <th>exp_id</th>\n",
       "      <th>user_id</th>\n",
       "    </tr>\n",
       "  </thead>\n",
       "  <tbody>\n",
       "    <tr>\n",
       "      <th>0</th>\n",
       "      <td>246</td>\n",
       "      <td>2484</td>\n",
       "    </tr>\n",
       "    <tr>\n",
       "      <th>1</th>\n",
       "      <td>247</td>\n",
       "      <td>2513</td>\n",
       "    </tr>\n",
       "    <tr>\n",
       "      <th>2</th>\n",
       "      <td>248</td>\n",
       "      <td>2537</td>\n",
       "    </tr>\n",
       "  </tbody>\n",
       "</table>\n",
       "</div>"
      ],
      "text/plain": [
       "   exp_id  user_id\n",
       "0     246     2484\n",
       "1     247     2513\n",
       "2     248     2537"
      ]
     },
     "execution_count": 29,
     "metadata": {},
     "output_type": "execute_result"
    }
   ],
   "source": [
    "data.groupby('exp_id').agg({'user_id':'nunique'}).reset_index()"
   ]
  },
  {
   "cell_type": "markdown",
   "metadata": {},
   "source": [
    "Количество пользователей в каждой группе практически равно. Убедимся, что пользователи попали только в одну экспериментальную группу."
   ]
  },
  {
   "cell_type": "code",
   "execution_count": 30,
   "metadata": {},
   "outputs": [
    {
     "data": {
      "text/plain": [
       "1    7534\n",
       "Name: exp_id, dtype: int64"
      ]
     },
     "execution_count": 30,
     "metadata": {},
     "output_type": "execute_result"
    }
   ],
   "source": [
    "users_by_exp_id = data.groupby('user_id').agg({'exp_id':'nunique'})\n",
    "users_by_exp_id['exp_id'].value_counts()"
   ]
  },
  {
   "cell_type": "markdown",
   "metadata": {},
   "source": [
    "Деление по группам было проведено корректно, все пользователи находятся только в одной группе.\n",
    "\n",
    "У нас есть 2 контрольные группы для А/А-эксперимента, чтобы проверить корректность всех механизмов и расчётов.  Проверим, находят ли статистические критерии разницу между выборками 246 и 247. Для этого проведём z-тест для проверки статистически значимых различий между группами."
   ]
  },
  {
   "cell_type": "code",
   "execution_count": 31,
   "metadata": {},
   "outputs": [
    {
     "data": {
      "text/html": [
       "<div>\n",
       "<style scoped>\n",
       "    .dataframe tbody tr th:only-of-type {\n",
       "        vertical-align: middle;\n",
       "    }\n",
       "\n",
       "    .dataframe tbody tr th {\n",
       "        vertical-align: top;\n",
       "    }\n",
       "\n",
       "    .dataframe thead th {\n",
       "        text-align: right;\n",
       "    }\n",
       "</style>\n",
       "<table border=\"1\" class=\"dataframe\">\n",
       "  <thead>\n",
       "    <tr style=\"text-align: right;\">\n",
       "      <th>exp_id</th>\n",
       "      <th>246</th>\n",
       "      <th>247</th>\n",
       "      <th>248</th>\n",
       "      <th>sum_246_247</th>\n",
       "    </tr>\n",
       "    <tr>\n",
       "      <th>event_name</th>\n",
       "      <th></th>\n",
       "      <th></th>\n",
       "      <th></th>\n",
       "      <th></th>\n",
       "    </tr>\n",
       "  </thead>\n",
       "  <tbody>\n",
       "    <tr>\n",
       "      <th>MainScreenAppear</th>\n",
       "      <td>2450</td>\n",
       "      <td>2476</td>\n",
       "      <td>2493</td>\n",
       "      <td>4926</td>\n",
       "    </tr>\n",
       "    <tr>\n",
       "      <th>OffersScreenAppear</th>\n",
       "      <td>1542</td>\n",
       "      <td>1520</td>\n",
       "      <td>1531</td>\n",
       "      <td>3062</td>\n",
       "    </tr>\n",
       "    <tr>\n",
       "      <th>CartScreenAppear</th>\n",
       "      <td>1266</td>\n",
       "      <td>1238</td>\n",
       "      <td>1230</td>\n",
       "      <td>2504</td>\n",
       "    </tr>\n",
       "    <tr>\n",
       "      <th>PaymentScreenSuccessful</th>\n",
       "      <td>1200</td>\n",
       "      <td>1158</td>\n",
       "      <td>1181</td>\n",
       "      <td>2358</td>\n",
       "    </tr>\n",
       "  </tbody>\n",
       "</table>\n",
       "</div>"
      ],
      "text/plain": [
       "exp_id                    246   247   248  sum_246_247\n",
       "event_name                                            \n",
       "MainScreenAppear         2450  2476  2493         4926\n",
       "OffersScreenAppear       1542  1520  1531         3062\n",
       "CartScreenAppear         1266  1238  1230         2504\n",
       "PaymentScreenSuccessful  1200  1158  1181         2358"
      ]
     },
     "execution_count": 31,
     "metadata": {},
     "output_type": "execute_result"
    }
   ],
   "source": [
    "# уберем данные по событию Tutorial\n",
    "data_AB_test = data.query('event_name != \"Tutorial\"')\n",
    "\n",
    "# создадим таблицу с количеством пользователей для каждого события из воронки в разрезе групп\n",
    "data_by_exp = data_AB_test.pivot_table(index='event_name',\n",
    "                                         columns = 'exp_id',\n",
    "                                         values = 'user_id',\n",
    "                                         aggfunc='nunique',\n",
    "                                      ).sort_values(by=246, ascending=False)\n",
    "\n",
    "#добавим столбец с суммой пользователей для групп из A/A теста, 246 и 247\n",
    "data_by_exp['sum_246_247'] = data_by_exp[246]+data_by_exp[247]\n",
    "data_by_exp"
   ]
  },
  {
   "cell_type": "code",
   "execution_count": 32,
   "metadata": {},
   "outputs": [
    {
     "data": {
      "text/html": [
       "<div>\n",
       "<style scoped>\n",
       "    .dataframe tbody tr th:only-of-type {\n",
       "        vertical-align: middle;\n",
       "    }\n",
       "\n",
       "    .dataframe tbody tr th {\n",
       "        vertical-align: top;\n",
       "    }\n",
       "\n",
       "    .dataframe thead th {\n",
       "        text-align: right;\n",
       "    }\n",
       "</style>\n",
       "<table border=\"1\" class=\"dataframe\">\n",
       "  <thead>\n",
       "    <tr style=\"text-align: right;\">\n",
       "      <th></th>\n",
       "      <th>user_id</th>\n",
       "    </tr>\n",
       "    <tr>\n",
       "      <th>exp_id</th>\n",
       "      <th></th>\n",
       "    </tr>\n",
       "  </thead>\n",
       "  <tbody>\n",
       "    <tr>\n",
       "      <th>246</th>\n",
       "      <td>2483</td>\n",
       "    </tr>\n",
       "    <tr>\n",
       "      <th>247</th>\n",
       "      <td>2512</td>\n",
       "    </tr>\n",
       "    <tr>\n",
       "      <th>248</th>\n",
       "      <td>2535</td>\n",
       "    </tr>\n",
       "    <tr>\n",
       "      <th>sum_246_247</th>\n",
       "      <td>4995</td>\n",
       "    </tr>\n",
       "  </tbody>\n",
       "</table>\n",
       "</div>"
      ],
      "text/plain": [
       "             user_id\n",
       "exp_id              \n",
       "246             2483\n",
       "247             2512\n",
       "248             2535\n",
       "sum_246_247     4995"
      ]
     },
     "execution_count": 32,
     "metadata": {},
     "output_type": "execute_result"
    }
   ],
   "source": [
    "# cоздадим таблицу с количеством пользователей по группам\n",
    "users_by_exp_id = data_AB_test.groupby('exp_id').agg({'user_id':'nunique'}).reset_index()\n",
    "users_by_exp_id.loc[3] = ['sum_246_247', 4995]\n",
    "users_by_exp_id = users_by_exp_id.set_index(users_by_exp_id.columns[0])\n",
    "users_by_exp_id"
   ]
  },
  {
   "cell_type": "markdown",
   "metadata": {},
   "source": [
    "Сформулируем нулевую и альтернативную гипотезы:\n",
    "\n",
    "* H0: между группами нет значимой разница\n",
    "* H1: между группами есть значимая разница\n",
    "\n",
    "Для проверки гипотез примем пятипроцентный уровень значимости.\n",
    "\n",
    "Создадим функцию, которая принимала бы номера групп для сравнения и уровень значимости, а  рассчитывала p-value по каждому из событий."
   ]
  },
  {
   "cell_type": "code",
   "execution_count": 33,
   "metadata": {},
   "outputs": [],
   "source": [
    "def ztest(group1, group2, event_name, alpha):\n",
    "    \n",
    "    p1=data_by_exp.loc[event_name, group1]/users_by_exp_id.loc[group1, 'user_id']\n",
    "    p2=data_by_exp.loc[event_name, group2]/users_by_exp_id.loc[group2, 'user_id']\n",
    "    p_combined = (data_by_exp.loc[event_name, group1] + data_by_exp.loc[event_name, group2]) / (users_by_exp_id.loc[group1, 'user_id'] + users_by_exp_id.loc[group2, 'user_id'])\n",
    "    difference = p1 - p2\n",
    "    \n",
    "    z_value = difference / mth.sqrt(p_combined * (1 - p_combined) * (1/users_by_exp_id.loc[group1, 'user_id'] + 1/users_by_exp_id.loc[group2, 'user_id']))\n",
    "    distr = st.norm(0, 1)\n",
    "    p_value = (1 - distr.cdf(abs(z_value))) * 2\n",
    "    \n",
    "    print('Группы:  {} и {}\\nCобытие: {}\\np-value: {p_value:.3f}'.format(group1, group2, event_name, p_value=p_value))\n",
    "    if (p_value < alpha):\n",
    "        print('Отвергаем нулевую гипотезу: между группами есть значимая разница')\n",
    "    else:\n",
    "        print('Не получилось отвергнуть нулевую гипотезу, нет оснований считать группы разными')\n",
    "    "
   ]
  },
  {
   "cell_type": "code",
   "execution_count": 34,
   "metadata": {},
   "outputs": [
    {
     "name": "stdout",
     "output_type": "stream",
     "text": [
      "Группы:  246 и 247\n",
      "Cобытие: MainScreenAppear\n",
      "p-value: 0.753\n",
      "Не получилось отвергнуть нулевую гипотезу, нет оснований считать группы разными\n",
      "\n",
      "Группы:  246 и 247\n",
      "Cобытие: OffersScreenAppear\n",
      "p-value: 0.248\n",
      "Не получилось отвергнуть нулевую гипотезу, нет оснований считать группы разными\n",
      "\n",
      "Группы:  246 и 247\n",
      "Cобытие: CartScreenAppear\n",
      "p-value: 0.229\n",
      "Не получилось отвергнуть нулевую гипотезу, нет оснований считать группы разными\n",
      "\n",
      "Группы:  246 и 247\n",
      "Cобытие: PaymentScreenSuccessful\n",
      "p-value: 0.114\n",
      "Не получилось отвергнуть нулевую гипотезу, нет оснований считать группы разными\n",
      "\n"
     ]
    }
   ],
   "source": [
    "for event_name in data_by_exp.index:\n",
    "    ztest(246, 247, event_name, 0.05)\n",
    "    print()"
   ]
  },
  {
   "cell_type": "markdown",
   "metadata": {},
   "source": [
    "Разницы между выборками 246 и 247 нет. Критерии успешного А/А теста соблюдены:\n",
    "\n",
    "* Количество пользователей в  группах различается на 1%;\n",
    "* Для всех групп фиксируют  данные об одном и том же;\n",
    "* Различие ключевых метрик по группам не превышает 1% и не имеет статистической значимости;\n",
    "* Попавший в одну из групп посетитель остаётся в этой группе до конца теста. \n"
   ]
  },
  {
   "cell_type": "markdown",
   "metadata": {},
   "source": [
    "Аналогично поступим с группой с изменённым шрифтом. Сравним результаты с каждой из контрольных групп в отдельности по каждому событию."
   ]
  },
  {
   "cell_type": "code",
   "execution_count": 35,
   "metadata": {},
   "outputs": [
    {
     "name": "stdout",
     "output_type": "stream",
     "text": [
      "Группы:  246 и 248\n",
      "Cобытие: MainScreenAppear\n",
      "p-value: 0.339\n",
      "Не получилось отвергнуть нулевую гипотезу, нет оснований считать группы разными\n",
      "\n",
      "Группы:  246 и 248\n",
      "Cобытие: OffersScreenAppear\n",
      "p-value: 0.214\n",
      "Не получилось отвергнуть нулевую гипотезу, нет оснований считать группы разными\n",
      "\n",
      "Группы:  246 и 248\n",
      "Cобытие: CartScreenAppear\n",
      "p-value: 0.081\n",
      "Не получилось отвергнуть нулевую гипотезу, нет оснований считать группы разными\n",
      "\n",
      "Группы:  246 и 248\n",
      "Cобытие: PaymentScreenSuccessful\n",
      "p-value: 0.217\n",
      "Не получилось отвергнуть нулевую гипотезу, нет оснований считать группы разными\n",
      "\n"
     ]
    }
   ],
   "source": [
    "for event_name in data_by_exp.index:\n",
    "    ztest(246, 248, event_name, 0.05)\n",
    "    print()"
   ]
  },
  {
   "cell_type": "code",
   "execution_count": 36,
   "metadata": {},
   "outputs": [
    {
     "name": "stdout",
     "output_type": "stream",
     "text": [
      "Группы:  247 и 248\n",
      "Cобытие: MainScreenAppear\n",
      "p-value: 0.519\n",
      "Не получилось отвергнуть нулевую гипотезу, нет оснований считать группы разными\n",
      "\n",
      "Группы:  247 и 248\n",
      "Cобытие: OffersScreenAppear\n",
      "p-value: 0.933\n",
      "Не получилось отвергнуть нулевую гипотезу, нет оснований считать группы разными\n",
      "\n",
      "Группы:  247 и 248\n",
      "Cобытие: CartScreenAppear\n",
      "p-value: 0.588\n",
      "Не получилось отвергнуть нулевую гипотезу, нет оснований считать группы разными\n",
      "\n",
      "Группы:  247 и 248\n",
      "Cобытие: PaymentScreenSuccessful\n",
      "p-value: 0.728\n",
      "Не получилось отвергнуть нулевую гипотезу, нет оснований считать группы разными\n",
      "\n"
     ]
    }
   ],
   "source": [
    "for event_name in data_by_exp.index:\n",
    "    ztest(247, 248, event_name, 0.05)\n",
    "    print()"
   ]
  },
  {
   "cell_type": "markdown",
   "metadata": {},
   "source": [
    "Оснований отвергнуть нулевую гипотезу об отсутствии разницы между группами у нас нет. Изменение шрифтов в приложении не повлияло на поведение пользователей.\n",
    "\n",
    "Сравним результаты с объединённой контрольной группой. "
   ]
  },
  {
   "cell_type": "code",
   "execution_count": 37,
   "metadata": {},
   "outputs": [
    {
     "name": "stdout",
     "output_type": "stream",
     "text": [
      "Группы:  sum_246_247 и 248\n",
      "Cобытие: MainScreenAppear\n",
      "p-value: 0.349\n",
      "Не получилось отвергнуть нулевую гипотезу, нет оснований считать группы разными\n",
      "\n",
      "Группы:  sum_246_247 и 248\n",
      "Cобытие: OffersScreenAppear\n",
      "p-value: 0.446\n",
      "Не получилось отвергнуть нулевую гипотезу, нет оснований считать группы разными\n",
      "\n",
      "Группы:  sum_246_247 и 248\n",
      "Cобытие: CartScreenAppear\n",
      "p-value: 0.187\n",
      "Не получилось отвергнуть нулевую гипотезу, нет оснований считать группы разными\n",
      "\n",
      "Группы:  sum_246_247 и 248\n",
      "Cобытие: PaymentScreenSuccessful\n",
      "p-value: 0.611\n",
      "Не получилось отвергнуть нулевую гипотезу, нет оснований считать группы разными\n",
      "\n"
     ]
    }
   ],
   "source": [
    "for event_name in data_by_exp.index:\n",
    "    ztest('sum_246_247', 248, event_name, 0.05)\n",
    "    print()"
   ]
  },
  {
   "cell_type": "markdown",
   "metadata": {},
   "source": [
    "На 5% уровне значимости у нас снова нет оснований отвергнуть нулевую гипотез, изменение шрифта не повлияло на поведение пользователей."
   ]
  },
  {
   "cell_type": "markdown",
   "metadata": {},
   "source": [
    "Мы провели 4 А/А теста и 12 А/В тестов. Так как p-value у нас достаточно высокий при 10% уровне значимости мы также принимали бы нулевую гипотезу. Исключение в таком случае составило бы только сравнение групп 246 и 248 по событию \"открытие корзины\"."
   ]
  },
  {
   "cell_type": "markdown",
   "metadata": {},
   "source": [
    "## Общий вывод"
   ]
  },
  {
   "cell_type": "markdown",
   "metadata": {},
   "source": [
    "Мы проанализировали записи логов за период с 25 июля по 7 августа 2019. Исходный датасет был обработан: заменены названия столбцов, данные в столбце с датой события были приведены к корректному типу, дубликаты строк были удалены.\n",
    "Поскольку данные были распределены во времени неравномерно, для дальнейшего анализа мы использовали только записи логов с 1 по 7 августа.\n",
    "\n",
    "В результате анализа воронки событий были сделаны следующие выводы:\n",
    "* В среднем на одного пользователя приходится 32 события.\n",
    "* Только 466 пользователей из 7534 совершали все события.\n",
    "* Практически все пользователи 98% открывали главную страницу, 61% просматривали предложения товаров в магазине, ровно половина переходила к корзине и почти столько же оплачивали покупку. На страницу c обучающими материалами заходило всего 11% пользователей, поэтому это событие мы не учитывали при расчёте воронки.\n",
    "* Больше всего пользователей теряется на этапе перехода с главной страницы к просмотру предложений товаров, остаётся только 62% пользователей.\n",
    "* 48% всех пользователей совершали покупку, что является очень высоким показателем.\n",
    "\n",
    "Результаты A/A/B-теста свидетельствуют о том, что изменение шрифта не повлияет на поведение пользователей. В таком случае менять шрифты в приложении не стоит, если это потребует дополнительных затрат."
   ]
  }
 ],
 "metadata": {
  "ExecuteTimeLog": [
   {
    "duration": 2019,
    "start_time": "2021-08-17T17:21:00.760Z"
   },
   {
    "duration": 351,
    "start_time": "2021-08-17T17:26:02.165Z"
   },
   {
    "duration": 341,
    "start_time": "2021-08-17T17:27:57.074Z"
   },
   {
    "duration": 105,
    "start_time": "2021-08-17T17:28:31.630Z"
   },
   {
    "duration": 171,
    "start_time": "2021-08-17T17:28:40.102Z"
   },
   {
    "duration": 22,
    "start_time": "2021-08-17T17:29:55.561Z"
   },
   {
    "duration": 43,
    "start_time": "2021-08-17T17:36:20.861Z"
   },
   {
    "duration": 112,
    "start_time": "2021-08-17T17:45:24.314Z"
   },
   {
    "duration": 11,
    "start_time": "2021-08-17T17:47:41.776Z"
   },
   {
    "duration": 32,
    "start_time": "2021-08-17T17:48:22.466Z"
   },
   {
    "duration": 94,
    "start_time": "2021-08-17T17:49:14.439Z"
   },
   {
    "duration": 13,
    "start_time": "2021-08-17T17:49:18.662Z"
   },
   {
    "duration": 15,
    "start_time": "2021-08-17T17:56:27.620Z"
   },
   {
    "duration": 16,
    "start_time": "2021-08-17T17:56:40.934Z"
   },
   {
    "duration": 49,
    "start_time": "2021-08-17T17:57:00.046Z"
   },
   {
    "duration": 12,
    "start_time": "2021-08-17T17:57:02.330Z"
   },
   {
    "duration": 48,
    "start_time": "2021-08-17T18:35:21.022Z"
   },
   {
    "duration": 34,
    "start_time": "2021-08-17T18:35:34.819Z"
   },
   {
    "duration": 12,
    "start_time": "2021-08-17T18:36:07.589Z"
   },
   {
    "duration": 120,
    "start_time": "2021-08-17T18:51:45.662Z"
   },
   {
    "duration": 145,
    "start_time": "2021-08-17T18:51:54.297Z"
   },
   {
    "duration": 122,
    "start_time": "2021-08-17T18:52:02.908Z"
   },
   {
    "duration": 471,
    "start_time": "2021-08-17T18:52:34.142Z"
   },
   {
    "duration": 36,
    "start_time": "2021-08-17T18:52:38.320Z"
   },
   {
    "duration": 318,
    "start_time": "2021-08-17T19:13:52.903Z"
   },
   {
    "duration": 327,
    "start_time": "2021-08-17T19:14:04.111Z"
   },
   {
    "duration": 315,
    "start_time": "2021-08-17T19:14:10.507Z"
   },
   {
    "duration": 306,
    "start_time": "2021-08-17T19:14:41.792Z"
   },
   {
    "duration": 5,
    "start_time": "2021-08-17T19:15:01.683Z"
   },
   {
    "duration": 249,
    "start_time": "2021-08-17T19:15:08.594Z"
   },
   {
    "duration": 6291,
    "start_time": "2021-08-17T19:16:47.832Z"
   },
   {
    "duration": 2558,
    "start_time": "2021-08-17T19:17:09.590Z"
   },
   {
    "duration": 2057,
    "start_time": "2021-08-17T19:17:25.131Z"
   },
   {
    "duration": 387,
    "start_time": "2021-08-17T19:17:27.191Z"
   },
   {
    "duration": 195,
    "start_time": "2021-08-17T19:17:27.582Z"
   },
   {
    "duration": 21,
    "start_time": "2021-08-17T19:17:27.780Z"
   },
   {
    "duration": 78,
    "start_time": "2021-08-17T19:17:27.803Z"
   },
   {
    "duration": 11,
    "start_time": "2021-08-17T19:17:27.883Z"
   },
   {
    "duration": 33,
    "start_time": "2021-08-17T19:17:27.896Z"
   },
   {
    "duration": 11,
    "start_time": "2021-08-17T19:17:27.961Z"
   },
   {
    "duration": 471,
    "start_time": "2021-08-17T19:17:27.974Z"
   },
   {
    "duration": 2896,
    "start_time": "2021-08-17T19:17:25.552Z"
   },
   {
    "duration": 2886,
    "start_time": "2021-08-17T19:17:25.563Z"
   },
   {
    "duration": 2883,
    "start_time": "2021-08-17T19:17:25.568Z"
   },
   {
    "duration": 2878,
    "start_time": "2021-08-17T19:17:25.574Z"
   },
   {
    "duration": 228,
    "start_time": "2021-08-17T19:17:33.625Z"
   },
   {
    "duration": 13,
    "start_time": "2021-08-17T19:17:36.387Z"
   },
   {
    "duration": 13,
    "start_time": "2021-08-17T19:19:39.552Z"
   },
   {
    "duration": 20,
    "start_time": "2021-08-17T19:19:42.600Z"
   },
   {
    "duration": 2153,
    "start_time": "2021-08-17T19:20:31.351Z"
   },
   {
    "duration": 346,
    "start_time": "2021-08-17T19:20:33.506Z"
   },
   {
    "duration": 182,
    "start_time": "2021-08-17T19:20:33.856Z"
   },
   {
    "duration": 30,
    "start_time": "2021-08-17T19:20:34.041Z"
   },
   {
    "duration": 46,
    "start_time": "2021-08-17T19:20:34.075Z"
   },
   {
    "duration": 12,
    "start_time": "2021-08-17T19:20:34.124Z"
   },
   {
    "duration": 35,
    "start_time": "2021-08-17T19:20:34.162Z"
   },
   {
    "duration": 12,
    "start_time": "2021-08-17T19:20:34.200Z"
   },
   {
    "duration": 48,
    "start_time": "2021-08-17T19:20:34.216Z"
   },
   {
    "duration": 13,
    "start_time": "2021-08-17T19:20:34.267Z"
   },
   {
    "duration": 7691,
    "start_time": "2021-08-17T19:20:34.283Z"
   },
   {
    "duration": 2807,
    "start_time": "2021-08-17T19:20:39.169Z"
   },
   {
    "duration": 1151,
    "start_time": "2021-08-17T19:21:22.591Z"
   },
   {
    "duration": 1992,
    "start_time": "2021-08-17T19:21:35.615Z"
   },
   {
    "duration": 352,
    "start_time": "2021-08-17T19:21:39.045Z"
   },
   {
    "duration": 156,
    "start_time": "2021-08-17T19:21:39.927Z"
   },
   {
    "duration": 24,
    "start_time": "2021-08-17T19:21:40.538Z"
   },
   {
    "duration": 45,
    "start_time": "2021-08-17T19:21:40.918Z"
   },
   {
    "duration": 11,
    "start_time": "2021-08-17T19:21:44.721Z"
   },
   {
    "duration": 30,
    "start_time": "2021-08-17T19:21:49.455Z"
   },
   {
    "duration": 11,
    "start_time": "2021-08-17T19:21:49.771Z"
   },
   {
    "duration": 10295,
    "start_time": "2021-08-17T19:22:30.508Z"
   },
   {
    "duration": 2045,
    "start_time": "2021-08-17T19:22:58.554Z"
   },
   {
    "duration": 336,
    "start_time": "2021-08-17T19:23:00.601Z"
   },
   {
    "duration": 167,
    "start_time": "2021-08-17T19:23:00.940Z"
   },
   {
    "duration": 21,
    "start_time": "2021-08-17T19:23:01.110Z"
   },
   {
    "duration": 63,
    "start_time": "2021-08-17T19:23:01.134Z"
   },
   {
    "duration": 15,
    "start_time": "2021-08-17T19:23:01.200Z"
   },
   {
    "duration": 70,
    "start_time": "2021-08-17T19:23:01.218Z"
   },
   {
    "duration": 27,
    "start_time": "2021-08-17T19:23:01.293Z"
   },
   {
    "duration": 7262,
    "start_time": "2021-08-17T19:23:01.324Z"
   },
   {
    "duration": 2884,
    "start_time": "2021-08-17T19:23:05.705Z"
   },
   {
    "duration": 2879,
    "start_time": "2021-08-17T19:23:05.711Z"
   },
   {
    "duration": 19,
    "start_time": "2021-08-17T19:27:55.210Z"
   },
   {
    "duration": 120,
    "start_time": "2021-08-17T19:28:22.626Z"
   },
   {
    "duration": 122,
    "start_time": "2021-08-17T19:28:33.020Z"
   },
   {
    "duration": 333,
    "start_time": "2021-08-18T16:58:59.291Z"
   },
   {
    "duration": 1710,
    "start_time": "2021-08-18T17:00:22.898Z"
   },
   {
    "duration": 303,
    "start_time": "2021-08-18T17:00:24.610Z"
   },
   {
    "duration": 136,
    "start_time": "2021-08-18T17:00:24.916Z"
   },
   {
    "duration": 18,
    "start_time": "2021-08-18T17:00:25.054Z"
   },
   {
    "duration": 52,
    "start_time": "2021-08-18T17:00:25.073Z"
   },
   {
    "duration": 8,
    "start_time": "2021-08-18T17:00:25.127Z"
   },
   {
    "duration": 30,
    "start_time": "2021-08-18T17:00:25.136Z"
   },
   {
    "duration": 24,
    "start_time": "2021-08-18T17:00:25.169Z"
   },
   {
    "duration": 16,
    "start_time": "2021-08-18T17:00:25.196Z"
   },
   {
    "duration": 115,
    "start_time": "2021-08-18T17:00:25.213Z"
   },
   {
    "duration": 7736,
    "start_time": "2021-08-18T17:00:25.330Z"
   },
   {
    "duration": 42,
    "start_time": "2021-08-18T17:01:13.930Z"
   },
   {
    "duration": 32,
    "start_time": "2021-08-18T17:01:32.477Z"
   },
   {
    "duration": 76,
    "start_time": "2021-08-18T17:03:38.020Z"
   },
   {
    "duration": 103,
    "start_time": "2021-08-18T17:04:05.916Z"
   },
   {
    "duration": 115,
    "start_time": "2021-08-18T17:04:17.014Z"
   },
   {
    "duration": 2,
    "start_time": "2021-08-18T17:06:23.141Z"
   },
   {
    "duration": 2,
    "start_time": "2021-08-18T17:06:52.328Z"
   },
   {
    "duration": 4,
    "start_time": "2021-08-18T17:18:45.102Z"
   },
   {
    "duration": 87,
    "start_time": "2021-08-18T17:19:41.726Z"
   },
   {
    "duration": 5,
    "start_time": "2021-08-18T17:19:46.348Z"
   },
   {
    "duration": 3,
    "start_time": "2021-08-18T17:38:19.759Z"
   },
   {
    "duration": 83,
    "start_time": "2021-08-18T17:38:35.199Z"
   },
   {
    "duration": 5,
    "start_time": "2021-08-18T17:38:38.514Z"
   },
   {
    "duration": 4,
    "start_time": "2021-08-18T17:39:01.876Z"
   },
   {
    "duration": 4,
    "start_time": "2021-08-18T17:39:11.926Z"
   },
   {
    "duration": 8,
    "start_time": "2021-08-18T17:40:26.964Z"
   },
   {
    "duration": 8,
    "start_time": "2021-08-18T17:40:36.949Z"
   },
   {
    "duration": 10,
    "start_time": "2021-08-18T17:46:45.966Z"
   },
   {
    "duration": 26,
    "start_time": "2021-08-18T17:52:38.733Z"
   },
   {
    "duration": 21,
    "start_time": "2021-08-18T17:53:07.557Z"
   },
   {
    "duration": 20,
    "start_time": "2021-08-18T17:53:09.988Z"
   },
   {
    "duration": 23,
    "start_time": "2021-08-18T17:54:05.947Z"
   },
   {
    "duration": 23,
    "start_time": "2021-08-18T17:54:26.725Z"
   },
   {
    "duration": 22,
    "start_time": "2021-08-18T17:54:29.322Z"
   },
   {
    "duration": 36,
    "start_time": "2021-08-18T18:08:22.483Z"
   },
   {
    "duration": 28,
    "start_time": "2021-08-18T18:23:59.155Z"
   },
   {
    "duration": 37,
    "start_time": "2021-08-18T18:24:17.236Z"
   },
   {
    "duration": 209,
    "start_time": "2021-08-18T18:28:45.997Z"
   },
   {
    "duration": 208,
    "start_time": "2021-08-18T18:28:50.953Z"
   },
   {
    "duration": 252,
    "start_time": "2021-08-18T18:29:12.179Z"
   },
   {
    "duration": 281,
    "start_time": "2021-08-18T18:29:15.704Z"
   },
   {
    "duration": 293,
    "start_time": "2021-08-18T18:29:23.514Z"
   },
   {
    "duration": 288,
    "start_time": "2021-08-18T18:29:26.687Z"
   },
   {
    "duration": 238,
    "start_time": "2021-08-18T18:29:33.116Z"
   },
   {
    "duration": 384,
    "start_time": "2021-08-18T18:29:38.996Z"
   },
   {
    "duration": 234,
    "start_time": "2021-08-18T18:29:57.246Z"
   },
   {
    "duration": 257,
    "start_time": "2021-08-18T18:30:05.293Z"
   },
   {
    "duration": 253,
    "start_time": "2021-08-18T18:30:21.127Z"
   },
   {
    "duration": 282,
    "start_time": "2021-08-18T18:30:26.391Z"
   },
   {
    "duration": 254,
    "start_time": "2021-08-18T18:30:36.842Z"
   },
   {
    "duration": 265,
    "start_time": "2021-08-18T18:31:07.222Z"
   },
   {
    "duration": 251,
    "start_time": "2021-08-18T18:31:32.042Z"
   },
   {
    "duration": 556,
    "start_time": "2021-08-18T18:31:54.205Z"
   },
   {
    "duration": 261,
    "start_time": "2021-08-18T18:32:17.206Z"
   },
   {
    "duration": 514,
    "start_time": "2021-08-18T18:32:38.023Z"
   },
   {
    "duration": 88,
    "start_time": "2021-08-18T18:32:41.704Z"
   },
   {
    "duration": 529,
    "start_time": "2021-08-18T18:32:44.884Z"
   },
   {
    "duration": 276,
    "start_time": "2021-08-18T18:33:03.639Z"
   },
   {
    "duration": 282,
    "start_time": "2021-08-18T18:34:15.186Z"
   },
   {
    "duration": 407,
    "start_time": "2021-08-18T18:34:18.635Z"
   },
   {
    "duration": 268,
    "start_time": "2021-08-18T18:34:28.643Z"
   },
   {
    "duration": 261,
    "start_time": "2021-08-18T18:34:37.685Z"
   },
   {
    "duration": 318,
    "start_time": "2021-08-18T18:34:45.676Z"
   },
   {
    "duration": 306,
    "start_time": "2021-08-21T07:21:40.067Z"
   },
   {
    "duration": 1370,
    "start_time": "2021-08-21T07:21:45.739Z"
   },
   {
    "duration": 238,
    "start_time": "2021-08-21T07:21:47.110Z"
   },
   {
    "duration": 117,
    "start_time": "2021-08-21T07:21:47.350Z"
   },
   {
    "duration": 6,
    "start_time": "2021-08-21T07:21:47.469Z"
   },
   {
    "duration": 24,
    "start_time": "2021-08-21T07:21:47.477Z"
   },
   {
    "duration": 11,
    "start_time": "2021-08-21T07:21:47.502Z"
   },
   {
    "duration": 77,
    "start_time": "2021-08-21T07:21:47.515Z"
   },
   {
    "duration": 66,
    "start_time": "2021-08-21T07:21:47.594Z"
   },
   {
    "duration": 115,
    "start_time": "2021-08-21T07:21:47.662Z"
   },
   {
    "duration": 3,
    "start_time": "2021-08-21T07:21:47.779Z"
   },
   {
    "duration": 3,
    "start_time": "2021-08-21T07:21:47.791Z"
   },
   {
    "duration": 6,
    "start_time": "2021-08-21T07:21:47.796Z"
   },
   {
    "duration": 19,
    "start_time": "2021-08-21T07:21:47.803Z"
   },
   {
    "duration": 25,
    "start_time": "2021-08-21T07:21:47.823Z"
   },
   {
    "duration": 293,
    "start_time": "2021-08-21T07:21:47.849Z"
   },
   {
    "duration": 7,
    "start_time": "2021-08-21T07:21:48.144Z"
   },
   {
    "duration": 106,
    "start_time": "2021-08-21T07:22:06.926Z"
   },
   {
    "duration": 4,
    "start_time": "2021-08-21T07:22:15.279Z"
   },
   {
    "duration": 4,
    "start_time": "2021-08-21T07:23:06.967Z"
   },
   {
    "duration": 84,
    "start_time": "2021-08-21T07:23:43.234Z"
   },
   {
    "duration": 6,
    "start_time": "2021-08-21T07:23:50.143Z"
   },
   {
    "duration": 4,
    "start_time": "2021-08-21T07:24:46.514Z"
   },
   {
    "duration": 5,
    "start_time": "2021-08-21T07:25:28.307Z"
   },
   {
    "duration": 6,
    "start_time": "2021-08-21T07:25:51.048Z"
   },
   {
    "duration": 6,
    "start_time": "2021-08-21T07:25:57.663Z"
   },
   {
    "duration": 806,
    "start_time": "2021-08-21T07:26:39.789Z"
   },
   {
    "duration": 98,
    "start_time": "2021-08-21T07:26:53.016Z"
   },
   {
    "duration": 5,
    "start_time": "2021-08-21T07:26:59.964Z"
   },
   {
    "duration": 91,
    "start_time": "2021-08-21T07:37:53.409Z"
   },
   {
    "duration": 354,
    "start_time": "2021-08-21T07:38:04.848Z"
   },
   {
    "duration": 935,
    "start_time": "2021-08-21T07:38:21.252Z"
   },
   {
    "duration": 945,
    "start_time": "2021-08-21T07:38:27.726Z"
   },
   {
    "duration": 23,
    "start_time": "2021-08-21T07:40:03.042Z"
   },
   {
    "duration": 311,
    "start_time": "2021-08-21T07:40:44.374Z"
   },
   {
    "duration": 106,
    "start_time": "2021-08-21T07:41:00.677Z"
   },
   {
    "duration": 69,
    "start_time": "2021-08-21T07:41:04.018Z"
   },
   {
    "duration": 15,
    "start_time": "2021-08-21T07:41:11.127Z"
   },
   {
    "duration": 16,
    "start_time": "2021-08-21T07:41:18.913Z"
   },
   {
    "duration": 9,
    "start_time": "2021-08-21T07:43:26.918Z"
   },
   {
    "duration": 7,
    "start_time": "2021-08-21T07:43:41.222Z"
   },
   {
    "duration": 8,
    "start_time": "2021-08-21T07:43:44.884Z"
   },
   {
    "duration": 5,
    "start_time": "2021-08-21T07:44:28.169Z"
   },
   {
    "duration": 251,
    "start_time": "2021-08-21T07:44:34.703Z"
   },
   {
    "duration": 218,
    "start_time": "2021-08-21T07:44:44.600Z"
   },
   {
    "duration": 225,
    "start_time": "2021-08-21T07:44:54.901Z"
   },
   {
    "duration": 259,
    "start_time": "2021-08-21T07:45:58.722Z"
   },
   {
    "duration": 6,
    "start_time": "2021-08-21T07:46:09.039Z"
   },
   {
    "duration": 78,
    "start_time": "2021-08-21T07:47:10.016Z"
   },
   {
    "duration": 8,
    "start_time": "2021-08-21T07:47:15.102Z"
   },
   {
    "duration": 10,
    "start_time": "2021-08-21T07:49:05.373Z"
   },
   {
    "duration": 9,
    "start_time": "2021-08-21T07:49:38.060Z"
   },
   {
    "duration": 10,
    "start_time": "2021-08-21T07:49:40.887Z"
   },
   {
    "duration": 2,
    "start_time": "2021-08-21T07:57:22.576Z"
   },
   {
    "duration": 21,
    "start_time": "2021-08-21T08:03:17.740Z"
   },
   {
    "duration": 10,
    "start_time": "2021-08-21T08:03:23.077Z"
   },
   {
    "duration": 20,
    "start_time": "2021-08-21T08:03:54.479Z"
   },
   {
    "duration": 7,
    "start_time": "2021-08-21T08:03:54.924Z"
   },
   {
    "duration": 5,
    "start_time": "2021-08-21T08:03:55.347Z"
   },
   {
    "duration": 21,
    "start_time": "2021-08-21T08:04:28.743Z"
   },
   {
    "duration": 22,
    "start_time": "2021-08-21T08:04:41.877Z"
   },
   {
    "duration": 18,
    "start_time": "2021-08-21T08:05:25.259Z"
   },
   {
    "duration": 73,
    "start_time": "2021-08-21T08:06:06.728Z"
   },
   {
    "duration": 10,
    "start_time": "2021-08-21T08:06:12.770Z"
   },
   {
    "duration": 29,
    "start_time": "2021-08-21T08:06:33.865Z"
   },
   {
    "duration": 29,
    "start_time": "2021-08-21T08:08:16.301Z"
   },
   {
    "duration": 16,
    "start_time": "2021-08-21T08:18:43.328Z"
   },
   {
    "duration": 21,
    "start_time": "2021-08-21T08:18:55.395Z"
   },
   {
    "duration": 42,
    "start_time": "2021-08-21T09:10:19.985Z"
   },
   {
    "duration": 45,
    "start_time": "2021-08-21T09:10:26.991Z"
   },
   {
    "duration": 43,
    "start_time": "2021-08-21T09:10:27.317Z"
   },
   {
    "duration": 130,
    "start_time": "2021-08-21T09:11:38.668Z"
   },
   {
    "duration": 136,
    "start_time": "2021-08-21T09:11:44.467Z"
   },
   {
    "duration": 134,
    "start_time": "2021-08-21T09:13:01.513Z"
   },
   {
    "duration": 141,
    "start_time": "2021-08-21T09:14:23.658Z"
   },
   {
    "duration": 388,
    "start_time": "2021-08-21T09:15:00.402Z"
   },
   {
    "duration": 130,
    "start_time": "2021-08-21T09:15:24.499Z"
   },
   {
    "duration": 367,
    "start_time": "2021-08-21T09:15:28.057Z"
   },
   {
    "duration": 135,
    "start_time": "2021-08-21T09:15:43.629Z"
   },
   {
    "duration": 135,
    "start_time": "2021-08-21T09:16:09.378Z"
   },
   {
    "duration": 138,
    "start_time": "2021-08-21T09:16:13.236Z"
   },
   {
    "duration": 133,
    "start_time": "2021-08-21T09:16:25.718Z"
   },
   {
    "duration": 41,
    "start_time": "2021-08-21T09:18:24.019Z"
   },
   {
    "duration": 44,
    "start_time": "2021-08-21T09:18:30.055Z"
   },
   {
    "duration": 44,
    "start_time": "2021-08-21T09:18:38.196Z"
   },
   {
    "duration": 44,
    "start_time": "2021-08-21T09:19:08.704Z"
   },
   {
    "duration": 44,
    "start_time": "2021-08-21T09:19:43.286Z"
   },
   {
    "duration": 251,
    "start_time": "2021-08-21T09:22:13.607Z"
   },
   {
    "duration": 6,
    "start_time": "2021-08-21T09:22:25.222Z"
   },
   {
    "duration": 83,
    "start_time": "2021-08-21T09:22:39.682Z"
   },
   {
    "duration": 75,
    "start_time": "2021-08-21T09:22:42.937Z"
   },
   {
    "duration": 232,
    "start_time": "2021-08-21T09:22:46.496Z"
   },
   {
    "duration": 8,
    "start_time": "2021-08-21T09:23:02.549Z"
   },
   {
    "duration": 7,
    "start_time": "2021-08-21T09:23:12.961Z"
   },
   {
    "duration": 6,
    "start_time": "2021-08-21T09:29:07.382Z"
   },
   {
    "duration": 9,
    "start_time": "2021-08-21T09:29:12.457Z"
   },
   {
    "duration": 47,
    "start_time": "2021-08-21T09:29:40.347Z"
   },
   {
    "duration": 10,
    "start_time": "2021-08-21T09:29:42.368Z"
   },
   {
    "duration": 10,
    "start_time": "2021-08-21T09:29:56.817Z"
   },
   {
    "duration": 9,
    "start_time": "2021-08-21T09:30:20.782Z"
   },
   {
    "duration": 4,
    "start_time": "2021-08-21T11:27:24.965Z"
   },
   {
    "duration": 8,
    "start_time": "2021-08-21T11:27:29.987Z"
   },
   {
    "duration": 468,
    "start_time": "2021-08-21T20:25:07.118Z"
   },
   {
    "duration": 2189,
    "start_time": "2021-08-21T20:25:21.340Z"
   },
   {
    "duration": 370,
    "start_time": "2021-08-21T20:25:23.532Z"
   },
   {
    "duration": 187,
    "start_time": "2021-08-21T20:25:23.905Z"
   },
   {
    "duration": 12,
    "start_time": "2021-08-21T20:25:24.095Z"
   },
   {
    "duration": 24,
    "start_time": "2021-08-21T20:25:24.110Z"
   },
   {
    "duration": 57,
    "start_time": "2021-08-21T20:25:24.137Z"
   },
   {
    "duration": 194,
    "start_time": "2021-08-21T20:25:24.198Z"
   },
   {
    "duration": 104,
    "start_time": "2021-08-21T20:25:24.397Z"
   },
   {
    "duration": 140,
    "start_time": "2021-08-21T20:25:24.504Z"
   },
   {
    "duration": 6,
    "start_time": "2021-08-21T20:25:24.646Z"
   },
   {
    "duration": 31,
    "start_time": "2021-08-21T20:25:24.655Z"
   },
   {
    "duration": 10,
    "start_time": "2021-08-21T20:25:24.690Z"
   },
   {
    "duration": 39,
    "start_time": "2021-08-21T20:25:24.703Z"
   },
   {
    "duration": 541,
    "start_time": "2021-08-21T20:25:24.744Z"
   },
   {
    "duration": 21,
    "start_time": "2021-08-21T20:25:25.288Z"
   },
   {
    "duration": 32,
    "start_time": "2021-08-21T20:25:25.313Z"
   },
   {
    "duration": 51,
    "start_time": "2021-08-21T20:25:25.347Z"
   },
   {
    "duration": 33,
    "start_time": "2021-08-21T20:25:25.401Z"
   },
   {
    "duration": 250,
    "start_time": "2021-08-21T20:25:25.437Z"
   },
   {
    "duration": 72,
    "start_time": "2021-08-21T20:25:25.690Z"
   },
   {
    "duration": 33,
    "start_time": "2021-08-21T20:25:25.765Z"
   },
   {
    "duration": 12,
    "start_time": "2021-08-21T20:25:25.801Z"
   },
   {
    "duration": 18,
    "start_time": "2021-08-21T20:25:25.818Z"
   },
   {
    "duration": 11308,
    "start_time": "2021-08-21T20:25:25.838Z"
   },
   {
    "duration": 11,
    "start_time": "2021-08-21T20:25:40.725Z"
   },
   {
    "duration": 11,
    "start_time": "2021-08-21T20:25:45.314Z"
   },
   {
    "duration": 10,
    "start_time": "2021-08-21T20:25:52.607Z"
   },
   {
    "duration": 11,
    "start_time": "2021-08-21T20:25:57.294Z"
   },
   {
    "duration": 11,
    "start_time": "2021-08-21T20:26:01.207Z"
   },
   {
    "duration": 5735,
    "start_time": "2021-08-21T20:27:34.241Z"
   },
   {
    "duration": 3957,
    "start_time": "2021-08-21T20:27:47.944Z"
   },
   {
    "duration": 4468,
    "start_time": "2021-08-21T20:28:17.092Z"
   },
   {
    "duration": 12,
    "start_time": "2021-08-21T20:28:35.121Z"
   },
   {
    "duration": 12,
    "start_time": "2021-08-21T20:28:39.582Z"
   },
   {
    "duration": 11,
    "start_time": "2021-08-21T20:28:43.373Z"
   },
   {
    "duration": 7,
    "start_time": "2021-08-21T20:28:57.050Z"
   },
   {
    "duration": 8,
    "start_time": "2021-08-21T20:31:20.079Z"
   },
   {
    "duration": 7,
    "start_time": "2021-08-21T20:32:03.487Z"
   },
   {
    "duration": 16,
    "start_time": "2021-08-21T20:32:09.075Z"
   },
   {
    "duration": 13,
    "start_time": "2021-08-21T20:33:01.625Z"
   },
   {
    "duration": 176,
    "start_time": "2021-08-21T20:47:05.114Z"
   },
   {
    "duration": 885,
    "start_time": "2021-08-21T20:47:56.430Z"
   },
   {
    "duration": 467,
    "start_time": "2021-08-21T20:56:45.131Z"
   },
   {
    "duration": 14,
    "start_time": "2021-08-21T20:56:50.332Z"
   },
   {
    "duration": 9,
    "start_time": "2021-08-21T20:57:02.870Z"
   },
   {
    "duration": 133,
    "start_time": "2021-08-21T20:57:28.499Z"
   },
   {
    "duration": 13,
    "start_time": "2021-08-21T20:57:36.413Z"
   },
   {
    "duration": 6,
    "start_time": "2021-08-21T20:58:19.728Z"
   },
   {
    "duration": 6,
    "start_time": "2021-08-21T20:58:27.545Z"
   },
   {
    "duration": 201,
    "start_time": "2021-08-21T21:00:05.044Z"
   },
   {
    "duration": 763,
    "start_time": "2021-08-21T21:00:23.085Z"
   },
   {
    "duration": 187,
    "start_time": "2021-08-21T21:00:29.545Z"
   },
   {
    "duration": 132,
    "start_time": "2021-08-21T21:00:57.101Z"
   },
   {
    "duration": 130,
    "start_time": "2021-08-21T21:01:01.790Z"
   },
   {
    "duration": 145,
    "start_time": "2021-08-21T21:01:16.568Z"
   },
   {
    "duration": 128,
    "start_time": "2021-08-21T21:01:20.645Z"
   },
   {
    "duration": 139,
    "start_time": "2021-08-21T21:01:27.804Z"
   },
   {
    "duration": 188,
    "start_time": "2021-08-21T21:01:35.137Z"
   },
   {
    "duration": 124,
    "start_time": "2021-08-21T21:03:16.985Z"
   },
   {
    "duration": 184,
    "start_time": "2021-08-21T21:03:20.644Z"
   },
   {
    "duration": 183,
    "start_time": "2021-08-21T21:17:37.219Z"
   },
   {
    "duration": 123,
    "start_time": "2021-08-21T21:17:44.636Z"
   },
   {
    "duration": 1030,
    "start_time": "2021-08-21T21:17:49.559Z"
   },
   {
    "duration": 906,
    "start_time": "2021-08-21T21:19:15.069Z"
   },
   {
    "duration": 686,
    "start_time": "2021-08-21T21:19:21.265Z"
   },
   {
    "duration": 1035,
    "start_time": "2021-08-21T21:19:32.763Z"
   },
   {
    "duration": 1093,
    "start_time": "2021-08-21T21:20:25.954Z"
   },
   {
    "duration": 138,
    "start_time": "2021-08-21T21:22:09.649Z"
   },
   {
    "duration": 136,
    "start_time": "2021-08-21T21:22:20.034Z"
   },
   {
    "duration": 122,
    "start_time": "2021-08-21T21:22:27.953Z"
   },
   {
    "duration": 145,
    "start_time": "2021-08-21T21:22:33.564Z"
   },
   {
    "duration": 426,
    "start_time": "2021-08-21T21:23:54.031Z"
   },
   {
    "duration": 387,
    "start_time": "2021-08-21T21:23:58.456Z"
   },
   {
    "duration": 395,
    "start_time": "2021-08-21T21:24:43.340Z"
   },
   {
    "duration": 183,
    "start_time": "2021-08-21T21:25:08.843Z"
   },
   {
    "duration": 167,
    "start_time": "2021-08-21T21:25:16.064Z"
   },
   {
    "duration": 348,
    "start_time": "2021-08-21T21:25:21.543Z"
   },
   {
    "duration": 2263,
    "start_time": "2021-08-22T05:10:45.829Z"
   },
   {
    "duration": 283,
    "start_time": "2021-08-22T05:10:48.094Z"
   },
   {
    "duration": 118,
    "start_time": "2021-08-22T05:10:48.379Z"
   },
   {
    "duration": 7,
    "start_time": "2021-08-22T05:10:48.499Z"
   },
   {
    "duration": 17,
    "start_time": "2021-08-22T05:10:48.507Z"
   },
   {
    "duration": 13,
    "start_time": "2021-08-22T05:10:48.526Z"
   },
   {
    "duration": 132,
    "start_time": "2021-08-22T05:10:48.540Z"
   },
   {
    "duration": 61,
    "start_time": "2021-08-22T05:10:48.675Z"
   },
   {
    "duration": 92,
    "start_time": "2021-08-22T05:10:48.739Z"
   },
   {
    "duration": 4,
    "start_time": "2021-08-22T05:10:48.833Z"
   },
   {
    "duration": 6,
    "start_time": "2021-08-22T05:10:48.839Z"
   },
   {
    "duration": 5,
    "start_time": "2021-08-22T05:10:48.847Z"
   },
   {
    "duration": 52,
    "start_time": "2021-08-22T05:10:48.853Z"
   },
   {
    "duration": 285,
    "start_time": "2021-08-22T05:10:48.907Z"
   },
   {
    "duration": 9,
    "start_time": "2021-08-22T05:10:49.193Z"
   },
   {
    "duration": 21,
    "start_time": "2021-08-22T05:10:49.203Z"
   },
   {
    "duration": 16,
    "start_time": "2021-08-22T05:10:49.225Z"
   },
   {
    "duration": 46,
    "start_time": "2021-08-22T05:10:49.242Z"
   },
   {
    "duration": 152,
    "start_time": "2021-08-22T05:10:49.290Z"
   },
   {
    "duration": 63,
    "start_time": "2021-08-22T05:10:49.444Z"
   },
   {
    "duration": 10,
    "start_time": "2021-08-22T05:10:49.508Z"
   },
   {
    "duration": 7,
    "start_time": "2021-08-22T05:10:49.519Z"
   },
   {
    "duration": 8,
    "start_time": "2021-08-22T05:10:49.529Z"
   },
   {
    "duration": 616,
    "start_time": "2021-08-22T05:10:49.539Z"
   },
   {
    "duration": 4,
    "start_time": "2021-08-22T05:10:50.158Z"
   },
   {
    "duration": 31,
    "start_time": "2021-08-22T05:11:23.109Z"
   },
   {
    "duration": 31,
    "start_time": "2021-08-22T05:11:28.937Z"
   },
   {
    "duration": 953,
    "start_time": "2021-08-22T05:11:54.632Z"
   },
   {
    "duration": 31,
    "start_time": "2021-08-22T05:12:12.681Z"
   },
   {
    "duration": 10,
    "start_time": "2021-08-22T05:22:16.174Z"
   },
   {
    "duration": 38,
    "start_time": "2021-08-22T05:28:24.165Z"
   },
   {
    "duration": 37,
    "start_time": "2021-08-22T05:28:40.985Z"
   },
   {
    "duration": 36,
    "start_time": "2021-08-22T05:29:48.685Z"
   },
   {
    "duration": 36,
    "start_time": "2021-08-22T05:30:35.873Z"
   },
   {
    "duration": 37,
    "start_time": "2021-08-22T05:30:56.316Z"
   },
   {
    "duration": 92,
    "start_time": "2021-08-22T05:31:03.688Z"
   },
   {
    "duration": 39,
    "start_time": "2021-08-22T05:31:07.366Z"
   },
   {
    "duration": 35,
    "start_time": "2021-08-22T05:31:32.662Z"
   },
   {
    "duration": 34,
    "start_time": "2021-08-22T05:31:35.352Z"
   },
   {
    "duration": 19,
    "start_time": "2021-08-22T05:59:46.607Z"
   },
   {
    "duration": 203,
    "start_time": "2021-08-22T05:59:52.961Z"
   },
   {
    "duration": 21,
    "start_time": "2021-08-22T05:59:56.670Z"
   },
   {
    "duration": 25,
    "start_time": "2021-08-22T06:00:25.614Z"
   },
   {
    "duration": 40,
    "start_time": "2021-08-22T06:01:24.954Z"
   },
   {
    "duration": 37,
    "start_time": "2021-08-22T06:01:31.178Z"
   },
   {
    "duration": 42,
    "start_time": "2021-08-22T06:01:39.574Z"
   },
   {
    "duration": 2043,
    "start_time": "2021-08-22T09:43:49.390Z"
   },
   {
    "duration": 314,
    "start_time": "2021-08-22T09:43:51.435Z"
   },
   {
    "duration": 157,
    "start_time": "2021-08-22T09:43:51.752Z"
   },
   {
    "duration": 11,
    "start_time": "2021-08-22T09:43:51.912Z"
   },
   {
    "duration": 25,
    "start_time": "2021-08-22T09:43:51.925Z"
   },
   {
    "duration": 17,
    "start_time": "2021-08-22T09:43:51.952Z"
   },
   {
    "duration": 165,
    "start_time": "2021-08-22T09:43:52.001Z"
   },
   {
    "duration": 84,
    "start_time": "2021-08-22T09:43:52.169Z"
   },
   {
    "duration": 119,
    "start_time": "2021-08-22T09:43:52.256Z"
   },
   {
    "duration": 5,
    "start_time": "2021-08-22T09:43:52.377Z"
   },
   {
    "duration": 7,
    "start_time": "2021-08-22T09:43:52.399Z"
   },
   {
    "duration": 7,
    "start_time": "2021-08-22T09:43:52.409Z"
   },
   {
    "duration": 33,
    "start_time": "2021-08-22T09:43:52.418Z"
   },
   {
    "duration": 460,
    "start_time": "2021-08-22T09:43:52.453Z"
   },
   {
    "duration": 15,
    "start_time": "2021-08-22T09:43:52.916Z"
   },
   {
    "duration": 26,
    "start_time": "2021-08-22T09:43:52.933Z"
   },
   {
    "duration": 47,
    "start_time": "2021-08-22T09:43:52.963Z"
   },
   {
    "duration": 43,
    "start_time": "2021-08-22T09:43:53.013Z"
   },
   {
    "duration": 54,
    "start_time": "2021-08-22T09:43:53.058Z"
   },
   {
    "duration": 223,
    "start_time": "2021-08-22T09:43:53.114Z"
   },
   {
    "duration": 78,
    "start_time": "2021-08-22T09:43:53.340Z"
   },
   {
    "duration": 14,
    "start_time": "2021-08-22T09:43:53.420Z"
   },
   {
    "duration": 10,
    "start_time": "2021-08-22T09:43:53.439Z"
   },
   {
    "duration": 13,
    "start_time": "2021-08-22T09:43:53.452Z"
   },
   {
    "duration": 833,
    "start_time": "2021-08-22T09:43:53.501Z"
   },
   {
    "duration": 7,
    "start_time": "2021-08-22T09:43:54.337Z"
   },
   {
    "duration": 97,
    "start_time": "2021-08-22T09:43:54.347Z"
   },
   {
    "duration": 170,
    "start_time": "2021-08-22T09:43:54.447Z"
   },
   {
    "duration": 120,
    "start_time": "2021-08-22T09:43:54.620Z"
   },
   {
    "duration": 13,
    "start_time": "2021-08-22T09:43:54.743Z"
   },
   {
    "duration": 616,
    "start_time": "2021-08-22T11:55:49.558Z"
   },
   {
    "duration": 302,
    "start_time": "2021-08-22T11:55:55.228Z"
   },
   {
    "duration": 413,
    "start_time": "2021-08-22T12:12:27.498Z"
   },
   {
    "duration": 7720,
    "start_time": "2021-08-22T12:15:01.909Z"
   },
   {
    "duration": 325,
    "start_time": "2021-08-22T12:15:21.416Z"
   },
   {
    "duration": 135,
    "start_time": "2021-08-22T12:18:27.838Z"
   },
   {
    "duration": 321,
    "start_time": "2021-08-22T12:18:38.946Z"
   },
   {
    "duration": 135,
    "start_time": "2021-08-22T12:19:03.631Z"
   },
   {
    "duration": 320,
    "start_time": "2021-08-22T12:19:23.286Z"
   },
   {
    "duration": 313,
    "start_time": "2021-08-22T12:19:26.790Z"
   },
   {
    "duration": 309,
    "start_time": "2021-08-22T12:19:46.282Z"
   },
   {
    "duration": 302,
    "start_time": "2021-08-22T12:20:01.753Z"
   },
   {
    "duration": 11,
    "start_time": "2021-08-22T12:21:01.032Z"
   },
   {
    "duration": 122,
    "start_time": "2021-08-22T12:22:09.731Z"
   },
   {
    "duration": 23,
    "start_time": "2021-08-22T12:22:43.212Z"
   },
   {
    "duration": 116,
    "start_time": "2021-08-22T12:22:59.028Z"
   },
   {
    "duration": 122,
    "start_time": "2021-08-22T12:23:09.661Z"
   },
   {
    "duration": 133,
    "start_time": "2021-08-22T12:24:12.327Z"
   },
   {
    "duration": 45,
    "start_time": "2021-08-22T12:24:19.383Z"
   },
   {
    "duration": 5,
    "start_time": "2021-08-22T12:24:59.860Z"
   },
   {
    "duration": 40,
    "start_time": "2021-08-22T12:25:35.141Z"
   },
   {
    "duration": 44,
    "start_time": "2021-08-22T12:25:56.204Z"
   },
   {
    "duration": 35,
    "start_time": "2021-08-22T12:26:17.561Z"
   },
   {
    "duration": 40,
    "start_time": "2021-08-22T12:26:25.149Z"
   },
   {
    "duration": 41,
    "start_time": "2021-08-22T12:29:53.045Z"
   },
   {
    "duration": 385,
    "start_time": "2021-08-22T14:01:51.636Z"
   },
   {
    "duration": 2195,
    "start_time": "2021-08-22T14:02:01.129Z"
   },
   {
    "duration": 370,
    "start_time": "2021-08-22T14:02:03.327Z"
   },
   {
    "duration": 184,
    "start_time": "2021-08-22T14:02:03.702Z"
   },
   {
    "duration": 24,
    "start_time": "2021-08-22T14:02:03.889Z"
   },
   {
    "duration": 30,
    "start_time": "2021-08-22T14:02:03.916Z"
   },
   {
    "duration": 24,
    "start_time": "2021-08-22T14:02:03.948Z"
   },
   {
    "duration": 208,
    "start_time": "2021-08-22T14:02:03.975Z"
   },
   {
    "duration": 104,
    "start_time": "2021-08-22T14:02:04.187Z"
   },
   {
    "duration": 144,
    "start_time": "2021-08-22T14:02:04.302Z"
   },
   {
    "duration": 6,
    "start_time": "2021-08-22T14:02:04.448Z"
   },
   {
    "duration": 18,
    "start_time": "2021-08-22T14:02:04.457Z"
   },
   {
    "duration": 29,
    "start_time": "2021-08-22T14:02:04.478Z"
   },
   {
    "duration": 50,
    "start_time": "2021-08-22T14:02:04.510Z"
   },
   {
    "duration": 498,
    "start_time": "2021-08-22T14:02:04.563Z"
   },
   {
    "duration": 16,
    "start_time": "2021-08-22T14:02:05.065Z"
   },
   {
    "duration": 46,
    "start_time": "2021-08-22T14:02:05.084Z"
   },
   {
    "duration": 28,
    "start_time": "2021-08-22T14:02:05.134Z"
   },
   {
    "duration": 91,
    "start_time": "2021-08-22T14:02:05.165Z"
   },
   {
    "duration": 32,
    "start_time": "2021-08-22T14:02:05.258Z"
   },
   {
    "duration": 368,
    "start_time": "2021-08-22T14:02:05.301Z"
   },
   {
    "duration": 109,
    "start_time": "2021-08-22T14:02:05.672Z"
   },
   {
    "duration": 29,
    "start_time": "2021-08-22T14:02:05.784Z"
   },
   {
    "duration": 16,
    "start_time": "2021-08-22T14:02:05.819Z"
   },
   {
    "duration": 27,
    "start_time": "2021-08-22T14:02:05.838Z"
   },
   {
    "duration": 912,
    "start_time": "2021-08-22T14:02:05.867Z"
   },
   {
    "duration": 5,
    "start_time": "2021-08-22T14:02:06.782Z"
   },
   {
    "duration": 115,
    "start_time": "2021-08-22T14:02:06.802Z"
   },
   {
    "duration": 124,
    "start_time": "2021-08-22T14:02:06.921Z"
   },
   {
    "duration": 434,
    "start_time": "2021-08-22T14:02:07.048Z"
   },
   {
    "duration": 67,
    "start_time": "2021-08-22T14:02:07.484Z"
   },
   {
    "duration": 655,
    "start_time": "2021-08-22T14:02:07.553Z"
   },
   {
    "duration": -247,
    "start_time": "2021-08-22T14:02:08.458Z"
   },
   {
    "duration": -251,
    "start_time": "2021-08-22T14:02:08.463Z"
   },
   {
    "duration": -252,
    "start_time": "2021-08-22T14:02:08.466Z"
   },
   {
    "duration": -253,
    "start_time": "2021-08-22T14:02:08.469Z"
   },
   {
    "duration": 9687,
    "start_time": "2021-08-22T14:08:41.068Z"
   },
   {
    "duration": 374,
    "start_time": "2021-08-22T14:09:13.183Z"
   },
   {
    "duration": 425,
    "start_time": "2021-08-22T14:12:26.639Z"
   },
   {
    "duration": 1966,
    "start_time": "2021-08-22T14:13:37.327Z"
   },
   {
    "duration": 59,
    "start_time": "2021-08-22T14:13:49.564Z"
   },
   {
    "duration": 132,
    "start_time": "2021-08-22T14:16:38.725Z"
   },
   {
    "duration": 10524,
    "start_time": "2021-08-22T14:29:32.316Z"
   },
   {
    "duration": 8,
    "start_time": "2021-08-22T14:29:44.973Z"
   },
   {
    "duration": 8,
    "start_time": "2021-08-22T14:29:55.390Z"
   },
   {
    "duration": 1055,
    "start_time": "2021-08-22T14:30:38.317Z"
   },
   {
    "duration": 9703,
    "start_time": "2021-08-22T14:30:45.783Z"
   },
   {
    "duration": 134,
    "start_time": "2021-08-22T14:30:56.233Z"
   },
   {
    "duration": 11,
    "start_time": "2021-08-22T14:31:01.850Z"
   },
   {
    "duration": 11,
    "start_time": "2021-08-22T14:36:52.126Z"
   },
   {
    "duration": 10588,
    "start_time": "2021-08-22T14:40:20.662Z"
   },
   {
    "duration": 10722,
    "start_time": "2021-08-22T14:56:54.584Z"
   },
   {
    "duration": 9824,
    "start_time": "2021-08-22T15:52:54.869Z"
   },
   {
    "duration": 8,
    "start_time": "2021-08-22T15:55:24.150Z"
   },
   {
    "duration": 867,
    "start_time": "2021-08-22T15:55:26.125Z"
   },
   {
    "duration": 6,
    "start_time": "2021-08-22T15:55:53.604Z"
   },
   {
    "duration": 759,
    "start_time": "2021-08-22T15:55:58.786Z"
   },
   {
    "duration": 7,
    "start_time": "2021-08-22T15:56:03.681Z"
   },
   {
    "duration": 890,
    "start_time": "2021-08-22T15:56:05.410Z"
   },
   {
    "duration": 7,
    "start_time": "2021-08-22T15:56:18.745Z"
   },
   {
    "duration": 8,
    "start_time": "2021-08-22T15:56:23.588Z"
   },
   {
    "duration": 11,
    "start_time": "2021-08-22T15:56:25.283Z"
   },
   {
    "duration": 9,
    "start_time": "2021-08-22T15:57:15.656Z"
   },
   {
    "duration": 11,
    "start_time": "2021-08-22T15:57:16.676Z"
   },
   {
    "duration": 1983,
    "start_time": "2021-08-23T17:18:44.307Z"
   },
   {
    "duration": 328,
    "start_time": "2021-08-23T17:18:46.293Z"
   },
   {
    "duration": 169,
    "start_time": "2021-08-23T17:18:46.625Z"
   },
   {
    "duration": 11,
    "start_time": "2021-08-23T17:18:46.796Z"
   },
   {
    "duration": 25,
    "start_time": "2021-08-23T17:18:46.809Z"
   },
   {
    "duration": 16,
    "start_time": "2021-08-23T17:18:46.836Z"
   },
   {
    "duration": 189,
    "start_time": "2021-08-23T17:18:46.854Z"
   },
   {
    "duration": 91,
    "start_time": "2021-08-23T17:18:47.046Z"
   },
   {
    "duration": 122,
    "start_time": "2021-08-23T17:18:47.140Z"
   },
   {
    "duration": 4,
    "start_time": "2021-08-23T17:18:47.265Z"
   },
   {
    "duration": 6,
    "start_time": "2021-08-23T17:18:47.283Z"
   },
   {
    "duration": 7,
    "start_time": "2021-08-23T17:18:47.292Z"
   },
   {
    "duration": 36,
    "start_time": "2021-08-23T17:18:47.301Z"
   },
   {
    "duration": 592,
    "start_time": "2021-08-23T17:18:47.339Z"
   },
   {
    "duration": 16,
    "start_time": "2021-08-23T17:18:47.933Z"
   },
   {
    "duration": 50,
    "start_time": "2021-08-23T17:18:47.952Z"
   },
   {
    "duration": 23,
    "start_time": "2021-08-23T17:18:48.005Z"
   },
   {
    "duration": 58,
    "start_time": "2021-08-23T17:18:48.030Z"
   },
   {
    "duration": 31,
    "start_time": "2021-08-23T17:18:48.090Z"
   },
   {
    "duration": 237,
    "start_time": "2021-08-23T17:18:48.124Z"
   },
   {
    "duration": 75,
    "start_time": "2021-08-23T17:18:48.364Z"
   },
   {
    "duration": 14,
    "start_time": "2021-08-23T17:18:48.441Z"
   },
   {
    "duration": 13,
    "start_time": "2021-08-23T17:18:48.481Z"
   },
   {
    "duration": 12,
    "start_time": "2021-08-23T17:18:48.498Z"
   },
   {
    "duration": 793,
    "start_time": "2021-08-23T17:18:48.513Z"
   },
   {
    "duration": 6,
    "start_time": "2021-08-23T17:18:49.308Z"
   },
   {
    "duration": 101,
    "start_time": "2021-08-23T17:18:49.316Z"
   },
   {
    "duration": 162,
    "start_time": "2021-08-23T17:18:49.420Z"
   },
   {
    "duration": 348,
    "start_time": "2021-08-23T17:18:49.585Z"
   },
   {
    "duration": 53,
    "start_time": "2021-08-23T17:18:49.936Z"
   },
   {
    "duration": 8,
    "start_time": "2021-08-23T17:18:49.991Z"
   },
   {
    "duration": 23,
    "start_time": "2021-08-23T17:18:50.001Z"
   },
   {
    "duration": 9,
    "start_time": "2021-08-23T17:18:50.026Z"
   },
   {
    "duration": 27,
    "start_time": "2021-08-23T17:18:50.037Z"
   },
   {
    "duration": 11,
    "start_time": "2021-08-23T17:18:50.083Z"
   },
   {
    "duration": 580,
    "start_time": "2021-08-23T18:12:17.982Z"
   },
   {
    "duration": 12,
    "start_time": "2021-08-23T18:12:31.085Z"
   },
   {
    "duration": 12,
    "start_time": "2021-08-23T18:12:39.362Z"
   },
   {
    "duration": 332,
    "start_time": "2021-08-23T18:18:08.955Z"
   },
   {
    "duration": 354,
    "start_time": "2021-08-23T18:18:16.419Z"
   },
   {
    "duration": 40,
    "start_time": "2021-08-23T18:18:35.184Z"
   },
   {
    "duration": 7061,
    "start_time": "2021-08-23T18:18:46.029Z"
   },
   {
    "duration": 8241,
    "start_time": "2021-08-23T18:19:05.744Z"
   },
   {
    "duration": 40,
    "start_time": "2021-08-23T18:19:26.285Z"
   },
   {
    "duration": 41,
    "start_time": "2021-08-23T18:19:32.612Z"
   },
   {
    "duration": 282,
    "start_time": "2021-08-23T18:19:57.842Z"
   },
   {
    "duration": 5509,
    "start_time": "2021-08-23T18:20:04.478Z"
   },
   {
    "duration": 46,
    "start_time": "2021-08-23T18:21:14.993Z"
   },
   {
    "duration": 13,
    "start_time": "2021-08-23T18:21:23.074Z"
   },
   {
    "duration": 12,
    "start_time": "2021-08-23T18:27:17.777Z"
   },
   {
    "duration": 11,
    "start_time": "2021-08-23T18:27:25.851Z"
   },
   {
    "duration": 12,
    "start_time": "2021-08-23T18:27:34.028Z"
   },
   {
    "duration": 12,
    "start_time": "2021-08-23T18:27:56.702Z"
   },
   {
    "duration": 11,
    "start_time": "2021-08-23T18:28:01.296Z"
   },
   {
    "duration": 14,
    "start_time": "2021-08-23T18:28:07.067Z"
   },
   {
    "duration": 17,
    "start_time": "2021-08-23T18:28:13.030Z"
   },
   {
    "duration": 16,
    "start_time": "2021-08-23T18:28:18.760Z"
   },
   {
    "duration": 7,
    "start_time": "2021-08-23T19:00:17.650Z"
   },
   {
    "duration": 1972,
    "start_time": "2021-08-23T19:38:30.504Z"
   },
   {
    "duration": 333,
    "start_time": "2021-08-23T19:38:32.479Z"
   },
   {
    "duration": 159,
    "start_time": "2021-08-23T19:38:32.815Z"
   },
   {
    "duration": 12,
    "start_time": "2021-08-23T19:38:32.976Z"
   },
   {
    "duration": 21,
    "start_time": "2021-08-23T19:38:32.990Z"
   },
   {
    "duration": 17,
    "start_time": "2021-08-23T19:38:33.014Z"
   },
   {
    "duration": 187,
    "start_time": "2021-08-23T19:38:33.033Z"
   },
   {
    "duration": 89,
    "start_time": "2021-08-23T19:38:33.223Z"
   },
   {
    "duration": 116,
    "start_time": "2021-08-23T19:38:33.315Z"
   },
   {
    "duration": 4,
    "start_time": "2021-08-23T19:38:33.433Z"
   },
   {
    "duration": 14,
    "start_time": "2021-08-23T19:38:33.439Z"
   },
   {
    "duration": 27,
    "start_time": "2021-08-23T19:38:33.456Z"
   },
   {
    "duration": 33,
    "start_time": "2021-08-23T19:38:33.485Z"
   },
   {
    "duration": 432,
    "start_time": "2021-08-23T19:38:33.520Z"
   },
   {
    "duration": 15,
    "start_time": "2021-08-23T19:38:33.954Z"
   },
   {
    "duration": 34,
    "start_time": "2021-08-23T19:38:33.971Z"
   },
   {
    "duration": 22,
    "start_time": "2021-08-23T19:38:34.007Z"
   },
   {
    "duration": 63,
    "start_time": "2021-08-23T19:38:34.032Z"
   },
   {
    "duration": 27,
    "start_time": "2021-08-23T19:38:34.097Z"
   },
   {
    "duration": 214,
    "start_time": "2021-08-23T19:38:34.127Z"
   },
   {
    "duration": 73,
    "start_time": "2021-08-23T19:38:34.343Z"
   },
   {
    "duration": 14,
    "start_time": "2021-08-23T19:38:34.419Z"
   },
   {
    "duration": 11,
    "start_time": "2021-08-23T19:38:34.439Z"
   },
   {
    "duration": 41,
    "start_time": "2021-08-23T19:38:34.453Z"
   },
   {
    "duration": 785,
    "start_time": "2021-08-23T19:38:34.496Z"
   },
   {
    "duration": 12,
    "start_time": "2021-08-23T19:38:35.284Z"
   },
   {
    "duration": 109,
    "start_time": "2021-08-23T19:38:35.299Z"
   },
   {
    "duration": 107,
    "start_time": "2021-08-23T19:38:35.410Z"
   },
   {
    "duration": 388,
    "start_time": "2021-08-23T19:38:35.520Z"
   },
   {
    "duration": 49,
    "start_time": "2021-08-23T19:38:35.911Z"
   },
   {
    "duration": 9,
    "start_time": "2021-08-23T19:38:35.983Z"
   },
   {
    "duration": 18,
    "start_time": "2021-08-23T19:38:35.995Z"
   },
   {
    "duration": 12,
    "start_time": "2021-08-23T19:38:36.016Z"
   },
   {
    "duration": 54,
    "start_time": "2021-08-23T19:38:36.032Z"
   },
   {
    "duration": 15,
    "start_time": "2021-08-23T19:38:36.089Z"
   },
   {
    "duration": 1396,
    "start_time": "2021-08-24T19:12:18.189Z"
   },
   {
    "duration": 264,
    "start_time": "2021-08-24T19:12:19.587Z"
   },
   {
    "duration": 136,
    "start_time": "2021-08-24T19:12:19.853Z"
   },
   {
    "duration": 9,
    "start_time": "2021-08-24T19:12:19.991Z"
   },
   {
    "duration": 39,
    "start_time": "2021-08-24T19:12:20.002Z"
   },
   {
    "duration": 16,
    "start_time": "2021-08-24T19:12:20.043Z"
   },
   {
    "duration": 126,
    "start_time": "2021-08-24T19:12:20.061Z"
   },
   {
    "duration": 64,
    "start_time": "2021-08-24T19:12:20.189Z"
   },
   {
    "duration": 96,
    "start_time": "2021-08-24T19:12:20.256Z"
   },
   {
    "duration": 3,
    "start_time": "2021-08-24T19:12:20.354Z"
   },
   {
    "duration": 13,
    "start_time": "2021-08-24T19:12:20.359Z"
   },
   {
    "duration": 14,
    "start_time": "2021-08-24T19:12:20.374Z"
   },
   {
    "duration": 38,
    "start_time": "2021-08-24T19:12:20.390Z"
   },
   {
    "duration": 1292,
    "start_time": "2021-08-24T19:12:20.442Z"
   },
   {
    "duration": 7,
    "start_time": "2021-08-24T19:12:21.736Z"
   },
   {
    "duration": 20,
    "start_time": "2021-08-24T19:12:21.745Z"
   },
   {
    "duration": 16,
    "start_time": "2021-08-24T19:12:21.767Z"
   },
   {
    "duration": 68,
    "start_time": "2021-08-24T19:12:21.785Z"
   },
   {
    "duration": 16,
    "start_time": "2021-08-24T19:12:21.855Z"
   },
   {
    "duration": 73,
    "start_time": "2021-08-24T19:12:21.873Z"
   },
   {
    "duration": 58,
    "start_time": "2021-08-24T19:12:21.948Z"
   },
   {
    "duration": 10,
    "start_time": "2021-08-24T19:12:22.008Z"
   },
   {
    "duration": 28,
    "start_time": "2021-08-24T19:12:22.020Z"
   },
   {
    "duration": 12,
    "start_time": "2021-08-24T19:12:22.050Z"
   },
   {
    "duration": 2102,
    "start_time": "2021-08-25T02:03:58.753Z"
   },
   {
    "duration": 364,
    "start_time": "2021-08-25T02:04:00.858Z"
   },
   {
    "duration": 171,
    "start_time": "2021-08-25T02:04:01.225Z"
   },
   {
    "duration": 10,
    "start_time": "2021-08-25T02:04:01.399Z"
   },
   {
    "duration": 49,
    "start_time": "2021-08-25T02:04:01.411Z"
   },
   {
    "duration": 46,
    "start_time": "2021-08-25T02:04:01.462Z"
   },
   {
    "duration": 175,
    "start_time": "2021-08-25T02:04:01.510Z"
   },
   {
    "duration": 87,
    "start_time": "2021-08-25T02:04:01.689Z"
   },
   {
    "duration": 135,
    "start_time": "2021-08-25T02:04:01.779Z"
   },
   {
    "duration": 5,
    "start_time": "2021-08-25T02:04:01.916Z"
   },
   {
    "duration": 35,
    "start_time": "2021-08-25T02:04:01.923Z"
   },
   {
    "duration": 37,
    "start_time": "2021-08-25T02:04:01.960Z"
   },
   {
    "duration": 69,
    "start_time": "2021-08-25T02:04:02.000Z"
   },
   {
    "duration": 461,
    "start_time": "2021-08-25T02:04:02.071Z"
   },
   {
    "duration": 23,
    "start_time": "2021-08-25T02:04:02.535Z"
   },
   {
    "duration": 46,
    "start_time": "2021-08-25T02:04:02.560Z"
   },
   {
    "duration": 24,
    "start_time": "2021-08-25T02:04:02.609Z"
   },
   {
    "duration": 56,
    "start_time": "2021-08-25T02:04:02.635Z"
   },
   {
    "duration": 30,
    "start_time": "2021-08-25T02:04:02.694Z"
   },
   {
    "duration": 259,
    "start_time": "2021-08-25T02:04:02.726Z"
   },
   {
    "duration": 68,
    "start_time": "2021-08-25T02:04:02.987Z"
   },
   {
    "duration": 14,
    "start_time": "2021-08-25T02:04:03.058Z"
   },
   {
    "duration": 11,
    "start_time": "2021-08-25T02:04:03.077Z"
   },
   {
    "duration": 39,
    "start_time": "2021-08-25T02:04:03.091Z"
   },
   {
    "duration": 857,
    "start_time": "2021-08-25T02:04:03.132Z"
   },
   {
    "duration": 5,
    "start_time": "2021-08-25T02:04:03.992Z"
   },
   {
    "duration": 85,
    "start_time": "2021-08-25T02:04:03.999Z"
   },
   {
    "duration": 82,
    "start_time": "2021-08-25T02:04:04.086Z"
   },
   {
    "duration": 697,
    "start_time": "2021-08-25T02:04:04.170Z"
   },
   {
    "duration": 83,
    "start_time": "2021-08-25T02:04:04.871Z"
   },
   {
    "duration": 9,
    "start_time": "2021-08-25T02:04:04.956Z"
   },
   {
    "duration": 19,
    "start_time": "2021-08-25T02:04:04.967Z"
   },
   {
    "duration": 23,
    "start_time": "2021-08-25T02:04:04.988Z"
   },
   {
    "duration": 14,
    "start_time": "2021-08-25T02:04:05.014Z"
   },
   {
    "duration": 13,
    "start_time": "2021-08-25T02:04:05.055Z"
   },
   {
    "duration": 4,
    "start_time": "2021-08-25T03:35:20.905Z"
   },
   {
    "duration": 4,
    "start_time": "2021-08-25T03:35:45.114Z"
   },
   {
    "duration": 412,
    "start_time": "2021-08-25T03:35:46.026Z"
   },
   {
    "duration": 2214,
    "start_time": "2021-08-25T18:18:16.557Z"
   },
   {
    "duration": 323,
    "start_time": "2021-08-25T18:18:18.773Z"
   },
   {
    "duration": 162,
    "start_time": "2021-08-25T18:18:19.099Z"
   },
   {
    "duration": 10,
    "start_time": "2021-08-25T18:18:19.264Z"
   },
   {
    "duration": 23,
    "start_time": "2021-08-25T18:18:19.277Z"
   },
   {
    "duration": 17,
    "start_time": "2021-08-25T18:18:19.302Z"
   },
   {
    "duration": 198,
    "start_time": "2021-08-25T18:18:19.322Z"
   },
   {
    "duration": 92,
    "start_time": "2021-08-25T18:18:19.523Z"
   },
   {
    "duration": 115,
    "start_time": "2021-08-25T18:18:19.617Z"
   },
   {
    "duration": 5,
    "start_time": "2021-08-25T18:18:19.734Z"
   },
   {
    "duration": 9,
    "start_time": "2021-08-25T18:18:19.756Z"
   },
   {
    "duration": 6,
    "start_time": "2021-08-25T18:18:19.767Z"
   },
   {
    "duration": 38,
    "start_time": "2021-08-25T18:18:19.776Z"
   },
   {
    "duration": 4,
    "start_time": "2021-08-25T18:18:19.816Z"
   },
   {
    "duration": 489,
    "start_time": "2021-08-25T18:18:19.822Z"
   },
   {
    "duration": 16,
    "start_time": "2021-08-25T18:18:20.314Z"
   },
   {
    "duration": 40,
    "start_time": "2021-08-25T18:18:20.333Z"
   },
   {
    "duration": 22,
    "start_time": "2021-08-25T18:18:20.375Z"
   },
   {
    "duration": 66,
    "start_time": "2021-08-25T18:18:20.399Z"
   },
   {
    "duration": 30,
    "start_time": "2021-08-25T18:18:20.468Z"
   },
   {
    "duration": 232,
    "start_time": "2021-08-25T18:18:20.500Z"
   },
   {
    "duration": 74,
    "start_time": "2021-08-25T18:18:20.734Z"
   },
   {
    "duration": 14,
    "start_time": "2021-08-25T18:18:20.813Z"
   },
   {
    "duration": 30,
    "start_time": "2021-08-25T18:18:20.830Z"
   },
   {
    "duration": 19,
    "start_time": "2021-08-25T18:18:20.862Z"
   },
   {
    "duration": 854,
    "start_time": "2021-08-25T18:18:20.884Z"
   },
   {
    "duration": 17,
    "start_time": "2021-08-25T18:18:21.740Z"
   },
   {
    "duration": 97,
    "start_time": "2021-08-25T18:18:21.759Z"
   },
   {
    "duration": 98,
    "start_time": "2021-08-25T18:18:21.859Z"
   },
   {
    "duration": 407,
    "start_time": "2021-08-25T18:18:21.960Z"
   },
   {
    "duration": 50,
    "start_time": "2021-08-25T18:18:22.370Z"
   },
   {
    "duration": 7,
    "start_time": "2021-08-25T18:18:22.422Z"
   },
   {
    "duration": 37,
    "start_time": "2021-08-25T18:18:22.431Z"
   },
   {
    "duration": 15,
    "start_time": "2021-08-25T18:18:22.471Z"
   },
   {
    "duration": 13,
    "start_time": "2021-08-25T18:18:22.488Z"
   },
   {
    "duration": 15,
    "start_time": "2021-08-25T18:18:22.503Z"
   },
   {
    "duration": 7,
    "start_time": "2021-08-25T18:46:44.644Z"
   },
   {
    "duration": 133,
    "start_time": "2021-08-25T18:46:50.271Z"
   },
   {
    "duration": 6,
    "start_time": "2021-08-25T18:46:58.198Z"
   },
   {
    "duration": 7,
    "start_time": "2021-08-25T18:47:08.789Z"
   },
   {
    "duration": 138,
    "start_time": "2021-08-25T18:47:36.812Z"
   },
   {
    "duration": 118,
    "start_time": "2021-08-25T18:47:40.155Z"
   },
   {
    "duration": 6,
    "start_time": "2021-08-25T18:48:04.547Z"
   },
   {
    "duration": 2183,
    "start_time": "2021-08-26T18:47:38.437Z"
   },
   {
    "duration": 348,
    "start_time": "2021-08-26T18:47:40.622Z"
   },
   {
    "duration": 171,
    "start_time": "2021-08-26T18:47:40.973Z"
   },
   {
    "duration": 28,
    "start_time": "2021-08-26T18:47:41.148Z"
   },
   {
    "duration": 43,
    "start_time": "2021-08-26T18:47:41.179Z"
   },
   {
    "duration": 54,
    "start_time": "2021-08-26T18:47:41.226Z"
   },
   {
    "duration": 384,
    "start_time": "2021-08-26T18:47:41.284Z"
   },
   {
    "duration": 112,
    "start_time": "2021-08-26T18:47:41.672Z"
   },
   {
    "duration": 179,
    "start_time": "2021-08-26T18:47:41.788Z"
   },
   {
    "duration": 5,
    "start_time": "2021-08-26T18:47:41.969Z"
   },
   {
    "duration": 11,
    "start_time": "2021-08-26T18:47:41.976Z"
   },
   {
    "duration": 8,
    "start_time": "2021-08-26T18:47:41.990Z"
   },
   {
    "duration": 10,
    "start_time": "2021-08-26T18:47:42.001Z"
   },
   {
    "duration": 98,
    "start_time": "2021-08-26T18:47:42.014Z"
   },
   {
    "duration": 5,
    "start_time": "2021-08-26T18:47:42.115Z"
   },
   {
    "duration": 597,
    "start_time": "2021-08-26T18:47:42.123Z"
   },
   {
    "duration": 19,
    "start_time": "2021-08-26T18:47:42.723Z"
   },
   {
    "duration": 43,
    "start_time": "2021-08-26T18:47:42.746Z"
   },
   {
    "duration": 22,
    "start_time": "2021-08-26T18:47:42.791Z"
   },
   {
    "duration": 72,
    "start_time": "2021-08-26T18:47:42.815Z"
   },
   {
    "duration": 30,
    "start_time": "2021-08-26T18:47:42.889Z"
   },
   {
    "duration": 245,
    "start_time": "2021-08-26T18:47:42.922Z"
   },
   {
    "duration": 69,
    "start_time": "2021-08-26T18:47:43.172Z"
   },
   {
    "duration": 30,
    "start_time": "2021-08-26T18:47:43.244Z"
   },
   {
    "duration": 10,
    "start_time": "2021-08-26T18:47:43.276Z"
   },
   {
    "duration": 15,
    "start_time": "2021-08-26T18:47:43.288Z"
   },
   {
    "duration": 874,
    "start_time": "2021-08-26T18:47:43.305Z"
   },
   {
    "duration": 6,
    "start_time": "2021-08-26T18:47:44.182Z"
   },
   {
    "duration": 93,
    "start_time": "2021-08-26T18:47:44.190Z"
   },
   {
    "duration": 98,
    "start_time": "2021-08-26T18:47:44.285Z"
   },
   {
    "duration": 378,
    "start_time": "2021-08-26T18:47:44.385Z"
   },
   {
    "duration": 49,
    "start_time": "2021-08-26T18:47:44.767Z"
   },
   {
    "duration": 8,
    "start_time": "2021-08-26T18:47:44.818Z"
   },
   {
    "duration": 41,
    "start_time": "2021-08-26T18:47:44.828Z"
   },
   {
    "duration": 13,
    "start_time": "2021-08-26T18:47:44.872Z"
   },
   {
    "duration": 16,
    "start_time": "2021-08-26T18:47:44.887Z"
   },
   {
    "duration": 10,
    "start_time": "2021-08-26T18:47:44.905Z"
   },
   {
    "duration": 1820,
    "start_time": "2021-08-28T08:01:37.190Z"
   },
   {
    "duration": 304,
    "start_time": "2021-08-28T08:01:39.013Z"
   },
   {
    "duration": 169,
    "start_time": "2021-08-28T08:01:39.320Z"
   },
   {
    "duration": 10,
    "start_time": "2021-08-28T08:01:39.492Z"
   },
   {
    "duration": 26,
    "start_time": "2021-08-28T08:01:39.505Z"
   },
   {
    "duration": 23,
    "start_time": "2021-08-28T08:01:39.533Z"
   },
   {
    "duration": 165,
    "start_time": "2021-08-28T08:01:39.583Z"
   },
   {
    "duration": 90,
    "start_time": "2021-08-28T08:01:39.751Z"
   },
   {
    "duration": 126,
    "start_time": "2021-08-28T08:01:39.844Z"
   },
   {
    "duration": 4,
    "start_time": "2021-08-28T08:01:39.972Z"
   },
   {
    "duration": 6,
    "start_time": "2021-08-28T08:01:39.983Z"
   },
   {
    "duration": 11,
    "start_time": "2021-08-28T08:01:39.991Z"
   },
   {
    "duration": 11,
    "start_time": "2021-08-28T08:01:40.004Z"
   },
   {
    "duration": 84,
    "start_time": "2021-08-28T08:01:40.017Z"
   },
   {
    "duration": 3,
    "start_time": "2021-08-28T08:01:40.103Z"
   },
   {
    "duration": 1261,
    "start_time": "2021-08-28T08:01:40.108Z"
   },
   {
    "duration": 18,
    "start_time": "2021-08-28T08:01:41.371Z"
   },
   {
    "duration": 29,
    "start_time": "2021-08-28T08:01:41.391Z"
   },
   {
    "duration": 22,
    "start_time": "2021-08-28T08:01:41.422Z"
   },
   {
    "duration": 76,
    "start_time": "2021-08-28T08:01:41.446Z"
   },
   {
    "duration": 21,
    "start_time": "2021-08-28T08:01:41.525Z"
   },
   {
    "duration": 95,
    "start_time": "2021-08-28T08:01:41.548Z"
   },
   {
    "duration": 79,
    "start_time": "2021-08-28T08:01:41.648Z"
   },
   {
    "duration": 14,
    "start_time": "2021-08-28T08:01:41.730Z"
   },
   {
    "duration": 10,
    "start_time": "2021-08-28T08:01:41.746Z"
   },
   {
    "duration": 12,
    "start_time": "2021-08-28T08:01:41.782Z"
   },
   {
    "duration": 434,
    "start_time": "2021-08-28T08:01:41.796Z"
   },
   {
    "duration": 5,
    "start_time": "2021-08-28T08:01:42.232Z"
   },
   {
    "duration": 86,
    "start_time": "2021-08-28T08:01:42.239Z"
   },
   {
    "duration": 160,
    "start_time": "2021-08-28T08:01:42.327Z"
   },
   {
    "duration": 163,
    "start_time": "2021-08-28T08:01:42.490Z"
   },
   {
    "duration": 76,
    "start_time": "2021-08-28T08:01:42.655Z"
   },
   {
    "duration": 8,
    "start_time": "2021-08-28T08:01:42.734Z"
   },
   {
    "duration": 17,
    "start_time": "2021-08-28T08:01:42.745Z"
   },
   {
    "duration": 13,
    "start_time": "2021-08-28T08:01:42.784Z"
   },
   {
    "duration": 13,
    "start_time": "2021-08-28T08:01:42.800Z"
   },
   {
    "duration": 14,
    "start_time": "2021-08-28T08:01:42.815Z"
   },
   {
    "duration": 535,
    "start_time": "2021-08-28T08:11:02.351Z"
   },
   {
    "duration": 387,
    "start_time": "2021-08-28T08:11:13.608Z"
   },
   {
    "duration": 6,
    "start_time": "2021-08-28T08:11:18.529Z"
   },
   {
    "duration": 122,
    "start_time": "2021-08-28T08:13:30.337Z"
   },
   {
    "duration": 6,
    "start_time": "2021-08-28T08:13:37.296Z"
   },
   {
    "duration": 430,
    "start_time": "2021-08-28T08:33:46.851Z"
   },
   {
    "duration": 7,
    "start_time": "2021-08-28T08:33:57.891Z"
   },
   {
    "duration": 449,
    "start_time": "2021-08-28T08:34:38.080Z"
   },
   {
    "duration": 8,
    "start_time": "2021-08-28T08:34:48.916Z"
   },
   {
    "duration": 30,
    "start_time": "2021-08-28T08:41:13.836Z"
   },
   {
    "duration": 17,
    "start_time": "2021-08-28T08:41:30.676Z"
   },
   {
    "duration": 18,
    "start_time": "2021-08-28T08:41:39.763Z"
   }
  ],
  "kernelspec": {
   "display_name": "Python 3",
   "language": "python",
   "name": "python3"
  },
  "language_info": {
   "codemirror_mode": {
    "name": "ipython",
    "version": 3
   },
   "file_extension": ".py",
   "mimetype": "text/x-python",
   "name": "python",
   "nbconvert_exporter": "python",
   "pygments_lexer": "ipython3",
   "version": "3.8.8"
  },
  "toc": {
   "base_numbering": 1,
   "nav_menu": {},
   "number_sections": true,
   "sideBar": true,
   "skip_h1_title": true,
   "title_cell": "Table of Contents",
   "title_sidebar": "Contents",
   "toc_cell": false,
   "toc_position": {
    "height": "calc(100% - 180px)",
    "left": "10px",
    "top": "150px",
    "width": "318.042px"
   },
   "toc_section_display": true,
   "toc_window_display": true
  }
 },
 "nbformat": 4,
 "nbformat_minor": 2
}
